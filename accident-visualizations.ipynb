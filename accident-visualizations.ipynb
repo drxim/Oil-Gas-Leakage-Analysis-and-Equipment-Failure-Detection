{
 "cells": [
  {
   "cell_type": "code",
   "execution_count": 1,
   "metadata": {
    "collapsed": true
   },
   "outputs": [],
   "source": [
    "import pandas as pd\n",
    "import matplotlib.pyplot as plt\n",
    "import re\n",
    "from datetime import datetime\n",
    "pd.set_option('display.max_columns', None)\n",
    "import warnings\n",
    "warnings.filterwarnings(\"ignore\")"
   ]
  },
  {
   "cell_type": "code",
   "execution_count": 40,
   "metadata": {
    "collapsed": true
   },
   "outputs": [],
   "source": [
    "# change default matplotlib plot colors\n",
    "CB91_Blue = '#2CBDFE'\n",
    "CB91_Green = '#1B8667'\n",
    "CB91_Yellow = '#CBD46F'\n",
    "CB91_Orange = '#FCCA60'\n",
    "CB91_Magenta = '#C84564'\n",
    "\n",
    "color_list = [CB91_Blue, CB91_Green, CB91_Yellow, CB91_Orange,\n",
    "              CB91_Magenta]\n",
    "plt.rcParams['axes.prop_cycle'] = plt.cycler(color=color_list)"
   ]
  },
  {
   "cell_type": "markdown",
   "metadata": {},
   "source": [
    "# I - Import Data and Data Exploration"
   ]
  },
  {
   "cell_type": "code",
   "execution_count": 3,
   "metadata": {
    "collapsed": false
   },
   "outputs": [
    {
     "data": {
      "text/html": [
       "<div>\n",
       "<style scoped>\n",
       "    .dataframe tbody tr th:only-of-type {\n",
       "        vertical-align: middle;\n",
       "    }\n",
       "\n",
       "    .dataframe tbody tr th {\n",
       "        vertical-align: top;\n",
       "    }\n",
       "\n",
       "    .dataframe thead th {\n",
       "        text-align: right;\n",
       "    }\n",
       "</style>\n",
       "<table border=\"1\" class=\"dataframe\">\n",
       "  <thead>\n",
       "    <tr style=\"text-align: right;\">\n",
       "      <th></th>\n",
       "      <th>Report Number</th>\n",
       "      <th>Supplemental Number</th>\n",
       "      <th>Accident Year</th>\n",
       "      <th>Accident Date/Time</th>\n",
       "      <th>Operator ID</th>\n",
       "      <th>Operator Name</th>\n",
       "      <th>Pipeline/Facility Name</th>\n",
       "      <th>Pipeline Location</th>\n",
       "      <th>Pipeline Type</th>\n",
       "      <th>Liquid Type</th>\n",
       "      <th>Liquid Subtype</th>\n",
       "      <th>Liquid Name</th>\n",
       "      <th>Accident City</th>\n",
       "      <th>Accident County</th>\n",
       "      <th>Accident State</th>\n",
       "      <th>Accident Latitude</th>\n",
       "      <th>Accident Longitude</th>\n",
       "      <th>Cause Category</th>\n",
       "      <th>Cause Subcategory</th>\n",
       "      <th>Unintentional Release (Barrels)</th>\n",
       "      <th>Intentional Release (Barrels)</th>\n",
       "      <th>Liquid Recovery (Barrels)</th>\n",
       "      <th>Net Loss (Barrels)</th>\n",
       "      <th>Liquid Ignition</th>\n",
       "      <th>Liquid Explosion</th>\n",
       "      <th>Pipeline Shutdown</th>\n",
       "      <th>Shutdown Date/Time</th>\n",
       "      <th>Restart Date/Time</th>\n",
       "      <th>Public Evacuations</th>\n",
       "      <th>Operator Employee Injuries</th>\n",
       "      <th>Operator Contractor Injuries</th>\n",
       "      <th>Emergency Responder Injuries</th>\n",
       "      <th>Other Injuries</th>\n",
       "      <th>Public Injuries</th>\n",
       "      <th>All Injuries</th>\n",
       "      <th>Operator Employee Fatalities</th>\n",
       "      <th>Operator Contractor Fatalities</th>\n",
       "      <th>Emergency Responder Fatalities</th>\n",
       "      <th>Other Fatalities</th>\n",
       "      <th>Public Fatalities</th>\n",
       "      <th>All Fatalities</th>\n",
       "      <th>Property Damage Costs</th>\n",
       "      <th>Lost Commodity Costs</th>\n",
       "      <th>Public/Private Property Damage Costs</th>\n",
       "      <th>Emergency Response Costs</th>\n",
       "      <th>Environmental Remediation Costs</th>\n",
       "      <th>Other Costs</th>\n",
       "      <th>All Costs</th>\n",
       "    </tr>\n",
       "  </thead>\n",
       "  <tbody>\n",
       "    <tr>\n",
       "      <th>0</th>\n",
       "      <td>20100016</td>\n",
       "      <td>17305</td>\n",
       "      <td>2010</td>\n",
       "      <td>1/1/2010 7:15 AM</td>\n",
       "      <td>32109</td>\n",
       "      <td>ONEOK NGL PIPELINE LP</td>\n",
       "      <td>KINDER MORGAN JCT</td>\n",
       "      <td>ONSHORE</td>\n",
       "      <td>ABOVEGROUND</td>\n",
       "      <td>HVL OR OTHER FLAMMABLE OR TOXIC FLUID, GAS</td>\n",
       "      <td>LPG (LIQUEFIED PETROLEUM GAS) / NGL (NATURAL G...</td>\n",
       "      <td>NaN</td>\n",
       "      <td>MCPHERSON</td>\n",
       "      <td>MCPHERSON</td>\n",
       "      <td>KS</td>\n",
       "      <td>38.67070</td>\n",
       "      <td>-97.78123</td>\n",
       "      <td>INCORRECT OPERATION</td>\n",
       "      <td>PIPELINE/EQUIPMENT OVERPRESSURED</td>\n",
       "      <td>21.00</td>\n",
       "      <td>0.1</td>\n",
       "      <td>0.00</td>\n",
       "      <td>21.0</td>\n",
       "      <td>NO</td>\n",
       "      <td>NO</td>\n",
       "      <td>NO</td>\n",
       "      <td>NaN</td>\n",
       "      <td>NaN</td>\n",
       "      <td>NaN</td>\n",
       "      <td>NaN</td>\n",
       "      <td>NaN</td>\n",
       "      <td>NaN</td>\n",
       "      <td>NaN</td>\n",
       "      <td>NaN</td>\n",
       "      <td>NaN</td>\n",
       "      <td>NaN</td>\n",
       "      <td>NaN</td>\n",
       "      <td>NaN</td>\n",
       "      <td>NaN</td>\n",
       "      <td>NaN</td>\n",
       "      <td>NaN</td>\n",
       "      <td>110.0</td>\n",
       "      <td>1517.0</td>\n",
       "      <td>0.0</td>\n",
       "      <td>0.0</td>\n",
       "      <td>0.0</td>\n",
       "      <td>0.0</td>\n",
       "      <td>1627</td>\n",
       "    </tr>\n",
       "    <tr>\n",
       "      <th>1</th>\n",
       "      <td>20100254</td>\n",
       "      <td>17331</td>\n",
       "      <td>2010</td>\n",
       "      <td>1/4/2010 8:30 AM</td>\n",
       "      <td>15786</td>\n",
       "      <td>PORTLAND PIPELINE CORP</td>\n",
       "      <td>24-INCH MAIN LINE</td>\n",
       "      <td>ONSHORE</td>\n",
       "      <td>ABOVEGROUND</td>\n",
       "      <td>CRUDE OIL</td>\n",
       "      <td>NaN</td>\n",
       "      <td>NaN</td>\n",
       "      <td>RAYMOND</td>\n",
       "      <td>CUMBERLAND</td>\n",
       "      <td>ME</td>\n",
       "      <td>43.94028</td>\n",
       "      <td>-70.49336</td>\n",
       "      <td>MATERIAL/WELD/EQUIP FAILURE</td>\n",
       "      <td>PUMP OR PUMP-RELATED EQUIPMENT</td>\n",
       "      <td>0.12</td>\n",
       "      <td>0.0</td>\n",
       "      <td>0.12</td>\n",
       "      <td>0.0</td>\n",
       "      <td>NO</td>\n",
       "      <td>NO</td>\n",
       "      <td>NaN</td>\n",
       "      <td>NaN</td>\n",
       "      <td>NaN</td>\n",
       "      <td>NaN</td>\n",
       "      <td>NaN</td>\n",
       "      <td>NaN</td>\n",
       "      <td>NaN</td>\n",
       "      <td>NaN</td>\n",
       "      <td>NaN</td>\n",
       "      <td>NaN</td>\n",
       "      <td>NaN</td>\n",
       "      <td>NaN</td>\n",
       "      <td>NaN</td>\n",
       "      <td>NaN</td>\n",
       "      <td>NaN</td>\n",
       "      <td>NaN</td>\n",
       "      <td>4000.0</td>\n",
       "      <td>8.0</td>\n",
       "      <td>0.0</td>\n",
       "      <td>0.0</td>\n",
       "      <td>0.0</td>\n",
       "      <td>0.0</td>\n",
       "      <td>4008</td>\n",
       "    </tr>\n",
       "    <tr>\n",
       "      <th>2</th>\n",
       "      <td>20100038</td>\n",
       "      <td>17747</td>\n",
       "      <td>2010</td>\n",
       "      <td>1/5/2010 10:30 AM</td>\n",
       "      <td>20160</td>\n",
       "      <td>PETROLOGISTICS OLEFINS, LLC</td>\n",
       "      <td>NaN</td>\n",
       "      <td>ONSHORE</td>\n",
       "      <td>ABOVEGROUND</td>\n",
       "      <td>HVL OR OTHER FLAMMABLE OR TOXIC FLUID, GAS</td>\n",
       "      <td>OTHER HVL</td>\n",
       "      <td>ETHANE</td>\n",
       "      <td>SULPHER</td>\n",
       "      <td>CALCASIEU</td>\n",
       "      <td>LA</td>\n",
       "      <td>30.18240</td>\n",
       "      <td>-93.35240</td>\n",
       "      <td>MATERIAL/WELD/EQUIP FAILURE</td>\n",
       "      <td>DEFECTIVE OR LOOSE TUBING/FITTING</td>\n",
       "      <td>2.00</td>\n",
       "      <td>0.0</td>\n",
       "      <td>0.00</td>\n",
       "      <td>2.0</td>\n",
       "      <td>NO</td>\n",
       "      <td>NO</td>\n",
       "      <td>NaN</td>\n",
       "      <td>NaN</td>\n",
       "      <td>NaN</td>\n",
       "      <td>NaN</td>\n",
       "      <td>NaN</td>\n",
       "      <td>NaN</td>\n",
       "      <td>NaN</td>\n",
       "      <td>NaN</td>\n",
       "      <td>NaN</td>\n",
       "      <td>NaN</td>\n",
       "      <td>NaN</td>\n",
       "      <td>NaN</td>\n",
       "      <td>NaN</td>\n",
       "      <td>NaN</td>\n",
       "      <td>NaN</td>\n",
       "      <td>NaN</td>\n",
       "      <td>0.0</td>\n",
       "      <td>200.0</td>\n",
       "      <td>0.0</td>\n",
       "      <td>0.0</td>\n",
       "      <td>0.0</td>\n",
       "      <td>0.0</td>\n",
       "      <td>200</td>\n",
       "    </tr>\n",
       "    <tr>\n",
       "      <th>3</th>\n",
       "      <td>20100260</td>\n",
       "      <td>18574</td>\n",
       "      <td>2010</td>\n",
       "      <td>1/6/2010 7:30 PM</td>\n",
       "      <td>11169</td>\n",
       "      <td>ENBRIDGE ENERGY, LIMITED PARTNERSHIP</td>\n",
       "      <td>SUPERIOR TERMINAL</td>\n",
       "      <td>ONSHORE</td>\n",
       "      <td>UNDERGROUND</td>\n",
       "      <td>CRUDE OIL</td>\n",
       "      <td>NaN</td>\n",
       "      <td>NaN</td>\n",
       "      <td>SUPERIOR</td>\n",
       "      <td>DOUGLAS</td>\n",
       "      <td>WI</td>\n",
       "      <td>46.68930</td>\n",
       "      <td>-92.06120</td>\n",
       "      <td>NATURAL FORCE DAMAGE</td>\n",
       "      <td>TEMPERATURE</td>\n",
       "      <td>0.48</td>\n",
       "      <td>0.0</td>\n",
       "      <td>0.48</td>\n",
       "      <td>0.0</td>\n",
       "      <td>NO</td>\n",
       "      <td>NO</td>\n",
       "      <td>NaN</td>\n",
       "      <td>NaN</td>\n",
       "      <td>NaN</td>\n",
       "      <td>NaN</td>\n",
       "      <td>NaN</td>\n",
       "      <td>NaN</td>\n",
       "      <td>NaN</td>\n",
       "      <td>NaN</td>\n",
       "      <td>NaN</td>\n",
       "      <td>NaN</td>\n",
       "      <td>NaN</td>\n",
       "      <td>NaN</td>\n",
       "      <td>NaN</td>\n",
       "      <td>NaN</td>\n",
       "      <td>NaN</td>\n",
       "      <td>NaN</td>\n",
       "      <td>200.0</td>\n",
       "      <td>40.0</td>\n",
       "      <td>0.0</td>\n",
       "      <td>11300.0</td>\n",
       "      <td>0.0</td>\n",
       "      <td>0.0</td>\n",
       "      <td>11540</td>\n",
       "    </tr>\n",
       "    <tr>\n",
       "      <th>4</th>\n",
       "      <td>20100030</td>\n",
       "      <td>16276</td>\n",
       "      <td>2010</td>\n",
       "      <td>1/7/2010 1:00 PM</td>\n",
       "      <td>300</td>\n",
       "      <td>PLAINS PIPELINE, L.P.</td>\n",
       "      <td>RED RIVER EAST</td>\n",
       "      <td>ONSHORE</td>\n",
       "      <td>UNDERGROUND</td>\n",
       "      <td>CRUDE OIL</td>\n",
       "      <td>NaN</td>\n",
       "      <td>NaN</td>\n",
       "      <td>SHERMAN</td>\n",
       "      <td>GRAYSON</td>\n",
       "      <td>TX</td>\n",
       "      <td>33.58266</td>\n",
       "      <td>-96.64881</td>\n",
       "      <td>EXCAVATION DAMAGE</td>\n",
       "      <td>THIRD PARTY EXCAVATION DAMAGE</td>\n",
       "      <td>700.00</td>\n",
       "      <td>NaN</td>\n",
       "      <td>698.00</td>\n",
       "      <td>2.0</td>\n",
       "      <td>NO</td>\n",
       "      <td>NO</td>\n",
       "      <td>NO</td>\n",
       "      <td>NaN</td>\n",
       "      <td>NaN</td>\n",
       "      <td>NaN</td>\n",
       "      <td>NaN</td>\n",
       "      <td>NaN</td>\n",
       "      <td>NaN</td>\n",
       "      <td>NaN</td>\n",
       "      <td>NaN</td>\n",
       "      <td>NaN</td>\n",
       "      <td>NaN</td>\n",
       "      <td>NaN</td>\n",
       "      <td>NaN</td>\n",
       "      <td>NaN</td>\n",
       "      <td>NaN</td>\n",
       "      <td>NaN</td>\n",
       "      <td>20000.0</td>\n",
       "      <td>150.0</td>\n",
       "      <td>0.0</td>\n",
       "      <td>7500.0</td>\n",
       "      <td>2000.0</td>\n",
       "      <td>0.0</td>\n",
       "      <td>29650</td>\n",
       "    </tr>\n",
       "  </tbody>\n",
       "</table>\n",
       "</div>"
      ],
      "text/plain": [
       "   Report Number  Supplemental Number  Accident Year Accident Date/Time  \\\n",
       "0       20100016                17305           2010   1/1/2010 7:15 AM   \n",
       "1       20100254                17331           2010   1/4/2010 8:30 AM   \n",
       "2       20100038                17747           2010  1/5/2010 10:30 AM   \n",
       "3       20100260                18574           2010   1/6/2010 7:30 PM   \n",
       "4       20100030                16276           2010   1/7/2010 1:00 PM   \n",
       "\n",
       "   Operator ID                         Operator Name Pipeline/Facility Name  \\\n",
       "0        32109                 ONEOK NGL PIPELINE LP      KINDER MORGAN JCT   \n",
       "1        15786                PORTLAND PIPELINE CORP      24-INCH MAIN LINE   \n",
       "2        20160           PETROLOGISTICS OLEFINS, LLC                    NaN   \n",
       "3        11169  ENBRIDGE ENERGY, LIMITED PARTNERSHIP      SUPERIOR TERMINAL   \n",
       "4          300                 PLAINS PIPELINE, L.P.         RED RIVER EAST   \n",
       "\n",
       "  Pipeline Location Pipeline Type                                 Liquid Type  \\\n",
       "0           ONSHORE   ABOVEGROUND  HVL OR OTHER FLAMMABLE OR TOXIC FLUID, GAS   \n",
       "1           ONSHORE   ABOVEGROUND                                   CRUDE OIL   \n",
       "2           ONSHORE   ABOVEGROUND  HVL OR OTHER FLAMMABLE OR TOXIC FLUID, GAS   \n",
       "3           ONSHORE   UNDERGROUND                                   CRUDE OIL   \n",
       "4           ONSHORE   UNDERGROUND                                   CRUDE OIL   \n",
       "\n",
       "                                      Liquid Subtype Liquid Name  \\\n",
       "0  LPG (LIQUEFIED PETROLEUM GAS) / NGL (NATURAL G...         NaN   \n",
       "1                                                NaN         NaN   \n",
       "2                                          OTHER HVL      ETHANE   \n",
       "3                                                NaN         NaN   \n",
       "4                                                NaN         NaN   \n",
       "\n",
       "  Accident City Accident County Accident State  Accident Latitude  \\\n",
       "0     MCPHERSON       MCPHERSON             KS           38.67070   \n",
       "1       RAYMOND      CUMBERLAND             ME           43.94028   \n",
       "2       SULPHER       CALCASIEU             LA           30.18240   \n",
       "3      SUPERIOR         DOUGLAS             WI           46.68930   \n",
       "4       SHERMAN         GRAYSON             TX           33.58266   \n",
       "\n",
       "   Accident Longitude               Cause Category  \\\n",
       "0           -97.78123          INCORRECT OPERATION   \n",
       "1           -70.49336  MATERIAL/WELD/EQUIP FAILURE   \n",
       "2           -93.35240  MATERIAL/WELD/EQUIP FAILURE   \n",
       "3           -92.06120         NATURAL FORCE DAMAGE   \n",
       "4           -96.64881            EXCAVATION DAMAGE   \n",
       "\n",
       "                   Cause Subcategory  Unintentional Release (Barrels)  \\\n",
       "0   PIPELINE/EQUIPMENT OVERPRESSURED                            21.00   \n",
       "1     PUMP OR PUMP-RELATED EQUIPMENT                             0.12   \n",
       "2  DEFECTIVE OR LOOSE TUBING/FITTING                             2.00   \n",
       "3                        TEMPERATURE                             0.48   \n",
       "4      THIRD PARTY EXCAVATION DAMAGE                           700.00   \n",
       "\n",
       "   Intentional Release (Barrels)  Liquid Recovery (Barrels)  \\\n",
       "0                            0.1                       0.00   \n",
       "1                            0.0                       0.12   \n",
       "2                            0.0                       0.00   \n",
       "3                            0.0                       0.48   \n",
       "4                            NaN                     698.00   \n",
       "\n",
       "   Net Loss (Barrels) Liquid Ignition Liquid Explosion Pipeline Shutdown  \\\n",
       "0                21.0              NO               NO                NO   \n",
       "1                 0.0              NO               NO               NaN   \n",
       "2                 2.0              NO               NO               NaN   \n",
       "3                 0.0              NO               NO               NaN   \n",
       "4                 2.0              NO               NO                NO   \n",
       "\n",
       "  Shutdown Date/Time Restart Date/Time  Public Evacuations  \\\n",
       "0                NaN               NaN                 NaN   \n",
       "1                NaN               NaN                 NaN   \n",
       "2                NaN               NaN                 NaN   \n",
       "3                NaN               NaN                 NaN   \n",
       "4                NaN               NaN                 NaN   \n",
       "\n",
       "   Operator Employee Injuries  Operator Contractor Injuries  \\\n",
       "0                         NaN                           NaN   \n",
       "1                         NaN                           NaN   \n",
       "2                         NaN                           NaN   \n",
       "3                         NaN                           NaN   \n",
       "4                         NaN                           NaN   \n",
       "\n",
       "   Emergency Responder Injuries  Other Injuries  Public Injuries  \\\n",
       "0                           NaN             NaN              NaN   \n",
       "1                           NaN             NaN              NaN   \n",
       "2                           NaN             NaN              NaN   \n",
       "3                           NaN             NaN              NaN   \n",
       "4                           NaN             NaN              NaN   \n",
       "\n",
       "   All Injuries  Operator Employee Fatalities  Operator Contractor Fatalities  \\\n",
       "0           NaN                           NaN                             NaN   \n",
       "1           NaN                           NaN                             NaN   \n",
       "2           NaN                           NaN                             NaN   \n",
       "3           NaN                           NaN                             NaN   \n",
       "4           NaN                           NaN                             NaN   \n",
       "\n",
       "   Emergency Responder Fatalities  Other Fatalities  Public Fatalities  \\\n",
       "0                             NaN               NaN                NaN   \n",
       "1                             NaN               NaN                NaN   \n",
       "2                             NaN               NaN                NaN   \n",
       "3                             NaN               NaN                NaN   \n",
       "4                             NaN               NaN                NaN   \n",
       "\n",
       "   All Fatalities  Property Damage Costs  Lost Commodity Costs  \\\n",
       "0             NaN                  110.0                1517.0   \n",
       "1             NaN                 4000.0                   8.0   \n",
       "2             NaN                    0.0                 200.0   \n",
       "3             NaN                  200.0                  40.0   \n",
       "4             NaN                20000.0                 150.0   \n",
       "\n",
       "   Public/Private Property Damage Costs  Emergency Response Costs  \\\n",
       "0                                   0.0                       0.0   \n",
       "1                                   0.0                       0.0   \n",
       "2                                   0.0                       0.0   \n",
       "3                                   0.0                   11300.0   \n",
       "4                                   0.0                    7500.0   \n",
       "\n",
       "   Environmental Remediation Costs  Other Costs  All Costs  \n",
       "0                              0.0          0.0       1627  \n",
       "1                              0.0          0.0       4008  \n",
       "2                              0.0          0.0        200  \n",
       "3                              0.0          0.0      11540  \n",
       "4                           2000.0          0.0      29650  "
      ]
     },
     "execution_count": 3,
     "metadata": {},
     "output_type": "execute_result"
    }
   ],
   "source": [
    "df = pd.read_csv('database.csv')\n",
    "df.head()"
   ]
  },
  {
   "cell_type": "markdown",
   "metadata": {},
   "source": [
    "# II - Preprocessing and Dealing with Timestamp"
   ]
  },
  {
   "cell_type": "code",
   "execution_count": 4,
   "metadata": {
    "collapsed": false
   },
   "outputs": [
    {
     "name": "stdout",
     "output_type": "stream",
     "text": [
      "<class 'pandas.core.frame.DataFrame'>\n",
      "RangeIndex: 2795 entries, 0 to 2794\n",
      "Data columns (total 48 columns):\n",
      "Report Number                           2795 non-null int64\n",
      "Supplemental Number                     2795 non-null int64\n",
      "Accident Year                           2795 non-null int64\n",
      "Accident Date/Time                      2795 non-null object\n",
      "Operator ID                             2795 non-null int64\n",
      "Operator Name                           2795 non-null object\n",
      "Pipeline/Facility Name                  2674 non-null object\n",
      "Pipeline Location                       2795 non-null object\n",
      "Pipeline Type                           2777 non-null object\n",
      "Liquid Type                             2795 non-null object\n",
      "Liquid Subtype                          1349 non-null object\n",
      "Liquid Name                             222 non-null object\n",
      "Accident City                           2480 non-null object\n",
      "Accident County                         2720 non-null object\n",
      "Accident State                          2783 non-null object\n",
      "Accident Latitude                       2795 non-null float64\n",
      "Accident Longitude                      2795 non-null float64\n",
      "Cause Category                          2795 non-null object\n",
      "Cause Subcategory                       2795 non-null object\n",
      "Unintentional Release (Barrels)         2795 non-null float64\n",
      "Intentional Release (Barrels)           1209 non-null float64\n",
      "Liquid Recovery (Barrels)               2795 non-null float64\n",
      "Net Loss (Barrels)                      2795 non-null float64\n",
      "Liquid Ignition                         2795 non-null object\n",
      "Liquid Explosion                        2795 non-null object\n",
      "Pipeline Shutdown                       2583 non-null object\n",
      "Shutdown Date/Time                      1390 non-null object\n",
      "Restart Date/Time                       1341 non-null object\n",
      "Public Evacuations                      2338 non-null float64\n",
      "Operator Employee Injuries              12 non-null float64\n",
      "Operator Contractor Injuries            12 non-null float64\n",
      "Emergency Responder Injuries            12 non-null float64\n",
      "Other Injuries                          12 non-null float64\n",
      "Public Injuries                         12 non-null float64\n",
      "All Injuries                            12 non-null float64\n",
      "Operator Employee Fatalities            8 non-null float64\n",
      "Operator Contractor Fatalities          8 non-null float64\n",
      "Emergency Responder Fatalities          8 non-null float64\n",
      "Other Fatalities                        8 non-null float64\n",
      "Public Fatalities                       8 non-null float64\n",
      "All Fatalities                          8 non-null float64\n",
      "Property Damage Costs                   2788 non-null float64\n",
      "Lost Commodity Costs                    2791 non-null float64\n",
      "Public/Private Property Damage Costs    2785 non-null float64\n",
      "Emergency Response Costs                2789 non-null float64\n",
      "Environmental Remediation Costs         2787 non-null float64\n",
      "Other Costs                             2779 non-null float64\n",
      "All Costs                               2795 non-null int64\n",
      "dtypes: float64(25), int64(5), object(18)\n",
      "memory usage: 1.0+ MB\n"
     ]
    }
   ],
   "source": [
    "df.info()"
   ]
  },
  {
   "cell_type": "code",
   "execution_count": 5,
   "metadata": {
    "collapsed": true
   },
   "outputs": [],
   "source": [
    "# replace null values with 0\n",
    "df = df.fillna(0)"
   ]
  },
  {
   "cell_type": "code",
   "execution_count": 6,
   "metadata": {
    "collapsed": false
   },
   "outputs": [],
   "source": [
    "# convert time to standard time object\n",
    "def time_clean(time):\n",
    "    time = re.split('[/:\\s]', time) # split with delimeters (comma,semicolon,space)\n",
    "    for i in [0,1,3,4]:\n",
    "        if len(time[i]) < 2:\n",
    "            time[i] = '0' + time[i]\n",
    "    time = (' ').join(time)\n",
    "    \n",
    "    datetime_object = datetime.strptime(time, '%m %d %Y %I %M %p')\n",
    "    return datetime_object"
   ]
  },
  {
   "cell_type": "code",
   "execution_count": 7,
   "metadata": {
    "collapsed": true
   },
   "outputs": [],
   "source": [
    "# extracting datetime values to make groupby easier\n",
    "df['datetime'] = df['Accident Date/Time'].apply(time_clean)\n",
    "df['month'] = [i.month for i in df['datetime']]\n",
    "df['hour'] = [i.hour for i in df['datetime']]"
   ]
  },
  {
   "cell_type": "markdown",
   "metadata": {},
   "source": [
    "# III - Analysis\n",
    "\n",
    "## (1) How are incidents distributed by year, month, and hour of the day?"
   ]
  },
  {
   "cell_type": "code",
   "execution_count": 8,
   "metadata": {
    "collapsed": true
   },
   "outputs": [],
   "source": [
    "numacc_year = df.groupby('Accident Year').agg('count')[['Report Number']]\n",
    "numacc_month = df.groupby('month').agg('count')[['Report Number']]\n",
    "numacc_hour = df.groupby('hour').agg('count')[['Report Number']]"
   ]
  },
  {
   "cell_type": "code",
   "execution_count": 41,
   "metadata": {
    "collapsed": false
   },
   "outputs": [
    {
     "data": {
      "image/png": "[encoded data removed]",
      "text/plain": [
       "<Figure size 1008x216 with 1 Axes>"
      ]
     },
     "metadata": {},
     "output_type": "display_data"
    }
   ],
   "source": [
    "plt.figure(figsize=(14,3))\n",
    "plt.bar(numacc_year.index, numacc_year['Report Number'])\n",
    "plt.title('Cases per Year')\n",
    "plt.ylabel('Cases')\n",
    "plt.show()"
   ]
  },
  {
   "cell_type": "code",
   "execution_count": 10,
   "metadata": {
    "collapsed": false
   },
   "outputs": [
    {
     "data": {
      "text/html": [
       "<div>\n",
       "<style scoped>\n",
       "    .dataframe tbody tr th:only-of-type {\n",
       "        vertical-align: middle;\n",
       "    }\n",
       "\n",
       "    .dataframe tbody tr th {\n",
       "        vertical-align: top;\n",
       "    }\n",
       "\n",
       "    .dataframe thead th {\n",
       "        text-align: right;\n",
       "    }\n",
       "</style>\n",
       "<table border=\"1\" class=\"dataframe\">\n",
       "  <thead>\n",
       "    <tr style=\"text-align: right;\">\n",
       "      <th></th>\n",
       "      <th>Report Number</th>\n",
       "    </tr>\n",
       "    <tr>\n",
       "      <th>Accident Year</th>\n",
       "      <th></th>\n",
       "    </tr>\n",
       "  </thead>\n",
       "  <tbody>\n",
       "    <tr>\n",
       "      <th>2010</th>\n",
       "      <td>350</td>\n",
       "    </tr>\n",
       "    <tr>\n",
       "      <th>2011</th>\n",
       "      <td>345</td>\n",
       "    </tr>\n",
       "    <tr>\n",
       "      <th>2012</th>\n",
       "      <td>366</td>\n",
       "    </tr>\n",
       "    <tr>\n",
       "      <th>2013</th>\n",
       "      <td>401</td>\n",
       "    </tr>\n",
       "    <tr>\n",
       "      <th>2014</th>\n",
       "      <td>454</td>\n",
       "    </tr>\n",
       "    <tr>\n",
       "      <th>2015</th>\n",
       "      <td>462</td>\n",
       "    </tr>\n",
       "  </tbody>\n",
       "</table>\n",
       "</div>"
      ],
      "text/plain": [
       "               Report Number\n",
       "Accident Year               \n",
       "2010                     350\n",
       "2011                     345\n",
       "2012                     366\n",
       "2013                     401\n",
       "2014                     454\n",
       "2015                     462"
      ]
     },
     "execution_count": 10,
     "metadata": {},
     "output_type": "execute_result"
    }
   ],
   "source": [
    "numacc_year.head(6)"
   ]
  },
  {
   "cell_type": "code",
   "execution_count": 42,
   "metadata": {
    "collapsed": false
   },
   "outputs": [
    {
     "data": {
      "image/png": "[encoded data removed]",
      "text/plain": [
       "<Figure size 1008x216 with 1 Axes>"
      ]
     },
     "metadata": {},
     "output_type": "display_data"
    }
   ],
   "source": [
    "plt.figure(figsize=(14,3))\n",
    "plt.plot(numacc_month.index, numacc_month['Report Number'])\n",
    "plt.title('Cases per Month ')\n",
    "plt.ylabel('Cases')\n",
    "plt.show()"
   ]
  },
  {
   "cell_type": "code",
   "execution_count": 12,
   "metadata": {
    "collapsed": false
   },
   "outputs": [
    {
     "data": {
      "text/html": [
       "<div>\n",
       "<style scoped>\n",
       "    .dataframe tbody tr th:only-of-type {\n",
       "        vertical-align: middle;\n",
       "    }\n",
       "\n",
       "    .dataframe tbody tr th {\n",
       "        vertical-align: top;\n",
       "    }\n",
       "\n",
       "    .dataframe thead th {\n",
       "        text-align: right;\n",
       "    }\n",
       "</style>\n",
       "<table border=\"1\" class=\"dataframe\">\n",
       "  <thead>\n",
       "    <tr style=\"text-align: right;\">\n",
       "      <th></th>\n",
       "      <th>Report Number</th>\n",
       "    </tr>\n",
       "    <tr>\n",
       "      <th>month</th>\n",
       "      <th></th>\n",
       "    </tr>\n",
       "  </thead>\n",
       "  <tbody>\n",
       "    <tr>\n",
       "      <th>1</th>\n",
       "      <td>275</td>\n",
       "    </tr>\n",
       "    <tr>\n",
       "      <th>2</th>\n",
       "      <td>249</td>\n",
       "    </tr>\n",
       "    <tr>\n",
       "      <th>3</th>\n",
       "      <td>246</td>\n",
       "    </tr>\n",
       "    <tr>\n",
       "      <th>4</th>\n",
       "      <td>246</td>\n",
       "    </tr>\n",
       "    <tr>\n",
       "      <th>5</th>\n",
       "      <td>243</td>\n",
       "    </tr>\n",
       "    <tr>\n",
       "      <th>6</th>\n",
       "      <td>206</td>\n",
       "    </tr>\n",
       "    <tr>\n",
       "      <th>7</th>\n",
       "      <td>225</td>\n",
       "    </tr>\n",
       "    <tr>\n",
       "      <th>8</th>\n",
       "      <td>250</td>\n",
       "    </tr>\n",
       "    <tr>\n",
       "      <th>9</th>\n",
       "      <td>222</td>\n",
       "    </tr>\n",
       "    <tr>\n",
       "      <th>10</th>\n",
       "      <td>196</td>\n",
       "    </tr>\n",
       "    <tr>\n",
       "      <th>11</th>\n",
       "      <td>223</td>\n",
       "    </tr>\n",
       "    <tr>\n",
       "      <th>12</th>\n",
       "      <td>214</td>\n",
       "    </tr>\n",
       "  </tbody>\n",
       "</table>\n",
       "</div>"
      ],
      "text/plain": [
       "       Report Number\n",
       "month               \n",
       "1                275\n",
       "2                249\n",
       "3                246\n",
       "4                246\n",
       "5                243\n",
       "6                206\n",
       "7                225\n",
       "8                250\n",
       "9                222\n",
       "10               196\n",
       "11               223\n",
       "12               214"
      ]
     },
     "execution_count": 12,
     "metadata": {},
     "output_type": "execute_result"
    }
   ],
   "source": [
    "numacc_month.head(12)"
   ]
  },
  {
   "cell_type": "code",
   "execution_count": 43,
   "metadata": {
    "collapsed": false
   },
   "outputs": [
    {
     "data": {
      "image/png": "[encoded data removed]",
      "text/plain": [
       "<Figure size 1008x216 with 1 Axes>"
      ]
     },
     "metadata": {},
     "output_type": "display_data"
    }
   ],
   "source": [
    "plt.figure(figsize=(14,3))\n",
    "plt.plot(numacc_hour.index, numacc_hour['Report Number'])\n",
    "plt.title('Cases per Hour ')\n",
    "plt.ylabel('Cases')\n",
    "plt.show()"
   ]
  },
  {
   "cell_type": "markdown",
   "metadata": {},
   "source": [
    "## (2) Where are these incidents located?"
   ]
  },
  {
   "cell_type": "code",
   "execution_count": 14,
   "metadata": {
    "collapsed": true
   },
   "outputs": [],
   "source": [
    "import plotly.express as px"
   ]
  },
  {
   "cell_type": "code",
   "execution_count": 15,
   "metadata": {
    "collapsed": false
   },
   "outputs": [
    {
     "data": {
      "text/html": [
       "<div>\n",
       "<style scoped>\n",
       "    .dataframe tbody tr th:only-of-type {\n",
       "        vertical-align: middle;\n",
       "    }\n",
       "\n",
       "    .dataframe tbody tr th {\n",
       "        vertical-align: top;\n",
       "    }\n",
       "\n",
       "    .dataframe thead th {\n",
       "        text-align: right;\n",
       "    }\n",
       "</style>\n",
       "<table border=\"1\" class=\"dataframe\">\n",
       "  <thead>\n",
       "    <tr style=\"text-align: right;\">\n",
       "      <th></th>\n",
       "      <th>Accident Date/Time</th>\n",
       "      <th>Accident City</th>\n",
       "      <th>Pipeline/Facility Name</th>\n",
       "      <th>Pipeline Type</th>\n",
       "      <th>Accident Latitude</th>\n",
       "      <th>Accident Longitude</th>\n",
       "      <th>Accident State</th>\n",
       "    </tr>\n",
       "  </thead>\n",
       "  <tbody>\n",
       "    <tr>\n",
       "      <th>0</th>\n",
       "      <td>1/1/2010 7:15 AM</td>\n",
       "      <td>MCPHERSON</td>\n",
       "      <td>KINDER MORGAN JCT</td>\n",
       "      <td>ABOVEGROUND</td>\n",
       "      <td>38.67070</td>\n",
       "      <td>-97.78123</td>\n",
       "      <td>KS</td>\n",
       "    </tr>\n",
       "    <tr>\n",
       "      <th>1</th>\n",
       "      <td>1/4/2010 8:30 AM</td>\n",
       "      <td>RAYMOND</td>\n",
       "      <td>24-INCH MAIN LINE</td>\n",
       "      <td>ABOVEGROUND</td>\n",
       "      <td>43.94028</td>\n",
       "      <td>-70.49336</td>\n",
       "      <td>ME</td>\n",
       "    </tr>\n",
       "    <tr>\n",
       "      <th>2</th>\n",
       "      <td>1/5/2010 10:30 AM</td>\n",
       "      <td>SULPHER</td>\n",
       "      <td>0</td>\n",
       "      <td>ABOVEGROUND</td>\n",
       "      <td>30.18240</td>\n",
       "      <td>-93.35240</td>\n",
       "      <td>LA</td>\n",
       "    </tr>\n",
       "    <tr>\n",
       "      <th>3</th>\n",
       "      <td>1/6/2010 7:30 PM</td>\n",
       "      <td>SUPERIOR</td>\n",
       "      <td>SUPERIOR TERMINAL</td>\n",
       "      <td>UNDERGROUND</td>\n",
       "      <td>46.68930</td>\n",
       "      <td>-92.06120</td>\n",
       "      <td>WI</td>\n",
       "    </tr>\n",
       "    <tr>\n",
       "      <th>4</th>\n",
       "      <td>1/7/2010 1:00 PM</td>\n",
       "      <td>SHERMAN</td>\n",
       "      <td>RED RIVER EAST</td>\n",
       "      <td>UNDERGROUND</td>\n",
       "      <td>33.58266</td>\n",
       "      <td>-96.64881</td>\n",
       "      <td>TX</td>\n",
       "    </tr>\n",
       "  </tbody>\n",
       "</table>\n",
       "</div>"
      ],
      "text/plain": [
       "  Accident Date/Time Accident City Pipeline/Facility Name Pipeline Type  \\\n",
       "0   1/1/2010 7:15 AM     MCPHERSON      KINDER MORGAN JCT   ABOVEGROUND   \n",
       "1   1/4/2010 8:30 AM       RAYMOND      24-INCH MAIN LINE   ABOVEGROUND   \n",
       "2  1/5/2010 10:30 AM       SULPHER                      0   ABOVEGROUND   \n",
       "3   1/6/2010 7:30 PM      SUPERIOR      SUPERIOR TERMINAL   UNDERGROUND   \n",
       "4   1/7/2010 1:00 PM       SHERMAN         RED RIVER EAST   UNDERGROUND   \n",
       "\n",
       "   Accident Latitude  Accident Longitude Accident State  \n",
       "0           38.67070           -97.78123             KS  \n",
       "1           43.94028           -70.49336             ME  \n",
       "2           30.18240           -93.35240             LA  \n",
       "3           46.68930           -92.06120             WI  \n",
       "4           33.58266           -96.64881             TX  "
      ]
     },
     "execution_count": 15,
     "metadata": {},
     "output_type": "execute_result"
    }
   ],
   "source": [
    "df_scatter = df[['Accident Date/Time','Accident City','Pipeline/Facility Name',\n",
    "               'Pipeline Type','Accident Latitude', 'Accident Longitude',\n",
    "               'Accident State' ]]\n",
    "df_scatter.head()"
   ]
  },
  {
   "cell_type": "code",
   "execution_count": 16,
   "metadata": {
    "collapsed": false
   },
   "outputs": [
    {
     "data": {
      "application/vnd.plotly.v1+json": {
       "config": {
        "plotlyServerURL": "https://plot.ly"
       },
       "data": [
        {
         "customdata": [
          [
           "1/1/2010 7:15 AM",
           "MCPHERSON",
           "ABOVEGROUND"
          ],
          [
           "1/4/2010 8:30 AM",
           "RAYMOND",
           "ABOVEGROUND"
          ],
          [
           "1/5/2010 10:30 AM",
           "SULPHER",
           "ABOVEGROUND"
          ],
          [
           "1/6/2010 7:30 PM",
           "SUPERIOR",
           "UNDERGROUND"
          ],
          [
           "1/7/2010 1:00 PM",
           "SHERMAN",
           "UNDERGROUND"
          ],
          [
           "1/8/2010 11:38 PM",
           "NECHE",
           "UNDERGROUND"
          ],
          [
           "1/9/2010 12:15 AM",
           "GALENA PARK",
           "TANK"
          ],
          [
           "1/9/2010 1:12 AM",
           "HULL",
           "ABOVEGROUND"
          ],
          [
           "1/10/2010 7:46 PM",
           0,
           "ABOVEGROUND"
          ],
          [
           "1/11/2010 2:30 PM",
           "PASADENA",
           "TANK"
          ],
          [
           "1/11/2010 2:30 PM",
           "LAKE CHARLES",
           "UNDERGROUND"
          ],
          [
           "1/11/2010 2:47 PM",
           "TAFT",
           "UNDERGROUND"
          ],
          [
           "1/11/2010 3:00 PM",
           "CHASE",
           "UNDERGROUND"
          ],
          [
           "1/11/2010 11:00 PM",
           "CUSHING",
           "TANK"
          ],
          [
           "1/12/2010 10:25 AM",
           "CUSHING",
           "ABOVEGROUND"
          ],
          [
           "1/12/2010 2:30 PM",
           "RUSHVILLE",
           "ABOVEGROUND"
          ],
          [
           "1/12/2010 7:08 PM",
           "PAWNEE",
           "UNDERGROUND"
          ],
          [
           "1/13/2010 7:36 AM",
           "SORRENTO",
           "ABOVEGROUND"
          ],
          [
           "1/13/2010 1:30 PM",
           "GALENA PARK",
           "TANK"
          ],
          [
           "1/13/2010 3:30 PM",
           "MENAHGA",
           "ABOVEGROUND"
          ],
          [
           "1/14/2010 1:15 PM",
           "GOWANDA",
           "ABOVEGROUND"
          ],
          [
           "1/15/2010 7:05 AM",
           "CARSON",
           "ABOVEGROUND"
          ],
          [
           "1/15/2010 3:00 PM",
           "ELLIS",
           "UNDERGROUND"
          ],
          [
           "1/18/2010 10:00 AM",
           "PRINCETON",
           "TANK"
          ],
          [
           "1/19/2010 1:10 PM",
           "AURORA",
           "ABOVEGROUND"
          ],
          [
           "1/19/2010 8:00 PM",
           "HARTFORD",
           "UNDERGROUND"
          ],
          [
           "1/21/2010 9:30 AM",
           "TAFT",
           "TANK"
          ],
          [
           "1/21/2010 12:30 PM",
           "GREENSBURG",
           "ABOVEGROUND"
          ],
          [
           "1/21/2010 6:43 PM",
           "COLLINS",
           "ABOVEGROUND"
          ],
          [
           "1/22/2010 12:05 PM",
           "EL DORADO",
           "ABOVEGROUND"
          ],
          [
           "1/24/2010 12:30 PM",
           "PRINCETON",
           "TANK"
          ],
          [
           "1/25/2010 11:07 AM",
           "CUT OFF",
           "ABOVEGROUND"
          ],
          [
           "1/27/2010 3:30 PM",
           "PORT ARTHUR",
           "TANK"
          ],
          [
           "1/28/2010 11:00 AM",
           "DICKINSON",
           "ABOVEGROUND"
          ],
          [
           "2/2/2010 8:00 AM",
           "HARPER",
           "ABOVEGROUND"
          ],
          [
           "2/4/2010 3:10 PM",
           "MILWAUKEE",
           "ABOVEGROUND"
          ],
          [
           "2/6/2010 11:30 AM",
           "EL DORADO",
           "ABOVEGROUND"
          ],
          [
           "2/8/2010 12:20 PM",
           "LAKE ARTHUR",
           "UNDERGROUND"
          ],
          [
           "2/9/2010 10:00 AM",
           "BATON ROUGE",
           "UNDERGROUND"
          ],
          [
           "2/9/2010 3:25 PM",
           "LINCOLN",
           "ABOVEGROUND"
          ],
          [
           "2/16/2010 7:42 AM",
           "WAYNE",
           "ABOVEGROUND"
          ],
          [
           "2/17/2010 5:45 PM",
           "KANSAS CITY",
           "TANK"
          ],
          [
           "2/19/2010 6:50 AM",
           "LINDEN",
           "ABOVEGROUND"
          ],
          [
           "2/20/2010 6:30 AM",
           "LONGVIEW",
           "UNDERGROUND"
          ],
          [
           "2/21/2010 12:45 PM",
           "MCCAMEY",
           "UNDERGROUND"
          ],
          [
           "2/22/2010 10:38 AM",
           "BIG SPRING",
           "UNDERGROUND"
          ],
          [
           "2/22/2010 10:56 AM",
           "SPOKANE",
           "ABOVEGROUND"
          ],
          [
           "2/23/2010 11:30 PM",
           "COUNCIL BLUFFS",
           "ABOVEGROUND"
          ],
          [
           "2/25/2010 4:50 AM",
           "POND CREEK",
           "UNDERGROUND"
          ],
          [
           "2/25/2010 10:00 AM",
           0,
           "UNDERGROUND"
          ],
          [
           "3/1/2010 8:10 AM",
           "LONGVIEW",
           "UNDERGROUND"
          ],
          [
           "3/1/2010 9:16 AM",
           "CLEARBROOK",
           "ABOVEGROUND"
          ],
          [
           "3/1/2010 11:50 AM",
           "HAYNE",
           "ABOVEGROUND"
          ],
          [
           "3/3/2010 10:20 PM",
           0,
           0
          ],
          [
           "3/4/2010 5:30 AM",
           "SULPHUR",
           "ABOVEGROUND"
          ],
          [
           "3/4/2010 11:00 PM",
           "SORRENTO",
           "ABOVEGROUND"
          ],
          [
           "3/8/2010 11:01 AM",
           "CARROLLTON",
           "ABOVEGROUND"
          ],
          [
           "3/8/2010 11:30 AM",
           "KANSAS CITY",
           "TANK"
          ],
          [
           "3/9/2010 11:25 AM",
           "LONGVIEW",
           "UNDERGROUND"
          ],
          [
           "3/9/2010 2:15 PM",
           "CORSICANA",
           "UNDERGROUND"
          ],
          [
           "3/11/2010 10:00 AM",
           "SUPERIOR",
           "UNDERGROUND"
          ],
          [
           "3/14/2010 10:04 PM",
           "MILFORD",
           "ABOVEGROUND"
          ],
          [
           "3/15/2010 9:30 AM",
           "COMYN",
           "TANK"
          ],
          [
           "3/15/2010 10:00 AM",
           "HOBBS",
           "ABOVEGROUND"
          ],
          [
           "3/15/2010 3:55 PM",
           "WHITE OAK",
           "UNDERGROUND"
          ],
          [
           "3/16/2010 11:10 AM",
           "SACRAMENTO",
           "UNDERGROUND"
          ],
          [
           "3/18/2010 3:30 PM",
           "CUSHING",
           "UNDERGROUND"
          ],
          [
           "3/20/2010 12:03 PM",
           "METTLER",
           "UNDERGROUND"
          ],
          [
           "3/21/2010 1:00 AM",
           "MOKENA",
           "ABOVEGROUND"
          ],
          [
           "3/22/2010 1:30 PM",
           "TEXAS CITY",
           "ABOVEGROUND"
          ],
          [
           "3/23/2010 2:00 PM",
           "JACKSON",
           "UNDERGROUND"
          ],
          [
           "3/23/2010 6:30 PM",
           "WESTLAKE",
           "ABOVEGROUND"
          ],
          [
           "3/24/2010 8:00 AM",
           "CUSHING",
           "ABOVEGROUND"
          ],
          [
           "3/24/2010 1:30 PM",
           "BATON ROUGE",
           "ABOVEGROUND"
          ],
          [
           "3/25/2010 1:42 PM",
           "PHILADELPHIA",
           "ABOVEGROUND"
          ],
          [
           "3/25/2010 5:36 PM",
           0,
           0
          ],
          [
           "3/26/2010 1:50 PM",
           "BORGER",
           "ABOVEGROUND"
          ],
          [
           "3/27/2010 10:30 PM",
           "ST PETERSBURG",
           "ABOVEGROUND"
          ],
          [
           "3/29/2010 10:15 AM",
           "SULPHUR",
           "ABOVEGROUND"
          ],
          [
           "3/29/2010 6:45 PM",
           "BOURBONNAIS",
           "UNDERGROUND"
          ],
          [
           "3/30/2010 2:00 PM",
           "SALISBURY",
           "UNDERGROUND"
          ],
          [
           "3/31/2010 9:00 AM",
           "CHARLOTTE COURTHOUSE",
           "UNDERGROUND"
          ],
          [
           "4/3/2010 2:55 PM",
           "GOWER",
           "ABOVEGROUND"
          ],
          [
           "4/5/2010 7:55 AM",
           "TULSA",
           "UNDERGROUND"
          ],
          [
           "4/5/2010 9:10 AM",
           "ROBERTSON",
           "UNDERGROUND"
          ],
          [
           "4/5/2010 11:00 PM",
           "PHAROAH",
           "ABOVEGROUND"
          ],
          [
           "4/5/2010 11:45 PM",
           "VENICE",
           "UNDERGROUND"
          ],
          [
           "4/7/2010 1:46 AM",
           "LOUISVILLE",
           "ABOVEGROUND"
          ],
          [
           "4/7/2010 10:45 AM",
           "WALNUT SPRINGS",
           "UNDERGROUND"
          ],
          [
           "4/8/2010 6:58 PM",
           "GREEN RIDGE",
           "ABOVEGROUND"
          ],
          [
           "4/9/2010 2:00 PM",
           "HERMLEIGH",
           "TANK"
          ],
          [
           "4/10/2010 6:40 PM",
           "CASHION",
           "UNDERGROUND"
          ],
          [
           "4/12/2010 4:36 PM",
           "LOUDON",
           "ABOVEGROUND"
          ],
          [
           "4/13/2010 12:01 PM",
           "SEYMOUR",
           "UNDERGROUND"
          ],
          [
           "4/13/2010 12:25 PM",
           "PORT ARTHUR",
           "UNDERGROUND"
          ],
          [
           "4/14/2010 11:30 AM",
           "LONGVIEW",
           "UNDERGROUND"
          ],
          [
           "4/15/2010 8:25 PM",
           "BEAUMONT",
           "TANK"
          ],
          [
           "4/16/2010 8:14 AM",
           "QULIN",
           "UNDERGROUND"
          ],
          [
           "4/16/2010 9:35 AM",
           "REFUGIO",
           "ABOVEGROUND"
          ],
          [
           "4/17/2010 7:00 PM",
           "DEER RIVER",
           "UNDERGROUND"
          ],
          [
           "4/20/2010 2:56 PM",
           "PEMBERTON",
           "UNDERGROUND"
          ],
          [
           "4/23/2010 4:32 PM",
           "SOLOMON",
           "UNDERGROUND"
          ],
          [
           "4/24/2010 7:30 PM",
           "JACKSON",
           "UNDERGROUND"
          ],
          [
           "4/25/2010 9:00 AM",
           "SAMARIA",
           "ABOVEGROUND"
          ],
          [
           "4/26/2010 9:15 AM",
           "OLATHE",
           "TANK"
          ],
          [
           "4/26/2010 10:18 AM",
           "TWIN FALLS",
           "UNDERGROUND"
          ],
          [
           "4/26/2010 10:35 AM",
           "MCPHERSON",
           "UNDERGROUND"
          ],
          [
           "4/26/2010 12:00 PM",
           "AUSTELL",
           "TANK"
          ],
          [
           "4/27/2010 2:00 PM",
           "HOUSTON",
           "ABOVEGROUND"
          ],
          [
           "4/28/2010 12:00 PM",
           "PASADENA",
           "ABOVEGROUND"
          ],
          [
           "4/28/2010 12:55 PM",
           "SCHALLER",
           "UNDERGROUND"
          ],
          [
           "4/29/2010 9:55 AM",
           "TOWANDA",
           "UNDERGROUND"
          ],
          [
           "4/29/2010 5:20 PM",
           "LINDEN",
           "ABOVEGROUND"
          ],
          [
           "4/30/2010 7:00 AM",
           "PORT ARTHUR",
           "TANK"
          ],
          [
           "5/4/2010 10:10 PM",
           "SAN  PEDRO  CALIFORNIA",
           "ABOVEGROUND"
          ],
          [
           "5/7/2010 1:00 PM",
           "LAS VEGAS",
           "UNDERGROUND"
          ],
          [
           "5/10/2010 8:00 AM",
           "TIOGA",
           "ABOVEGROUND"
          ],
          [
           "5/10/2010 6:00 PM",
           "HOBBS",
           "UNDERGROUND"
          ],
          [
           "5/12/2010 10:10 AM",
           "DENVER CITY",
           "ABOVEGROUND"
          ],
          [
           "5/16/2010 12:00 AM",
           "CRANE",
           "ABOVEGROUND"
          ],
          [
           "5/16/2010 2:30 AM",
           "ST. JAMES",
           "TANK"
          ],
          [
           "5/16/2010 6:45 AM",
           "GRAHAM",
           "ABOVEGROUND"
          ],
          [
           "5/16/2010 2:50 PM",
           "TEXAS CITY",
           "TANK"
          ],
          [
           "5/17/2010 7:00 AM",
           "TEXAS CITY",
           "TANK"
          ],
          [
           "5/19/2010 10:00 AM",
           "LONGVIEW",
           "ABOVEGROUND"
          ],
          [
           "5/19/2010 2:08 PM",
           "AVENEL",
           "TANK"
          ],
          [
           "5/20/2010 10:30 AM",
           "GORDON",
           "UNDERGROUND"
          ],
          [
           "5/20/2010 3:50 PM",
           "LINDEN",
           "TRANSITION AREA"
          ],
          [
           "5/20/2010 4:30 PM",
           "HUDSON",
           "UNDERGROUND"
          ],
          [
           "5/20/2010 5:30 PM",
           "EAST SPARTA",
           "UNDERGROUND"
          ],
          [
           "5/21/2010 1:45 PM",
           "CARPENTER ",
           "UNDERGROUND"
          ],
          [
           "5/23/2010 6:30 AM",
           "COLORADO CITY",
           "UNDERGROUND"
          ],
          [
           "5/24/2010 9:15 AM",
           "PASADENA",
           "ABOVEGROUND"
          ],
          [
           "5/25/2010 11:00 AM",
           "DELTA JUNCTION",
           "TANK"
          ],
          [
           "5/26/2010 7:30 PM",
           "COMMERCE CITY",
           "ABOVEGROUND"
          ],
          [
           "5/27/2010 3:50 AM",
           "PLAQUEMINE",
           "ABOVEGROUND"
          ],
          [
           "5/27/2010 8:00 AM",
           "KANSAS CITY",
           "ABOVEGROUND"
          ],
          [
           "5/27/2010 12:45 PM",
           "CORSICANA",
           "UNDERGROUND"
          ],
          [
           "5/27/2010 1:40 PM",
           0,
           "UNDERGROUND"
          ],
          [
           "5/27/2010 3:00 PM",
           0,
           "ABOVEGROUND"
          ],
          [
           "5/29/2010 12:34 PM",
           "CONSTANTINE ",
           "UNDERGROUND"
          ],
          [
           "5/29/2010 2:00 PM",
           "HOUSTON",
           "ABOVEGROUND"
          ],
          [
           "5/29/2010 5:15 PM",
           "CUSHING",
           "ABOVEGROUND"
          ],
          [
           "5/31/2010 10:00 AM",
           "SPARTANBURG",
           "UNDERGROUND"
          ],
          [
           "6/1/2010 10:00 AM",
           "MCKITTRICK",
           "UNDERGROUND"
          ],
          [
           "6/1/2010 12:45 PM",
           "DAYTON",
           "UNDERGROUND"
          ],
          [
           "6/3/2010 7:13 PM",
           "GOLDSMITH",
           "UNDERGROUND"
          ],
          [
           "6/3/2010 8:21 PM",
           "MCCLOUD",
           "ABOVEGROUND"
          ],
          [
           "6/4/2010 11:25 AM",
           "ALBANY",
           "ABOVEGROUND"
          ],
          [
           "6/5/2010 10:30 AM",
           "VICTORIA",
           "UNDERGROUND"
          ],
          [
           "6/7/2010 8:00 AM",
           "GRENORA",
           "ABOVEGROUND"
          ],
          [
           "6/7/2010 12:50 PM",
           "ASHMORE",
           "UNDERGROUND"
          ],
          [
           "6/8/2010 10:13 AM",
           "NORCO",
           "ABOVEGROUND"
          ],
          [
           "6/8/2010 3:45 PM",
           "MARSHFIELD",
           "UNDERGROUND"
          ],
          [
           "6/8/2010 3:50 PM",
           "WESTLAKE",
           "ABOVEGROUND"
          ],
          [
           "6/9/2010 8:00 AM",
           "NORTH AUGUSTA",
           "ABOVEGROUND"
          ],
          [
           "6/9/2010 10:47 PM",
           "HOUSTON",
           "ABOVEGROUND"
          ],
          [
           "6/10/2010 4:30 AM",
           "DOUGLAS",
           "ABOVEGROUND"
          ],
          [
           "6/11/2010 7:00 AM",
           0,
           "UNDERGROUND"
          ],
          [
           "6/11/2010 7:00 PM",
           "BEAUMONT",
           "UNDERGROUND"
          ],
          [
           "6/12/2010 7:42 AM",
           "SALT LAKE CITY",
           "UNDERGROUND"
          ],
          [
           "6/12/2010 12:34 PM",
           "CUSHING",
           "ABOVEGROUND"
          ],
          [
           "6/14/2010 4:26 AM",
           "CUSHING",
           "TANK"
          ],
          [
           "6/14/2010 1:34 PM",
           "CHEYENNE ",
           "TANK"
          ],
          [
           "6/16/2010 9:00 AM",
           0,
           "ABOVEGROUND"
          ],
          [
           "6/16/2010 11:35 AM",
           "COLMESNEIL",
           "ABOVEGROUND"
          ],
          [
           "6/23/2010 12:00 PM",
           "HOWARD ",
           "ABOVEGROUND"
          ],
          [
           "6/23/2010 12:08 PM",
           "GRAMERCY",
           "UNDERGROUND"
          ],
          [
           "6/23/2010 12:09 PM",
           "LIMA",
           "ABOVEGROUND"
          ],
          [
           "6/25/2010 9:55 AM",
           "HERMLEIGH",
           "ABOVEGROUND"
          ],
          [
           "6/28/2010 8:30 AM",
           "STRAWN",
           "UNDERGROUND"
          ],
          [
           "6/30/2010 4:58 AM",
           "OMAHA",
           "UNDERGROUND"
          ],
          [
           "6/30/2010 6:45 PM",
           "LANGDON",
           "UNDERGROUND"
          ],
          [
           "7/2/2010 10:15 AM",
           "DEER RIVER",
           "ABOVEGROUND"
          ],
          [
           "7/2/2010 2:00 PM",
           0,
           0
          ],
          [
           "7/4/2010 12:15 PM",
           "DRUMRIGHT",
           "UNDERGROUND"
          ],
          [
           "7/5/2010 10:40 AM",
           "THOMSON",
           "UNDERGROUND"
          ],
          [
           "7/6/2010 8:30 AM",
           "LA HABRA HEIGHTS ",
           "UNDERGROUND"
          ],
          [
           "7/6/2010 9:45 AM",
           "CUSHING",
           "ABOVEGROUND"
          ],
          [
           "7/7/2010 12:00 PM",
           "PASADENA",
           "ABOVEGROUND"
          ],
          [
           "7/8/2010 3:20 PM",
           "PASADENA",
           "UNDERGROUND"
          ],
          [
           "7/11/2010 8:15 AM",
           "THOMAS",
           "UNDERGROUND"
          ],
          [
           "7/12/2010 10:40 AM",
           "LONGVIEW",
           "UNDERGROUND"
          ],
          [
           "7/12/2010 1:30 PM",
           "BOWLING GREEN",
           "ABOVEGROUND"
          ],
          [
           "7/14/2010 12:30 PM",
           0,
           "ABOVEGROUND"
          ],
          [
           "7/14/2010 1:30 PM",
           "LAPORTE",
           "ABOVEGROUND"
          ],
          [
           "7/14/2010 1:40 PM",
           "ROXANA",
           "ABOVEGROUND"
          ],
          [
           "7/14/2010 9:15 PM",
           0,
           "ABOVEGROUND"
          ],
          [
           "7/14/2010 11:00 PM",
           0,
           "ABOVEGROUND"
          ],
          [
           "7/17/2010 11:37 AM",
           "ROCKVILLE",
           "ABOVEGROUND"
          ],
          [
           "7/17/2010 8:30 PM",
           "CARTERET",
           "ABOVEGROUND"
          ],
          [
           "7/19/2010 8:44 PM",
           "ROCKLIN",
           "ABOVEGROUND"
          ],
          [
           "7/21/2010 1:02 PM",
           0,
           "ABOVEGROUND"
          ],
          [
           "7/23/2010 2:05 PM",
           "PICKRELL",
           "UNDERGROUND"
          ],
          [
           "7/25/2010 5:58 PM",
           "MARSHALL",
           "UNDERGROUND"
          ],
          [
           "7/26/2010 2:20 PM",
           "SOUR LAKE",
           "TANK"
          ],
          [
           "7/27/2010 4:41 PM",
           "HARTFORD",
           "UNDERGROUND"
          ],
          [
           "7/28/2010 7:45 AM",
           "CASS LAKE",
           "UNDERGROUND"
          ],
          [
           "7/29/2010 9:40 AM",
           "BILLINGS",
           "ABOVEGROUND"
          ],
          [
           "7/29/2010 1:30 PM",
           "CASS LAKE",
           "UNDERGROUND"
          ],
          [
           "7/29/2010 4:30 PM",
           "HAVEN",
           "UNDERGROUND"
          ],
          [
           "7/31/2010 7:02 AM",
           "CORSICANA",
           "ABOVEGROUND"
          ],
          [
           "8/2/2010 8:35 PM",
           "FOUNTAIN",
           "UNDERGROUND"
          ],
          [
           "8/3/2010 4:00 PM",
           "RANGER",
           "ABOVEGROUND"
          ],
          [
           "8/5/2010 1:30 AM",
           "MARCUS HOOK",
           "ABOVEGROUND"
          ],
          [
           "8/5/2010 2:00 PM",
           "OREGON",
           "UNDERGROUND"
          ],
          [
           "8/5/2010 3:00 PM",
           "CRANE",
           "ABOVEGROUND"
          ],
          [
           "8/5/2010 7:38 PM",
           "PAOLI",
           "UNDERGROUND"
          ],
          [
           "8/9/2010 8:35 AM",
           0,
           "ABOVEGROUND"
          ],
          [
           "8/11/2010 8:41 AM",
           "MIDLAND",
           "ABOVEGROUND"
          ],
          [
           "8/11/2010 11:00 AM",
           "PASADENA",
           "TANK"
          ],
          [
           "8/12/2010 5:00 PM",
           "LAPORTE",
           "UNDERGROUND"
          ],
          [
           "8/17/2010 8:30 AM",
           "BROOKLYN",
           "UNDERGROUND"
          ],
          [
           "8/17/2010 9:48 AM",
           "HAMMOND",
           "UNDERGROUND"
          ],
          [
           "8/17/2010 4:00 PM",
           "DUNCAN",
           "UNDERGROUND"
          ],
          [
           "8/18/2010 5:00 PM",
           "ELKHART",
           "ABOVEGROUND"
          ],
          [
           "8/19/2010 8:30 AM",
           "HARTINGTON",
           "ABOVEGROUND"
          ],
          [
           "8/19/2010 11:35 PM",
           "ST. JAMES",
           "UNDERGROUND"
          ],
          [
           "8/20/2010 7:00 AM",
           "PASEDENA",
           "ABOVEGROUND"
          ],
          [
           "8/20/2010 9:45 AM",
           "SHERWOOD",
           "UNDERGROUND"
          ],
          [
           "8/22/2010 7:00 PM",
           "CORSICANA",
           "UNDERGROUND"
          ],
          [
           "8/23/2010 7:05 AM",
           "GLENPOOL",
           "ABOVEGROUND"
          ],
          [
           "8/24/2010 1:20 PM",
           "RICHLAND",
           "ABOVEGROUND"
          ],
          [
           "8/25/2010 1:30 PM",
           "MONT BELVIEU",
           "UNDERGROUND"
          ],
          [
           "8/26/2010 8:18 PM",
           "MONT BELVIEU",
           "ABOVEGROUND"
          ],
          [
           "8/27/2010 5:42 AM",
           "BAYTOWN",
           "ABOVEGROUND"
          ],
          [
           "8/27/2010 10:25 AM",
           "EVANSVILLE",
           "TANK"
          ],
          [
           "8/27/2010 4:30 PM",
           "GILBOA",
           "UNDERGROUND"
          ],
          [
           "8/31/2010 3:30 AM",
           "BAYTOWN",
           "ABOVEGROUND"
          ],
          [
           "9/1/2010 5:20 PM",
           "FRIENDSWOOD",
           "ABOVEGROUND"
          ],
          [
           "9/2/2010 7:50 AM",
           "WICHITA FALLS",
           "TANK"
          ],
          [
           "9/3/2010 9:45 AM",
           "HUGOTON ",
           "UNDERGROUND"
          ],
          [
           "9/5/2010 4:56 AM",
           0,
           "UNDERGROUND"
          ],
          [
           "9/5/2010 5:05 PM",
           0,
           0
          ],
          [
           "9/7/2010 2:11 PM",
           0,
           "ABOVEGROUND"
          ],
          [
           "9/7/2010 2:30 PM",
           "COLDFOOT",
           "ABOVEGROUND"
          ],
          [
           "9/8/2010 8:11 AM",
           "ARKANSAS CITY",
           "ABOVEGROUND"
          ],
          [
           "9/8/2010 10:30 AM",
           "MARINQOUIN",
           "ABOVEGROUND"
          ],
          [
           "9/8/2010 4:22 PM",
           "WINDOM",
           "ABOVEGROUND"
          ],
          [
           "9/8/2010 4:22 PM",
           "WINDOM",
           "ABOVEGROUND"
          ],
          [
           "9/9/2010 10:30 AM",
           0,
           "TANK"
          ],
          [
           "9/9/2010 11:30 AM",
           "ROMEOVILLE",
           "UNDERGROUND"
          ],
          [
           "9/11/2010 8:55 AM",
           "FOWLERVILLE",
           "UNDERGROUND"
          ],
          [
           "9/12/2010 11:15 AM",
           "EL DORADO",
           "TANK"
          ],
          [
           "9/12/2010 11:45 AM",
           "ST JAMES",
           "TANK"
          ],
          [
           "9/13/2010 1:57 PM",
           "HOUSTON",
           "ABOVEGROUND"
          ],
          [
           "9/16/2010 9:30 AM",
           "ANSON",
           "UNDERGROUND"
          ],
          [
           "9/16/2010 1:20 PM",
           "WYOMING",
           "UNDERGROUND"
          ],
          [
           "9/16/2010 3:20 PM",
           "WILLIS",
           "ABOVEGROUND"
          ],
          [
           "9/16/2010 4:00 PM",
           "MARTINSVILLE",
           "ABOVEGROUND"
          ],
          [
           "9/17/2010 1:45 PM",
           "PT. ARTHUR",
           "UNDERGROUND"
          ],
          [
           "9/19/2010 7:40 AM",
           "SEMINOLE",
           "ABOVEGROUND"
          ],
          [
           "9/22/2010 7:40 AM",
           "SOUR LAKE",
           "UNDERGROUND"
          ],
          [
           "9/23/2010 12:40 PM",
           "DEER RIVER",
           "ABOVEGROUND"
          ],
          [
           "9/24/2010 9:30 AM",
           "BRECKENRIDGE",
           "ABOVEGROUND"
          ],
          [
           "9/27/2010 6:00 PM",
           "BEAUMONT",
           "ABOVEGROUND"
          ],
          [
           "9/28/2010 1:46 PM",
           "BEAUMONT",
           "UNDERGROUND"
          ],
          [
           "9/30/2010 8:30 AM",
           "THOMAS",
           "ABOVEGROUND"
          ],
          [
           "10/5/2010 11:35 AM",
           "INDIAN BAYOU",
           "ABOVEGROUND"
          ],
          [
           "10/6/2010 1:20 PM",
           "ST. CLAIR",
           "UNDERGROUND"
          ],
          [
           "10/8/2010 5:30 AM",
           "BEAUMONT",
           "ABOVEGROUND"
          ],
          [
           "10/11/2010 7:45 AM",
           "LEVELLAND",
           "TANK"
          ],
          [
           "10/11/2010 2:15 PM",
           "PERTH AMBOY",
           "ABOVEGROUND"
          ],
          [
           "10/11/2010 4:10 PM",
           "MANSFIELD TOWNSHIP",
           "UNDERGROUND"
          ],
          [
           "10/21/2010 5:24 PM",
           0,
           "ABOVEGROUND"
          ],
          [
           "10/23/2010 1:00 AM",
           "SANTO",
           "UNDERGROUND"
          ],
          [
           "10/26/2010 9:30 AM",
           "FOX",
           "ABOVEGROUND"
          ],
          [
           "10/27/2010 3:00 PM",
           "HOPE",
           "ABOVEGROUND"
          ],
          [
           "11/1/2010 9:40 AM",
           "CREAL SPRINGS",
           "ABOVEGROUND"
          ],
          [
           "11/1/2010 2:55 PM",
           "WHITEWRIGHT",
           "UNDERGROUND"
          ],
          [
           "11/2/2010 2:20 AM",
           "HOUSTON",
           "TANK"
          ],
          [
           "11/2/2010 9:00 AM",
           "BEAUMONT",
           "UNDERGROUND"
          ],
          [
           "11/3/2010 11:00 AM",
           "PORT ARTHUR",
           "UNDERGROUND"
          ],
          [
           "11/4/2010 12:10 PM",
           "POMONA",
           "ABOVEGROUND"
          ],
          [
           "11/4/2010 2:00 PM",
           "ODESSA",
           "UNDERGROUND"
          ],
          [
           "11/5/2010 8:00 AM",
           "PURCELL",
           "ABOVEGROUND"
          ],
          [
           "11/6/2010 11:00 AM",
           "CHICO",
           "UNDERGROUND"
          ],
          [
           "11/8/2010 2:45 AM",
           "ARGO",
           "TANK"
          ],
          [
           "11/8/2010 11:15 AM",
           "CROSBY",
           "UNDERGROUND"
          ],
          [
           "11/9/2010 7:19 AM",
           "HAVEN",
           "UNDERGROUND"
          ],
          [
           "11/9/2010 8:45 AM",
           "CARSON",
           "ABOVEGROUND"
          ],
          [
           "11/10/2010 7:45 AM",
           "HEALDTON",
           "ABOVEGROUND"
          ],
          [
           "11/11/2010 9:15 AM",
           "FLOODWOOD",
           "ABOVEGROUND"
          ],
          [
           "11/11/2010 1:00 PM",
           "SIGNAL HILL",
           "UNDERGROUND"
          ],
          [
           "11/12/2010 9:48 AM",
           "SAVAGE",
           "UNDERGROUND"
          ],
          [
           "11/12/2010 3:00 PM",
           "ENID",
           "ABOVEGROUND"
          ],
          [
           "11/15/2010 8:00 AM",
           "HEALDTON",
           "ABOVEGROUND"
          ],
          [
           "11/15/2010 8:35 AM",
           "COLDWATER ",
           "ABOVEGROUND"
          ],
          [
           "11/15/2010 6:20 PM",
           "EARLY",
           "UNDERGROUND"
          ],
          [
           "11/15/2010 6:51 PM",
           "DIBOLL",
           "TRANSITION AREA"
          ],
          [
           "11/16/2010 1:00 PM",
           "FREEPORT",
           "ABOVEGROUND"
          ],
          [
           "11/16/2010 1:40 PM",
           "SEMINOLE",
           "UNDERGROUND"
          ],
          [
           "11/16/2010 4:46 PM",
           "VINTON",
           "UNDERGROUND"
          ],
          [
           "11/18/2010 8:00 AM",
           "MOUNDVILLE",
           "TRANSITION AREA"
          ],
          [
           "11/20/2010 1:15 AM",
           "NEW WAVERLY",
           "UNDERGROUND"
          ],
          [
           "11/20/2010 8:30 AM",
           "CARTERET",
           "ABOVEGROUND"
          ],
          [
           "11/22/2010 9:00 AM",
           "SUBLETTE",
           "ABOVEGROUND"
          ],
          [
           "11/22/2010 2:30 PM",
           "WEST COLUMBIA",
           "UNDERGROUND"
          ],
          [
           "11/23/2010 6:00 AM",
           "TAFT",
           "UNDERGROUND"
          ],
          [
           "11/23/2010 12:09 PM",
           0,
           "ABOVEGROUND"
          ],
          [
           "11/23/2010 4:35 PM",
           "MONT BELVIEU",
           "ABOVEGROUND"
          ],
          [
           "11/24/2010 6:15 AM",
           0,
           "ABOVEGROUND"
          ],
          [
           "11/27/2010 9:30 AM",
           "MCKITTRICK",
           "ABOVEGROUND"
          ],
          [
           "11/27/2010 3:00 PM",
           "MILLERSBURG",
           "UNDERGROUND"
          ],
          [
           "11/28/2010 7:20 AM",
           "AVENEL",
           "ABOVEGROUND"
          ],
          [
           "11/28/2010 10:00 AM",
           "LONG BEACH",
           "ABOVEGROUND"
          ],
          [
           "11/29/2010 3:10 AM",
           "KNOX CITY",
           "ABOVEGROUND"
          ],
          [
           "11/29/2010 10:00 AM",
           "CRANE",
           "ABOVEGROUND"
          ],
          [
           "11/30/2010 6:08 PM",
           "EL DORADO",
           "ABOVEGROUND"
          ],
          [
           "12/1/2010 9:00 AM",
           "NORTH BRANCH",
           "ABOVEGROUND"
          ],
          [
           "12/1/2010 4:00 PM",
           "MONT BELVIEU",
           "ABOVEGROUND"
          ],
          [
           "12/1/2010 5:00 PM",
           "SALT LAKE CITY",
           "ABOVEGROUND"
          ],
          [
           "12/2/2010 7:15 PM",
           "NEW DOUGLAS",
           "UNDERGROUND"
          ],
          [
           "12/3/2010 4:27 PM",
           "WICHITA FALLS",
           "UNDERGROUND"
          ],
          [
           "12/4/2010 10:30 AM",
           "LIVINGSTON",
           "UNDERGROUND"
          ],
          [
           "12/5/2010 6:40 AM",
           "HERMLEIGH",
           "UNDERGROUND"
          ],
          [
           "12/5/2010 1:00 PM",
           "NORTH ENGLISH",
           "UNDERGROUND"
          ],
          [
           "12/5/2010 8:30 PM",
           "KANSAS CITY",
           "ABOVEGROUND"
          ],
          [
           "12/6/2010 5:15 AM",
           "TULSA",
           "TANK"
          ],
          [
           "12/6/2010 7:30 AM",
           "WOODBINE",
           "ABOVEGROUND"
          ],
          [
           "12/6/2010 12:07 PM",
           "LINDEN",
           "UNDERGROUND"
          ],
          [
           "12/6/2010 1:00 PM",
           "VAN",
           "UNDERGROUND"
          ],
          [
           "12/6/2010 11:29 PM",
           "SEMINOLE",
           "ABOVEGROUND"
          ],
          [
           "12/7/2010 9:35 AM",
           "FARGO",
           "TANK"
          ],
          [
           "12/9/2010 11:50 AM",
           "WOOD RIVER ",
           "ABOVEGROUND"
          ],
          [
           "12/9/2010 12:15 PM",
           "PORT ARTHUR",
           "TANK"
          ],
          [
           "12/9/2010 4:17 PM",
           "POCASSET",
           "UNDERGROUND"
          ],
          [
           "12/9/2010 5:50 PM",
           "GREENSBURG",
           "UNDERGROUND"
          ],
          [
           "12/9/2010 6:12 PM",
           "COPAN",
           "UNDERGROUND"
          ],
          [
           "12/10/2010 3:28 PM",
           "TRIMONT",
           "UNDERGROUND"
          ],
          [
           "12/11/2010 3:30 PM",
           "TAYLOR",
           "ABOVEGROUND"
          ],
          [
           "12/12/2010 9:35 AM",
           "MCPHERSON",
           "ABOVEGROUND"
          ],
          [
           "12/13/2010 9:30 AM",
           "SUBLETTE",
           "ABOVEGROUND"
          ],
          [
           "12/13/2010 3:47 PM",
           "EAGLEVILLE",
           "ABOVEGROUND"
          ],
          [
           "12/14/2010 7:20 AM",
           "LOCKPORT",
           "UNDERGROUND"
          ],
          [
           "12/14/2010 10:35 AM",
           "SUNDOWN",
           "ABOVEGROUND"
          ],
          [
           "12/15/2010 9:20 AM",
           "EUREKA",
           "ABOVEGROUND"
          ],
          [
           "12/15/2010 10:00 AM",
           "SPARTANBURG",
           "ABOVEGROUND"
          ],
          [
           "12/16/2010 10:23 AM",
           "MAYERSVILLE",
           "UNDERGROUND"
          ],
          [
           "12/16/2010 5:00 PM",
           "LINDEN",
           "TANK"
          ],
          [
           "12/17/2010 9:14 AM",
           "TEXAS CITY",
           "ABOVEGROUND"
          ],
          [
           "12/20/2010 4:30 PM",
           "KINDER",
           "UNDERGROUND"
          ],
          [
           "12/21/2010 12:00 PM",
           "GENEVA",
           "UNDERGROUND"
          ],
          [
           "12/24/2010 2:10 PM",
           "TRENTON",
           "UNDERGROUND"
          ],
          [
           "12/28/2010 9:00 AM",
           "HOUSTON",
           "UNDERGROUND"
          ],
          [
           "12/28/2010 5:30 PM",
           "LONG BEACH",
           "UNDERGROUND"
          ],
          [
           "12/30/2010 8:40 AM",
           "GARNER",
           "UNDERGROUND"
          ],
          [
           "12/31/2010 7:55 AM",
           "MCPHERSON",
           "ABOVEGROUND"
          ],
          [
           "12/31/2010 9:00 AM",
           "MIDLAND",
           "ABOVEGROUND"
          ],
          [
           "12/31/2010 12:25 PM",
           "LOCKPORT",
           "ABOVEGROUND"
          ],
          [
           "1/1/2011 10:50 AM",
           "MORRIS",
           "ABOVEGROUND"
          ],
          [
           "1/3/2011 9:30 AM",
           "PAMPA",
           "ABOVEGROUND"
          ],
          [
           "1/3/2011 4:30 PM",
           "PASADENA",
           "ABOVEGROUND"
          ],
          [
           "1/4/2011 11:55 AM",
           0,
           "UNDERGROUND"
          ],
          [
           "1/6/2011 5:20 PM",
           0,
           "UNDERGROUND"
          ],
          [
           "1/7/2011 11:00 AM",
           "BOWIE",
           "ABOVEGROUND"
          ],
          [
           "1/7/2011 6:05 PM",
           "PASADENA",
           "TANK"
          ],
          [
           "1/8/2011 8:16 AM",
           "DEADHORSE",
           "UNDERGROUND"
          ],
          [
           "1/12/2011 2:00 AM",
           "RICHMOND",
           "ABOVEGROUND"
          ],
          [
           "1/13/2011 8:00 AM",
           "EL PASO",
           "TANK"
          ],
          [
           "1/13/2011 2:05 PM",
           "CALUMET",
           "ABOVEGROUND"
          ],
          [
           "1/14/2011 4:14 AM",
           "BEAUMONT",
           "ABOVEGROUND"
          ],
          [
           "1/14/2011 5:15 AM",
           "HOUSTON",
           "ABOVEGROUND"
          ],
          [
           "1/14/2011 8:30 AM",
           "CUSHING",
           "UNDERGROUND"
          ],
          [
           "1/14/2011 3:00 PM",
           "SHATTUCK",
           "ABOVEGROUND"
          ],
          [
           "1/15/2011 8:20 AM",
           "WOODBINE",
           "TRANSITION AREA"
          ],
          [
           "1/15/2011 12:45 PM",
           "LINDEN",
           "ABOVEGROUND"
          ],
          [
           "1/18/2011 8:30 AM",
           "MOKENA",
           "UNDERGROUND"
          ],
          [
           "1/18/2011 9:30 AM",
           "BROOKHAVEN",
           "ABOVEGROUND"
          ],
          [
           "1/18/2011 7:54 PM",
           "WEST DEPTFORD",
           "UNDERGROUND"
          ],
          [
           "1/19/2011 9:10 AM",
           "EAST CHICAGO",
           "TANK"
          ],
          [
           "1/19/2011 12:30 PM",
           "MAYSVILLE",
           "UNDERGROUND"
          ],
          [
           "1/20/2011 6:00 AM",
           "SONORA",
           "ABOVEGROUND"
          ],
          [
           "1/22/2011 6:00 AM",
           "SULPHER",
           "ABOVEGROUND"
          ],
          [
           "1/23/2011 4:00 PM",
           "MONT BELVIEU",
           "ABOVEGROUND"
          ],
          [
           "1/26/2011 4:03 PM",
           0,
           0
          ],
          [
           "1/27/2011 8:30 AM",
           "IOLA",
           "UNDERGROUND"
          ],
          [
           "1/28/2011 10:00 AM",
           "SANTURCE",
           "UNDERGROUND"
          ],
          [
           "1/30/2011 7:00 PM",
           "TURNEY ",
           "ABOVEGROUND"
          ],
          [
           "2/2/2011 4:30 AM",
           "HOUSTON",
           "UNDERGROUND"
          ],
          [
           "2/2/2011 7:00 AM",
           "NETHER PROVIDENCE",
           "ABOVEGROUND"
          ],
          [
           "2/2/2011 2:00 PM",
           "SEDGWICK",
           "ABOVEGROUND"
          ],
          [
           "2/3/2011 2:10 PM",
           "CUSHING ",
           "ABOVEGROUND"
          ],
          [
           "2/4/2011 6:40 AM",
           "CUSHING",
           "ABOVEGROUND"
          ],
          [
           "2/4/2011 11:45 AM",
           "ELKHART",
           "ABOVEGROUND"
          ],
          [
           "2/4/2011 12:58 PM",
           "FARIBAULT",
           "ABOVEGROUND"
          ],
          [
           "2/5/2011 5:00 AM",
           "BISHOP",
           "TANK"
          ],
          [
           "2/5/2011 3:30 PM",
           "CREAL SPRINGS",
           "ABOVEGROUND"
          ],
          [
           "2/6/2011 5:15 PM",
           "CARTERET",
           "ABOVEGROUND"
          ],
          [
           "2/7/2011 2:00 PM",
           "FRANKEL CITY",
           "ABOVEGROUND"
          ],
          [
           "2/8/2011 12:13 PM",
           "SHARON HILL",
           "TANK"
          ],
          [
           "2/8/2011 12:14 PM",
           "MONT BELVIEU",
           "ABOVEGROUND"
          ],
          [
           "2/8/2011 12:18 PM",
           "MONT BELVIEU",
           "ABOVEGROUND"
          ],
          [
           "2/8/2011 12:30 PM",
           "PASADENA",
           "TANK"
          ],
          [
           "2/10/2011 8:30 AM",
           "LONGVIEW",
           "ABOVEGROUND"
          ],
          [
           "2/10/2011 6:30 PM",
           0,
           "ABOVEGROUND"
          ],
          [
           "2/12/2011 6:00 PM",
           "WHITE OAK",
           "UNDERGROUND"
          ],
          [
           "2/13/2011 5:10 AM",
           "DIBOLL",
           "UNDERGROUND"
          ],
          [
           "2/13/2011 6:55 PM",
           "OPAL",
           "ABOVEGROUND"
          ],
          [
           "2/14/2011 2:45 PM",
           "WYNNEWOOD",
           "ABOVEGROUND"
          ],
          [
           "2/14/2011 5:30 PM",
           "BEAUMONT",
           "UNDERGROUND"
          ],
          [
           "2/15/2011 10:40 AM",
           "PALCO",
           "ABOVEGROUND"
          ],
          [
           "2/16/2011 12:30 PM",
           "CARTERET",
           "TANK"
          ],
          [
           "2/16/2011 4:30 PM",
           "LINDEN",
           "TRANSITION AREA"
          ],
          [
           "2/17/2011 3:10 PM",
           "UDALL",
           "ABOVEGROUND"
          ],
          [
           "2/17/2011 3:59 PM",
           "MEDFORD",
           "UNDERGROUND"
          ],
          [
           "2/18/2011 3:07 AM",
           "MILFORD",
           "UNDERGROUND"
          ],
          [
           "2/19/2011 1:24 PM",
           "GREAT FALLS",
           "ABOVEGROUND"
          ],
          [
           "2/20/2011 1:22 AM",
           "MONT BELVIEU",
           "ABOVEGROUND"
          ],
          [
           "2/20/2011 2:00 PM",
           "COLORADO CITY",
           "ABOVEGROUND"
          ],
          [
           "2/21/2011 8:50 AM",
           0,
           "ABOVEGROUND"
          ],
          [
           "2/21/2011 1:30 PM",
           "CUSHING",
           "UNDERGROUND"
          ],
          [
           "2/22/2011 7:01 AM",
           "BEDFORD PARK",
           "ABOVEGROUND"
          ],
          [
           "2/22/2011 8:00 AM",
           "SIDNEY",
           "ABOVEGROUND"
          ],
          [
           "2/23/2011 8:30 AM",
           "EIGHT MILE",
           "ABOVEGROUND"
          ],
          [
           "2/23/2011 1:25 PM",
           "THOROFARE",
           "ABOVEGROUND"
          ],
          [
           "2/24/2011 1:03 AM",
           "TEXAS CITY",
           "UNDERGROUND"
          ],
          [
           "2/24/2011 8:27 PM",
           "SULPHUR",
           "ABOVEGROUND"
          ],
          [
           "2/25/2011 8:25 AM",
           "MINOT",
           "ABOVEGROUND"
          ],
          [
           "2/27/2011 12:00 AM",
           "CUSHING",
           "ABOVEGROUND"
          ],
          [
           "2/28/2011 1:50 PM",
           "EMPORIA",
           "UNDERGROUND"
          ],
          [
           "3/1/2011 6:45 AM",
           "HEALDTON",
           "ABOVEGROUND"
          ],
          [
           "3/1/2011 5:20 PM",
           "MONT BELVIEU",
           "ABOVEGROUND"
          ],
          [
           "3/2/2011 9:00 AM",
           "COLUMBIA",
           "TRANSITION AREA"
          ],
          [
           "3/3/2011 6:30 AM",
           "BILLINGS",
           "ABOVEGROUND"
          ],
          [
           "3/7/2011 7:50 AM",
           "BYRON",
           "ABOVEGROUND"
          ],
          [
           "3/10/2011 9:00 AM",
           "CUSHING",
           "UNDERGROUND"
          ],
          [
           "3/10/2011 12:28 PM",
           "RIVER ROUGE",
           "UNDERGROUND"
          ],
          [
           "3/14/2011 8:30 AM",
           "HAMDEN",
           "UNDERGROUND"
          ],
          [
           "3/14/2011 8:31 AM",
           "CARTERET",
           "ABOVEGROUND"
          ],
          [
           "3/14/2011 1:30 PM",
           "BATON ROUGE",
           "ABOVEGROUND"
          ],
          [
           "3/15/2011 10:00 AM",
           0,
           "UNDERGROUND"
          ],
          [
           "3/16/2011 9:45 AM",
           "SENECA",
           "ABOVEGROUND"
          ],
          [
           "3/16/2011 4:30 PM",
           "PORT ARTHUR",
           "ABOVEGROUND"
          ],
          [
           "3/17/2011 10:30 AM",
           "WICHITA FALLS",
           "ABOVEGROUND"
          ],
          [
           "3/20/2011 2:02 PM",
           "SHIPPINGPORT",
           "ABOVEGROUND"
          ],
          [
           "3/20/2011 7:10 PM",
           "BAYTOWN",
           "ABOVEGROUND"
          ],
          [
           "3/21/2011 7:15 AM",
           "BUNA",
           "ABOVEGROUND"
          ],
          [
           "3/21/2011 12:30 PM",
           "HOPE",
           "ABOVEGROUND"
          ],
          [
           "3/22/2011 9:57 AM",
           "GIBSON CITY",
           "UNDERGROUND"
          ],
          [
           "3/23/2011 10:00 PM",
           "CHARLOTTE",
           "TRANSITION AREA"
          ],
          [
           "3/25/2011 5:10 AM",
           "LOUISVILLE",
           "TANK"
          ],
          [
           "3/28/2011 10:15 AM",
           "CUSHING",
           "TANK"
          ],
          [
           "3/30/2011 12:55 AM",
           "GENEVA",
           "ABOVEGROUND"
          ],
          [
           "3/30/2011 2:30 PM",
           "VERNON",
           "TANK"
          ],
          [
           "3/30/2011 3:35 PM",
           "HABBERMAN",
           "UNDERGROUND"
          ],
          [
           "4/1/2011 1:15 PM",
           "SINTON",
           "ABOVEGROUND"
          ],
          [
           "4/3/2011 2:05 PM",
           "WASKOM",
           "ABOVEGROUND"
          ],
          [
           "4/4/2011 8:00 AM",
           "SUPERIOR",
           "UNDERGROUND"
          ],
          [
           "4/4/2011 8:00 AM",
           "MCCAMEY",
           "UNDERGROUND"
          ],
          [
           "4/6/2011 12:44 PM",
           "JENNINGS",
           "UNDERGROUND"
          ],
          [
           "4/7/2011 12:31 AM",
           "WOODBINE",
           "UNDERGROUND"
          ],
          [
           "4/10/2011 4:45 PM",
           "LONG BEACH",
           "UNDERGROUND"
          ],
          [
           "4/11/2011 8:00 AM",
           "WORTHAM",
           "ABOVEGROUND"
          ],
          [
           "4/12/2011 8:15 AM",
           "GREEN BAY",
           "UNDERGROUND"
          ],
          [
           "4/12/2011 2:20 PM",
           0,
           "UNDERGROUND"
          ],
          [
           "4/13/2011 2:06 PM",
           "LISBON",
           "ABOVEGROUND"
          ],
          [
           "4/13/2011 6:58 PM",
           "DANSVILLE",
           "UNDERGROUND"
          ],
          [
           "4/14/2011 12:35 PM",
           0,
           "UNDERGROUND"
          ],
          [
           "4/19/2011 1:16 PM",
           "LONGVIEW",
           "ABOVEGROUND"
          ],
          [
           "4/20/2011 7:30 PM",
           "FREEPORT",
           "ABOVEGROUND"
          ],
          [
           "4/20/2011 8:05 PM",
           "MANCHESTER",
           "UNDERGROUND"
          ],
          [
           "4/21/2011 3:17 PM",
           "SOLOMON",
           "UNDERGROUND"
          ],
          [
           "4/24/2011 10:00 PM",
           "PARAMOUNT",
           "UNDERGROUND"
          ],
          [
           "4/25/2011 2:00 PM",
           "LIVE OAK",
           "UNDERGROUND"
          ],
          [
           "4/27/2011 8:00 AM",
           "RINGGOLD",
           "UNDERGROUND"
          ],
          [
           "4/27/2011 3:00 PM",
           0,
           "ABOVEGROUND"
          ],
          [
           "4/28/2011 10:00 AM",
           "MIDLAND",
           "UNDERGROUND"
          ],
          [
           "4/29/2011 4:38 PM",
           "GRAPELAND",
           "ABOVEGROUND"
          ],
          [
           "5/2/2011 9:30 AM",
           "CASPER",
           "ABOVEGROUND"
          ],
          [
           "5/3/2011 6:15 AM",
           "CANEY",
           "UNDERGROUND"
          ],
          [
           "5/3/2011 9:45 AM",
           "TORRANCE",
           "ABOVEGROUND"
          ],
          [
           "5/3/2011 5:45 PM",
           "VANDERBILT",
           "ABOVEGROUND"
          ],
          [
           "5/4/2011 3:10 PM",
           "NEWTON",
           "ABOVEGROUND"
          ],
          [
           "5/7/2011 6:20 AM",
           "BRAMPTON ",
           "ABOVEGROUND"
          ],
          [
           "5/9/2011 7:15 PM",
           "LEBANON",
           "TANK"
          ],
          [
           "5/10/2011 4:30 AM",
           "ORLA",
           "ABOVEGROUND"
          ],
          [
           "5/10/2011 1:00 PM",
           "IOWA CITY",
           "ABOVEGROUND"
          ],
          [
           "5/12/2011 11:05 AM",
           "MARYSVILLE",
           "ABOVEGROUND"
          ],
          [
           "5/14/2011 3:40 PM",
           "ROMEOVILLE",
           "UNDERGROUND"
          ],
          [
           "5/17/2011 9:40 AM",
           "FINDLAY",
           "UNDERGROUND"
          ],
          [
           "5/17/2011 11:00 PM",
           "ROCKFORD",
           "ABOVEGROUND"
          ],
          [
           "5/19/2011 9:30 AM",
           "LIMA",
           "UNDERGROUND"
          ],
          [
           "5/19/2011 4:05 PM",
           "HUDSON ",
           "ABOVEGROUND"
          ],
          [
           "5/22/2011 2:45 PM",
           0,
           "ABOVEGROUND"
          ],
          [
           "5/23/2011 4:00 AM",
           "PASADENA",
           "UNDERGROUND"
          ],
          [
           "5/23/2011 10:29 AM",
           "LONG BEACH",
           "ABOVEGROUND"
          ],
          [
           "5/26/2011 1:10 PM",
           "MONEE",
           "UNDERGROUND"
          ],
          [
           "5/29/2011 2:00 AM",
           "BENDENA",
           "ABOVEGROUND"
          ],
          [
           "5/29/2011 12:00 PM",
           "DETROIT",
           "TANK"
          ],
          [
           "5/30/2011 11:00 AM",
           "HOUSTON",
           "ABOVEGROUND"
          ],
          [
           "5/31/2011 10:00 AM",
           0,
           "ABOVEGROUND"
          ],
          [
           "5/31/2011 3:05 PM",
           "LONG GROVE",
           "ABOVEGROUND"
          ],
          [
           "6/1/2011 6:31 AM",
           "ONAWA",
           "ABOVEGROUND"
          ],
          [
           "6/2/2011 3:14 AM",
           "LAFAYETTE",
           "ABOVEGROUND"
          ],
          [
           "6/3/2011 12:30 PM",
           "MIDLAND",
           "UNDERGROUND"
          ],
          [
           "6/4/2011 7:30 AM",
           "CHICO",
           "TANK"
          ],
          [
           "6/4/2011 10:05 PM",
           "BLUFF CITY",
           "ABOVEGROUND"
          ],
          [
           "6/9/2011 2:00 PM",
           "MILFORD",
           "UNDERGROUND"
          ],
          [
           "6/10/2011 7:45 AM",
           "PASADENA",
           "ABOVEGROUND"
          ],
          [
           "6/10/2011 9:00 AM",
           "CARSON",
           "ABOVEGROUND"
          ],
          [
           "6/10/2011 11:00 AM",
           "RINGLING",
           "UNDERGROUND"
          ],
          [
           "6/11/2011 1:10 AM",
           "SEMINOLE",
           "ABOVEGROUND"
          ],
          [
           "6/12/2011 6:30 AM",
           0,
           0
          ],
          [
           "6/13/2011 11:08 AM",
           "SEMINOLE",
           "ABOVEGROUND"
          ],
          [
           "6/13/2011 2:30 PM",
           "PAULDING",
           "UNDERGROUND"
          ],
          [
           "6/13/2011 2:45 PM",
           "DUNCANSVILLE",
           "ABOVEGROUND"
          ],
          [
           "6/14/2011 12:16 PM",
           "SEMINOLE",
           "UNDERGROUND"
          ],
          [
           "6/15/2011 3:30 PM",
           "TISHOMINGO",
           "ABOVEGROUND"
          ],
          [
           "6/16/2011 6:00 AM",
           "LIMA",
           "UNDERGROUND"
          ],
          [
           "6/16/2011 10:00 AM",
           "DES ALLEMANDS",
           "ABOVEGROUND"
          ],
          [
           "6/16/2011 1:55 PM",
           "NEWTON",
           "UNDERGROUND"
          ],
          [
           "6/16/2011 2:00 PM",
           "TAFT",
           "UNDERGROUND"
          ],
          [
           "6/18/2011 7:30 AM",
           "HERMLIEGH",
           "ABOVEGROUND"
          ],
          [
           "6/18/2011 6:00 PM",
           "CUSHING",
           "UNDERGROUND"
          ],
          [
           "6/20/2011 5:00 AM",
           "WINK",
           "TANK"
          ],
          [
           "6/20/2011 8:10 PM",
           "CARTERET",
           "ABOVEGROUND"
          ],
          [
           "6/21/2011 12:30 PM",
           "LONG BEACH",
           "ABOVEGROUND"
          ],
          [
           "6/23/2011 12:00 AM",
           "WARDA",
           "ABOVEGROUND"
          ],
          [
           "6/29/2011 8:41 AM",
           "NEBRASKA CITY",
           "UNDERGROUND"
          ],
          [
           "7/1/2011 7:00 AM",
           "HUNTINGTON BEACH",
           "UNDERGROUND"
          ],
          [
           "7/1/2011 1:23 PM",
           0,
           "UNDERGROUND"
          ],
          [
           "7/1/2011 7:52 PM",
           "HAYNESVILLE",
           "ABOVEGROUND"
          ],
          [
           "7/1/2011 10:40 PM",
           "LAUREL",
           "UNDERGROUND"
          ],
          [
           "7/4/2011 2:00 PM",
           "WICHITA FALLS",
           "UNDERGROUND"
          ],
          [
           "7/4/2011 5:40 PM",
           "WOLSEY",
           "UNDERGROUND"
          ],
          [
           "7/6/2011 1:00 PM",
           "WATONGA",
           "ABOVEGROUND"
          ],
          [
           "7/6/2011 3:31 PM",
           "PARKER",
           "UNDERGROUND"
          ],
          [
           "7/9/2011 9:15 AM",
           "CUSHING",
           "UNDERGROUND"
          ],
          [
           "7/12/2011 6:40 AM",
           "FANNETT",
           "ABOVEGROUND"
          ],
          [
           "7/12/2011 7:45 PM",
           "PATOKA",
           "UNDERGROUND"
          ],
          [
           "7/13/2011 12:10 PM",
           "WORTHAM",
           "ABOVEGROUND"
          ],
          [
           "7/13/2011 3:00 PM",
           "DAISETTA",
           "UNDERGROUND"
          ],
          [
           "7/16/2011 7:40 PM",
           "TEKAMAH",
           "UNDERGROUND"
          ],
          [
           "7/17/2011 1:06 AM",
           "FARMERSVILLE",
           "ABOVEGROUND"
          ],
          [
           "7/17/2011 9:20 AM",
           "PIEDMONT",
           "ABOVEGROUND"
          ],
          [
           "7/17/2011 5:50 PM",
           "VENICE, LA",
           "ABOVEGROUND"
          ],
          [
           "7/18/2011 8:20 PM",
           "ROBSTOWN",
           "UNDERGROUND"
          ],
          [
           "7/19/2011 11:00 AM",
           "ONAWA",
           "UNDERGROUND"
          ],
          [
           "7/20/2011 11:00 AM",
           "CUSHING",
           "ABOVEGROUND"
          ],
          [
           "7/22/2011 12:30 PM",
           0,
           "UNDERGROUND"
          ],
          [
           "7/22/2011 3:32 PM",
           "DIBOLL",
           "ABOVEGROUND"
          ],
          [
           "7/22/2011 8:45 PM",
           "MANGO",
           "UNDERGROUND"
          ],
          [
           "7/23/2011 8:15 PM",
           "EL DORADO",
           "UNDERGROUND"
          ],
          [
           "7/24/2011 8:18 PM",
           "MCCAMEY",
           "UNDERGROUND"
          ],
          [
           "7/24/2011 8:30 PM",
           "HEBRON",
           "ABOVEGROUND"
          ],
          [
           "7/25/2011 10:30 AM",
           "PASADENA",
           "ABOVEGROUND"
          ],
          [
           "7/26/2011 6:50 PM",
           "PORTLAND",
           "ABOVEGROUND"
          ],
          [
           "7/27/2011 10:25 AM",
           0,
           "UNDERGROUND"
          ],
          [
           "7/30/2011 7:30 AM",
           "BATON ROUGE",
           "ABOVEGROUND"
          ],
          [
           "7/30/2011 5:35 PM",
           "COFFEYVILLE",
           "ABOVEGROUND"
          ],
          [
           "8/1/2011 9:15 AM",
           "CARSON",
           "UNDERGROUND"
          ],
          [
           "8/1/2011 9:30 AM",
           "BAKERSFIELD",
           "UNDERGROUND"
          ],
          [
           "8/6/2011 4:50 PM",
           "TORRANCE",
           "UNDERGROUND"
          ],
          [
           "8/7/2011 6:54 AM",
           "HENRIETTA",
           "UNDERGROUND"
          ],
          [
           "8/8/2011 11:27 AM",
           "LEMONT",
           "UNDERGROUND"
          ],
          [
           "8/8/2011 4:00 PM",
           "GENEVA",
           "ABOVEGROUND"
          ],
          [
           "8/10/2011 3:36 AM",
           "COLFAX",
           "ABOVEGROUND"
          ],
          [
           "8/10/2011 8:00 AM",
           "IOUIN",
           "UNDERGROUND"
          ],
          [
           "8/11/2011 11:20 AM",
           "ORCUTT",
           "UNDERGROUND"
          ],
          [
           "8/11/2011 3:18 PM",
           "WILMINGTON",
           "ABOVEGROUND"
          ],
          [
           "8/12/2011 4:10 AM",
           "VANDERBILT",
           "ABOVEGROUND"
          ],
          [
           "8/12/2011 4:10 AM",
           "NEIDERLAND",
           "UNDERGROUND"
          ],
          [
           "8/12/2011 9:15 AM",
           "TEXAS CITY",
           "UNDERGROUND"
          ],
          [
           "8/12/2011 12:20 PM",
           "HENRIETTA",
           "UNDERGROUND"
          ],
          [
           "8/13/2011 1:57 AM",
           "ONAWA",
           "UNDERGROUND"
          ],
          [
           "8/16/2011 3:03 PM",
           "SHARPSBURG",
           "ABOVEGROUND"
          ],
          [
           "8/17/2011 9:40 AM",
           "SUPERIOR",
           "UNDERGROUND"
          ],
          [
           "8/17/2011 12:03 PM",
           "FULLERTON",
           "UNDERGROUND"
          ],
          [
           "8/17/2011 7:00 PM",
           "COVINGTON",
           "ABOVEGROUND"
          ],
          [
           "8/18/2011 8:00 AM",
           "LIMA",
           "TANK"
          ],
          [
           "8/19/2011 9:44 AM",
           "DONALDSONVILLE",
           "UNDERGROUND"
          ],
          [
           "8/20/2011 12:30 PM",
           "WEST COLUMBIA",
           "UNDERGROUND"
          ],
          [
           "8/21/2011 8:45 AM",
           "HOUSTON",
           "TANK"
          ],
          [
           "8/22/2011 4:30 PM",
           "FT. MADISON",
           "UNDERGROUND"
          ],
          [
           "8/23/2011 6:45 AM",
           "FORGAN",
           "ABOVEGROUND"
          ],
          [
           "8/23/2011 7:24 AM",
           "BRENTWOOD",
           "UNDERGROUND"
          ],
          [
           "8/23/2011 9:55 PM",
           "DES MOINES",
           "ABOVEGROUND"
          ],
          [
           "8/24/2011 8:00 PM",
           "BENICIA",
           "UNDERGROUND"
          ],
          [
           "8/25/2011 7:15 AM",
           0,
           "ABOVEGROUND"
          ],
          [
           "8/27/2011 5:50 AM",
           "BYRON",
           "UNDERGROUND"
          ],
          [
           "8/28/2011 11:30 AM",
           "CHAMPAIGN",
           "ABOVEGROUND"
          ],
          [
           "8/29/2011 8:00 PM",
           "CORSICANA",
           "UNDERGROUND"
          ],
          [
           "8/31/2011 7:45 AM",
           "PRICE",
           "UNDERGROUND"
          ],
          [
           "8/31/2011 10:08 AM",
           "COFFEYVILLE",
           "ABOVEGROUND"
          ],
          [
           "8/31/2011 7:05 PM",
           "SIOUX FALLS",
           "ABOVEGROUND"
          ],
          [
           "8/31/2011 9:00 PM",
           "MIDLAND",
           "ABOVEGROUND"
          ],
          [
           "9/1/2011 10:30 AM",
           "LONG BEACH",
           "UNDERGROUND"
          ],
          [
           "9/4/2011 7:10 AM",
           "BORGER",
           "UNDERGROUND"
          ],
          [
           "9/5/2011 10:45 AM",
           "ANDREWS",
           "UNDERGROUND"
          ],
          [
           "9/8/2011 7:50 AM",
           "LATAN",
           "UNDERGROUND"
          ],
          [
           "9/9/2011 5:30 AM",
           "CARTERET",
           "ABOVEGROUND"
          ],
          [
           "9/10/2011 6:30 AM",
           "BAKERSFIELD",
           "ABOVEGROUND"
          ],
          [
           "9/11/2011 10:06 AM",
           "MCPHERSON",
           "ABOVEGROUND"
          ],
          [
           "9/12/2011 6:16 AM",
           0,
           0
          ],
          [
           "9/12/2011 1:45 PM",
           "PORT AUTHUR",
           "UNDERGROUND"
          ],
          [
           "9/13/2011 8:00 AM",
           "TEMPLE, OK",
           "UNDERGROUND"
          ],
          [
           "9/14/2011 12:30 PM",
           "PASADENA",
           "UNDERGROUND"
          ],
          [
           "9/15/2011 10:24 AM",
           "BLEIBLERVILLE",
           "UNDERGROUND"
          ],
          [
           "9/19/2011 10:30 AM",
           "CUSHING",
           "ABOVEGROUND"
          ],
          [
           "9/19/2011 1:35 PM",
           "FERNDALE",
           "ABOVEGROUND"
          ],
          [
           "9/20/2011 6:44 AM",
           "WORLAND",
           "UNDERGROUND"
          ],
          [
           "9/20/2011 6:50 AM",
           "AUBURN",
           "UNDERGROUND"
          ],
          [
           "9/20/2011 10:22 AM",
           "AUBURN",
           "UNDERGROUND"
          ],
          [
           "9/20/2011 2:47 PM",
           "BARATARIA",
           "ABOVEGROUND"
          ],
          [
           "9/21/2011 4:20 AM",
           "PASADENA",
           "ABOVEGROUND"
          ],
          [
           "9/23/2011 2:30 PM",
           "OLNEY",
           "UNDERGROUND"
          ],
          [
           "9/24/2011 9:40 AM",
           "SHERIDAN",
           "ABOVEGROUND"
          ],
          [
           "9/25/2011 6:30 PM",
           "BERTHOLD",
           "ABOVEGROUND"
          ],
          [
           "9/25/2011 6:45 PM",
           "SUPERIOR",
           "ABOVEGROUND"
          ],
          [
           "9/26/2011 9:00 AM",
           "ASTON",
           "ABOVEGROUND"
          ],
          [
           "9/28/2011 12:03 AM",
           "SIOUX FALLS",
           "UNDERGROUND"
          ],
          [
           "9/29/2011 9:25 AM",
           "MOKENA",
           "ABOVEGROUND"
          ],
          [
           "10/3/2011 11:15 AM",
           "MIDKIFF",
           "UNDERGROUND"
          ],
          [
           "10/3/2011 3:30 PM",
           "TORRANCE",
           "UNDERGROUND"
          ],
          [
           "10/4/2011 7:20 AM",
           "CARTERET",
           "TANK"
          ],
          [
           "10/4/2011 3:05 PM",
           "SOUR LAKE",
           "UNDERGROUND"
          ],
          [
           "10/4/2011 10:45 PM",
           "TULSA",
           "ABOVEGROUND"
          ],
          [
           "10/6/2011 11:42 AM",
           "LAWRENCE",
           "UNDERGROUND"
          ],
          [
           "10/6/2011 12:00 PM",
           "PORT ARTHUR ",
           "ABOVEGROUND"
          ],
          [
           "10/6/2011 10:00 PM",
           "MILTONVALVE",
           "ABOVEGROUND"
          ],
          [
           "10/7/2011 7:40 AM",
           "HOOKER",
           "UNDERGROUND"
          ],
          [
           "10/7/2011 9:32 AM",
           "EDMOND",
           "UNDERGROUND"
          ],
          [
           "10/10/2011 1:15 PM",
           "HOPE",
           "TANK"
          ],
          [
           "10/11/2011 8:00 AM",
           "FRANKLIN PARK ",
           "TANK"
          ],
          [
           "10/12/2011 7:45 AM",
           "LONGVIEW",
           "UNDERGROUND"
          ],
          [
           "10/12/2011 12:30 PM",
           "SCHERERVILLE",
           "ABOVEGROUND"
          ],
          [
           "10/13/2011 12:00 PM",
           "TEMPLE",
           "ABOVEGROUND"
          ],
          [
           "10/14/2011 9:20 AM",
           "TULSA",
           "ABOVEGROUND"
          ],
          [
           "10/14/2011 4:20 PM",
           0,
           "ABOVEGROUND"
          ],
          [
           "10/14/2011 7:45 PM",
           "BELTON",
           "ABOVEGROUND"
          ],
          [
           "10/15/2011 11:00 AM",
           "GOLDSMITH",
           "ABOVEGROUND"
          ],
          [
           "10/17/2011 10:15 AM",
           "FRANKLIN PARK",
           "ABOVEGROUND"
          ],
          [
           "10/17/2011 4:55 PM",
           "WYNNEWOOD",
           "ABOVEGROUND"
          ],
          [
           "10/19/2011 2:18 PM",
           "CLAUDE",
           "UNDERGROUND"
          ],
          [
           "10/20/2011 12:59 PM",
           "LITHIA SPRINGS",
           "ABOVEGROUND"
          ],
          [
           "10/23/2011 7:30 AM",
           "PORT NECHES",
           "UNDERGROUND"
          ],
          [
           "10/24/2011 12:55 PM",
           "MCKITTRICK",
           "UNDERGROUND"
          ],
          [
           "10/26/2011 3:20 PM",
           "CARMEL",
           "ABOVEGROUND"
          ],
          [
           "10/27/2011 7:00 AM",
           0,
           "ABOVEGROUND"
          ],
          [
           "10/27/2011 7:30 PM",
           0,
           "ABOVEGROUND"
          ],
          [
           "10/31/2011 7:15 AM",
           "CARTERET",
           "ABOVEGROUND"
          ],
          [
           "11/2/2011 7:00 PM",
           "BIG SPRING",
           "ABOVEGROUND"
          ],
          [
           "11/7/2011 6:00 AM",
           "ODESSA",
           "ABOVEGROUND"
          ],
          [
           "11/7/2011 2:01 PM",
           "DEER GROVE",
           "UNDERGROUND"
          ],
          [
           "11/7/2011 6:30 PM",
           "CONCORD",
           "UNDERGROUND"
          ],
          [
           "11/8/2011 10:00 AM",
           "JENNINGS",
           "UNDERGROUND"
          ],
          [
           "11/8/2011 10:10 AM",
           "CLEARBROOK",
           "ABOVEGROUND"
          ],
          [
           "11/10/2011 6:45 AM",
           "WESTLAKE",
           "ABOVEGROUND"
          ],
          [
           "11/11/2011 3:14 PM",
           "CUSHING",
           "ABOVEGROUND"
          ],
          [
           "11/12/2011 2:45 PM",
           0,
           "ABOVEGROUND"
          ],
          [
           "11/13/2011 8:00 AM",
           "DICKINSON",
           "UNDERGROUND"
          ],
          [
           "11/13/2011 2:14 PM",
           "HERMELEIGH",
           "UNDERGROUND"
          ],
          [
           "11/14/2011 2:57 AM",
           0,
           "UNDERGROUND"
          ],
          [
           "11/14/2011 9:20 AM",
           "BROWNSVILLE",
           "TANK"
          ],
          [
           "11/15/2011 3:53 PM",
           "TEXAS CITY",
           "TANK"
          ],
          [
           "11/16/2011 11:20 AM",
           "CUSHING",
           "UNDERGROUND"
          ],
          [
           "11/17/2011 11:02 AM",
           "CHICAGO",
           "UNDERGROUND"
          ],
          [
           "11/20/2011 9:30 AM",
           "CLEARBROOK",
           "TANK"
          ],
          [
           "11/21/2011 10:15 AM",
           "CARTERET",
           "ABOVEGROUND"
          ],
          [
           "11/21/2011 11:57 AM",
           "MILAM",
           "UNDERGROUND"
          ],
          [
           "11/22/2011 3:37 AM",
           "SULPHUR",
           "ABOVEGROUND"
          ],
          [
           "11/29/2011 6:15 PM",
           "FULSHEAR",
           "UNDERGROUND"
          ],
          [
           "11/30/2011 6:49 AM",
           "HOUSTON",
           "ABOVEGROUND"
          ],
          [
           "12/1/2011 10:30 AM",
           "RULE",
           "ABOVEGROUND"
          ],
          [
           "12/1/2011 2:27 PM",
           "NO TREES",
           "UNDERGROUND"
          ],
          [
           "12/1/2011 4:40 PM",
           "COALINGA",
           "ABOVEGROUND"
          ],
          [
           "12/1/2011 5:50 PM",
           "PASADENA ",
           "TANK"
          ],
          [
           "12/3/2011 2:05 PM",
           "PASADENA",
           "ABOVEGROUND"
          ],
          [
           "12/6/2011 3:45 AM",
           "OXFORD",
           "ABOVEGROUND"
          ],
          [
           "12/6/2011 11:00 AM",
           "ALEXANDER",
           "UNDERGROUND"
          ],
          [
           "12/6/2011 4:10 PM",
           "DES MOINES",
           "ABOVEGROUND"
          ],
          [
           "12/6/2011 11:30 PM",
           "NEDERLAND",
           "ABOVEGROUND"
          ],
          [
           "12/7/2011 1:00 PM",
           0,
           "ABOVEGROUND"
          ],
          [
           "12/8/2011 9:15 AM",
           "JAL",
           "TANK"
          ],
          [
           "12/8/2011 4:10 PM",
           "MOORELAND",
           "UNDERGROUND"
          ],
          [
           "12/9/2011 9:00 AM",
           "ALEXANDER ND",
           "UNDERGROUND"
          ],
          [
           "12/9/2011 11:00 AM",
           "PALMETTO",
           "UNDERGROUND"
          ],
          [
           "12/10/2011 10:50 AM",
           "NEMAHA CITY",
           "UNDERGROUND"
          ],
          [
           "12/10/2011 10:50 AM",
           "NEMAHA CITY",
           "UNDERGROUND"
          ],
          [
           "12/11/2011 12:00 PM",
           "CORSICANA",
           "ABOVEGROUND"
          ],
          [
           "12/11/2011 6:00 PM",
           "GRANDVIEW",
           "ABOVEGROUND"
          ],
          [
           "12/12/2011 10:00 AM",
           "LOS ANGELES",
           "UNDERGROUND"
          ],
          [
           "12/12/2011 10:16 AM",
           "GREENSBORO",
           "ABOVEGROUND"
          ],
          [
           "12/14/2011 4:00 PM",
           "PONCA CITY",
           "UNDERGROUND"
          ],
          [
           "12/17/2011 4:55 PM",
           "TRENTON",
           "ABOVEGROUND"
          ],
          [
           "12/19/2011 6:10 PM",
           "FREEPORT",
           "ABOVEGROUND"
          ],
          [
           "12/20/2011 9:30 AM",
           "SARATOGA",
           "UNDERGROUND"
          ],
          [
           "12/20/2011 1:30 PM",
           "PARIS",
           "ABOVEGROUND"
          ],
          [
           "12/27/2011 1:00 PM",
           "PORT ARTHUR",
           "TANK"
          ],
          [
           "12/27/2011 9:00 PM",
           "KERMIT",
           "UNDERGROUND"
          ],
          [
           "12/28/2011 5:00 PM",
           "KERMIT",
           "UNDERGROUND"
          ],
          [
           "12/29/2011 9:00 AM",
           0,
           "ABOVEGROUND"
          ],
          [
           "12/29/2011 2:25 PM",
           "HAWLEY",
           "ABOVEGROUND"
          ],
          [
           "12/30/2011 10:35 AM",
           "PLAINVILLE",
           "UNDERGROUND"
          ],
          [
           "1/1/2012 7:00 PM",
           "MEDFORD",
           "ABOVEGROUND"
          ],
          [
           "1/4/2012 3:15 PM",
           "BYRON",
           "TANK"
          ],
          [
           "1/6/2012 9:15 AM",
           "ROBERT LEE",
           "UNDERGROUND"
          ],
          [
           "1/9/2012 7:00 AM",
           0,
           "ABOVEGROUND"
          ],
          [
           "1/10/2012 7:30 AM",
           "SULPHUR",
           "TANK"
          ],
          [
           "1/11/2012 10:25 AM",
           "HULL",
           "UNDERGROUND"
          ],
          [
           "1/12/2012 6:00 AM",
           "FELLOWS",
           "ABOVEGROUND"
          ],
          [
           "1/12/2012 10:30 AM",
           "PONTOTOC",
           "ABOVEGROUND"
          ],
          [
           "1/12/2012 10:18 PM",
           "WELLINGTON",
           "UNDERGROUND"
          ],
          [
           "1/14/2012 6:00 AM",
           "AUSTELL",
           "ABOVEGROUND"
          ],
          [
           "1/14/2012 10:10 PM",
           "FAIRBANKS",
           "ABOVEGROUND"
          ],
          [
           "1/16/2012 2:00 PM",
           "CARSON",
           "UNDERGROUND"
          ],
          [
           "1/17/2012 7:20 AM",
           "760 ROOSEVELT AVENUE",
           "TANK"
          ],
          [
           "1/17/2012 2:08 PM",
           "PASADENA",
           "ABOVEGROUND"
          ],
          [
           "1/18/2012 8:00 AM",
           "BELTON",
           "UNDERGROUND"
          ],
          [
           "1/18/2012 10:00 AM",
           "KANSAS CITY",
           "ABOVEGROUND"
          ],
          [
           "1/20/2012 7:00 AM",
           "PAULDING",
           "UNDERGROUND"
          ],
          [
           "1/20/2012 8:04 AM",
           "VERNON",
           "TANK"
          ],
          [
           "1/22/2012 9:00 AM",
           "PLEASANT HILL ",
           "ABOVEGROUND"
          ],
          [
           "1/22/2012 12:45 PM",
           "ST. JAMES",
           "ABOVEGROUND"
          ],
          [
           "1/23/2012 10:12 AM",
           "WESTMORELAND",
           "ABOVEGROUND"
          ],
          [
           "1/25/2012 9:17 AM",
           "EL DORADO",
           "UNDERGROUND"
          ],
          [
           "1/26/2012 2:20 PM",
           "FAIRCHILD",
           "UNDERGROUND"
          ],
          [
           "1/26/2012 11:05 PM",
           "ARTESIA",
           "UNDERGROUND"
          ],
          [
           "1/27/2012 8:43 AM",
           "CASPER",
           "TANK"
          ],
          [
           "1/28/2012 9:15 AM",
           "KANSAS CITY",
           "TANK"
          ],
          [
           "1/30/2012 9:00 AM",
           "BLIM",
           "ABOVEGROUND"
          ],
          [
           "1/31/2012 11:45 AM",
           "MILWAUKEE",
           "UNDERGROUND"
          ],
          [
           "2/1/2012 6:30 PM",
           "MT BELVIEU",
           "ABOVEGROUND"
          ],
          [
           "2/3/2012 8:12 PM",
           "MONAHANS",
           "UNDERGROUND"
          ],
          [
           "2/6/2012 11:00 AM",
           "BEAUMONT",
           "UNDERGROUND"
          ],
          [
           "2/6/2012 2:09 PM",
           "HAMMOND",
           "ABOVEGROUND"
          ],
          [
           "2/6/2012 9:55 PM",
           "CUSHING",
           "TANK"
          ],
          [
           "2/7/2012 8:00 AM",
           "LONG BEACH",
           "ABOVEGROUND"
          ],
          [
           "2/7/2012 11:30 AM",
           "LIMA",
           "TANK"
          ],
          [
           "2/9/2012 2:15 PM",
           "WHITE OAK",
           "ABOVEGROUND"
          ],
          [
           "2/12/2012 5:31 AM",
           "WICHITA",
           "ABOVEGROUND"
          ],
          [
           "2/13/2012 3:15 PM",
           "NEAREST CITY ST. JAMES",
           "UNDERGROUND"
          ],
          [
           "2/14/2012 1:20 PM",
           0,
           "UNDERGROUND"
          ],
          [
           "2/14/2012 4:55 PM",
           "APPLE VALLEY",
           "TANK"
          ],
          [
           "2/15/2012 8:00 AM",
           "CORPUS CHRISTI",
           "ABOVEGROUND"
          ],
          [
           "2/15/2012 8:45 AM",
           "WESTLAKE",
           "TANK"
          ],
          [
           "2/15/2012 9:15 AM",
           0,
           "ABOVEGROUND"
          ],
          [
           "2/15/2012 1:58 PM",
           "CONROE",
           "ABOVEGROUND"
          ],
          [
           "2/15/2012 2:15 PM",
           "STERLING",
           "UNDERGROUND"
          ],
          [
           "2/15/2012 6:45 PM",
           "AVENEL",
           "ABOVEGROUND"
          ],
          [
           "2/16/2012 1:04 AM",
           "WALWORTH",
           "ABOVEGROUND"
          ],
          [
           "2/16/2012 4:45 AM",
           0,
           "UNDERGROUND"
          ],
          [
           "2/17/2012 12:10 PM",
           "BALTIMORE",
           "UNDERGROUND"
          ],
          [
           "2/17/2012 2:45 PM",
           "DYER",
           "UNDERGROUND"
          ],
          [
           "2/18/2012 5:30 AM",
           "BLUM",
           "ABOVEGROUND"
          ],
          [
           "2/19/2012 6:00 PM",
           "NEWPORT",
           "ABOVEGROUND"
          ],
          [
           "2/20/2012 3:19 PM",
           "PINE BEND",
           "ABOVEGROUND"
          ],
          [
           "2/20/2012 4:14 PM",
           "ABERDEEN",
           "UNDERGROUND"
          ],
          [
           "2/21/2012 1:00 PM",
           "SCHERERVILLE",
           "TANK"
          ],
          [
           "2/22/2012 11:30 AM",
           "GLENDIVE",
           "TANK"
          ],
          [
           "2/24/2012 4:10 PM",
           "NONE",
           "ABOVEGROUND"
          ],
          [
           "2/27/2012 6:00 AM",
           "MAYSVILLE",
           "ABOVEGROUND"
          ],
          [
           "2/28/2012 6:00 AM",
           "CORPUS CHRISTI",
           "TANK"
          ],
          [
           "2/29/2012 2:00 PM",
           "HERMLIEGH",
           "ABOVEGROUND"
          ],
          [
           "3/2/2012 8:45 AM",
           "PORT ARTHUR TEXAS",
           "UNDERGROUND"
          ],
          [
           "3/2/2012 10:00 AM",
           "HULL",
           "UNDERGROUND"
          ],
          [
           "3/2/2012 6:29 PM",
           "ANDREWS",
           "TANK"
          ],
          [
           "3/3/2012 2:04 AM",
           "NEW LENOX",
           "ABOVEGROUND"
          ],
          [
           "3/4/2012 6:00 AM",
           "EMPIRE ",
           "TANK"
          ],
          [
           "3/5/2012 7:10 AM",
           "RINGGOLD",
           "ABOVEGROUND"
          ],
          [
           "3/6/2012 1:00 PM",
           "STOWELL",
           "UNDERGROUND"
          ],
          [
           "3/6/2012 5:08 PM",
           "MIDLAND",
           "ABOVEGROUND"
          ],
          [
           "3/8/2012 8:45 AM",
           0,
           "ABOVEGROUND"
          ],
          [
           "3/9/2012 9:58 AM",
           0,
           "ABOVEGROUND"
          ],
          [
           "3/9/2012 10:00 AM",
           "TULSA",
           "ABOVEGROUND"
          ],
          [
           "3/12/2012 3:33 PM",
           "HUNTINGTON",
           "ABOVEGROUND"
          ],
          [
           "3/14/2012 12:25 PM",
           "GALENA PARK",
           "ABOVEGROUND"
          ],
          [
           "3/14/2012 4:00 PM",
           "CARTERET",
           "ABOVEGROUND"
          ],
          [
           "3/15/2012 12:30 AM",
           "PERTH AMBOY",
           "ABOVEGROUND"
          ],
          [
           "3/15/2012 8:55 AM",
           "ERWINVILLE",
           "ABOVEGROUND"
          ],
          [
           "3/16/2012 10:27 AM",
           "BELFY, MONTANA  ",
           "UNDERGROUND"
          ],
          [
           "3/17/2012 7:30 AM",
           "PASADENA",
           "ABOVEGROUND"
          ],
          [
           "3/17/2012 10:30 AM",
           "GRAND ISLE",
           "UNDERGROUND"
          ],
          [
           "3/20/2012 11:36 AM",
           "PORT ARTHUR",
           "TANK"
          ],
          [
           "3/20/2012 12:30 PM",
           "DENVER CITY ",
           "ABOVEGROUND"
          ],
          [
           "3/20/2012 1:30 PM",
           "CASS LAKE",
           "UNDERGROUND"
          ],
          [
           "3/21/2012 10:45 AM",
           "HARTFORD",
           "ABOVEGROUND"
          ],
          [
           "3/21/2012 4:40 PM",
           "ALEXANDRIA",
           "ABOVEGROUND"
          ],
          [
           "3/21/2012 6:00 PM",
           "WAYNE TOWNSHIP",
           "UNDERGROUND"
          ],
          [
           "3/22/2012 10:45 AM",
           "CLEARBROOK",
           "UNDERGROUND"
          ],
          [
           "3/22/2012 4:28 PM",
           "EL DORADO",
           "UNDERGROUND"
          ],
          [
           "3/23/2012 9:30 AM",
           "WORTHAM",
           "ABOVEGROUND"
          ],
          [
           "3/25/2012 11:30 AM",
           "HARTFORD",
           "ABOVEGROUND"
          ],
          [
           "3/26/2012 9:00 AM",
           "PATOKA",
           "TANK"
          ],
          [
           "3/27/2012 9:18 AM",
           "KIMBALL",
           "UNDERGROUND"
          ],
          [
           "3/27/2012 8:28 PM",
           "GARRISON",
           "UNDERGROUND"
          ],
          [
           "3/30/2012 7:30 AM",
           "HOLLIDAY",
           "TANK"
          ],
          [
           "3/31/2012 3:13 AM",
           "MOUNT VERNON",
           "ABOVEGROUND"
          ],
          [
           "4/1/2012 12:09 AM",
           "MOUNT VERNON",
           "ABOVEGROUND"
          ],
          [
           "4/2/2012 8:00 AM",
           "HEARNE",
           "ABOVEGROUND"
          ],
          [
           "4/3/2012 7:40 AM",
           "DENVER CITY",
           "ABOVEGROUND"
          ],
          [
           "4/4/2012 6:22 AM",
           "LOCKPORT",
           "ABOVEGROUND"
          ],
          [
           "4/4/2012 9:00 AM",
           "BEAUMONT",
           "UNDERGROUND"
          ],
          [
           "4/4/2012 1:00 PM",
           "MIDLAND",
           "UNDERGROUND"
          ],
          [
           "4/5/2012 2:18 PM",
           "LIMA",
           "TANK"
          ],
          [
           "4/6/2012 6:31 AM",
           "DENVER CITY",
           "ABOVEGROUND"
          ],
          [
           "4/6/2012 8:53 AM",
           "SHELBINA",
           "ABOVEGROUND"
          ],
          [
           "4/6/2012 1:35 PM",
           "PASADENA",
           "ABOVEGROUND"
          ],
          [
           "4/7/2012 4:23 AM",
           "CLEARBROOK",
           "ABOVEGROUND"
          ],
          [
           "4/8/2012 11:00 AM",
           "SOUR LAKE",
           "ABOVEGROUND"
          ],
          [
           "4/8/2012 10:04 PM",
           "CUSHING",
           "UNDERGROUND"
          ],
          [
           "4/9/2012 2:45 PM",
           "CARSON",
           "ABOVEGROUND"
          ],
          [
           "4/9/2012 7:15 PM",
           "MINCO",
           "ABOVEGROUND"
          ],
          [
           "4/10/2012 7:00 AM",
           "LOUIN",
           "ABOVEGROUND"
          ],
          [
           "4/10/2012 5:17 PM",
           "ST. JAMES",
           "UNDERGROUND"
          ],
          [
           "4/10/2012 7:05 PM",
           "BATON ROUGE",
           "ABOVEGROUND"
          ],
          [
           "4/11/2012 11:30 AM",
           "NEW BRIGHTON",
           "ABOVEGROUND"
          ],
          [
           "4/11/2012 1:25 PM",
           "STRAWN",
           "UNDERGROUND"
          ],
          [
           "4/12/2012 7:10 AM",
           0,
           "TANK"
          ],
          [
           "4/16/2012 8:00 AM",
           "CUSHING",
           "UNDERGROUND"
          ],
          [
           "4/16/2012 8:45 AM",
           "EL DORADO",
           "ABOVEGROUND"
          ],
          [
           "4/16/2012 10:00 AM",
           "CORPUS CHRISTI",
           "ABOVEGROUND"
          ],
          [
           "4/16/2012 6:00 PM",
           "CLUTE, TX",
           "UNDERGROUND"
          ],
          [
           "4/16/2012 8:15 PM",
           0,
           "TANK"
          ],
          [
           "4/19/2012 12:28 PM",
           "MARCIOPA",
           "UNDERGROUND"
          ],
          [
           "4/19/2012 2:45 PM",
           "PORT ARTHUR TEXAS",
           "UNDERGROUND"
          ],
          [
           "4/19/2012 4:37 PM",
           "SANTA MARIA",
           "UNDERGROUND"
          ],
          [
           "4/19/2012 5:00 PM",
           0,
           "ABOVEGROUND"
          ],
          [
           "4/20/2012 2:00 PM",
           "EAST CHICAGO",
           "ABOVEGROUND"
          ],
          [
           "4/23/2012 4:00 AM",
           "HEBRON",
           "ABOVEGROUND"
          ],
          [
           "4/23/2012 9:40 AM",
           "WEST COLUMBIA",
           "ABOVEGROUND"
          ],
          [
           "4/23/2012 3:10 PM",
           "LINDEN",
           "ABOVEGROUND"
          ],
          [
           "4/25/2012 6:30 AM",
           "ADDINGTON",
           "ABOVEGROUND"
          ],
          [
           "4/28/2012 10:40 PM",
           "TORBERT",
           "UNDERGROUND"
          ],
          [
           "4/29/2012 6:00 PM",
           "CASHION",
           "ABOVEGROUND"
          ],
          [
           "4/30/2012 7:00 AM",
           "ALVIN",
           "ABOVEGROUND"
          ],
          [
           "5/1/2012 6:15 PM",
           "GODLEY",
           "ABOVEGROUND"
          ],
          [
           "5/3/2012 10:20 AM",
           "EIGHT MILE",
           "TANK"
          ],
          [
           "5/6/2012 7:09 PM",
           "ROSE HILL",
           "ABOVEGROUND"
          ],
          [
           "5/8/2012 7:04 AM",
           "GERALD",
           "ABOVEGROUND"
          ],
          [
           "5/8/2012 8:40 AM",
           "NORCO",
           "ABOVEGROUND"
          ],
          [
           "5/10/2012 10:30 AM",
           "CHILDRESS",
           "UNDERGROUND"
          ],
          [
           "5/12/2012 11:15 AM",
           "CARTERET",
           "ABOVEGROUND"
          ],
          [
           "5/14/2012 5:48 AM",
           "BIG SPRING",
           "ABOVEGROUND"
          ],
          [
           "5/14/2012 7:00 AM",
           "CUSHING",
           "TANK"
          ],
          [
           "5/15/2012 3:21 AM",
           "FRYBURG",
           "ABOVEGROUND"
          ],
          [
           "5/15/2012 10:57 AM",
           "JACKSONVILLE",
           "ABOVEGROUND"
          ],
          [
           "5/17/2012 4:00 AM",
           "JONES CREEK",
           "ABOVEGROUND"
          ],
          [
           "5/17/2012 9:30 AM",
           "KAHOKA",
           "UNDERGROUND"
          ],
          [
           "5/17/2012 10:30 AM",
           "GLENPOOL",
           "ABOVEGROUND"
          ],
          [
           "5/18/2012 6:40 AM",
           "BYRON",
           "ABOVEGROUND"
          ],
          [
           "5/18/2012 4:12 PM",
           "MANHATTAN",
           "UNDERGROUND"
          ],
          [
           "5/18/2012 8:00 PM",
           "CORSICANA",
           "UNDERGROUND"
          ],
          [
           "5/19/2012 4:00 AM",
           "PASADENA",
           "ABOVEGROUND"
          ],
          [
           "5/19/2012 5:44 AM",
           "CARTERET",
           "ABOVEGROUND"
          ],
          [
           "5/19/2012 1:14 PM",
           "KERMIT",
           "ABOVEGROUND"
          ],
          [
           "5/19/2012 2:14 PM",
           "AMBOY",
           "UNDERGROUND"
          ],
          [
           "5/22/2012 7:43 AM",
           "11.5 MILES NORTH OF MCKITTRICK, CA ON HWY 33",
           "ABOVEGROUND"
          ],
          [
           "5/22/2012 1:00 PM",
           "ATHENS",
           "TANK"
          ],
          [
           "5/22/2012 1:30 PM",
           "CRANE",
           "ABOVEGROUND"
          ],
          [
           "5/23/2012 7:30 AM",
           "EDMOND",
           "UNDERGROUND"
          ],
          [
           "5/24/2012 11:15 AM",
           "SUPERIOR",
           "TANK"
          ],
          [
           "5/27/2012 3:27 PM",
           "CUSHING",
           "ABOVEGROUND"
          ],
          [
           "5/30/2012 4:00 AM",
           "HOLLIDAY",
           "TANK"
          ],
          [
           "6/1/2012 1:44 AM",
           "MIDLAND",
           "ABOVEGROUND"
          ],
          [
           "6/2/2012 8:10 AM",
           "HOUSTON",
           "ABOVEGROUND"
          ],
          [
           "6/4/2012 7:40 AM",
           "EL DORADO",
           "ABOVEGROUND"
          ],
          [
           "6/5/2012 10:30 AM",
           "MANTUA",
           "TANK"
          ],
          [
           "6/6/2012 12:31 AM",
           "BAKER",
           "ABOVEGROUND"
          ],
          [
           "6/6/2012 6:05 AM",
           "COMMERCE",
           "UNDERGROUND"
          ],
          [
           "6/6/2012 2:45 PM",
           "WINK",
           "UNDERGROUND"
          ],
          [
           "6/8/2012 7:42 AM",
           "ST. JAMES",
           "TANK"
          ],
          [
           "6/8/2012 9:05 AM",
           "MORAN",
           "UNDERGROUND"
          ],
          [
           "6/9/2012 11:45 AM",
           "HANKAMER",
           "ABOVEGROUND"
          ],
          [
           "6/11/2012 8:00 AM",
           "JONES CREEK, TX",
           "ABOVEGROUND"
          ],
          [
           "6/11/2012 7:47 PM",
           "MAYERSVILLE",
           "ABOVEGROUND"
          ],
          [
           "6/12/2012 12:20 PM",
           "BROWNFIELD",
           "UNDERGROUND"
          ],
          [
           "6/12/2012 2:00 PM",
           "WEST COLUMBIA",
           "UNDERGROUND"
          ],
          [
           "6/13/2012 7:00 AM",
           "JONES CREEK, TX",
           "TANK"
          ],
          [
           "6/13/2012 1:00 PM",
           "WILSON",
           "UNDERGROUND"
          ],
          [
           "6/15/2012 3:50 PM",
           "EL DORADO",
           "UNDERGROUND"
          ],
          [
           "6/17/2012 5:52 AM",
           "EMMAUS",
           "TANK"
          ],
          [
           "6/19/2012 2:50 PM",
           "BEAUMONT",
           "TANK"
          ],
          [
           "6/20/2012 10:27 AM",
           "LA GRANGE",
           "ABOVEGROUND"
          ],
          [
           "6/20/2012 11:07 AM",
           "LONGVIEW",
           "ABOVEGROUND"
          ],
          [
           "6/21/2012 10:00 AM",
           "ANDOVER",
           "UNDERGROUND"
          ],
          [
           "6/22/2012 1:15 PM",
           "BURLINGTON",
           "ABOVEGROUND"
          ],
          [
           "6/23/2012 8:30 AM",
           "CLEVELAND",
           "UNDERGROUND"
          ],
          [
           "6/25/2012 7:30 AM",
           "LEBANON",
           "ABOVEGROUND"
          ],
          [
           "6/25/2012 4:04 PM",
           "REECE",
           "ABOVEGROUND"
          ],
          [
           "6/27/2012 1:30 PM",
           "THROCKMORTON (RURAL)",
           "UNDERGROUND"
          ],
          [
           "7/2/2012 2:15 PM",
           "HOUSTON",
           "UNDERGROUND"
          ],
          [
           "7/2/2012 6:05 PM",
           "ROOSEVELT",
           "UNDERGROUND"
          ],
          [
           "7/3/2012 10:30 PM",
           "MARTINEZ",
           "ABOVEGROUND"
          ],
          [
           "7/5/2012 4:30 PM",
           0,
           "ABOVEGROUND"
          ],
          [
           "7/6/2012 11:12 AM",
           "LOVINGTON",
           "UNDERGROUND"
          ],
          [
           "7/6/2012 2:15 PM",
           "CORSICANA",
           "ABOVEGROUND"
          ],
          [
           "7/7/2012 8:15 AM",
           "KURTEN",
           "UNDERGROUND"
          ],
          [
           "7/12/2012 11:55 AM",
           "KURTEN",
           "UNDERGROUND"
          ],
          [
           "7/13/2012 11:30 AM",
           "EMMAUS",
           "TANK"
          ],
          [
           "7/15/2012 11:00 AM",
           "HUDSON",
           "UNDERGROUND"
          ],
          [
           "7/16/2012 9:33 AM",
           "LAKE CHARLES",
           "ABOVEGROUND"
          ],
          [
           "7/17/2012 10:40 AM",
           "JACKSON",
           "UNDERGROUND"
          ],
          [
           "7/19/2012 3:00 PM",
           "CLINTON",
           "UNDERGROUND"
          ],
          [
           "7/19/2012 4:50 PM",
           "ST. JAMES",
           "TANK"
          ],
          [
           "7/20/2012 4:00 AM",
           "SEMINOLE",
           "ABOVEGROUND"
          ],
          [
           "7/21/2012 7:03 AM",
           "WAMSUTTER",
           "ABOVEGROUND"
          ],
          [
           "7/21/2012 5:35 PM",
           "PORT ARTHUR",
           "ABOVEGROUND"
          ],
          [
           "7/23/2012 3:30 AM",
           "PASADENA",
           "TANK"
          ],
          [
           "7/23/2012 10:00 AM",
           "STATEN ISLAND",
           "TRANSITION AREA"
          ],
          [
           "7/23/2012 8:00 PM",
           "FREEPORT",
           "UNDERGROUND"
          ],
          [
           "7/24/2012 12:00 AM",
           "CUSHING",
           "UNDERGROUND"
          ],
          [
           "7/24/2012 12:52 PM",
           "MENAHGA",
           "ABOVEGROUND"
          ],
          [
           "7/25/2012 7:00 AM",
           "VALLEY CENTER",
           "ABOVEGROUND"
          ],
          [
           "7/26/2012 2:15 PM",
           "PORT ARTHUR TEXAS",
           "UNDERGROUND"
          ],
          [
           "7/27/2012 6:41 AM",
           "BEAUMONT",
           "ABOVEGROUND"
          ],
          [
           "7/27/2012 2:41 PM",
           "GRAND MARSH",
           "UNDERGROUND"
          ],
          [
           "7/30/2012 7:25 AM",
           "CLIFTON",
           "ABOVEGROUND"
          ],
          [
           "8/1/2012 4:56 AM",
           "COYANOSA",
           "ABOVEGROUND"
          ],
          [
           "8/2/2012 9:20 PM",
           "ORAN",
           "ABOVEGROUND"
          ],
          [
           "8/3/2012 12:00 PM",
           "SOUR LAKE",
           "ABOVEGROUND"
          ],
          [
           "8/5/2012 4:15 AM",
           "CUSHING",
           "ABOVEGROUND"
          ],
          [
           "8/6/2012 10:53 AM",
           "SUPERIOR",
           "ABOVEGROUND"
          ],
          [
           "8/7/2012 1:30 PM",
           "BOLIGEE",
           "ABOVEGROUND"
          ],
          [
           "8/8/2012 3:00 PM",
           "SANTE FE",
           "ABOVEGROUND"
          ],
          [
           "8/9/2012 1:28 PM",
           "INGLESIDE",
           "ABOVEGROUND"
          ],
          [
           "8/15/2012 1:04 PM",
           "ONTARIO",
           "ABOVEGROUND"
          ],
          [
           "8/15/2012 1:33 PM",
           "SOUR LAKE",
           "UNDERGROUND"
          ],
          [
           "8/15/2012 6:15 PM",
           "HOBBS",
           "UNDERGROUND"
          ],
          [
           "8/17/2012 6:30 PM",
           "AUSTELL",
           "UNDERGROUND"
          ],
          [
           "8/18/2012 9:00 PM",
           "KANSAS CITY",
           "ABOVEGROUND"
          ],
          [
           "8/19/2012 7:30 AM",
           "SHARON HILL",
           "UNDERGROUND"
          ],
          [
           "8/19/2012 10:30 PM",
           "ORLANDO",
           "ABOVEGROUND"
          ],
          [
           "8/20/2012 8:30 AM",
           "WHITE OAK",
           "UNDERGROUND"
          ],
          [
           "8/20/2012 3:45 PM",
           "BAYTOWN",
           "UNDERGROUND"
          ],
          [
           "8/22/2012 10:00 AM",
           "WOOD RIVER",
           "TANK"
          ],
          [
           "8/22/2012 7:15 PM",
           "LITHIA",
           "UNDERGROUND"
          ],
          [
           "8/23/2012 10:45 AM",
           "KAYCEE",
           "ABOVEGROUND"
          ],
          [
           "8/23/2012 2:47 PM",
           "EFFINGHAM",
           "UNDERGROUND"
          ],
          [
           "8/23/2012 10:35 PM",
           "PORT ARTHUR",
           "UNDERGROUND"
          ],
          [
           "8/25/2012 12:15 PM",
           "KAYCEE",
           "ABOVEGROUND"
          ],
          [
           "8/27/2012 2:41 AM",
           "PALOS PARK",
           "UNDERGROUND"
          ],
          [
           "8/27/2012 5:15 AM",
           "UTICA",
           "ABOVEGROUND"
          ],
          [
           "8/29/2012 1:48 PM",
           "ATLANTA",
           "UNDERGROUND"
          ],
          [
           "8/30/2012 10:45 AM",
           "BEAUMONT",
           "UNDERGROUND"
          ],
          [
           "8/31/2012 11:33 AM",
           "METTLER",
           "ABOVEGROUND"
          ],
          [
           "8/31/2012 5:00 PM",
           "FOURCHON",
           "ABOVEGROUND"
          ],
          [
           "8/31/2012 5:20 PM",
           "CHEEK",
           "ABOVEGROUND"
          ],
          [
           "9/3/2012 6:52 PM",
           "DETROIT",
           "ABOVEGROUND"
          ],
          [
           "9/5/2012 10:52 AM",
           "MIDLAND",
           "UNDERGROUND"
          ],
          [
           "9/5/2012 9:45 PM",
           "DENHART",
           "UNDERGROUND"
          ],
          [
           "9/6/2012 4:16 AM",
           "AVENEL",
           "ABOVEGROUND"
          ],
          [
           "9/6/2012 5:30 AM",
           "TAFT",
           "TANK"
          ],
          [
           "9/6/2012 12:45 PM",
           "BRETON SOUNDS",
           0
          ],
          [
           "9/9/2012 7:35 AM",
           "POCAHONTAS",
           "UNDERGROUND"
          ],
          [
           "9/10/2012 4:14 PM",
           "PERTH AMBOY",
           "UNDERGROUND"
          ],
          [
           "9/11/2012 3:10 AM",
           "PASADENA",
           "TANK"
          ],
          [
           "9/11/2012 11:50 AM",
           "LINDEN",
           "ABOVEGROUND"
          ],
          [
           "9/11/2012 3:30 PM",
           "JONES CREEK",
           "UNDERGROUND"
          ],
          [
           "9/12/2012 1:50 PM",
           "CONVENT",
           "ABOVEGROUND"
          ],
          [
           "9/13/2012 11:45 AM",
           "HAVILAND",
           "ABOVEGROUND"
          ],
          [
           "9/13/2012 11:50 AM",
           "NAPOLEONVILLE",
           "ABOVEGROUND"
          ],
          [
           "9/13/2012 3:28 PM",
           "FORSAN",
           "UNDERGROUND"
          ],
          [
           "9/16/2012 6:30 PM",
           "TEXAS CITY",
           "UNDERGROUND"
          ],
          [
           "9/18/2012 6:30 AM",
           "MCCAMEY",
           "UNDERGROUND"
          ],
          [
           "9/18/2012 9:00 AM",
           "SOUR LAKE",
           "ABOVEGROUND"
          ],
          [
           "9/18/2012 10:18 AM",
           "OLNEY",
           "UNDERGROUND"
          ],
          [
           "9/19/2012 9:03 AM",
           "HERMLEIGH",
           "ABOVEGROUND"
          ],
          [
           "9/21/2012 8:30 AM",
           "EL SEGUNDO",
           "TANK"
          ],
          [
           "9/21/2012 2:00 PM",
           "HERMLEIGH",
           "UNDERGROUND"
          ],
          [
           "9/23/2012 1:20 AM",
           "HOUSTON",
           "ABOVEGROUND"
          ],
          [
           "9/24/2012 10:50 AM",
           "MCKITTRICK",
           "UNDERGROUND"
          ],
          [
           "9/24/2012 11:30 AM",
           "WINK",
           "UNDERGROUND"
          ],
          [
           "9/25/2012 6:45 PM",
           "CARSON",
           "ABOVEGROUND"
          ],
          [
           "9/26/2012 7:30 AM",
           "HAMMOND",
           "ABOVEGROUND"
          ],
          [
           "9/26/2012 10:00 AM",
           "MARTINSVILLE",
           "UNDERGROUND"
          ],
          [
           "9/26/2012 1:20 PM",
           "TEXAS CITY",
           "ABOVEGROUND"
          ],
          [
           "9/26/2012 10:06 PM",
           "WORTHAM",
           "ABOVEGROUND"
          ],
          [
           "9/27/2012 1:00 PM",
           "MIDLAND",
           "ABOVEGROUND"
          ],
          [
           "9/28/2012 12:10 PM",
           "COMPTON",
           "UNDERGROUND"
          ],
          [
           "9/29/2012 6:45 AM",
           0,
           "TANK"
          ],
          [
           "10/1/2012 9:00 AM",
           "WARREN",
           "ABOVEGROUND"
          ],
          [
           "10/3/2012 2:40 PM",
           "CHATTANOOGA",
           "UNDERGROUND"
          ],
          [
           "10/7/2012 5:36 PM",
           "RACELAND",
           "TANK"
          ],
          [
           "10/8/2012 5:30 PM",
           "CLIFTON",
           "UNDERGROUND"
          ],
          [
           "10/10/2012 5:30 AM",
           "CUSHING",
           "UNDERGROUND"
          ],
          [
           "10/10/2012 1:00 PM",
           "KEENESBURG",
           "ABOVEGROUND"
          ],
          [
           "10/12/2012 8:15 AM",
           "GRANDE ISLE",
           "ABOVEGROUND"
          ],
          [
           "10/13/2012 5:30 PM",
           "CUSHING",
           "ABOVEGROUND"
          ],
          [
           "10/14/2012 11:20 AM",
           "GIBSON CITY",
           "ABOVEGROUND"
          ],
          [
           "10/16/2012 9:35 AM",
           "LONG BEACH",
           "TANK"
          ],
          [
           "10/16/2012 1:14 PM",
           "ST. JAMES",
           "ABOVEGROUND"
          ],
          [
           "10/16/2012 2:58 PM",
           "BARATARIA BAY",
           0
          ],
          [
           "10/17/2012 10:09 AM",
           "HANNA ",
           "ABOVEGROUND"
          ],
          [
           "10/17/2012 5:30 PM",
           "BYRON",
           "ABOVEGROUND"
          ],
          [
           "10/18/2012 12:30 AM",
           "CARSON",
           "TANK"
          ],
          [
           "10/19/2012 1:45 AM",
           "SOUR LAKE, TEXAS",
           "UNDERGROUND"
          ],
          [
           "10/23/2012 11:50 AM",
           "CUSHING ",
           "UNDERGROUND"
          ],
          [
           "10/25/2012 6:00 AM",
           "JACKSBORO",
           "UNDERGROUND"
          ],
          [
           "10/29/2012 2:15 AM",
           "PASADENA",
           "ABOVEGROUND"
          ],
          [
           "10/30/2012 11:57 AM",
           "MADISON",
           "UNDERGROUND"
          ],
          [
           "10/30/2012 2:30 PM",
           "ALEXANDRIA ",
           "TANK"
          ],
          [
           "10/31/2012 10:00 AM",
           "ORLAND PARK",
           "UNDERGROUND"
          ],
          [
           "10/31/2012 4:25 PM",
           "PETTUS",
           "UNDERGROUND"
          ],
          [
           "11/2/2012 5:30 AM",
           "WHEATLAND",
           "ABOVEGROUND"
          ],
          [
           "11/2/2012 7:50 AM",
           "CROWVILLE",
           "UNDERGROUND"
          ],
          [
           "11/2/2012 8:00 AM",
           "CUSHING",
           "ABOVEGROUND"
          ],
          [
           "11/2/2012 1:33 PM",
           "BAKER",
           "ABOVEGROUND"
          ],
          [
           "11/3/2012 8:45 AM",
           0,
           0
          ],
          [
           "11/3/2012 10:00 AM",
           "LINDEN",
           "TANK"
          ],
          [
           "11/5/2012 10:12 AM",
           "DICKSON",
           "UNDERGROUND"
          ],
          [
           "11/5/2012 10:37 PM",
           "AFTON",
           "ABOVEGROUND"
          ],
          [
           "11/7/2012 10:40 AM",
           "GARDENA",
           "UNDERGROUND"
          ],
          [
           "11/7/2012 5:00 PM",
           "CORALVILLE",
           "ABOVEGROUND"
          ],
          [
           "11/8/2012 3:50 PM",
           "FAIRCHILD",
           "ABOVEGROUND"
          ],
          [
           "11/9/2012 12:48 AM",
           "SAN ANTONIO",
           "ABOVEGROUND"
          ],
          [
           "11/11/2012 12:45 PM",
           "JAL",
           "UNDERGROUND"
          ],
          [
           "11/12/2012 3:00 PM",
           "SARATOGA",
           "ABOVEGROUND"
          ],
          [
           "11/13/2012 8:35 AM",
           "MINOT",
           "UNDERGROUND"
          ],
          [
           "11/13/2012 2:30 PM",
           "GLENDIVE",
           "ABOVEGROUND"
          ],
          [
           "11/13/2012 3:34 PM",
           "IOWA",
           "ABOVEGROUND"
          ],
          [
           "11/13/2012 5:30 PM",
           "FROST",
           "ABOVEGROUND"
          ],
          [
           "11/15/2012 8:00 AM",
           "WHITESBORO",
           "ABOVEGROUND"
          ],
          [
           "11/15/2012 12:47 PM",
           "PORT ARTHUR",
           "ABOVEGROUND"
          ],
          [
           "11/20/2012 9:30 AM",
           "LYSITE",
           "UNDERGROUND"
          ],
          [
           "11/20/2012 2:33 PM",
           "MOKENA",
           "UNDERGROUND"
          ],
          [
           "11/20/2012 10:30 PM",
           "HEALDTON",
           "UNDERGROUND"
          ],
          [
           "11/21/2012 5:00 AM",
           "MIDLAND",
           "ABOVEGROUND"
          ],
          [
           "11/21/2012 1:30 PM",
           "FAIRMONT",
           "UNDERGROUND"
          ],
          [
           "11/22/2012 9:25 AM",
           "CORALVILLE",
           "TANK"
          ],
          [
           "11/23/2012 10:30 AM",
           "GUERNSEY",
           "UNDERGROUND"
          ],
          [
           "11/24/2012 7:08 AM",
           "HUNTSVILLE",
           "ABOVEGROUND"
          ],
          [
           "11/24/2012 8:50 AM",
           "METTLER",
           "ABOVEGROUND"
          ],
          [
           "11/25/2012 2:05 AM",
           "EAST ST. LOUIS",
           "ABOVEGROUND"
          ],
          [
           "11/25/2012 1:02 PM",
           "KANSAS CITY",
           "ABOVEGROUND"
          ],
          [
           "11/26/2012 10:00 AM",
           "CUSHING",
           "TANK"
          ],
          [
           "11/26/2012 12:32 PM",
           "PORT ARTHUR",
           "UNDERGROUND"
          ],
          [
           "11/28/2012 9:30 PM",
           "PASADENA",
           "UNDERGROUND"
          ],
          [
           "12/1/2012 10:35 AM",
           "RUNGE",
           "ABOVEGROUND"
          ],
          [
           "12/1/2012 11:19 AM",
           "CLINTON",
           "ABOVEGROUND"
          ],
          [
           "12/1/2012 8:44 PM",
           "FORSAN",
           "ABOVEGROUND"
          ],
          [
           "12/3/2012 7:47 AM",
           "LINDEN",
           "ABOVEGROUND"
          ],
          [
           "12/5/2012 5:00 PM",
           "IOWA",
           "ABOVEGROUND"
          ],
          [
           "12/10/2012 11:00 AM",
           "HILLSBOROUGH",
           "UNDERGROUND"
          ],
          [
           "12/10/2012 2:45 PM",
           "MCPHERSON ",
           "ABOVEGROUND"
          ],
          [
           "12/10/2012 4:20 PM",
           "FULSHEAR",
           "UNDERGROUND"
          ],
          [
           "12/11/2012 1:30 PM",
           "BEAUMONT",
           "ABOVEGROUND"
          ],
          [
           "12/14/2012 8:30 AM",
           "WYNONA",
           "ABOVEGROUND"
          ],
          [
           "12/14/2012 4:00 PM",
           "COLUMBIA",
           "UNDERGROUND"
          ],
          [
           "12/16/2012 9:00 AM",
           "ASTON",
           "ABOVEGROUND"
          ],
          [
           "12/17/2012 8:17 AM",
           "GREENWOOD",
           "UNDERGROUND"
          ],
          [
           "12/17/2012 11:00 AM",
           "CHAUTAUQUA",
           "UNDERGROUND"
          ],
          [
           "12/18/2012 1:00 PM",
           "BEAUMONT",
           "UNDERGROUND"
          ],
          [
           "12/19/2012 1:23 AM",
           "BELLS",
           "UNDERGROUND"
          ],
          [
           "12/19/2012 1:00 PM",
           "RINGGOLD",
           "UNDERGROUND"
          ],
          [
           "12/19/2012 1:30 PM",
           "PORT ALLEN",
           "ABOVEGROUND"
          ],
          [
           "12/20/2012 9:05 AM",
           "CATLETTSBURG",
           "ABOVEGROUND"
          ],
          [
           "12/21/2012 6:50 AM",
           "TIOGA",
           "ABOVEGROUND"
          ],
          [
           "12/21/2012 11:00 AM",
           "WAYNE",
           "ABOVEGROUND"
          ],
          [
           "12/21/2012 4:20 PM",
           "LAPORTE",
           "TANK"
          ],
          [
           "12/21/2012 9:00 PM",
           "FOREST CITY",
           "ABOVEGROUND"
          ],
          [
           "12/22/2012 3:09 PM",
           "ROLLING FORK",
           "ABOVEGROUND"
          ],
          [
           "12/23/2012 2:06 PM",
           "MAYERSVILLE",
           "ABOVEGROUND"
          ],
          [
           "12/24/2012 7:17 AM",
           "BYRON",
           "ABOVEGROUND"
          ],
          [
           "12/24/2012 5:00 PM",
           "ORANGE",
           "ABOVEGROUND"
          ],
          [
           "12/27/2012 2:57 AM",
           "LOVINGTON",
           "ABOVEGROUND"
          ],
          [
           "12/27/2012 1:27 PM",
           "MIDLOTHIAN",
           "ABOVEGROUND"
          ],
          [
           "12/29/2012 9:02 PM",
           "WOODHAVEN",
           "ABOVEGROUND"
          ],
          [
           "12/31/2012 9:10 AM",
           "ELKHART",
           "ABOVEGROUND"
          ],
          [
           "12/31/2012 3:30 PM",
           "BATON ROUGE",
           "ABOVEGROUND"
          ],
          [
           "1/1/2013 6:28 AM",
           "GREENSBORO",
           "UNDERGROUND"
          ],
          [
           "1/2/2013 8:45 AM",
           "HUGO",
           "ABOVEGROUND"
          ],
          [
           "1/2/2013 9:30 AM",
           "BREMEN",
           "UNDERGROUND"
          ],
          [
           "1/2/2013 11:44 AM",
           "PADACUH",
           "UNDERGROUND"
          ],
          [
           "1/4/2013 11:05 PM",
           "SINKING SPRING",
           "UNDERGROUND"
          ],
          [
           "1/7/2013 6:30 AM",
           "COFFEYVILLE",
           "ABOVEGROUND"
          ],
          [
           "1/7/2013 1:30 PM",
           "CUSHING",
           "ABOVEGROUND"
          ],
          [
           "1/7/2013 6:00 PM",
           "COLMESNEIL",
           "ABOVEGROUND"
          ],
          [
           "1/8/2013 9:57 AM",
           "WEST SACRAMENTO",
           "ABOVEGROUND"
          ],
          [
           "1/8/2013 4:30 PM",
           "ALPINE",
           "ABOVEGROUND"
          ],
          [
           "1/8/2013 10:00 PM",
           "CUSHING",
           "TANK"
          ],
          [
           "1/10/2013 6:22 AM",
           "INDIANOLA",
           "UNDERGROUND"
          ],
          [
           "1/10/2013 8:30 PM",
           "DUBACH",
           "UNDERGROUND"
          ],
          [
           "1/11/2013 12:05 AM",
           "TEAGUE",
           "ABOVEGROUND"
          ],
          [
           "1/11/2013 8:00 AM",
           "ORANGE",
           "ABOVEGROUND"
          ],
          [
           "1/11/2013 7:58 PM",
           "BRYANT",
           "ABOVEGROUND"
          ],
          [
           "1/13/2013 8:29 PM",
           "CUSHING",
           "ABOVEGROUND"
          ],
          [
           "1/14/2013 3:30 PM",
           "TAFT",
           "ABOVEGROUND"
          ],
          [
           "1/15/2013 8:00 PM",
           "MAYERSVILLE",
           "ABOVEGROUND"
          ],
          [
           "1/17/2013 9:15 AM",
           "HOUSTON",
           "ABOVEGROUND"
          ],
          [
           "1/17/2013 1:45 PM",
           0,
           "ABOVEGROUND"
          ],
          [
           "1/17/2013 2:00 PM",
           "OGALLAH",
           "ABOVEGROUND"
          ],
          [
           "1/17/2013 4:00 PM",
           "EL DORADO",
           "UNDERGROUND"
          ],
          [
           "1/18/2013 4:30 AM",
           "BORGER",
           "ABOVEGROUND"
          ],
          [
           "1/21/2013 2:20 AM",
           "LOUISVILLE",
           "ABOVEGROUND"
          ],
          [
           "1/21/2013 2:15 PM",
           "FRISCO CITY",
           "ABOVEGROUND"
          ],
          [
           "1/21/2013 2:40 PM",
           "HUDSON",
           "ABOVEGROUND"
          ],
          [
           "1/21/2013 9:00 PM",
           "LONGVIEW",
           "ABOVEGROUND"
          ],
          [
           "1/22/2013 11:00 AM",
           "FROMBERG",
           "ABOVEGROUND"
          ],
          [
           "1/22/2013 11:00 AM",
           "ALEXANDLRIA",
           "TANK"
          ],
          [
           "1/23/2013 10:00 AM",
           "ADDINGTON",
           "UNDERGROUND"
          ],
          [
           "1/24/2013 11:00 AM",
           "NEW JOHNSONVILLE",
           "UNDERGROUND"
          ],
          [
           "1/24/2013 12:00 PM",
           "TOPEKA",
           "UNDERGROUND"
          ],
          [
           "1/24/2013 4:45 PM",
           "RANGER",
           "UNDERGROUND"
          ],
          [
           "1/24/2013 8:29 PM",
           "RYAN",
           "ABOVEGROUND"
          ],
          [
           "1/26/2013 12:00 PM",
           "LEEDS",
           "UNDERGROUND"
          ],
          [
           "1/27/2013 2:00 PM",
           "PASADENA",
           "UNDERGROUND"
          ],
          [
           "1/28/2013 12:42 PM",
           "BOISE",
           "TANK"
          ],
          [
           "1/29/2013 7:50 AM",
           "BEAUMONT",
           "UNDERGROUND"
          ],
          [
           "1/29/2013 10:30 AM",
           "CARTERET",
           "ABOVEGROUND"
          ],
          [
           "1/29/2013 1:50 PM",
           "HAVILAND",
           "ABOVEGROUND"
          ],
          [
           "1/29/2013 2:00 PM",
           0,
           "ABOVEGROUND"
          ],
          [
           "1/30/2013 12:05 AM",
           "BRITTON",
           "ABOVEGROUND"
          ],
          [
           "1/30/2013 9:15 AM",
           "SNYDER",
           "ABOVEGROUND"
          ],
          [
           "1/31/2013 6:30 AM",
           "NEWINGTON",
           "ABOVEGROUND"
          ],
          [
           "1/31/2013 7:15 AM",
           "LUVERNE",
           "ABOVEGROUND"
          ],
          [
           "1/31/2013 10:00 AM",
           "DIETERICH",
           "UNDERGROUND"
          ],
          [
           "2/3/2013 5:15 PM",
           "BRECKENRIDGE",
           "UNDERGROUND"
          ],
          [
           "2/4/2013 4:50 AM",
           "PASADENA",
           "UNDERGROUND"
          ],
          [
           "2/4/2013 2:30 PM",
           "PASADENA",
           "TANK"
          ],
          [
           "2/5/2013 10:20 AM",
           "GOLDSMITH",
           "UNDERGROUND"
          ],
          [
           "2/5/2013 1:30 PM",
           "BEAUMONT",
           "ABOVEGROUND"
          ],
          [
           "2/5/2013 3:00 PM",
           "BAY SPRINGS",
           "UNDERGROUND"
          ],
          [
           "2/5/2013 5:50 PM",
           "BAYTOWN",
           "UNDERGROUND"
          ],
          [
           "2/6/2013 12:00 PM",
           "RANGER",
           "UNDERGROUND"
          ],
          [
           "2/7/2013 2:15 PM",
           "CHESTER",
           "UNDERGROUND"
          ],
          [
           "2/7/2013 3:32 PM",
           "WAMSUTTER",
           "ABOVEGROUND"
          ],
          [
           "2/8/2013 11:05 AM",
           "CHESTER",
           "UNDERGROUND"
          ],
          [
           "2/8/2013 11:30 PM",
           "CARTERET",
           "ABOVEGROUND"
          ],
          [
           "2/9/2013 1:00 PM",
           "BRECKENRIDGE",
           "UNDERGROUND"
          ],
          [
           "2/11/2013 10:39 AM",
           "COLBERT",
           "ABOVEGROUND"
          ],
          [
           "2/12/2013 11:30 AM",
           "CHESTER",
           "UNDERGROUND"
          ],
          [
           "2/12/2013 4:15 PM",
           "SAUK CENTRE",
           "ABOVEGROUND"
          ],
          [
           "2/13/2013 8:10 AM",
           "MT. VERNON",
           "UNDERGROUND"
          ],
          [
           "2/13/2013 1:00 PM",
           "LAPORTE",
           "ABOVEGROUND"
          ],
          [
           "2/13/2013 2:00 PM",
           "LAPORTE",
           "ABOVEGROUND"
          ],
          [
           "2/14/2013 10:46 AM",
           "SOUR LAKE",
           "UNDERGROUND"
          ],
          [
           "2/14/2013 11:40 AM",
           "RIVERESIDE",
           "ABOVEGROUND"
          ],
          [
           "2/14/2013 6:32 PM",
           "BENTON",
           "UNDERGROUND"
          ],
          [
           "2/15/2013 3:00 PM",
           "TEXAS CITY",
           "ABOVEGROUND"
          ],
          [
           "2/16/2013 10:00 PM",
           0,
           "ABOVEGROUND"
          ],
          [
           "2/18/2013 8:00 AM",
           "PORT ARTHUR ",
           "UNDERGROUND"
          ],
          [
           "2/18/2013 12:08 PM",
           "GRAND ISLE",
           "ABOVEGROUND"
          ],
          [
           "2/18/2013 7:30 PM",
           "AUSTELL",
           "UNDERGROUND"
          ],
          [
           "2/19/2013 11:40 AM",
           "CARTERET",
           "TANK"
          ],
          [
           "2/19/2013 4:45 PM",
           "PORT ARTHUR",
           "TANK"
          ],
          [
           "2/19/2013 5:00 PM",
           "PANHANDLE",
           "ABOVEGROUND"
          ],
          [
           "2/19/2013 5:20 PM",
           0,
           "UNDERGROUND"
          ],
          [
           "2/21/2013 10:00 AM",
           "NEW ORLEANS",
           "UNDERGROUND"
          ],
          [
           "2/21/2013 2:50 PM",
           "ALVIN",
           "ABOVEGROUND"
          ],
          [
           "2/21/2013 6:35 PM",
           "REDKEY",
           "UNDERGROUND"
          ],
          [
           "2/22/2013 10:30 AM",
           "CUSHING",
           "UNDERGROUND"
          ],
          [
           "2/22/2013 11:30 AM",
           "GRIFFITH",
           "ABOVEGROUND"
          ],
          [
           "2/22/2013 1:00 PM",
           "VERMILION",
           "UNDERGROUND"
          ],
          [
           "2/23/2013 8:30 PM",
           "CHESTER",
           "UNDERGROUND"
          ],
          [
           "2/25/2013 8:39 AM",
           "BEAUMONT",
           "ABOVEGROUND"
          ],
          [
           "2/26/2013 2:02 PM",
           "CUSHING",
           "UNDERGROUND"
          ],
          [
           "2/27/2013 7:45 AM",
           "LONG BEACH",
           "UNDERGROUND"
          ],
          [
           "2/28/2013 1:00 PM",
           "CIMMARON",
           "ABOVEGROUND"
          ],
          [
           "2/28/2013 3:50 PM",
           "NEAR CHASE, KS",
           "ABOVEGROUND"
          ],
          [
           "3/1/2013 9:00 AM",
           "BAYTOWN",
           "ABOVEGROUND"
          ],
          [
           "3/4/2013 7:30 AM",
           "TULSA",
           "ABOVEGROUND"
          ],
          [
           "3/5/2013 5:00 AM",
           "STANTON",
           "ABOVEGROUND"
          ],
          [
           "3/5/2013 3:30 PM",
           "GURLEY",
           "ABOVEGROUND"
          ],
          [
           "3/6/2013 10:16 AM",
           "PASADENA",
           "TANK"
          ],
          [
           "3/7/2013 9:39 AM",
           "HAYES",
           "UNDERGROUND"
          ],
          [
           "3/7/2013 3:00 PM",
           "MERIDIAN",
           "UNDERGROUND"
          ],
          [
           "3/7/2013 7:00 PM",
           "EL DORADO",
           "ABOVEGROUND"
          ],
          [
           "3/8/2013 9:38 AM",
           "WEBSTER",
           "ABOVEGROUND"
          ],
          [
           "3/9/2013 9:00 AM",
           "MAGNOLIA",
           "UNDERGROUND"
          ],
          [
           "3/11/2013 1:10 PM",
           "MIDLOTHIAN",
           "UNDERGROUND"
          ],
          [
           "3/11/2013 3:00 PM",
           "DEVERS",
           "ABOVEGROUND"
          ],
          [
           "3/12/2013 5:46 PM",
           "N/A - ACCIDENT OCCURED IN REMOTE MARSH AREA.",
           "UNDERGROUND"
          ],
          [
           "3/18/2013 5:05 AM",
           "CLEAR LAKE",
           "ABOVEGROUND"
          ],
          [
           "3/18/2013 8:10 AM",
           "MIDLAND",
           "UNDERGROUND"
          ],
          [
           "3/18/2013 3:26 PM",
           "WILLARD",
           "UNDERGROUND"
          ],
          [
           "3/20/2013 6:30 AM",
           "CORSICANA",
           "ABOVEGROUND"
          ],
          [
           "3/20/2013 4:00 PM",
           "PORT ARTHUR TEXAS",
           "UNDERGROUND"
          ],
          [
           "3/23/2013 10:00 AM",
           "EAST CHICAGO",
           "TANK"
          ],
          [
           "3/26/2013 7:10 AM",
           "CLARKSON",
           "ABOVEGROUND"
          ],
          [
           "3/27/2013 9:15 AM",
           "KENEDY",
           "ABOVEGROUND"
          ],
          [
           "3/29/2013 10:04 AM",
           "PASADENA",
           "UNDERGROUND"
          ],
          [
           "3/29/2013 2:37 PM",
           "MAYFLOWER",
           "UNDERGROUND"
          ],
          [
           "3/29/2013 3:30 PM",
           "LIBERTY",
           "ABOVEGROUND"
          ],
          [
           "3/31/2013 11:16 AM",
           "JONESVILLE",
           "ABOVEGROUND"
          ],
          [
           "3/31/2013 8:00 PM",
           "CLEARBROOK",
           "UNDERGROUND"
          ],
          [
           "4/1/2013 7:50 AM",
           "TAFT",
           "UNDERGROUND"
          ],
          [
           "4/1/2013 9:32 AM",
           "MARTINSVILLE",
           "ABOVEGROUND"
          ],
          [
           "4/1/2013 5:25 PM",
           "TEMPERANCE",
           "UNDERGROUND"
          ],
          [
           "4/2/2013 10:03 AM",
           "COFFEYVILLE",
           "ABOVEGROUND"
          ],
          [
           "4/2/2013 1:40 PM",
           "JACKSON",
           "TANK"
          ],
          [
           "4/3/2013 7:00 AM",
           "HOUSTON",
           "UNDERGROUND"
          ],
          [
           "4/3/2013 10:00 AM",
           "MCCAMEY",
           "UNDERGROUND"
          ],
          [
           "4/3/2013 2:30 PM",
           "TERRELL",
           "ABOVEGROUND"
          ],
          [
           "4/3/2013 6:00 PM",
           "CORSICANA",
           "ABOVEGROUND"
          ],
          [
           "4/3/2013 10:00 PM",
           "TEMPERANCE",
           "UNDERGROUND"
          ],
          [
           "4/4/2013 10:00 AM",
           "MIDLAND",
           "ABOVEGROUND"
          ],
          [
           "4/4/2013 2:45 PM",
           "799 SOUTH SEASIDE AVENUE, TERMINAL ISLAND",
           "UNDERGROUND"
          ],
          [
           "4/4/2013 6:41 PM",
           "GEISMAR",
           "ABOVEGROUND"
          ],
          [
           "4/5/2013 1:10 PM",
           "WAKEMAN STATION",
           "ABOVEGROUND"
          ],
          [
           "4/5/2013 2:20 PM",
           "PASADENA",
           "TANK"
          ],
          [
           "4/6/2013 8:11 AM",
           "PASADENA",
           "UNDERGROUND"
          ],
          [
           "4/6/2013 2:20 PM",
           "HARRISONVILLE",
           "UNDERGROUND"
          ],
          [
           "4/6/2013 5:00 PM",
           "LOCKHART",
           "UNDERGROUND"
          ],
          [
           "4/7/2013 6:00 PM",
           "DECATUR",
           "UNDERGROUND"
          ],
          [
           "4/7/2013 8:15 PM",
           0,
           "ABOVEGROUND"
          ],
          [
           "4/9/2013 7:20 PM",
           "PELHAM",
           "TANK"
          ],
          [
           "4/12/2013 7:13 AM",
           "CONWAY",
           "ABOVEGROUND"
          ],
          [
           "4/12/2013 10:29 AM",
           "COTULLA",
           "UNDERGROUND"
          ],
          [
           "4/14/2013 2:10 PM",
           "HOUSTON",
           "TANK"
          ],
          [
           "4/15/2013 2:00 PM",
           "SULPHUR",
           "UNDERGROUND"
          ],
          [
           "4/17/2013 1:25 PM",
           "LIMA",
           "TANK"
          ],
          [
           "4/19/2013 11:00 AM",
           0,
           "UNDERGROUND"
          ],
          [
           "4/19/2013 3:30 PM",
           "CUSHING",
           "UNDERGROUND"
          ],
          [
           "4/20/2013 10:20 AM",
           "CARTERET",
           "ABOVEGROUND"
          ],
          [
           "4/22/2013 12:34 AM",
           "HILLSBORO",
           "ABOVEGROUND"
          ],
          [
           "4/22/2013 2:53 PM",
           "PECOS",
           "ABOVEGROUND"
          ],
          [
           "4/23/2013 11:08 AM",
           "GLENPOOL",
           "TANK"
          ],
          [
           "4/23/2013 11:30 AM",
           "CORSICANA",
           "ABOVEGROUND"
          ],
          [
           "4/23/2013 2:00 PM",
           "EMMAUS",
           "TRANSITION AREA"
          ],
          [
           "4/23/2013 3:03 PM",
           "VIKING",
           "ABOVEGROUND"
          ],
          [
           "4/24/2013 8:00 PM",
           "ELWOOD",
           "UNDERGROUND"
          ],
          [
           "4/25/2013 6:30 AM",
           "MIDLAND",
           "ABOVEGROUND"
          ],
          [
           "4/29/2013 8:37 AM",
           "KARNACK",
           "ABOVEGROUND"
          ],
          [
           "4/30/2013 1:40 PM",
           "DONIPHAN",
           "UNDERGROUND"
          ],
          [
           "5/1/2013 3:12 PM",
           "MONTICELLO",
           "ABOVEGROUND"
          ],
          [
           "5/2/2013 8:12 AM",
           "KNOX",
           "UNDERGROUND"
          ],
          [
           "5/3/2013 6:45 AM",
           "CARTERET",
           "ABOVEGROUND"
          ],
          [
           "5/3/2013 12:15 PM",
           "PASADENA",
           "ABOVEGROUND"
          ],
          [
           "5/3/2013 2:04 PM",
           "PLUMMER",
           "ABOVEGROUND"
          ],
          [
           "5/3/2013 5:30 PM",
           "BELTON",
           "ABOVEGROUND"
          ],
          [
           "5/6/2013 6:10 AM",
           "NASHVILLE",
           "ABOVEGROUND"
          ],
          [
           "5/6/2013 7:30 AM",
           "COALINGA",
           "UNDERGROUND"
          ],
          [
           "5/6/2013 12:15 PM",
           "HOLIDAY",
           "ABOVEGROUND"
          ],
          [
           "5/6/2013 7:00 PM",
           "ORCHARD FARM",
           "UNDERGROUND"
          ],
          [
           "5/7/2013 8:30 AM",
           "HEALDTON",
           "UNDERGROUND"
          ],
          [
           "5/7/2013 9:44 AM",
           "GRAND FORKS",
           "UNDERGROUND"
          ],
          [
           "5/7/2013 10:00 AM",
           "SPRING TOWNSHIP",
           "UNDERGROUND"
          ],
          [
           "5/8/2013 10:15 AM",
           "LABADIEVILLE",
           "UNDERGROUND"
          ],
          [
           "5/8/2013 10:30 AM",
           "WORTHAM",
           "ABOVEGROUND"
          ],
          [
           "5/9/2013 4:00 AM",
           "INDIANAPOLIS",
           "UNDERGROUND"
          ],
          [
           "5/10/2013 1:10 PM",
           "FREEPORT",
           "TANK"
          ],
          [
           "5/11/2013 1:30 PM",
           "LORAIN",
           "UNDERGROUND"
          ],
          [
           "5/12/2013 4:48 PM",
           "CUT OFF",
           "UNDERGROUND"
          ],
          [
           "5/14/2013 9:30 AM",
           "KELLER",
           "ABOVEGROUND"
          ],
          [
           "5/14/2013 1:05 PM",
           "SPENCER",
           "UNDERGROUND"
          ],
          [
           "5/15/2013 11:49 AM",
           "LEVELLAND",
           "ABOVEGROUND"
          ],
          [
           "5/15/2013 1:23 PM",
           "BEAUMONT (FANNETT)",
           "UNDERGROUND"
          ],
          [
           "5/16/2013 12:00 AM",
           "OREGON",
           "ABOVEGROUND"
          ],
          [
           "5/16/2013 9:20 AM",
           "VENICE",
           "UNDERGROUND"
          ],
          [
           "5/16/2013 2:00 PM",
           0,
           "ABOVEGROUND"
          ],
          [
           "5/17/2013 7:00 AM",
           "BROKEN ARROW",
           "ABOVEGROUND"
          ],
          [
           "5/17/2013 2:00 PM",
           "GREENVILLE",
           "UNDERGROUND"
          ],
          [
           "5/18/2013 12:54 PM",
           "DECATUR",
           "UNDERGROUND"
          ],
          [
           "5/18/2013 2:00 PM",
           "CUSHING",
           "UNDERGROUND"
          ],
          [
           "5/19/2013 6:15 AM",
           "TEXAS CITY",
           "ABOVEGROUND"
          ],
          [
           "5/19/2013 5:00 PM",
           "FARGO",
           "ABOVEGROUND"
          ],
          [
           "5/19/2013 6:35 PM",
           "SAINT JAMES",
           "ABOVEGROUND"
          ],
          [
           "5/20/2013 9:45 AM",
           "UPPER CHICHESTER",
           "ABOVEGROUND"
          ],
          [
           "5/21/2013 6:30 AM",
           "CUSHING",
           "ABOVEGROUND"
          ],
          [
           "5/22/2013 2:15 PM",
           0,
           "ABOVEGROUND"
          ],
          [
           "5/23/2013 8:43 AM",
           "GALENA PARK",
           "ABOVEGROUND"
          ],
          [
           "5/23/2013 6:39 PM",
           "BARNESVILLE",
           "UNDERGROUND"
          ],
          [
           "5/24/2013 5:30 PM",
           "PASADENA",
           "TANK"
          ],
          [
           "5/27/2013 7:30 AM",
           "SHERIDAN",
           "ABOVEGROUND"
          ],
          [
           "5/28/2013 8:15 AM",
           "CARROLLTON",
           "ABOVEGROUND"
          ],
          [
           "5/28/2013 8:30 AM",
           "INDIANAPOLIS",
           "ABOVEGROUND"
          ],
          [
           "5/28/2013 11:45 AM",
           "PASADENA",
           "ABOVEGROUND"
          ],
          [
           "5/29/2013 6:58 AM",
           "AURORA",
           "ABOVEGROUND"
          ],
          [
           "5/29/2013 11:00 AM",
           0,
           "ABOVEGROUND"
          ],
          [
           "5/31/2013 12:30 AM",
           "MYTON",
           "ABOVEGROUND"
          ],
          [
           "5/31/2013 11:20 AM",
           "FORGAN",
           "UNDERGROUND"
          ],
          [
           "6/1/2013 12:30 PM",
           "OSAGE",
           "ABOVEGROUND"
          ],
          [
           "6/2/2013 10:33 PM",
           "DES MOINES",
           "ABOVEGROUND"
          ],
          [
           "6/3/2013 12:24 PM",
           "VICTORIA",
           "UNDERGROUND"
          ],
          [
           "6/4/2013 6:45 AM",
           "NEAR CHASE, KS",
           "ABOVEGROUND"
          ],
          [
           "6/5/2013 8:38 AM",
           "MACKINAW CITY",
           "ABOVEGROUND"
          ],
          [
           "6/6/2013 9:15 AM",
           "FALLS CITY, TEXAS",
           "TANK"
          ],
          [
           "6/6/2013 6:07 PM",
           "PONTIAC",
           "ABOVEGROUND"
          ],
          [
           "6/7/2013 8:00 AM",
           "ONALASKA",
           "ABOVEGROUND"
          ],
          [
           "6/7/2013 1:30 PM",
           "RANGER",
           "ABOVEGROUND"
          ],
          [
           "6/10/2013 11:30 AM",
           0,
           "UNDERGROUND"
          ],
          [
           "6/12/2013 2:04 PM",
           "MIDLAND",
           "UNDERGROUND"
          ],
          [
           "6/12/2013 4:00 PM",
           "COLDFOOT",
           "ABOVEGROUND"
          ],
          [
           "6/14/2013 9:15 AM",
           "BAKERSFIELD",
           "ABOVEGROUND"
          ],
          [
           "6/15/2013 9:00 AM",
           "PASADENA",
           "ABOVEGROUND"
          ],
          [
           "6/16/2013 6:30 AM",
           "AUSTELL",
           "UNDERGROUND"
          ],
          [
           "6/16/2013 9:30 AM",
           "EAST SPARTA",
           "ABOVEGROUND"
          ],
          [
           "6/17/2013 10:30 AM",
           "ABILENE",
           "ABOVEGROUND"
          ],
          [
           "6/18/2013 10:00 AM",
           "MIDLAND",
           "ABOVEGROUND"
          ],
          [
           "6/18/2013 6:40 PM",
           "BEAUMONT",
           "ABOVEGROUND"
          ],
          [
           "6/18/2013 10:30 PM",
           "CONOWINGO",
           "ABOVEGROUND"
          ],
          [
           "6/20/2013 11:25 AM",
           "DANIELSVILLE",
           "ABOVEGROUND"
          ],
          [
           "6/20/2013 6:00 PM",
           "WICHITA FALLS",
           "ABOVEGROUND"
          ],
          [
           "6/25/2013 5:00 AM",
           "RINGGOLD",
           "ABOVEGROUND"
          ],
          [
           "6/26/2013 12:10 PM",
           "BEAUMONT",
           "ABOVEGROUND"
          ],
          [
           "6/27/2013 2:37 AM",
           "ARTESIA",
           "ABOVEGROUND"
          ],
          [
           "6/29/2013 5:50 AM",
           "CUSHING",
           "TANK"
          ],
          [
           "6/29/2013 10:05 PM",
           "PASADENA",
           "ABOVEGROUND"
          ],
          [
           "6/30/2013 9:30 AM",
           "BAY MARCHAND",
           0
          ],
          [
           "6/30/2013 7:45 PM",
           "CATARINA",
           "TANK"
          ],
          [
           "7/1/2013 3:00 PM",
           "BRADGATE",
           "UNDERGROUND"
          ],
          [
           "7/1/2013 5:20 PM",
           "BRADGATE",
           "UNDERGROUND"
          ],
          [
           "7/2/2013 5:25 PM",
           "ST. XAVIER",
           "UNDERGROUND"
          ],
          [
           "7/9/2013 7:20 AM",
           "PETTUS",
           "ABOVEGROUND"
          ],
          [
           "7/9/2013 9:35 AM",
           "TEXAS CITY",
           "ABOVEGROUND"
          ],
          [
           "7/9/2013 3:02 PM",
           "NEAREST CITY WAS ARNEGARD, ND",
           "UNDERGROUND"
          ],
          [
           "7/10/2013 9:15 AM",
           "PORT ARTHUR",
           "UNDERGROUND"
          ],
          [
           "7/11/2013 11:00 AM",
           "MCPHERSON",
           "ABOVEGROUND"
          ],
          [
           "7/11/2013 1:30 PM",
           "MCKITTRICK",
           "ABOVEGROUND"
          ],
          [
           "7/11/2013 2:00 PM",
           "EL DORADO",
           "ABOVEGROUND"
          ],
          [
           "7/11/2013 4:00 PM",
           "OREGON ",
           "UNDERGROUND"
          ],
          [
           "7/12/2013 4:15 PM",
           "PASADENA",
           "TANK"
          ],
          [
           "7/15/2013 12:10 PM",
           "SCOTT CITY",
           "ABOVEGROUND"
          ],
          [
           "7/15/2013 6:03 PM",
           "YORK",
           "UNDERGROUND"
          ],
          [
           "7/16/2013 6:10 AM",
           "GREENSBORO",
           "TANK"
          ],
          [
           "7/16/2013 3:30 PM",
           "TILDEN",
           "ABOVEGROUND"
          ],
          [
           "7/18/2013 4:15 PM",
           "SULPHUR",
           "UNDERGROUND"
          ],
          [
           "7/19/2013 4:00 PM",
           "WICHITA FALLS",
           "ABOVEGROUND"
          ],
          [
           "7/20/2013 12:17 PM",
           "MOUND CITY",
           "ABOVEGROUND"
          ],
          [
           "7/22/2013 6:58 AM",
           "DEER RIVER",
           "ABOVEGROUND"
          ],
          [
           "7/22/2013 10:00 AM",
           "JACKSBORO",
           "UNDERGROUND"
          ],
          [
           "7/22/2013 2:13 PM",
           "RUGBY",
           "UNDERGROUND"
          ],
          [
           "7/22/2013 3:30 PM",
           "CLUTE",
           "UNDERGROUND"
          ],
          [
           "7/23/2013 1:55 PM",
           "POWDER RIVER",
           "UNDERGROUND"
          ],
          [
           "7/25/2013 4:30 PM",
           "WHEATON",
           "UNDERGROUND"
          ],
          [
           "7/26/2013 8:00 AM",
           "COPAN",
           "UNDERGROUND"
          ],
          [
           "7/27/2013 8:31 AM",
           "VAUGHN",
           "ABOVEGROUND"
          ],
          [
           "7/27/2013 10:00 AM",
           "FORSAN",
           "ABOVEGROUND"
          ],
          [
           "7/29/2013 12:00 AM",
           0,
           "UNDERGROUND"
          ],
          [
           "7/29/2013 2:30 PM",
           "GREENSBORO",
           "UNDERGROUND"
          ],
          [
           "7/30/2013 9:00 AM",
           "CUSHING",
           "ABOVEGROUND"
          ],
          [
           "7/30/2013 10:00 AM",
           "BUCKEYE (LOVINGTON)",
           "ABOVEGROUND"
          ],
          [
           "7/31/2013 12:21 PM",
           "YORKTOWN",
           "ABOVEGROUND"
          ],
          [
           "7/31/2013 2:00 PM",
           "BAYTOWN",
           "TANK"
          ],
          [
           "8/1/2013 12:55 AM",
           "BREAUX BRIDGE",
           "ABOVEGROUND"
          ],
          [
           "8/1/2013 9:40 AM",
           "TRIMONT",
           "UNDERGROUND"
          ],
          [
           "8/1/2013 1:00 PM",
           "PASADENA",
           "ABOVEGROUND"
          ],
          [
           "8/1/2013 8:00 PM",
           "MCKITTRICK",
           "UNDERGROUND"
          ],
          [
           "8/3/2013 9:18 AM",
           "GRIFFITH",
           "ABOVEGROUND"
          ],
          [
           "8/4/2013 9:00 PM",
           "SEYMOUR",
           "ABOVEGROUND"
          ],
          [
           "8/5/2013 12:00 AM",
           "CARSON",
           "UNDERGROUND"
          ],
          [
           "8/6/2013 2:00 PM",
           "FOLEY",
           "UNDERGROUND"
          ],
          [
           "8/8/2013 8:28 AM",
           "OREGON",
           "ABOVEGROUND"
          ],
          [
           "8/8/2013 10:50 AM",
           "VESTAL",
           "ABOVEGROUND"
          ],
          [
           "8/8/2013 12:42 PM",
           "CONCORD",
           "TANK"
          ],
          [
           "8/9/2013 11:20 AM",
           "LIBERTY",
           "UNDERGROUND"
          ],
          [
           "8/10/2013 12:44 PM",
           "LONGVIEW",
           "UNDERGROUND"
          ],
          [
           "8/12/2013 6:58 PM",
           "AVENEL",
           "ABOVEGROUND"
          ],
          [
           "8/12/2013 11:10 PM",
           "ERIE",
           "UNDERGROUND"
          ],
          [
           "8/13/2013 12:50 PM",
           "AUSTIN",
           "UNDERGROUND"
          ],
          [
           "8/13/2013 2:15 PM",
           "LITTLETON",
           "UNDERGROUND"
          ],
          [
           "8/13/2013 2:55 PM",
           "LINDEN",
           "TANK"
          ],
          [
           "8/15/2013 10:50 AM",
           "ALEXANDER",
           "TANK"
          ],
          [
           "8/15/2013 1:00 PM",
           "DECATUR",
           "UNDERGROUND"
          ],
          [
           "8/16/2013 4:55 AM",
           "NEEDVILLE",
           "ABOVEGROUND"
          ],
          [
           "8/18/2013 5:30 AM",
           "LA GRANGE",
           "ABOVEGROUND"
          ],
          [
           "8/19/2013 9:51 AM",
           "LIVERMORE",
           "UNDERGROUND"
          ],
          [
           "8/19/2013 10:32 AM",
           "MEDICINE BOW",
           "UNDERGROUND"
          ],
          [
           "8/19/2013 11:36 AM",
           "HOMINY",
           "UNDERGROUND"
          ],
          [
           "8/19/2013 5:45 PM",
           "ASTON",
           "UNDERGROUND"
          ],
          [
           "8/20/2013 8:08 AM",
           "MARYSVILLE",
           "ABOVEGROUND"
          ],
          [
           "8/20/2013 12:00 PM",
           "HOUSTON",
           "UNDERGROUND"
          ],
          [
           "8/21/2013 4:25 PM",
           "PASADENA",
           "ABOVEGROUND"
          ],
          [
           "8/21/2013 9:00 PM",
           "WARDA",
           "ABOVEGROUND"
          ],
          [
           "8/22/2013 5:45 PM",
           "COFFEYVILLE",
           "UNDERGROUND"
          ],
          [
           "8/25/2013 2:30 PM",
           "EL DORADO",
           "ABOVEGROUND"
          ],
          [
           "8/29/2013 7:30 AM",
           "MARTINSVILLE",
           "UNDERGROUND"
          ],
          [
           "8/29/2013 8:00 AM",
           "ABILENE",
           "ABOVEGROUND"
          ],
          [
           "8/30/2013 11:55 AM",
           "HERMEIGH",
           "ABOVEGROUND"
          ],
          [
           "8/31/2013 2:36 PM",
           "GALT",
           "ABOVEGROUND"
          ],
          [
           "9/3/2013 9:34 PM",
           "THREE RIVERS",
           "UNDERGROUND"
          ],
          [
           "9/4/2013 11:45 AM",
           "PASADENA",
           "UNDERGROUND"
          ],
          [
           "9/4/2013 12:00 PM",
           "ALEX",
           "UNDERGROUND"
          ],
          [
           "9/5/2013 11:00 AM",
           "SELMA",
           "UNDERGROUND"
          ],
          [
           "9/8/2013 10:19 AM",
           "LOS ANGELES",
           "UNDERGROUND"
          ],
          [
           "9/9/2013 8:45 AM",
           "BAY CITY",
           "UNDERGROUND"
          ],
          [
           "9/9/2013 3:00 PM",
           "CUSHING",
           "ABOVEGROUND"
          ],
          [
           "9/12/2013 7:20 AM",
           "COMPTON",
           "UNDERGROUND"
          ],
          [
           "9/12/2013 9:45 PM",
           "PINON",
           "UNDERGROUND"
          ],
          [
           "9/14/2013 11:15 PM",
           "LINDEN",
           "ABOVEGROUND"
          ],
          [
           "9/17/2013 2:06 AM",
           "WAKA",
           "ABOVEGROUND"
          ],
          [
           "9/18/2013 10:18 AM",
           "MEDFORD",
           "ABOVEGROUND"
          ],
          [
           "9/19/2013 8:56 AM",
           "BLAIN",
           "ABOVEGROUND"
          ],
          [
           "9/23/2013 10:12 AM",
           "FROST",
           "UNDERGROUND"
          ],
          [
           "9/23/2013 12:51 PM",
           "BRADGATE",
           "UNDERGROUND"
          ],
          [
           "9/23/2013 10:50 PM",
           "SOLOMAN",
           "UNDERGROUND"
          ],
          [
           "9/24/2013 1:08 PM",
           "TEMPLE",
           "ABOVEGROUND"
          ],
          [
           "9/26/2013 2:30 PM",
           "MACUNGIE",
           "TANK"
          ],
          [
           "9/26/2013 7:25 PM",
           "GALENA PARK",
           "ABOVEGROUND"
          ],
          [
           "9/27/2013 9:08 AM",
           "KALKASKA",
           "UNDERGROUND"
          ],
          [
           "9/27/2013 10:00 AM",
           "KALKASKA",
           "UNDERGROUND"
          ],
          [
           "9/29/2013 11:40 AM",
           "HUMBOLDT",
           "ABOVEGROUND"
          ],
          [
           "9/30/2013 7:20 AM",
           "AMARILLO",
           "UNDERGROUND"
          ],
          [
           "9/30/2013 6:45 PM",
           "JONES CREEK",
           "ABOVEGROUND"
          ],
          [
           "10/1/2013 7:20 AM",
           "ODESSA",
           "ABOVEGROUND"
          ],
          [
           "10/3/2013 10:40 AM",
           "HUNTSVILLE",
           "UNDERGROUND"
          ],
          [
           "10/5/2013 8:30 AM",
           "MIDLAND",
           "ABOVEGROUND"
          ],
          [
           "10/5/2013 7:42 PM",
           "TYLER",
           "UNDERGROUND"
          ],
          [
           "10/6/2013 12:30 PM",
           "VENTURA",
           "ABOVEGROUND"
          ],
          [
           "10/10/2013 3:05 PM",
           "MONT BELVIEU",
           "ABOVEGROUND"
          ],
          [
           "10/13/2013 8:15 AM",
           0,
           "ABOVEGROUND"
          ],
          [
           "10/14/2013 1:27 PM",
           "ANAHEIM",
           "TANK"
          ],
          [
           "10/14/2013 2:28 PM",
           "LONG BEACH",
           "UNDERGROUND"
          ],
          [
           "10/15/2013 6:05 PM",
           0,
           "UNDERGROUND"
          ],
          [
           "10/15/2013 6:45 PM",
           "CADDO MILLS",
           "UNDERGROUND"
          ],
          [
           "10/16/2013 4:25 PM",
           "SCOTTSVILLE",
           "UNDERGROUND"
          ],
          [
           "10/17/2013 5:00 PM",
           "PASADENA",
           "UNDERGROUND"
          ],
          [
           "10/18/2013 6:45 AM",
           "ARTESIA",
           "ABOVEGROUND"
          ],
          [
           "10/20/2013 9:45 AM",
           "WINK",
           "UNDERGROUND"
          ],
          [
           "10/22/2013 12:29 PM",
           "BILLINGS",
           "UNDERGROUND"
          ],
          [
           "10/22/2013 3:45 PM",
           "GARDENDALE",
           "ABOVEGROUND"
          ],
          [
           "10/23/2013 1:20 PM",
           "ABILENE",
           "UNDERGROUND"
          ],
          [
           "10/23/2013 2:30 PM",
           "PT. ARTHUR",
           "ABOVEGROUND"
          ],
          [
           "10/28/2013 8:00 AM",
           "MCKITTRICK",
           "ABOVEGROUND"
          ],
          [
           "10/28/2013 2:22 PM",
           "SMITHVILLE",
           "UNDERGROUND"
          ],
          [
           "10/29/2013 4:00 PM",
           "BLUE MOUND",
           "ABOVEGROUND"
          ],
          [
           "10/30/2013 2:00 PM",
           "760 ROOSEVELT AVENUE",
           "ABOVEGROUND"
          ],
          [
           "10/31/2013 11:49 AM",
           "STANLEY",
           "ABOVEGROUND"
          ],
          [
           "10/31/2013 1:23 PM",
           "PRARIE CITY",
           "UNDERGROUND"
          ],
          [
           "11/2/2013 12:07 PM",
           "CUSHING",
           "UNDERGROUND"
          ],
          [
           "11/2/2013 5:47 PM",
           "BERTHOLD",
           "ABOVEGROUND"
          ],
          [
           "11/3/2013 2:20 AM",
           "MEDFORD",
           "ABOVEGROUND"
          ],
          [
           "11/3/2013 11:50 AM",
           "PASADENA",
           "ABOVEGROUND"
          ],
          [
           "11/3/2013 1:50 PM",
           "HULL",
           "UNDERGROUND"
          ],
          [
           "11/5/2013 11:42 PM",
           "GREENVILLE",
           "ABOVEGROUND"
          ],
          [
           "11/6/2013 9:13 AM",
           "SUPERIOR",
           "UNDERGROUND"
          ],
          [
           "11/10/2013 6:00 PM",
           "NORMAN",
           "ABOVEGROUND"
          ],
          [
           "11/12/2013 4:00 PM",
           "PASADENA",
           "TANK"
          ],
          [
           "11/13/2013 11:08 AM",
           "DIBOLL",
           "ABOVEGROUND"
          ],
          [
           "11/14/2013 7:12 AM",
           "ROLLING FORK",
           "UNDERGROUND"
          ],
          [
           "11/14/2013 9:33 AM",
           "MILFORD",
           "UNDERGROUND"
          ],
          [
           "11/14/2013 12:00 PM",
           "EDMOND",
           "UNDERGROUND"
          ],
          [
           "11/15/2013 9:45 AM",
           "EL DORADO",
           "ABOVEGROUND"
          ],
          [
           "11/18/2013 9:00 AM",
           "COMMERCE CITY",
           "ABOVEGROUND"
          ],
          [
           "11/19/2013 3:11 PM",
           "VENICE",
           "UNDERGROUND"
          ],
          [
           "11/20/2013 12:50 PM",
           "PONCA CITY",
           "UNDERGROUND"
          ],
          [
           "11/20/2013 3:20 PM",
           "JAL",
           "ABOVEGROUND"
          ],
          [
           "11/20/2013 11:30 PM",
           "HOBBS",
           "ABOVEGROUND"
          ],
          [
           "11/23/2013 10:07 AM",
           "BEAVER",
           "UNDERGROUND"
          ],
          [
           "11/23/2013 11:00 AM",
           "LEBANON",
           "UNDERGROUND"
          ],
          [
           "11/24/2013 6:55 AM",
           "HOLLIDAY",
           "ABOVEGROUND"
          ],
          [
           "11/25/2013 3:30 PM",
           "HEALDTON",
           "ABOVEGROUND"
          ],
          [
           "11/26/2013 7:40 AM",
           "CORPUS CHRISTI",
           "ABOVEGROUND"
          ],
          [
           "11/27/2013 10:30 AM",
           "DOUGLAS",
           "ABOVEGROUND"
          ],
          [
           "11/30/2013 9:30 AM",
           "STOWELL",
           "ABOVEGROUND"
          ],
          [
           "12/1/2013 8:11 AM",
           "CORPUS CHRISTI",
           "ABOVEGROUND"
          ],
          [
           "12/3/2013 9:00 AM",
           "SHARON SPRING",
           "ABOVEGROUND"
          ],
          [
           "12/5/2013 8:00 AM",
           "ENGLEWOOD",
           "ABOVEGROUND"
          ],
          [
           "12/5/2013 4:12 PM",
           "CUSHING",
           "UNDERGROUND"
          ],
          [
           "12/5/2013 5:30 PM",
           "VERNON",
           "UNDERGROUND"
          ],
          [
           "12/10/2013 9:45 AM",
           "JONES",
           "UNDERGROUND"
          ],
          [
           "12/11/2013 9:00 AM",
           "GALENA PARK",
           "TANK"
          ],
          [
           "12/11/2013 12:36 PM",
           "ELLIS",
           "UNDERGROUND"
          ],
          [
           "12/11/2013 1:00 PM",
           "CELESTE",
           "UNDERGROUND"
          ],
          [
           "12/13/2013 8:03 AM",
           0,
           "UNDERGROUND"
          ],
          [
           "12/13/2013 1:35 PM",
           "PONCA CITY",
           "UNDERGROUND"
          ],
          [
           "12/18/2013 1:30 PM",
           "EMMAUS",
           "TANK"
          ],
          [
           "12/19/2013 4:30 PM",
           "SHIPROCK",
           "ABOVEGROUND"
          ],
          [
           "12/20/2013 9:42 AM",
           "PALCO",
           "ABOVEGROUND"
          ],
          [
           "12/20/2013 12:00 PM",
           "COAL TOWNSHIP",
           "UNDERGROUND"
          ],
          [
           "12/21/2013 11:20 AM",
           0,
           "ABOVEGROUND"
          ],
          [
           "12/22/2013 9:09 AM",
           "BURLINGTON",
           "TANK"
          ],
          [
           "12/22/2013 3:00 PM",
           "CUSHING",
           "TANK"
          ],
          [
           "12/23/2013 8:30 AM",
           "HOBBS",
           "ABOVEGROUND"
          ],
          [
           "12/27/2013 7:20 AM",
           "STOWELL",
           "ABOVEGROUND"
          ],
          [
           "12/28/2013 9:30 AM",
           "EDMOND",
           "UNDERGROUND"
          ],
          [
           "12/28/2013 9:30 AM",
           "EDMOND",
           "UNDERGROUND"
          ],
          [
           "12/28/2013 8:26 PM",
           "HOUSTON",
           "ABOVEGROUND"
          ],
          [
           "12/30/2013 6:00 AM",
           "HARTFORD",
           "TANK"
          ],
          [
           "12/31/2013 10:30 AM",
           "LAPORTE",
           "ABOVEGROUND"
          ],
          [
           "1/1/2014 7:14 AM",
           "MOKENA",
           "ABOVEGROUND"
          ],
          [
           "1/1/2014 8:00 AM",
           "MT. BELVIEU",
           "UNDERGROUND"
          ],
          [
           "1/2/2014 9:15 AM",
           "CARNERAS",
           "UNDERGROUND"
          ],
          [
           "1/2/2014 2:28 PM",
           "RATLIFF CITY",
           "ABOVEGROUND"
          ],
          [
           "1/3/2014 10:30 AM",
           "HAMMOND",
           "ABOVEGROUND"
          ],
          [
           "1/4/2014 4:00 AM",
           "COLLINS",
           "ABOVEGROUND"
          ],
          [
           "1/4/2014 2:15 PM",
           "VENICE",
           "ABOVEGROUND"
          ],
          [
           "1/5/2014 9:45 PM",
           "SAN DIEGO",
           "ABOVEGROUND"
          ],
          [
           "1/6/2014 9:05 AM",
           "LINDEN",
           "ABOVEGROUND"
          ],
          [
           "1/6/2014 11:15 AM",
           "GREENSBORO",
           "ABOVEGROUND"
          ],
          [
           "1/7/2014 7:54 AM",
           "BATON ROUGE",
           "ABOVEGROUND"
          ],
          [
           "1/7/2014 10:30 AM",
           "FOUNTAIN INN",
           "UNDERGROUND"
          ],
          [
           "1/7/2014 11:00 AM",
           "GURLEY",
           "ABOVEGROUND"
          ],
          [
           "1/7/2014 4:00 PM",
           "GILL",
           "ABOVEGROUND"
          ],
          [
           "1/8/2014 7:00 AM",
           "TULSA",
           "ABOVEGROUND"
          ],
          [
           "1/8/2014 12:57 PM",
           "LIMA",
           "ABOVEGROUND"
          ],
          [
           "1/9/2014 4:48 AM",
           "MCPHERSON",
           "TANK"
          ],
          [
           "1/10/2014 11:30 AM",
           "BATON ROUGE",
           "ABOVEGROUND"
          ],
          [
           "1/10/2014 2:15 PM",
           "BURDEN",
           "ABOVEGROUND"
          ],
          [
           "1/11/2014 10:00 AM",
           "ROSEMOUNT",
           "UNDERGROUND"
          ],
          [
           "1/12/2014 11:45 AM",
           "GOLDSMITH",
           "ABOVEGROUND"
          ],
          [
           "1/12/2014 8:04 PM",
           "WILMINGTON",
           "ABOVEGROUND"
          ],
          [
           "1/13/2014 10:15 AM",
           "LONGVIEW",
           "ABOVEGROUND"
          ],
          [
           "1/13/2014 3:00 PM",
           "DAYTON",
           "TANK"
          ],
          [
           "1/14/2014 11:00 PM",
           "ROCK SPRINGS",
           "UNDERGROUND"
          ],
          [
           "1/15/2014 8:30 AM",
           "ZENDA",
           "ABOVEGROUND"
          ],
          [
           "1/15/2014 3:05 PM",
           "HOUSTON",
           "UNDERGROUND"
          ],
          [
           "1/16/2014 1:00 AM",
           "MCPHERSON",
           "ABOVEGROUND"
          ],
          [
           "1/17/2014 8:00 AM",
           "MCPHERSON",
           "ABOVEGROUND"
          ],
          [
           "1/17/2014 9:30 AM",
           "PERTH AMBOY",
           "ABOVEGROUND"
          ],
          [
           "1/17/2014 10:48 AM",
           "RURAL",
           "ABOVEGROUND"
          ],
          [
           "1/17/2014 11:00 AM",
           "BOWIE",
           "UNDERGROUND"
          ],
          [
           "1/18/2014 10:31 AM",
           "DEER RIVER",
           "ABOVEGROUND"
          ],
          [
           "1/20/2014 9:00 AM",
           "MILTONVALE",
           "ABOVEGROUND"
          ],
          [
           "1/20/2014 2:23 PM",
           "ODESSA",
           "ABOVEGROUND"
          ],
          [
           "1/21/2014 11:19 AM",
           "CONWAY SPRINGS",
           "ABOVEGROUND"
          ],
          [
           "1/22/2014 4:40 PM",
           "GARY",
           "UNDERGROUND"
          ],
          [
           "1/24/2014 12:50 PM",
           "ODESSA",
           "ABOVEGROUND"
          ],
          [
           "1/24/2014 3:00 PM",
           "JONES CREEK",
           "ABOVEGROUND"
          ],
          [
           "1/25/2014 11:00 AM",
           "MCPHERSON",
           "ABOVEGROUND"
          ],
          [
           "1/26/2014 11:00 AM",
           "FROST",
           "ABOVEGROUND"
          ],
          [
           "1/27/2014 7:00 AM",
           "DEVOL",
           "ABOVEGROUND"
          ],
          [
           "1/27/2014 9:50 AM",
           "BISTI",
           "ABOVEGROUND"
          ],
          [
           "1/28/2014 9:15 AM",
           "EAST CHICAGO",
           "ABOVEGROUND"
          ],
          [
           "1/28/2014 11:45 AM",
           "YORKTOWN",
           "TANK"
          ],
          [
           "1/29/2014 7:25 AM",
           "BURAS",
           "ABOVEGROUND"
          ],
          [
           "1/30/2014 1:56 PM",
           "SNYDER",
           "UNDERGROUND"
          ],
          [
           "2/1/2014 12:45 PM",
           "EMMAUS",
           "ABOVEGROUND"
          ],
          [
           "2/2/2014 7:30 PM",
           "ROLLING HILLS",
           "ABOVEGROUND"
          ],
          [
           "2/3/2014 1:15 PM",
           "DENVER CITY",
           "ABOVEGROUND"
          ],
          [
           "2/4/2014 3:30 PM",
           "HAMMOND",
           "ABOVEGROUND"
          ],
          [
           "2/5/2014 7:00 AM",
           "CLINTON",
           "UNDERGROUND"
          ],
          [
           "2/5/2014 5:00 PM",
           "LINDEN",
           "ABOVEGROUND"
          ],
          [
           "2/6/2014 6:20 PM",
           "GRIFFITH",
           "ABOVEGROUND"
          ],
          [
           "2/7/2014 7:35 AM",
           "NEWTON",
           "UNDERGROUND"
          ],
          [
           "2/7/2014 12:45 PM",
           "JACKSON",
           "ABOVEGROUND"
          ],
          [
           "2/9/2014 5:25 AM",
           "MUNGER",
           "ABOVEGROUND"
          ],
          [
           "2/10/2014 11:00 AM",
           "CHANNELVIEW",
           "UNDERGROUND"
          ],
          [
           "2/12/2014 7:15 AM",
           "CARMEN",
           "ABOVEGROUND"
          ],
          [
           "2/12/2014 10:15 AM",
           0,
           "ABOVEGROUND"
          ],
          [
           "2/12/2014 2:00 PM",
           "HAMMOND",
           "ABOVEGROUND"
          ],
          [
           "2/12/2014 2:05 PM",
           "CLEVELAND",
           "ABOVEGROUND"
          ],
          [
           "2/13/2014 1:26 PM",
           "ALEXANDER",
           "UNDERGROUND"
          ],
          [
           "2/13/2014 2:10 PM",
           "WALWORTH",
           "ABOVEGROUND"
          ],
          [
           "2/14/2014 7:36 AM",
           "PATOKA",
           "ABOVEGROUND"
          ],
          [
           "2/14/2014 9:00 AM",
           "HERMLEIGH",
           "TANK"
          ],
          [
           "2/14/2014 1:30 PM",
           "CREAL SPRINGS",
           "ABOVEGROUND"
          ],
          [
           "2/15/2014 10:00 AM",
           "OLATHE",
           "TANK"
          ],
          [
           "2/16/2014 7:00 AM",
           "AMARILLO ",
           "ABOVEGROUND"
          ],
          [
           "2/17/2014 7:30 AM",
           "LIMA",
           "ABOVEGROUND"
          ],
          [
           "2/17/2014 9:15 AM",
           "IOWA CITY",
           "ABOVEGROUND"
          ],
          [
           "2/17/2014 10:50 AM",
           "KAPOLEI",
           "UNDERGROUND"
          ],
          [
           "2/18/2014 12:00 PM",
           "WHITE OAK",
           "UNDERGROUND"
          ],
          [
           "2/18/2014 6:20 PM",
           "EDWARDSVILLE",
           "ABOVEGROUND"
          ],
          [
           "2/19/2014 6:18 AM",
           "ORLA",
           "ABOVEGROUND"
          ],
          [
           "2/19/2014 10:20 AM",
           "CARTWRIGHT",
           "UNDERGROUND"
          ],
          [
           "2/19/2014 6:13 PM",
           "LOS ANGELES",
           "UNDERGROUND"
          ],
          [
           "2/20/2014 11:00 AM",
           "CUSHING",
           "TANK"
          ],
          [
           "2/20/2014 2:30 PM",
           "SAMARIA",
           "ABOVEGROUND"
          ],
          [
           "2/21/2014 2:20 AM",
           "JACKSON",
           "ABOVEGROUND"
          ],
          [
           "2/21/2014 8:00 AM",
           "HERMLEIGH",
           "UNDERGROUND"
          ],
          [
           "2/21/2014 9:40 AM",
           "DAISETTA",
           "UNDERGROUND"
          ],
          [
           "2/21/2014 10:30 AM",
           "LONGVIEW",
           "UNDERGROUND"
          ],
          [
           "2/24/2014 6:43 AM",
           "RURAL",
           "UNDERGROUND"
          ],
          [
           "2/24/2014 7:00 AM",
           "CUSHING",
           "ABOVEGROUND"
          ],
          [
           "2/24/2014 9:30 AM",
           "CLARKSON",
           "TANK"
          ],
          [
           "2/24/2014 5:04 PM",
           "LONGVIEW",
           "UNDERGROUND"
          ],
          [
           "2/25/2014 10:30 AM",
           "GRIFFITH",
           "ABOVEGROUND"
          ],
          [
           "2/26/2014 2:10 PM",
           0,
           "UNDERGROUND"
          ],
          [
           "2/27/2014 9:22 AM",
           "CUSHING",
           "ABOVEGROUND"
          ],
          [
           "2/28/2014 2:30 PM",
           "ST. LOUIS",
           "ABOVEGROUND"
          ],
          [
           "3/2/2014 8:45 AM",
           "CARNERAS",
           "ABOVEGROUND"
          ],
          [
           "3/2/2014 10:54 AM",
           "CORSICANA",
           "ABOVEGROUND"
          ],
          [
           "3/2/2014 1:00 PM",
           "MOBILE",
           "ABOVEGROUND"
          ],
          [
           "3/2/2014 1:15 PM",
           "MONTGOMERY",
           "ABOVEGROUND"
          ],
          [
           "3/3/2014 7:30 AM",
           "MASON CITY",
           "ABOVEGROUND"
          ],
          [
           "3/4/2014 9:30 AM",
           "SCHERERVILLE",
           "ABOVEGROUND"
          ],
          [
           "3/4/2014 10:00 AM",
           0,
           "ABOVEGROUND"
          ],
          [
           "3/4/2014 10:20 AM",
           "LIMA",
           "ABOVEGROUND"
          ],
          [
           "3/4/2014 10:30 PM",
           "GREAT FALLS",
           "ABOVEGROUND"
          ],
          [
           "3/6/2014 11:45 AM",
           "JAL",
           "ABOVEGROUND"
          ],
          [
           "3/6/2014 3:24 PM",
           "PORT NECHES",
           "UNDERGROUND"
          ],
          [
           "3/6/2014 5:30 PM",
           "KOUTS",
           "ABOVEGROUND"
          ],
          [
           "3/6/2014 7:42 PM",
           "TRENTON",
           "ABOVEGROUND"
          ],
          [
           "3/7/2014 3:45 PM",
           "CHEYENNE",
           "TANK"
          ],
          [
           "3/9/2014 12:00 PM",
           "CUSHING",
           "ABOVEGROUND"
          ],
          [
           "3/10/2014 9:35 AM",
           "CUSHING",
           "UNDERGROUND"
          ],
          [
           "3/11/2014 7:00 AM",
           "EAST CHICAGO",
           "UNDERGROUND"
          ],
          [
           "3/11/2014 7:25 AM",
           "DACULA",
           "ABOVEGROUND"
          ],
          [
           "3/11/2014 11:30 AM",
           0,
           "ABOVEGROUND"
          ],
          [
           "3/13/2014 11:15 AM",
           "TIOGA",
           "TANK"
          ],
          [
           "3/14/2014 12:30 AM",
           "KANKAKEE",
           "UNDERGROUND"
          ],
          [
           "3/14/2014 12:30 AM",
           "KANKAKEE",
           "UNDERGROUND"
          ],
          [
           "3/14/2014 1:13 PM",
           "CORSICANA",
           "ABOVEGROUND"
          ],
          [
           "3/15/2014 9:09 AM",
           "PRETTY PRAIRIE",
           "ABOVEGROUND"
          ],
          [
           "3/15/2014 6:30 PM",
           "SOSO",
           "ABOVEGROUND"
          ],
          [
           "3/16/2014 2:00 PM",
           "MCPHERSON",
           "TANK"
          ],
          [
           "3/16/2014 2:20 PM",
           "ST. JOHNS",
           "ABOVEGROUND"
          ],
          [
           "3/16/2014 5:20 PM",
           "ODESSA",
           "UNDERGROUND"
          ],
          [
           "3/17/2014 5:00 PM",
           "WILMINGTON",
           "UNDERGROUND"
          ],
          [
           "3/17/2014 8:19 PM",
           "COLERAIN TOWNSHIP",
           "UNDERGROUND"
          ],
          [
           "3/18/2014 2:00 PM",
           "OXFORD",
           "UNDERGROUND"
          ],
          [
           "3/18/2014 3:50 PM",
           "WICHITA FALLS",
           "ABOVEGROUND"
          ],
          [
           "3/19/2014 11:23 AM",
           "LOVINGTON",
           "ABOVEGROUND"
          ],
          [
           "3/19/2014 1:15 PM",
           "VAN HORN",
           "ABOVEGROUND"
          ],
          [
           "3/19/2014 4:40 PM",
           "LONE GROVE",
           "TANK"
          ],
          [
           "3/20/2014 5:00 AM",
           "ALEXANDER, ND",
           "ABOVEGROUND"
          ],
          [
           "3/21/2014 3:15 PM",
           "MAXBASS",
           "UNDERGROUND"
          ],
          [
           "3/21/2014 4:11 PM",
           "SNYDER",
           "UNDERGROUND"
          ],
          [
           "3/21/2014 10:25 PM",
           "VILLA RICA",
           "UNDERGROUND"
          ],
          [
           "3/21/2014 10:30 PM",
           "CORPUS CHRISTI",
           "ABOVEGROUND"
          ],
          [
           "3/22/2014 7:07 PM",
           "NEW JOHNSVILLE",
           "TANK"
          ],
          [
           "3/24/2014 3:15 AM",
           "LONGVIEW",
           "ABOVEGROUND"
          ],
          [
           "3/25/2014 1:22 PM",
           "COLLINS",
           "ABOVEGROUND"
          ],
          [
           "3/26/2014 5:18 AM",
           "GRAND MARSH",
           "ABOVEGROUND"
          ],
          [
           "3/26/2014 11:39 AM",
           "LA JUNTA",
           "ABOVEGROUND"
          ],
          [
           "3/27/2014 9:15 AM",
           "CORSICANA",
           "ABOVEGROUND"
          ],
          [
           "3/28/2014 12:00 PM",
           "ALEX",
           "ABOVEGROUND"
          ],
          [
           "3/28/2014 6:00 PM",
           "EDNA",
           "ABOVEGROUND"
          ],
          [
           "3/29/2014 2:50 PM",
           "ARLINGTON HEIGHTS",
           "ABOVEGROUND"
          ],
          [
           "3/30/2014 1:45 PM",
           "TEXAS CITY",
           "UNDERGROUND"
          ],
          [
           "3/31/2014 5:00 AM",
           "PORT ARTHUR",
           "ABOVEGROUND"
          ],
          [
           "3/31/2014 1:00 PM",
           "FANNETT",
           "ABOVEGROUND"
          ],
          [
           "4/1/2014 7:30 AM",
           "WICHITA FALLS",
           "ABOVEGROUND"
          ],
          [
           "4/1/2014 8:20 AM",
           "CONWAY",
           "UNDERGROUND"
          ],
          [
           "4/1/2014 1:30 PM",
           "ORLANDO",
           "ABOVEGROUND"
          ],
          [
           "4/2/2014 4:00 PM",
           "BLACKWELL",
           "UNDERGROUND"
          ],
          [
           "4/2/2014 4:30 PM",
           "ZEPHYR",
           "ABOVEGROUND"
          ],
          [
           "4/3/2014 7:30 AM",
           "CAHOKIA",
           "ABOVEGROUND"
          ],
          [
           "4/3/2014 10:00 AM",
           "FAYETTE",
           "ABOVEGROUND"
          ],
          [
           "4/4/2014 5:00 PM",
           "NEW JOHNSVILLE",
           "TANK"
          ],
          [
           "4/5/2014 7:00 AM",
           0,
           "ABOVEGROUND"
          ],
          [
           "4/5/2014 10:00 AM",
           0,
           "UNDERGROUND"
          ],
          [
           "4/8/2014 7:15 AM",
           "JACKSON",
           "UNDERGROUND"
          ],
          [
           "4/8/2014 9:45 AM",
           "HUGO",
           "UNDERGROUND"
          ],
          [
           "4/8/2014 10:25 AM",
           "GORIN",
           "UNDERGROUND"
          ],
          [
           "4/8/2014 11:44 AM",
           "INDIANOLA",
           "UNDERGROUND"
          ],
          [
           "4/8/2014 6:00 PM",
           "COLUMBIA",
           "UNDERGROUND"
          ],
          [
           "4/9/2014 7:30 AM",
           0,
           "ABOVEGROUND"
          ],
          [
           "4/11/2014 8:45 AM",
           "ODESSA",
           "ABOVEGROUND"
          ],
          [
           "4/11/2014 2:00 PM",
           "CUSHING",
           "ABOVEGROUND"
          ],
          [
           "4/14/2014 8:30 AM",
           "WARREN",
           "UNDERGROUND"
          ],
          [
           "4/14/2014 3:24 PM",
           "JAL",
           "TANK"
          ],
          [
           "4/15/2014 11:05 PM",
           "ORLA",
           "UNDERGROUND"
          ],
          [
           "4/16/2014 10:31 AM",
           0,
           "ABOVEGROUND"
          ],
          [
           "4/16/2014 12:15 PM",
           "OREGON",
           "UNDERGROUND"
          ],
          [
           "4/16/2014 11:45 PM",
           "DEER RIVER",
           "ABOVEGROUND"
          ],
          [
           "4/17/2014 9:49 AM",
           "BEAUMONT",
           "ABOVEGROUND"
          ],
          [
           "4/18/2014 2:07 PM",
           "LONGVIEW",
           "ABOVEGROUND"
          ],
          [
           "4/22/2014 1:34 AM",
           "SULPHUR",
           "ABOVEGROUND"
          ],
          [
           "4/22/2014 11:00 AM",
           "PORT ARTHUR",
           "UNDERGROUND"
          ],
          [
           "4/23/2014 9:12 PM",
           "ODESSA",
           "ABOVEGROUND"
          ],
          [
           "4/24/2014 8:15 AM",
           "ONALASKA",
           "ABOVEGROUND"
          ],
          [
           "4/24/2014 10:00 AM",
           "BEGGS",
           "UNDERGROUND"
          ],
          [
           "4/25/2014 8:00 AM",
           "JACKSON",
           "ABOVEGROUND"
          ],
          [
           "4/25/2014 8:40 AM",
           "HAMMOND",
           "TANK"
          ],
          [
           "4/25/2014 10:00 AM",
           "ZEPHYR",
           "ABOVEGROUND"
          ],
          [
           "4/25/2014 10:45 AM",
           "HAYNESVILLE",
           "UNDERGROUND"
          ],
          [
           "4/25/2014 2:45 PM",
           0,
           "UNDERGROUND"
          ],
          [
           "4/25/2014 8:30 PM",
           "PASADENA",
           "ABOVEGROUND"
          ],
          [
           "4/26/2014 6:15 AM",
           "TEXAS CITY",
           "TANK"
          ],
          [
           "4/26/2014 8:43 AM",
           0,
           "ABOVEGROUND"
          ],
          [
           "4/26/2014 12:00 PM",
           "GRANITE CITY",
           "UNDERGROUND"
          ],
          [
           "4/27/2014 1:45 PM",
           "CHEYENNE",
           "ABOVEGROUND"
          ],
          [
           "4/29/2014 6:55 AM",
           "CHEYENNE",
           "ABOVEGROUND"
          ],
          [
           "4/29/2014 8:30 AM",
           "BEAUMONT",
           "UNDERGROUND"
          ],
          [
           "4/30/2014 3:32 AM",
           "PASADENA",
           "ABOVEGROUND"
          ],
          [
           "4/30/2014 6:00 AM",
           "ST. JAMES",
           "ABOVEGROUND"
          ],
          [
           "4/30/2014 12:45 PM",
           "DEER PARK",
           "UNDERGROUND"
          ],
          [
           "5/1/2014 6:40 AM",
           "RENO",
           "ABOVEGROUND"
          ],
          [
           "5/1/2014 8:25 AM",
           "MIDLAND",
           "ABOVEGROUND"
          ],
          [
           "5/1/2014 1:00 PM",
           "HELENA",
           "ABOVEGROUND"
          ],
          [
           "5/1/2014 1:00 PM",
           "MIDLAND",
           "ABOVEGROUND"
          ],
          [
           "5/2/2014 7:20 AM",
           "MCCAMEY",
           "ABOVEGROUND"
          ],
          [
           "5/2/2014 8:30 AM",
           "PASADENA",
           "TANK"
          ],
          [
           "5/2/2014 4:00 PM",
           "MIDLAND",
           "ABOVEGROUND"
          ],
          [
           "5/4/2014 9:45 AM",
           "GOLDSMITH",
           "ABOVEGROUND"
          ],
          [
           "5/6/2014 11:18 AM",
           "SNYDER",
           "UNDERGROUND"
          ],
          [
           "5/6/2014 3:29 PM",
           "RUTLEDGE",
           "UNDERGROUND"
          ],
          [
           "5/6/2014 4:12 PM",
           "NEAR HILL CITY",
           "ABOVEGROUND"
          ],
          [
           "5/7/2014 5:30 AM",
           "SEMINOLE",
           "UNDERGROUND"
          ],
          [
           "5/7/2014 4:15 PM",
           "PASADENA",
           "UNDERGROUND"
          ],
          [
           "5/11/2014 4:30 PM",
           "CADDO MILLS",
           "ABOVEGROUND"
          ],
          [
           "5/12/2014 6:16 AM",
           0,
           0
          ],
          [
           "5/12/2014 1:18 PM",
           "ANDERSON",
           "UNDERGROUND"
          ],
          [
           "5/13/2014 5:50 AM",
           0,
           "ABOVEGROUND"
          ],
          [
           "5/13/2014 1:00 PM",
           0,
           "ABOVEGROUND"
          ],
          [
           "5/14/2014 8:00 AM",
           "AFTON",
           "ABOVEGROUND"
          ],
          [
           "5/15/2014 12:13 AM",
           0,
           "ABOVEGROUND"
          ],
          [
           "5/18/2014 9:50 AM",
           "KANSAS CITY",
           "ABOVEGROUND"
          ],
          [
           "5/18/2014 1:30 PM",
           "PORT ALLEN",
           "ABOVEGROUND"
          ],
          [
           "5/19/2014 9:50 AM",
           0,
           "UNDERGROUND"
          ],
          [
           "5/20/2014 9:30 AM",
           "EVANT",
           "ABOVEGROUND"
          ],
          [
           "5/20/2014 12:38 PM",
           0,
           "UNDERGROUND"
          ],
          [
           "5/20/2014 1:49 PM",
           "LA BELLE",
           "ABOVEGROUND"
          ],
          [
           "5/21/2014 9:43 AM",
           "BAYTOWN",
           "ABOVEGROUND"
          ],
          [
           "5/22/2014 5:50 PM",
           "LONG BEACH",
           "TANK"
          ],
          [
           "5/24/2014 11:44 AM",
           "MIDLAND",
           "UNDERGROUND"
          ],
          [
           "5/24/2014 5:27 PM",
           "MISSOURI TRIANGLE",
           "ABOVEGROUND"
          ],
          [
           "5/25/2014 8:20 AM",
           0,
           "ABOVEGROUND"
          ],
          [
           "5/26/2014 6:25 PM",
           0,
           "ABOVEGROUND"
          ],
          [
           "5/27/2014 9:00 AM",
           "WEBSTER",
           "TANK"
          ],
          [
           "5/28/2014 9:00 AM",
           "ST. JAMES",
           "ABOVEGROUND"
          ],
          [
           "5/28/2014 2:35 PM",
           "GREENSBORO",
           "UNDERGROUND"
          ],
          [
           "5/28/2014 3:30 PM",
           "FREEMAN",
           "UNDERGROUND"
          ],
          [
           "5/28/2014 7:00 PM",
           "ST. JAMES",
           "TANK"
          ],
          [
           "5/29/2014 1:30 PM",
           "ST. PAUL PARK",
           "UNDERGROUND"
          ],
          [
           "5/31/2014 10:15 AM",
           "NORCO",
           "ABOVEGROUND"
          ],
          [
           "6/4/2014 1:14 PM",
           "OWENSBORO",
           "UNDERGROUND"
          ],
          [
           "6/5/2014 2:00 AM",
           "OWENSBORO",
           "UNDERGROUND"
          ],
          [
           "6/8/2014 5:45 PM",
           "BAKERSFIELD",
           "ABOVEGROUND"
          ],
          [
           "6/9/2014 11:41 AM",
           "SOUTH OF PLAINS, KS",
           "ABOVEGROUND"
          ],
          [
           "6/11/2014 11:19 AM",
           "DELMITA",
           "ABOVEGROUND"
          ],
          [
           "6/14/2014 7:08 AM",
           "THOMPSON FALLS",
           "ABOVEGROUND"
          ],
          [
           "6/17/2014 9:00 AM",
           "PAOLA",
           "UNDERGROUND"
          ],
          [
           "6/18/2014 4:55 AM",
           "MCPHERSON",
           "UNDERGROUND"
          ],
          [
           "6/18/2014 10:00 AM",
           0,
           "ABOVEGROUND"
          ],
          [
           "6/18/2014 7:55 PM",
           "COLLINS",
           "ABOVEGROUND"
          ],
          [
           "6/20/2014 2:55 AM",
           "BELLE CHASSE",
           "ABOVEGROUND"
          ],
          [
           "6/20/2014 8:17 AM",
           "SUGAR CREEK",
           "UNDERGROUND"
          ],
          [
           "6/21/2014 6:40 AM",
           "CONCORD",
           "ABOVEGROUND"
          ],
          [
           "6/21/2014 10:30 AM",
           "CROCKETT",
           "ABOVEGROUND"
          ],
          [
           "6/23/2014 4:10 AM",
           "ORLA",
           "ABOVEGROUND"
          ],
          [
           "6/24/2014 6:30 AM",
           0,
           "TANK"
          ],
          [
           "6/24/2014 8:10 AM",
           "LOS ANGELES",
           "UNDERGROUND"
          ],
          [
           "6/24/2014 9:25 AM",
           "BORGER",
           "ABOVEGROUND"
          ],
          [
           "6/25/2014 8:15 AM",
           "BENICIA",
           "ABOVEGROUND"
          ],
          [
           "6/28/2014 8:53 PM",
           "BURLINGTON",
           "ABOVEGROUND"
          ],
          [
           "6/29/2014 5:00 AM",
           "VERNON",
           "ABOVEGROUND"
          ],
          [
           "6/30/2014 7:00 AM",
           "JACKSON",
           "ABOVEGROUND"
          ],
          [
           "6/30/2014 9:46 AM",
           "BIRD ISLAND",
           "UNDERGROUND"
          ],
          [
           "6/30/2014 2:00 PM",
           "HOUSTON",
           "UNDERGROUND"
          ],
          [
           "7/1/2014 9:49 AM",
           "STINNETT",
           "UNDERGROUND"
          ],
          [
           "7/1/2014 3:50 PM",
           "ENID",
           "UNDERGROUND"
          ],
          [
           "7/3/2014 4:10 AM",
           "MIDLAND",
           "ABOVEGROUND"
          ],
          [
           "7/4/2014 12:30 AM",
           "CARSON ",
           "UNDERGROUND"
          ],
          [
           "7/7/2014 4:15 PM",
           0,
           "ABOVEGROUND"
          ],
          [
           "7/8/2014 3:45 PM",
           "PASADENA",
           "TANK"
          ],
          [
           "7/8/2014 6:10 PM",
           "CARTERET",
           "ABOVEGROUND"
          ],
          [
           "7/8/2014 6:20 PM",
           "MORRIS",
           "ABOVEGROUND"
          ],
          [
           "7/10/2014 1:30 AM",
           0,
           "ABOVEGROUND"
          ],
          [
           "7/10/2014 7:00 AM",
           "BILLINGS",
           "ABOVEGROUND"
          ],
          [
           "7/11/2014 11:34 AM",
           "HAMMOND",
           "ABOVEGROUND"
          ],
          [
           "7/13/2014 6:15 PM",
           "HOBBS",
           "UNDERGROUND"
          ],
          [
           "7/13/2014 8:05 PM",
           "CHEYENNE",
           "TANK"
          ],
          [
           "7/15/2014 3:30 PM",
           "HERMLEIGH",
           "ABOVEGROUND"
          ],
          [
           "7/19/2014 2:28 PM",
           "NEAREST CITY: SEMINOLE",
           "TRANSITION AREA"
          ],
          [
           "7/20/2014 8:02 AM",
           "RENTON",
           "ABOVEGROUND"
          ],
          [
           "7/21/2014 2:05 PM",
           "KERSY",
           "ABOVEGROUND"
          ],
          [
           "7/22/2014 7:40 AM",
           "BEAUMONT",
           "UNDERGROUND"
          ],
          [
           "7/22/2014 1:30 PM",
           "EL DORADO",
           "ABOVEGROUND"
          ],
          [
           "7/23/2014 1:16 PM",
           0,
           0
          ],
          [
           "7/23/2014 3:38 PM",
           0,
           "ABOVEGROUND"
          ],
          [
           "7/23/2014 9:30 PM",
           "LONG BEACH",
           "UNDERGROUND"
          ],
          [
           "7/24/2014 3:55 PM",
           "NEDERLAND",
           "ABOVEGROUND"
          ],
          [
           "7/25/2014 9:29 AM",
           "COLUMBUS",
           "ABOVEGROUND"
          ],
          [
           "7/25/2014 5:00 PM",
           "HAHNVILLE",
           "UNDERGROUND"
          ],
          [
           "7/25/2014 6:15 PM",
           "BOOTHWYN",
           "ABOVEGROUND"
          ],
          [
           "7/25/2014 6:45 PM",
           "OAKHURST",
           "ABOVEGROUND"
          ],
          [
           "7/26/2014 12:10 AM",
           "GALENA PARK",
           "ABOVEGROUND"
          ],
          [
           "7/26/2014 5:09 AM",
           0,
           "ABOVEGROUND"
          ],
          [
           "7/26/2014 10:00 AM",
           "HOBBS",
           "ABOVEGROUND"
          ],
          [
           "7/27/2014 11:30 AM",
           "HOBBS",
           "UNDERGROUND"
          ],
          [
           "7/28/2014 1:40 AM",
           "LONG BEACH",
           "UNDERGROUND"
          ],
          [
           "7/31/2014 3:30 PM",
           "BAYTOWN",
           "UNDERGROUND"
          ],
          [
           "8/1/2014 5:50 PM",
           0,
           "ABOVEGROUND"
          ],
          [
           "8/2/2014 11:40 AM",
           "FRANKLIN PARK",
           "TANK"
          ],
          [
           "8/2/2014 5:00 PM",
           "ST. JAMES",
           "ABOVEGROUND"
          ],
          [
           "8/6/2014 1:30 PM",
           "MIDLAND",
           "UNDERGROUND"
          ],
          [
           "8/6/2014 2:02 PM",
           "ALEXANDER",
           "ABOVEGROUND"
          ],
          [
           "8/7/2014 10:05 AM",
           "GLENPOOL",
           "ABOVEGROUND"
          ],
          [
           "8/7/2014 2:00 PM",
           "PASADENA",
           "ABOVEGROUND"
          ],
          [
           "8/7/2014 4:53 PM",
           "ORLANDO",
           "ABOVEGROUND"
          ],
          [
           "8/7/2014 7:49 PM",
           "YODER",
           "UNDERGROUND"
          ],
          [
           "8/9/2014 8:00 AM",
           "EL PASO",
           "ABOVEGROUND"
          ],
          [
           "8/9/2014 3:15 PM",
           "LYONS",
           "ABOVEGROUND"
          ],
          [
           "8/10/2014 6:45 PM",
           "CLEARBROOK",
           "TANK"
          ],
          [
           "8/11/2014 9:00 AM",
           "PATOKA",
           "UNDERGROUND"
          ],
          [
           "8/13/2014 4:01 PM",
           "ALCOVA",
           "ABOVEGROUND"
          ],
          [
           "8/14/2014 11:00 AM",
           "FREEPORT",
           "UNDERGROUND"
          ],
          [
           "8/17/2014 5:00 PM",
           "BAY MARCHAND",
           0
          ],
          [
           "8/18/2014 6:15 AM",
           "SUPERIOR",
           "ABOVEGROUND"
          ],
          [
           "8/18/2014 9:30 AM",
           "CORPUS CHRISTI",
           "ABOVEGROUND"
          ],
          [
           "8/19/2014 10:00 AM",
           "NEDERLAND",
           "ABOVEGROUND"
          ],
          [
           "8/20/2014 8:30 AM",
           "LINDEN",
           "UNDERGROUND"
          ],
          [
           "8/21/2014 9:30 AM",
           "HOUSTON",
           "TRANSITION AREA"
          ],
          [
           "8/21/2014 6:50 PM",
           "LIMA",
           "ABOVEGROUND"
          ],
          [
           "8/21/2014 9:05 PM",
           "PELHAM",
           "UNDERGROUND"
          ],
          [
           "8/22/2014 1:00 PM",
           "CUSHING",
           "UNDERGROUND"
          ],
          [
           "8/25/2014 11:00 AM",
           "WELSH",
           "UNDERGROUND"
          ],
          [
           "8/25/2014 9:00 PM",
           "MEDFORD",
           "ABOVEGROUND"
          ],
          [
           "8/26/2014 1:45 PM",
           "POINT COMFORT",
           "ABOVEGROUND"
          ],
          [
           "8/26/2014 2:00 PM",
           0,
           "UNDERGROUND"
          ],
          [
           "8/28/2014 9:01 AM",
           "JONES CREEK",
           "ABOVEGROUND"
          ],
          [
           "8/29/2014 11:00 AM",
           "CUSHING",
           "TANK"
          ],
          [
           "8/29/2014 12:35 PM",
           "CUNNINGHAM",
           "ABOVEGROUND"
          ],
          [
           "8/29/2014 6:27 PM",
           "TEXAS CITY ",
           "UNDERGROUND"
          ],
          [
           "8/29/2014 7:45 PM",
           "PRUDHOE BAY ",
           "ABOVEGROUND"
          ],
          [
           "8/30/2014 2:30 PM",
           "PORT READING",
           "ABOVEGROUND"
          ],
          [
           "8/31/2014 2:15 PM",
           "STERLING",
           "UNDERGROUND"
          ],
          [
           "8/31/2014 3:35 PM",
           "PASADENA",
           "TANK"
          ],
          [
           "9/1/2014 7:10 AM",
           "JAL",
           "UNDERGROUND"
          ],
          [
           "9/1/2014 7:10 AM",
           "NOCONA",
           "ABOVEGROUND"
          ],
          [
           "9/1/2014 8:00 AM",
           0,
           "ABOVEGROUND"
          ],
          [
           "9/1/2014 8:00 AM",
           "GRAND ISLE",
           "UNDERGROUND"
          ],
          [
           "9/3/2014 3:53 AM",
           "CARTERET",
           "ABOVEGROUND"
          ],
          [
           "9/4/2014 6:40 AM",
           "PASADENA",
           "ABOVEGROUND"
          ],
          [
           "9/4/2014 10:10 AM",
           "SOUTH HAVEN",
           "UNDERGROUND"
          ],
          [
           "9/4/2014 11:30 AM",
           "MINCO",
           "ABOVEGROUND"
          ],
          [
           "9/5/2014 9:05 AM",
           "JONES CREEK",
           "ABOVEGROUND"
          ],
          [
           "9/5/2014 8:30 PM",
           0,
           "ABOVEGROUND"
          ],
          [
           "9/8/2014 2:00 PM",
           0,
           "ABOVEGROUND"
          ],
          [
           "9/10/2014 11:15 AM",
           "ORLA",
           "UNDERGROUND"
          ],
          [
           "9/10/2014 2:30 PM",
           "CLEARBROOK",
           "ABOVEGROUND"
          ],
          [
           "9/11/2014 6:20 PM",
           "SEALY",
           "ABOVEGROUND"
          ],
          [
           "9/12/2014 7:30 PM",
           "RUNGE",
           "ABOVEGROUND"
          ],
          [
           "9/13/2014 2:10 PM",
           "ANTHONY",
           "UNDERGROUND"
          ],
          [
           "9/14/2014 6:30 AM",
           "CONCORD",
           "ABOVEGROUND"
          ],
          [
           "9/14/2014 12:10 PM",
           0,
           "ABOVEGROUND"
          ],
          [
           "9/16/2014 12:45 PM",
           "PORT FOURCHON",
           "ABOVEGROUND"
          ],
          [
           "9/17/2014 12:55 PM",
           "RICHMOND",
           "UNDERGROUND"
          ],
          [
           "9/18/2014 5:36 PM",
           "GRIFFITHVILLE",
           "UNDERGROUND"
          ],
          [
           "9/20/2014 9:30 PM",
           "SEMINOLE",
           "UNDERGROUND"
          ],
          [
           "9/24/2014 3:16 AM",
           "AMARILLO",
           "UNDERGROUND"
          ],
          [
           "9/24/2014 10:00 AM",
           "MARION",
           "UNDERGROUND"
          ],
          [
           "9/25/2014 8:56 AM",
           "OREGON",
           "ABOVEGROUND"
          ],
          [
           "9/25/2014 9:15 AM",
           "LINO LAKES",
           "UNDERGROUND"
          ],
          [
           "9/25/2014 10:43 AM",
           "WIVILLE",
           "UNDERGROUND"
          ],
          [
           "9/25/2014 1:00 PM",
           "SNYDER",
           "UNDERGROUND"
          ],
          [
           "9/25/2014 3:32 PM",
           "LAKESIDE CITY",
           "UNDERGROUND"
          ],
          [
           "9/25/2014 4:30 PM",
           "TIOGA",
           "ABOVEGROUND"
          ],
          [
           "9/26/2014 7:15 AM",
           "HUDSON",
           "ABOVEGROUND"
          ],
          [
           "9/26/2014 11:30 AM",
           "ARKANSAS CITY",
           "ABOVEGROUND"
          ],
          [
           "9/26/2014 4:00 PM",
           "LINDEN",
           "TANK"
          ],
          [
           "9/26/2014 4:00 PM",
           "KROTZ SPRINGS",
           "ABOVEGROUND"
          ],
          [
           "9/28/2014 6:30 PM",
           "KATIE",
           "TANK"
          ],
          [
           "9/29/2014 8:35 AM",
           "MOKENA",
           "ABOVEGROUND"
          ],
          [
           "9/30/2014 6:56 AM",
           "CHICO",
           "UNDERGROUND"
          ],
          [
           "9/30/2014 3:52 PM",
           "BANQUETE",
           "UNDERGROUND"
          ],
          [
           "10/2/2014 8:49 AM",
           "CUSHING",
           "ABOVEGROUND"
          ],
          [
           "10/2/2014 12:00 PM",
           0,
           "UNDERGROUND"
          ],
          [
           "10/2/2014 3:54 PM",
           "BANQUETE",
           "UNDERGROUND"
          ],
          [
           "10/2/2014 5:00 PM",
           "GALENA PARK",
           "ABOVEGROUND"
          ],
          [
           "10/3/2014 2:15 AM",
           "EDNA",
           "ABOVEGROUND"
          ],
          [
           "10/6/2014 1:43 AM",
           "GOLDSMITH",
           "ABOVEGROUND"
          ],
          [
           "10/6/2014 1:30 PM",
           "GARDENER",
           "UNDERGROUND"
          ],
          [
           "10/6/2014 4:49 PM",
           "THE WOODLANDS",
           "UNDERGROUND"
          ],
          [
           "10/6/2014 11:10 PM",
           "BRISBANE",
           "ABOVEGROUND"
          ],
          [
           "10/8/2014 7:00 AM",
           0,
           "ABOVEGROUND"
          ],
          [
           "10/8/2014 7:35 AM",
           "SINCLAIR",
           "ABOVEGROUND"
          ],
          [
           "10/9/2014 2:00 PM",
           "ALEX",
           "ABOVEGROUND"
          ],
          [
           "10/10/2014 12:30 PM",
           "SULPHUR",
           "UNDERGROUND"
          ],
          [
           "10/11/2014 9:00 AM",
           "MIDLAND",
           "ABOVEGROUND"
          ],
          [
           "10/12/2014 11:58 AM",
           "CUERO",
           "ABOVEGROUND"
          ],
          [
           "10/13/2014 8:00 AM",
           "MOORINGSPORT",
           "UNDERGROUND"
          ],
          [
           "10/14/2014 11:00 AM",
           0,
           "ABOVEGROUND"
          ],
          [
           "10/18/2014 4:20 AM",
           "PASADENA",
           "ABOVEGROUND"
          ],
          [
           "10/18/2014 12:56 PM",
           "SOUR LAKE",
           "ABOVEGROUND"
          ],
          [
           "10/21/2014 7:30 AM",
           "OLATHE",
           "ABOVEGROUND"
          ],
          [
           "10/21/2014 12:45 PM",
           "MIDLAND",
           "ABOVEGROUND"
          ],
          [
           "10/22/2014 9:00 AM",
           "ORANGE",
           "UNDERGROUND"
          ],
          [
           "10/23/2014 9:05 AM",
           0,
           "UNDERGROUND"
          ],
          [
           "10/23/2014 2:38 PM",
           "JACKSON",
           "ABOVEGROUND"
          ],
          [
           "10/24/2014 5:35 AM",
           "DURANGO",
           "ABOVEGROUND"
          ],
          [
           "10/24/2014 2:00 PM",
           "SULPHUR",
           "ABOVEGROUND"
          ],
          [
           "10/25/2014 9:03 AM",
           0,
           "ABOVEGROUND"
          ],
          [
           "10/27/2014 8:04 PM",
           "SNYDER",
           "ABOVEGROUND"
          ],
          [
           "10/28/2014 3:15 AM",
           "CAMERON",
           "UNDERGROUND"
          ],
          [
           "10/28/2014 3:21 AM",
           "CUSHING",
           "ABOVEGROUND"
          ],
          [
           "11/1/2014 3:45 PM",
           "KINGFISHER",
           "UNDERGROUND"
          ],
          [
           "11/1/2014 5:00 PM",
           "GRIFFITH",
           "ABOVEGROUND"
          ],
          [
           "11/3/2014 1:08 PM",
           "GRAHAM",
           "UNDERGROUND"
          ],
          [
           "11/3/2014 7:55 PM",
           "LEBANON JUNCTION",
           "ABOVEGROUND"
          ],
          [
           "11/4/2014 6:50 AM",
           "HENDERSON",
           "ABOVEGROUND"
          ],
          [
           "11/7/2014 7:12 AM",
           "LOCKPORT",
           "ABOVEGROUND"
          ],
          [
           "11/8/2014 5:20 AM",
           0,
           "ABOVEGROUND"
          ],
          [
           "11/10/2014 11:29 AM",
           "WEST BRANCH",
           "UNDERGROUND"
          ],
          [
           "11/10/2014 4:45 PM",
           "GREAT FALLS",
           "TANK"
          ],
          [
           "11/10/2014 5:33 PM",
           "MOUNT VERNON",
           "UNDERGROUND"
          ],
          [
           "11/12/2014 7:06 AM",
           "LONG BEACH",
           "UNDERGROUND"
          ],
          [
           "11/12/2014 7:44 AM",
           "BAKER",
           "ABOVEGROUND"
          ],
          [
           "11/12/2014 4:00 PM",
           "MIDLAND",
           "ABOVEGROUND"
          ],
          [
           "11/12/2014 4:02 PM",
           "HEARNE",
           "ABOVEGROUND"
          ],
          [
           "11/13/2014 7:00 AM",
           "RATLIFF CITY",
           "ABOVEGROUND"
          ],
          [
           "11/13/2014 1:55 PM",
           "BAKERSFIELD",
           "UNDERGROUND"
          ],
          [
           "11/16/2014 8:25 AM",
           "ORLANDO",
           "ABOVEGROUND"
          ],
          [
           "11/17/2014 9:24 AM",
           "BISTI",
           "ABOVEGROUND"
          ],
          [
           "11/17/2014 1:26 PM",
           "STERLING",
           "ABOVEGROUND"
          ],
          [
           "11/18/2014 9:32 AM",
           "CUERO",
           "ABOVEGROUND"
          ],
          [
           "11/18/2014 11:45 AM",
           "CUSHING",
           "TANK"
          ],
          [
           "11/19/2014 3:00 PM",
           "WHITE OAK",
           "UNDERGROUND"
          ],
          [
           "11/19/2014 3:30 PM",
           "ENID",
           "ABOVEGROUND"
          ],
          [
           "11/20/2014 9:00 AM",
           "PERTH AMBOY",
           "ABOVEGROUND"
          ],
          [
           "11/24/2014 7:20 AM",
           0,
           "UNDERGROUND"
          ],
          [
           "11/24/2014 9:59 AM",
           "LIMA",
           "ABOVEGROUND"
          ],
          [
           "11/25/2014 9:30 AM",
           "BLOOMFIELD",
           "ABOVEGROUND"
          ],
          [
           "11/25/2014 10:07 PM",
           "GLENPOOL",
           "ABOVEGROUND"
          ],
          [
           "11/26/2014 10:27 AM",
           "SEALY",
           "ABOVEGROUND"
          ],
          [
           "11/26/2014 10:00 PM",
           "DENVER CITY",
           "ABOVEGROUND"
          ],
          [
           "11/30/2014 7:29 AM",
           "CASPER",
           "ABOVEGROUND"
          ],
          [
           "11/30/2014 2:30 PM",
           "VELMA",
           "ABOVEGROUND"
          ],
          [
           "12/2/2014 6:16 PM",
           "POWELL",
           "ABOVEGROUND"
          ],
          [
           "12/3/2014 8:45 AM",
           "SUPERIOR",
           "ABOVEGROUND"
          ],
          [
           "12/5/2014 12:03 PM",
           "KANKAKEE",
           "ABOVEGROUND"
          ],
          [
           "12/6/2014 2:40 AM",
           "PASADENA",
           "ABOVEGROUND"
          ],
          [
           "12/6/2014 5:16 AM",
           "MCCAMEY",
           "ABOVEGROUND"
          ],
          [
           "12/7/2014 6:43 PM",
           "BAYTOWN",
           "ABOVEGROUND"
          ],
          [
           "12/8/2014 9:30 AM",
           "MANISTIQUE",
           "UNDERGROUND"
          ],
          [
           "12/8/2014 12:52 PM",
           "STANTON",
           "UNDERGROUND"
          ],
          [
           "12/8/2014 4:08 PM",
           "BELTON",
           "UNDERGROUND"
          ],
          [
           "12/8/2014 6:00 PM",
           "GLENDALE",
           "ABOVEGROUND"
          ],
          [
           "12/9/2014 12:22 AM",
           "MILNOR",
           "ABOVEGROUND"
          ],
          [
           "12/9/2014 9:10 AM",
           "CONCORD",
           "TANK"
          ],
          [
           "12/10/2014 12:20 AM",
           "LOST HILLS",
           "UNDERGROUND"
          ],
          [
           "12/10/2014 2:12 PM",
           "LIMA",
           "ABOVEGROUND"
          ],
          [
           "12/10/2014 2:54 PM",
           "AUSTELL",
           "ABOVEGROUND"
          ],
          [
           "12/11/2014 6:50 AM",
           "BELTON",
           "ABOVEGROUND"
          ],
          [
           "12/11/2014 8:45 AM",
           "COTULLA",
           "ABOVEGROUND"
          ],
          [
           "12/11/2014 9:55 AM",
           "EAST CHICAGO",
           "ABOVEGROUND"
          ],
          [
           "12/11/2014 10:00 AM",
           0,
           "ABOVEGROUND"
          ],
          [
           "12/13/2014 4:06 PM",
           "BENKELMAN",
           "ABOVEGROUND"
          ],
          [
           "12/15/2014 1:00 PM",
           0,
           "UNDERGROUND"
          ],
          [
           "12/17/2014 9:40 AM",
           "EAST CHICAGO",
           "TANK"
          ],
          [
           "12/17/2014 1:30 PM",
           "CASPER",
           "UNDERGROUND"
          ],
          [
           "12/18/2014 10:58 AM",
           "SHEVLIN",
           "UNDERGROUND"
          ],
          [
           "12/18/2014 2:15 PM",
           0,
           "UNDERGROUND"
          ],
          [
           "12/21/2014 4:00 AM",
           "DUPONT",
           "ABOVEGROUND"
          ],
          [
           "12/22/2014 9:30 PM",
           "CUSHING",
           "ABOVEGROUND"
          ],
          [
           "12/23/2014 8:30 PM",
           "ST. JAMES",
           "TANK"
          ],
          [
           "12/24/2014 9:49 PM",
           "HICKORY",
           "ABOVEGROUND"
          ],
          [
           "12/25/2014 8:57 AM",
           "ROCKVILLE",
           "ABOVEGROUND"
          ],
          [
           "12/27/2014 3:40 AM",
           "PASADENA",
           "TANK"
          ],
          [
           "12/30/2014 12:00 PM",
           0,
           "UNDERGROUND"
          ],
          [
           "12/30/2014 4:06 PM",
           "CORPUS CHRISTI",
           "ABOVEGROUND"
          ],
          [
           "1/1/2015 12:45 PM",
           "MIDLAND",
           "UNDERGROUND"
          ],
          [
           "1/5/2015 8:40 AM",
           "HELENA",
           "TANK"
          ],
          [
           "1/5/2015 1:33 PM",
           "COTULLA",
           "ABOVEGROUND"
          ],
          [
           "1/6/2015 11:30 AM",
           "PASADENA",
           "TANK"
          ],
          [
           "1/6/2015 12:10 PM",
           "CUSHING",
           "ABOVEGROUND"
          ],
          [
           "1/7/2015 4:15 PM",
           0,
           "UNDERGROUND"
          ],
          [
           "1/8/2015 12:50 PM",
           "FREEPORT",
           "UNDERGROUND"
          ],
          [
           "1/9/2015 7:53 AM",
           "LIMA",
           "ABOVEGROUND"
          ],
          [
           "1/9/2015 8:15 AM",
           "CUSHING",
           "UNDERGROUND"
          ],
          [
           "1/10/2015 8:45 PM",
           0,
           "UNDERGROUND"
          ],
          [
           "1/12/2015 9:20 PM",
           "RICHMOND",
           "ABOVEGROUND"
          ],
          [
           "1/13/2015 1:20 PM",
           "SUPERIOR",
           "UNDERGROUND"
          ],
          [
           "1/14/2015 2:20 PM",
           "BENKELMAN",
           "ABOVEGROUND"
          ],
          [
           "1/14/2015 4:20 PM",
           "BEAUMONT",
           "ABOVEGROUND"
          ],
          [
           "1/15/2015 9:00 AM",
           0,
           "ABOVEGROUND"
          ],
          [
           "1/15/2015 2:25 PM",
           "FOLEY",
           "UNDERGROUND"
          ],
          [
           "1/15/2015 3:23 PM",
           "ELECTRA",
           "UNDERGROUND"
          ],
          [
           "1/16/2015 9:50 AM",
           "LAWSON",
           "ABOVEGROUND"
          ],
          [
           "1/16/2015 10:02 AM",
           "VENICE",
           "ABOVEGROUND"
          ],
          [
           "1/17/2015 10:15 AM",
           0,
           "UNDERGROUND"
          ],
          [
           "1/17/2015 3:28 PM",
           0,
           "UNDERGROUND"
          ],
          [
           "1/19/2015 7:30 AM",
           "ST. JAMES",
           "ABOVEGROUND"
          ],
          [
           "1/19/2015 11:40 AM",
           "MUSCOY",
           "UNDERGROUND"
          ],
          [
           "1/19/2015 12:00 PM",
           0,
           "UNDERGROUND"
          ],
          [
           "1/20/2015 6:30 AM",
           "GARWOOD",
           "ABOVEGROUND"
          ],
          [
           "1/20/2015 10:15 AM",
           "BOOTHWYN",
           "ABOVEGROUND"
          ],
          [
           "1/20/2015 12:34 PM",
           0,
           "ABOVEGROUND"
          ],
          [
           "1/20/2015 2:15 PM",
           "CUSHING",
           "TANK"
          ],
          [
           "1/21/2015 6:38 AM",
           "SUPERIOR",
           "ABOVEGROUND"
          ],
          [
           "1/21/2015 12:30 PM",
           "HONOLULU",
           "TANK"
          ],
          [
           "1/22/2015 7:15 AM",
           "LA GRANGE",
           "ABOVEGROUND"
          ],
          [
           "1/22/2015 9:00 AM",
           "MCCAMEY",
           "ABOVEGROUND"
          ],
          [
           "1/23/2015 6:30 AM",
           "BAKER",
           "ABOVEGROUND"
          ],
          [
           "1/24/2015 12:45 PM",
           "ROUND ROCK",
           "ABOVEGROUND"
          ],
          [
           "1/25/2015 3:28 PM",
           0,
           "UNDERGROUND"
          ],
          [
           "1/26/2015 9:38 AM",
           "COLLIERS",
           "UNDERGROUND"
          ],
          [
           "1/26/2015 11:33 AM",
           "BATON ROUGE",
           "ABOVEGROUND"
          ],
          [
           "1/26/2015 12:10 PM",
           "GALENA PARK",
           "TANK"
          ],
          [
           "1/26/2015 12:20 PM",
           "LYBROOK",
           "UNDERGROUND"
          ],
          [
           "1/27/2015 5:50 AM",
           "PERTH AMBOY",
           "ABOVEGROUND"
          ],
          [
           "1/29/2015 3:00 PM",
           "GRIFFITH",
           "TANK"
          ],
          [
           "1/30/2015 7:00 AM",
           "JACKSON",
           "ABOVEGROUND"
          ],
          [
           "1/30/2015 7:00 AM",
           "COLORADO CITY",
           "ABOVEGROUND"
          ],
          [
           "1/30/2015 9:55 AM",
           0,
           "UNDERGROUND"
          ],
          [
           "1/31/2015 1:00 AM",
           "GRIFFITH",
           "ABOVEGROUND"
          ],
          [
           "2/1/2015 2:00 AM",
           "LAWSON",
           "ABOVEGROUND"
          ],
          [
           "2/1/2015 10:30 AM",
           "KANSAS CITY",
           "TANK"
          ],
          [
           "2/2/2015 10:55 AM",
           "DEER RIVER",
           "ABOVEGROUND"
          ],
          [
           "2/2/2015 12:05 PM",
           0,
           "ABOVEGROUND"
          ],
          [
           "2/2/2015 1:24 PM",
           "HOSPAH",
           "UNDERGROUND"
          ],
          [
           "2/3/2015 8:47 AM",
           0,
           "ABOVEGROUND"
          ],
          [
           "2/3/2015 2:45 PM",
           "LIMA",
           "ABOVEGROUND"
          ],
          [
           "2/4/2015 2:15 PM",
           "PASADENA",
           "TANK"
          ],
          [
           "2/5/2015 11:55 AM",
           0,
           "ABOVEGROUND"
          ],
          [
           "2/6/2015 12:00 PM",
           "AURORA",
           "ABOVEGROUND"
          ],
          [
           "2/10/2015 3:15 PM",
           "REDDICK",
           "UNDERGROUND"
          ],
          [
           "2/11/2015 4:45 PM",
           "MIDLAND",
           "UNDERGROUND"
          ],
          [
           "2/11/2015 6:24 PM",
           "HICKORY",
           "ABOVEGROUND"
          ],
          [
           "2/12/2015 11:28 AM",
           0,
           "UNDERGROUND"
          ],
          [
           "2/13/2015 6:15 PM",
           0,
           "UNDERGROUND"
          ],
          [
           "2/16/2015 8:50 AM",
           "BAKERSFIELD",
           "ABOVEGROUND"
          ],
          [
           "2/17/2015 3:00 PM",
           "PERTH AMBOY",
           "ABOVEGROUND"
          ],
          [
           "2/17/2015 4:15 PM",
           "LOUISVILLE",
           "UNDERGROUND"
          ],
          [
           "2/18/2015 11:00 AM",
           "PORT ARTHUR",
           "ABOVEGROUND"
          ],
          [
           "2/20/2015 2:07 PM",
           "CUSHING",
           "TANK"
          ],
          [
           "2/21/2015 10:27 AM",
           "JAL",
           "ABOVEGROUND"
          ],
          [
           "2/21/2015 6:45 PM",
           "CUSHING",
           "TANK"
          ],
          [
           "2/22/2015 8:17 AM",
           "NEDERLAND",
           "ABOVEGROUND"
          ],
          [
           "2/23/2015 9:20 AM",
           0,
           "ABOVEGROUND"
          ],
          [
           "2/23/2015 11:25 AM",
           "LONG BEACH",
           "TANK"
          ],
          [
           "2/24/2015 11:55 AM",
           "MIDLAND",
           "UNDERGROUND"
          ],
          [
           "2/25/2015 12:03 AM",
           "DAWSON",
           "UNDERGROUND"
          ],
          [
           "2/27/2015 6:50 AM",
           "MILNOR",
           "ABOVEGROUND"
          ],
          [
           "2/27/2015 7:00 AM",
           "JACKSON",
           "UNDERGROUND"
          ],
          [
           "2/27/2015 11:46 AM",
           "CUSHING",
           "ABOVEGROUND"
          ],
          [
           "2/27/2015 3:40 PM",
           "CRANE",
           "ABOVEGROUND"
          ],
          [
           "2/27/2015 5:15 PM",
           "SNYDER",
           "ABOVEGROUND"
          ],
          [
           "3/1/2015 6:00 PM",
           "ASTON",
           "ABOVEGROUND"
          ],
          [
           "3/1/2015 7:28 PM",
           "LINDEN",
           "ABOVEGROUND"
          ],
          [
           "3/2/2015 8:00 AM",
           "SUPERIOR",
           "ABOVEGROUND"
          ],
          [
           "3/2/2015 9:15 AM",
           0,
           "ABOVEGROUND"
          ],
          [
           "3/2/2015 10:25 AM",
           "GEISMAR",
           "ABOVEGROUND"
          ],
          [
           "3/2/2015 11:00 AM",
           "SHARON HILL",
           "ABOVEGROUND"
          ],
          [
           "3/2/2015 12:00 PM",
           0,
           "ABOVEGROUND"
          ],
          [
           "3/2/2015 2:30 PM",
           "TERMINAL ISLAND",
           "UNDERGROUND"
          ],
          [
           "3/2/2015 6:15 PM",
           "JACKSONVILLE",
           "UNDERGROUND"
          ],
          [
           "3/3/2015 9:30 AM",
           "MIDLAND",
           "ABOVEGROUND"
          ],
          [
           "3/4/2015 5:30 AM",
           0,
           "ABOVEGROUND"
          ],
          [
           "3/4/2015 9:00 PM",
           "MCKITTRICK",
           "UNDERGROUND"
          ],
          [
           "3/5/2015 3:15 PM",
           "MARENISCO",
           "ABOVEGROUND"
          ],
          [
           "3/6/2015 8:35 AM",
           0,
           "UNDERGROUND"
          ],
          [
           "3/8/2015 6:29 AM",
           "ACKERLY",
           "UNDERGROUND"
          ],
          [
           "3/8/2015 10:10 AM",
           0,
           "ABOVEGROUND"
          ],
          [
           "3/9/2015 11:13 AM",
           0,
           "ABOVEGROUND"
          ],
          [
           "3/9/2015 4:10 PM",
           "SIOUX CITY",
           "ABOVEGROUND"
          ],
          [
           "3/10/2015 11:55 AM",
           "SEDALIA",
           "ABOVEGROUND"
          ],
          [
           "3/10/2015 9:00 PM",
           "PORT ARTHUR",
           "ABOVEGROUND"
          ],
          [
           "3/11/2015 7:20 PM",
           0,
           "UNDERGROUND"
          ],
          [
           "3/11/2015 7:20 PM",
           0,
           "UNDERGROUND"
          ],
          [
           "3/12/2015 11:57 AM",
           0,
           "ABOVEGROUND"
          ],
          [
           "3/12/2015 2:30 PM",
           0,
           "UNDERGROUND"
          ],
          [
           "3/12/2015 7:25 PM",
           "WAKEMAN",
           "ABOVEGROUND"
          ],
          [
           "3/13/2015 4:50 PM",
           "KANNAPOLIS",
           "TRANSITION AREA"
          ],
          [
           "3/14/2015 10:05 AM",
           0,
           "ABOVEGROUND"
          ],
          [
           "3/14/2015 10:45 AM",
           "CLEARBROOK",
           "UNDERGROUND"
          ],
          [
           "3/15/2015 12:15 PM",
           0,
           "ABOVEGROUND"
          ],
          [
           "3/15/2015 9:20 PM",
           "LINCOLN",
           "ABOVEGROUND"
          ],
          [
           "3/16/2015 3:17 PM",
           "WALBRIDGE",
           "UNDERGROUND"
          ],
          [
           "3/16/2015 3:20 PM",
           "GRIFFITH",
           "ABOVEGROUND"
          ],
          [
           "3/16/2015 4:26 PM",
           "SEALY",
           "TANK"
          ],
          [
           "3/17/2015 11:00 AM",
           0,
           "ABOVEGROUND"
          ],
          [
           "3/18/2015 10:00 PM",
           "WESSON",
           "UNDERGROUND"
          ],
          [
           "3/20/2015 1:40 AM",
           "WESSON",
           "ABOVEGROUND"
          ],
          [
           "3/20/2015 1:52 PM",
           "PONTIAC",
           "ABOVEGROUND"
          ],
          [
           "3/22/2015 12:00 PM",
           "CUSHING",
           "TANK"
          ],
          [
           "3/22/2015 3:54 PM",
           "LUFKIN",
           "ABOVEGROUND"
          ],
          [
           "3/24/2015 5:15 AM",
           "LINDEN",
           "ABOVEGROUND"
          ],
          [
           "3/24/2015 8:30 AM",
           0,
           "ABOVEGROUND"
          ],
          [
           "3/24/2015 10:40 AM",
           "BROWNSVILLE",
           "ABOVEGROUND"
          ],
          [
           "3/26/2015 8:41 AM",
           "NEDERLAND",
           "TANK"
          ],
          [
           "3/26/2015 9:02 AM",
           "ASTON",
           "ABOVEGROUND"
          ],
          [
           "3/26/2015 10:00 AM",
           "WHEELER",
           "TANK"
          ],
          [
           "3/28/2015 3:05 AM",
           "PASADENA",
           "UNDERGROUND"
          ],
          [
           "3/29/2015 8:15 PM",
           0,
           0
          ],
          [
           "3/30/2015 5:52 PM",
           0,
           "UNDERGROUND"
          ],
          [
           "4/1/2015 8:10 AM",
           0,
           "ABOVEGROUND"
          ],
          [
           "4/1/2015 10:00 AM",
           "LOST HILLS",
           "ABOVEGROUND"
          ],
          [
           "4/2/2015 5:23 PM",
           "COMANCHE",
           "ABOVEGROUND"
          ],
          [
           "4/6/2015 8:40 AM",
           "HOUSTON",
           "ABOVEGROUND"
          ],
          [
           "4/6/2015 4:20 PM",
           0,
           "ABOVEGROUND"
          ],
          [
           "4/6/2015 6:00 PM",
           "HOUSTON",
           "ABOVEGROUND"
          ],
          [
           "4/8/2015 10:10 AM",
           "NONE",
           "UNDERGROUND"
          ],
          [
           "4/8/2015 3:50 PM",
           "HOUMA",
           "ABOVEGROUND"
          ],
          [
           "4/8/2015 3:50 PM",
           "HOUSTON",
           "ABOVEGROUND"
          ],
          [
           "4/10/2015 8:30 AM",
           "HOUSTON",
           "ABOVEGROUND"
          ],
          [
           "4/10/2015 12:00 PM",
           "OWENSVILLE",
           "UNDERGROUND"
          ],
          [
           "4/10/2015 3:05 PM",
           "GLEN MILLS",
           "UNDERGROUND"
          ],
          [
           "4/11/2015 1:51 PM",
           "MONT BELVIEU",
           "UNDERGROUND"
          ],
          [
           "4/12/2015 12:25 PM",
           "FOUNTAIN INN",
           "UNDERGROUND"
          ],
          [
           "4/12/2015 2:35 PM",
           "BALTIMORE",
           "ABOVEGROUND"
          ],
          [
           "4/15/2015 6:08 AM",
           0,
           "ABOVEGROUND"
          ],
          [
           "4/15/2015 7:45 AM",
           "AFTON",
           "ABOVEGROUND"
          ],
          [
           "4/15/2015 8:10 AM",
           "DEADHORSE",
           "ABOVEGROUND"
          ],
          [
           "4/16/2015 7:45 AM",
           0,
           "ABOVEGROUND"
          ],
          [
           "4/17/2015 3:30 AM",
           "BAKERSFIELD",
           "ABOVEGROUND"
          ],
          [
           "4/17/2015 6:48 AM",
           0,
           "ABOVEGROUND"
          ],
          [
           "4/17/2015 2:30 PM",
           "MIDLAND",
           "ABOVEGROUND"
          ],
          [
           "4/20/2015 7:30 AM",
           "SINKING SPRINGS",
           "ABOVEGROUND"
          ],
          [
           "4/20/2015 4:40 PM",
           "HOUSTON",
           "ABOVEGROUND"
          ],
          [
           "4/20/2015 5:05 PM",
           "HALFWAY",
           "ABOVEGROUND"
          ],
          [
           "4/22/2015 8:20 AM",
           "CASPER",
           "ABOVEGROUND"
          ],
          [
           "4/23/2015 7:00 AM",
           "JACKSBORO",
           "ABOVEGROUND"
          ],
          [
           "4/23/2015 10:10 AM",
           "CLEARBROOK",
           "ABOVEGROUND"
          ],
          [
           "4/23/2015 11:55 AM",
           "ORLA",
           "ABOVEGROUND"
          ],
          [
           "4/25/2015 9:45 AM",
           "WICHITA",
           "ABOVEGROUND"
          ],
          [
           "4/25/2015 6:30 PM",
           "HOUSTON",
           "TANK"
          ],
          [
           "4/25/2015 9:47 PM",
           "CUSHING",
           "ABOVEGROUND"
          ],
          [
           "4/26/2015 7:55 PM",
           "WILLIAMSBURG",
           "ABOVEGROUND"
          ],
          [
           "4/27/2015 7:38 AM",
           "GREENSBORO",
           "TANK"
          ],
          [
           "4/27/2015 7:40 AM",
           "DENVER CITY",
           "ABOVEGROUND"
          ],
          [
           "4/27/2015 1:55 PM",
           "VERNON",
           "UNDERGROUND"
          ],
          [
           "4/29/2015 9:00 AM",
           "GLENPOOL",
           "ABOVEGROUND"
          ],
          [
           "4/29/2015 11:00 AM",
           "BALTIMORE",
           "TANK"
          ],
          [
           "4/29/2015 11:10 AM",
           "WALTONVILLE",
           "ABOVEGROUND"
          ],
          [
           "4/29/2015 11:35 AM",
           "COSBY",
           "ABOVEGROUND"
          ],
          [
           "4/29/2015 5:15 PM",
           "HOUSTON",
           "ABOVEGROUND"
          ],
          [
           "5/2/2015 12:30 PM",
           "SMILEY",
           "ABOVEGROUND"
          ],
          [
           "5/3/2015 4:00 PM",
           "SHERIDAN",
           "ABOVEGROUND"
          ],
          [
           "5/4/2015 4:11 AM",
           "EL DORADO",
           "UNDERGROUND"
          ],
          [
           "5/4/2015 11:30 AM",
           0,
           "ABOVEGROUND"
          ],
          [
           "5/4/2015 1:47 PM",
           0,
           "UNDERGROUND"
          ],
          [
           "5/6/2015 2:45 PM",
           "PORT ARTHUR",
           "UNDERGROUND"
          ],
          [
           "5/7/2015 9:00 AM",
           "YOAKAM",
           "TANK"
          ],
          [
           "5/8/2015 2:00 PM",
           "DAYTON",
           "UNDERGROUND"
          ],
          [
           "5/8/2015 6:40 PM",
           "HOUSTON",
           "ABOVEGROUND"
          ],
          [
           "5/8/2015 7:00 PM",
           "WICHITA FALLS",
           "ABOVEGROUND"
          ],
          [
           "5/9/2015 2:00 PM",
           "HOUSTON",
           "ABOVEGROUND"
          ],
          [
           "5/10/2015 6:30 AM",
           "NOCONA",
           "TANK"
          ],
          [
           "5/11/2015 5:30 AM",
           "CORSICANA",
           "TANK"
          ],
          [
           "5/11/2015 10:30 AM",
           "CORPUS CHRISTI",
           "UNDERGROUND"
          ],
          [
           "5/12/2015 9:14 AM",
           "WORTHAM",
           "TANK"
          ],
          [
           "5/13/2015 8:29 AM",
           "WICHITA FALLS ",
           "ABOVEGROUND"
          ],
          [
           "5/14/2015 3:08 PM",
           "PERTH AMBOY",
           "ABOVEGROUND"
          ],
          [
           "5/15/2015 5:00 PM",
           "VERNON",
           "UNDERGROUND"
          ],
          [
           "5/18/2015 2:00 AM",
           "TEXAS CITY",
           "ABOVEGROUND"
          ],
          [
           "5/18/2015 5:58 AM",
           "MILWAUKEE",
           "UNDERGROUND"
          ],
          [
           "5/19/2015 6:45 AM",
           "SADLER",
           "ABOVEGROUND"
          ],
          [
           "5/19/2015 10:57 AM",
           "GOLETA",
           "UNDERGROUND"
          ],
          [
           "5/20/2015 8:45 AM",
           "CRANE",
           "ABOVEGROUND"
          ],
          [
           "5/20/2015 6:31 PM",
           "GEORGE WEST",
           "ABOVEGROUND"
          ],
          [
           "5/21/2015 9:45 AM",
           "MIDLAND",
           "UNDERGROUND"
          ],
          [
           "5/21/2015 10:30 AM",
           "VERNON",
           "ABOVEGROUND"
          ],
          [
           "5/21/2015 3:10 PM",
           "GARDENDALE",
           "ABOVEGROUND"
          ],
          [
           "5/23/2015 5:41 AM",
           "ROCKLIN",
           "ABOVEGROUND"
          ],
          [
           "5/25/2015 7:33 AM",
           "TRACY",
           "ABOVEGROUND"
          ],
          [
           "5/25/2015 2:15 PM",
           "ODESSA",
           "ABOVEGROUND"
          ],
          [
           "5/26/2015 7:40 AM",
           "HOUSTON",
           "TANK"
          ],
          [
           "5/27/2015 12:30 PM",
           "CHURCH POINT",
           "ABOVEGROUND"
          ],
          [
           "5/28/2015 7:00 AM",
           "CORSICANA",
           "ABOVEGROUND"
          ],
          [
           "5/28/2015 1:30 PM",
           "KERMIT",
           "UNDERGROUND"
          ],
          [
           "5/29/2015 5:00 PM",
           0,
           "UNDERGROUND"
          ],
          [
           "5/31/2015 1:26 AM",
           "JAL",
           "ABOVEGROUND"
          ],
          [
           "5/31/2015 1:29 PM",
           "DIBOLL",
           "UNDERGROUND"
          ],
          [
           "6/1/2015 4:09 AM",
           0,
           "UNDERGROUND"
          ],
          [
           "6/1/2015 11:00 AM",
           "COLORADO CITY",
           "ABOVEGROUND"
          ],
          [
           "6/2/2015 4:05 AM",
           "MCKITTRICK",
           "UNDERGROUND"
          ],
          [
           "6/2/2015 5:30 PM",
           "OXFORD",
           "ABOVEGROUND"
          ],
          [
           "6/2/2015 9:42 PM",
           "SANTA MARIA",
           "UNDERGROUND"
          ],
          [
           "6/5/2015 8:20 AM",
           "WILLIAMSBURG",
           "ABOVEGROUND"
          ],
          [
           "6/5/2015 11:37 PM",
           "PINE SPRINGS",
           "ABOVEGROUND"
          ],
          [
           "6/6/2015 2:40 AM",
           "HOUSTON",
           "ABOVEGROUND"
          ],
          [
           "6/6/2015 5:15 PM",
           "LOVINGTON",
           "ABOVEGROUND"
          ],
          [
           "6/7/2015 8:38 PM",
           "WORTHAM",
           "UNDERGROUND"
          ],
          [
           "6/7/2015 8:53 PM",
           0,
           "ABOVEGROUND"
          ],
          [
           "6/8/2015 3:30 PM",
           "AFTON",
           "UNDERGROUND"
          ],
          [
           "6/9/2015 9:00 AM",
           0,
           "TANK"
          ],
          [
           "6/10/2015 2:30 PM",
           "MIDLAND",
           "ABOVEGROUND"
          ],
          [
           "6/11/2015 1:30 PM",
           "WORLAND",
           "UNDERGROUND"
          ],
          [
           "6/12/2015 2:50 PM",
           "CARTERET",
           "ABOVEGROUND"
          ],
          [
           "6/14/2015 10:09 PM",
           "OREGON",
           "ABOVEGROUND"
          ],
          [
           "6/15/2015 11:01 PM",
           "AUBURN",
           "ABOVEGROUND"
          ],
          [
           "6/16/2015 2:31 AM",
           "LIBERTY",
           "ABOVEGROUND"
          ],
          [
           "6/16/2015 1:40 PM",
           "PONTIAC",
           "ABOVEGROUND"
          ],
          [
           "6/16/2015 5:00 PM",
           0,
           "UNDERGROUND"
          ],
          [
           "6/18/2015 4:09 AM",
           0,
           "UNDERGROUND"
          ],
          [
           "6/18/2015 8:09 AM",
           0,
           "UNDERGROUND"
          ],
          [
           "6/19/2015 8:00 AM",
           0,
           "UNDERGROUND"
          ],
          [
           "6/19/2015 10:56 PM",
           "WORTHAM",
           "ABOVEGROUND"
          ],
          [
           "6/22/2015 12:58 PM",
           "PASADENA",
           "ABOVEGROUND"
          ],
          [
           "6/22/2015 1:00 PM",
           "HOUSTON",
           "ABOVEGROUND"
          ],
          [
           "6/23/2015 4:00 AM",
           0,
           "ABOVEGROUND"
          ],
          [
           "6/23/2015 7:58 AM",
           "AVENEL",
           "UNDERGROUND"
          ],
          [
           "6/23/2015 8:30 AM",
           0,
           "UNDERGROUND"
          ],
          [
           "6/23/2015 4:25 PM",
           "CORSICANA",
           "ABOVEGROUND"
          ],
          [
           "6/25/2015 3:00 PM",
           0,
           "ABOVEGROUND"
          ],
          [
           "6/26/2015 12:20 PM",
           "KANSAS CITY",
           "ABOVEGROUND"
          ],
          [
           "6/29/2015 10:25 AM",
           "GALLIANO",
           "ABOVEGROUND"
          ],
          [
           "6/30/2015 12:55 PM",
           0,
           "UNDERGROUND"
          ],
          [
           "6/30/2015 1:15 PM",
           0,
           "UNDERGROUND"
          ],
          [
           "7/2/2015 10:56 AM",
           0,
           "UNDERGROUND"
          ],
          [
           "7/5/2015 12:53 PM",
           "SIDNEY",
           "ABOVEGROUND"
          ],
          [
           "7/6/2015 8:00 AM",
           "COLUMBIA",
           "UNDERGROUND"
          ],
          [
           "7/7/2015 7:30 AM",
           "BATON ROUGE",
           "ABOVEGROUND"
          ],
          [
           "7/7/2015 9:00 AM",
           "GALENA PARK",
           "TANK"
          ],
          [
           "7/7/2015 1:55 PM",
           "RANGER",
           "ABOVEGROUND"
          ],
          [
           "7/9/2015 9:00 AM",
           "CORSICANA",
           "UNDERGROUND"
          ],
          [
           "7/9/2015 9:30 AM",
           0,
           "ABOVEGROUND"
          ],
          [
           "7/10/2015 7:29 AM",
           "POCAHONTAS",
           "ABOVEGROUND"
          ],
          [
           "7/11/2015 10:56 AM",
           0,
           "TANK"
          ],
          [
           "7/12/2015 8:00 AM",
           "PASADENA",
           "ABOVEGROUND"
          ],
          [
           "7/12/2015 3:55 PM",
           "AUBURNDALE",
           "ABOVEGROUND"
          ],
          [
           "7/13/2015 5:00 AM",
           0,
           "TANK"
          ],
          [
           "7/13/2015 9:19 AM",
           0,
           "UNDERGROUND"
          ],
          [
           "7/14/2015 7:57 PM",
           "CHALMETTE",
           "ABOVEGROUND"
          ],
          [
           "7/15/2015 8:09 AM",
           0,
           "ABOVEGROUND"
          ],
          [
           "7/15/2015 8:34 AM",
           "SALISBURY",
           "ABOVEGROUND"
          ],
          [
           "7/15/2015 2:00 PM",
           "ODESSA",
           "UNDERGROUND"
          ],
          [
           "7/16/2015 2:20 AM",
           "CASPER",
           "UNDERGROUND"
          ],
          [
           "7/16/2015 11:00 AM",
           "MAYSVILLE",
           "ABOVEGROUND"
          ],
          [
           "7/20/2015 12:30 AM",
           "NORCO",
           "ABOVEGROUND"
          ],
          [
           "7/20/2015 7:30 AM",
           "GURENSEY",
           "ABOVEGROUND"
          ],
          [
           "7/20/2015 7:45 AM",
           0,
           "UNDERGROUND"
          ],
          [
           "7/20/2015 12:50 PM",
           "OREGON",
           "ABOVEGROUND"
          ],
          [
           "7/20/2015 8:58 PM",
           "COYANOSA",
           "ABOVEGROUND"
          ],
          [
           "7/22/2015 11:00 AM",
           "WILMINGTON",
           "UNDERGROUND"
          ],
          [
           "7/22/2015 1:25 PM",
           "SUPERIOR",
           "UNDERGROUND"
          ],
          [
           "7/22/2015 6:57 PM",
           0,
           "UNDERGROUND"
          ],
          [
           "7/24/2015 2:15 PM",
           "PASADENA",
           "UNDERGROUND"
          ],
          [
           "7/26/2015 9:00 AM",
           "BEAUMONT",
           "TANK"
          ],
          [
           "7/27/2015 6:00 AM",
           "BOOTHWYN",
           "TANK"
          ],
          [
           "7/27/2015 7:45 AM",
           "WARBA",
           "UNDERGROUND"
          ],
          [
           "7/27/2015 8:00 PM",
           0,
           "ABOVEGROUND"
          ],
          [
           "7/28/2015 11:45 AM",
           "MUNCIE",
           "ABOVEGROUND"
          ],
          [
           "7/28/2015 1:00 PM",
           "BLOOMFIELD",
           "UNDERGROUND"
          ],
          [
           "7/28/2015 2:36 PM",
           "SALT LAKE CITY",
           "ABOVEGROUND"
          ],
          [
           "7/28/2015 4:55 PM",
           "GRIFFITH",
           "ABOVEGROUND"
          ],
          [
           "7/30/2015 4:17 PM",
           "BEAUMONT",
           "ABOVEGROUND"
          ],
          [
           "7/31/2015 12:50 AM",
           "LINDEN",
           "ABOVEGROUND"
          ],
          [
           "7/31/2015 12:30 PM",
           "ANDREWS",
           "ABOVEGROUND"
          ],
          [
           "8/1/2015 11:00 AM",
           "MANY",
           "UNDERGROUND"
          ],
          [
           "8/1/2015 2:02 PM",
           "MONT BELVIEU",
           "ABOVEGROUND"
          ],
          [
           "8/2/2015 7:55 AM",
           0,
           "TANK"
          ],
          [
           "8/4/2015 5:10 AM",
           "KROTZ SPRINGS",
           "UNDERGROUND"
          ],
          [
           "8/4/2015 7:45 AM",
           "COTULLA ",
           "ABOVEGROUND"
          ],
          [
           "8/5/2015 8:30 AM",
           "PASADENA",
           "TANK"
          ],
          [
           "8/6/2015 12:25 AM",
           "CORPUS CHRISTI",
           "ABOVEGROUND"
          ],
          [
           "8/6/2015 11:00 AM",
           0,
           "UNDERGROUND"
          ],
          [
           "8/6/2015 2:09 PM",
           "GILL",
           "UNDERGROUND"
          ],
          [
           "8/9/2015 8:14 AM",
           "OGALLAH",
           "ABOVEGROUND"
          ],
          [
           "8/10/2015 12:00 PM",
           "MCCAMEY",
           "UNDERGROUND"
          ],
          [
           "8/11/2015 10:15 AM",
           "HOUSTON",
           "TANK"
          ],
          [
           "8/11/2015 3:00 PM",
           "BAKERSFIELD",
           "UNDERGROUND"
          ],
          [
           "8/11/2015 5:28 PM",
           "PORT ARTHUR",
           "ABOVEGROUND"
          ],
          [
           "8/12/2015 9:24 AM",
           "LEAVENWORTH",
           "ABOVEGROUND"
          ],
          [
           "8/13/2015 11:10 AM",
           "KANNAPOLIS",
           "ABOVEGROUND"
          ],
          [
           "8/15/2015 10:23 AM",
           "SUPERIOR",
           "UNDERGROUND"
          ],
          [
           "8/17/2015 1:00 PM",
           "SAINT JAMES",
           "ABOVEGROUND"
          ],
          [
           "8/18/2015 9:45 AM",
           0,
           "ABOVEGROUND"
          ],
          [
           "8/19/2015 1:00 PM",
           0,
           "UNDERGROUND"
          ],
          [
           "8/19/2015 2:00 PM",
           "SAN ANTONIO",
           "UNDERGROUND"
          ],
          [
           "8/19/2015 4:38 PM",
           "LONE STAR",
           "ABOVEGROUND"
          ],
          [
           "8/20/2015 4:52 AM",
           "MANHATTAN",
           "ABOVEGROUND"
          ],
          [
           "8/21/2015 6:12 AM",
           "GREENSBORO",
           "ABOVEGROUND"
          ],
          [
           "8/21/2015 1:14 PM",
           0,
           "UNDERGROUND"
          ],
          [
           "8/21/2015 5:00 PM",
           "NOME",
           "UNDERGROUND"
          ],
          [
           "8/24/2015 9:30 AM",
           "MARTINSVILLE",
           "TANK"
          ],
          [
           "8/24/2015 3:15 PM",
           "NEWCASTLE",
           "TRANSITION AREA"
          ],
          [
           "8/25/2015 5:00 AM",
           0,
           "TANK"
          ],
          [
           "8/25/2015 10:15 AM",
           "WEST SENECA",
           "UNDERGROUND"
          ],
          [
           "8/25/2015 10:35 AM",
           0,
           "UNDERGROUND"
          ],
          [
           "8/25/2015 11:00 AM",
           "PORTLAND",
           "ABOVEGROUND"
          ],
          [
           "8/25/2015 1:00 PM",
           "MT. BELVIEU",
           "ABOVEGROUND"
          ],
          [
           "8/27/2015 5:30 PM",
           "HOUSTON",
           "UNDERGROUND"
          ],
          [
           "8/28/2015 9:47 AM",
           "EUNICE",
           "ABOVEGROUND"
          ],
          [
           "8/28/2015 3:05 PM",
           0,
           "UNDERGROUND"
          ],
          [
           "8/31/2015 7:45 AM",
           "GALENA PARK",
           "TANK"
          ],
          [
           "8/31/2015 8:00 AM",
           "YUSSY",
           "ABOVEGROUND"
          ],
          [
           "9/1/2015 6:35 AM",
           "CORSICANA",
           "UNDERGROUND"
          ],
          [
           "9/1/2015 8:45 AM",
           "JONES CREEK",
           "TANK"
          ],
          [
           "9/1/2015 2:30 PM",
           "MATHIS",
           "UNDERGROUND"
          ],
          [
           "9/2/2015 8:06 AM",
           "FOREST HILL",
           "ABOVEGROUND"
          ],
          [
           "9/2/2015 8:39 AM",
           "LISBON",
           "ABOVEGROUND"
          ],
          [
           "9/2/2015 9:04 AM",
           "DOUGLAS",
           "ABOVEGROUND"
          ],
          [
           "9/2/2015 12:50 PM",
           "SPRINGFIELD",
           "UNDERGROUND"
          ],
          [
           "9/3/2015 1:30 PM",
           "BEAUMONT",
           "ABOVEGROUND"
          ],
          [
           "9/5/2015 3:00 AM",
           "HOUSTON",
           "ABOVEGROUND"
          ],
          [
           "9/8/2015 12:00 PM",
           "LEBANON ",
           "TANK"
          ],
          [
           "9/8/2015 4:06 PM",
           0,
           "TRANSITION AREA"
          ],
          [
           "9/9/2015 9:00 AM",
           "HITCHCOCK",
           "ABOVEGROUND"
          ],
          [
           "9/9/2015 11:39 PM",
           "PASADENA",
           "UNDERGROUND"
          ],
          [
           "9/10/2015 12:27 AM",
           0,
           "TANK"
          ],
          [
           "9/11/2015 8:10 AM",
           "CORDOVA",
           "ABOVEGROUND"
          ],
          [
           "9/11/2015 9:15 AM",
           "MIDLAND",
           "ABOVEGROUND"
          ],
          [
           "9/13/2015 6:23 PM",
           "TEMPERANCE",
           "ABOVEGROUND"
          ],
          [
           "9/15/2015 3:35 AM",
           "MATHIS",
           "ABOVEGROUND"
          ],
          [
           "9/15/2015 12:30 PM",
           "LONG BEACH",
           "ABOVEGROUND"
          ],
          [
           "9/16/2015 9:34 PM",
           "TRACY",
           "UNDERGROUND"
          ],
          [
           "9/17/2015 1:00 AM",
           "PASADENA",
           "ABOVEGROUND"
          ],
          [
           "9/19/2015 7:40 AM",
           "GAFFNEY",
           "UNDERGROUND"
          ],
          [
           "9/19/2015 7:45 PM",
           "GALENA PARK",
           "UNDERGROUND"
          ],
          [
           "9/21/2015 8:52 AM",
           "CAMARILLO",
           "UNDERGROUND"
          ],
          [
           "9/21/2015 11:10 AM",
           "ANDREWS",
           "ABOVEGROUND"
          ],
          [
           "9/21/2015 8:53 PM",
           "CENTREVILLE",
           "UNDERGROUND"
          ],
          [
           "9/22/2015 3:30 PM",
           "EAST CHICAGO",
           "UNDERGROUND"
          ],
          [
           "9/22/2015 5:10 PM",
           "RANGER",
           "ABOVEGROUND"
          ],
          [
           "9/23/2015 2:00 PM",
           "SPRINGFIELD",
           "UNDERGROUND"
          ],
          [
           "9/24/2015 4:00 AM",
           0,
           "TANK"
          ],
          [
           "9/24/2015 9:45 AM",
           "CRANE",
           "UNDERGROUND"
          ],
          [
           "9/24/2015 12:45 PM",
           0,
           "UNDERGROUND"
          ],
          [
           "9/25/2015 11:30 PM",
           "PASADENA",
           "ABOVEGROUND"
          ],
          [
           "9/26/2015 9:00 AM",
           "MCCAMEY",
           "UNDERGROUND"
          ],
          [
           "9/26/2015 1:15 PM",
           0,
           0
          ],
          [
           "9/27/2015 11:02 PM",
           "BOISE CITY",
           "ABOVEGROUND"
          ],
          [
           "9/28/2015 9:10 AM",
           0,
           "ABOVEGROUND"
          ],
          [
           "9/28/2015 10:30 AM",
           0,
           "ABOVEGROUND"
          ],
          [
           "9/29/2015 11:40 AM",
           "NIPOMO",
           "UNDERGROUND"
          ],
          [
           "9/30/2015 1:10 AM",
           "DAYTOM",
           "ABOVEGROUND"
          ],
          [
           "9/30/2015 10:30 AM",
           0,
           "ABOVEGROUND"
          ],
          [
           "10/2/2015 6:08 PM",
           "COLORADO CITY",
           "ABOVEGROUND"
          ],
          [
           "10/4/2015 10:30 AM",
           "NEDERLAND",
           "TANK"
          ],
          [
           "10/5/2015 11:18 AM",
           "PORT ARTHUR",
           "TANK"
          ],
          [
           "10/6/2015 9:40 PM",
           "BAKER",
           "ABOVEGROUND"
          ],
          [
           "10/7/2015 9:30 AM",
           "PORT NECHES",
           "ABOVEGROUND"
          ],
          [
           "10/7/2015 2:00 PM",
           "EVANSTON",
           "TANK"
          ],
          [
           "10/7/2015 4:00 PM",
           0,
           "UNDERGROUND"
          ],
          [
           "10/8/2015 5:20 PM",
           "CANONSBURG",
           "ABOVEGROUND"
          ],
          [
           "10/9/2015 7:25 AM",
           "HEIDELBERG",
           "ABOVEGROUND"
          ],
          [
           "10/10/2015 10:40 AM",
           0,
           "UNDERGROUND"
          ],
          [
           "10/11/2015 1:41 AM",
           0,
           "TANK"
          ],
          [
           "10/11/2015 12:30 PM",
           "WEST GLENDIVE",
           "ABOVEGROUND"
          ],
          [
           "10/12/2015 2:35 AM",
           0,
           "ABOVEGROUND"
          ],
          [
           "10/12/2015 9:54 AM",
           0,
           "UNDERGROUND"
          ],
          [
           "10/12/2015 11:30 AM",
           "ORLA",
           "UNDERGROUND"
          ],
          [
           "10/13/2015 10:00 AM",
           "DIBOLL",
           "UNDERGROUND"
          ],
          [
           "10/13/2015 8:00 PM",
           "HONEYBROOK",
           "TANK"
          ],
          [
           "10/15/2015 7:45 AM",
           "GOODRICH",
           "ABOVEGROUND"
          ],
          [
           "10/15/2015 4:10 PM",
           "PERTH AMBOY",
           "TANK"
          ],
          [
           "10/15/2015 4:10 PM",
           "PERTH AMBOY",
           "TANK"
          ],
          [
           "10/15/2015 4:25 PM",
           0,
           "UNDERGROUND"
          ],
          [
           "10/16/2015 12:00 PM",
           "GALENA PARK",
           "UNDERGROUND"
          ],
          [
           "10/16/2015 2:02 PM",
           "WILLEYS",
           "UNDERGROUND"
          ],
          [
           "10/19/2015 5:00 AM",
           0,
           "ABOVEGROUND"
          ],
          [
           "10/19/2015 10:00 AM",
           "SULPHUR",
           "ABOVEGROUND"
          ],
          [
           "10/20/2015 7:30 AM",
           "BAYTOWN",
           "ABOVEGROUND"
          ],
          [
           "10/21/2015 9:15 AM",
           "JACKSON",
           "ABOVEGROUND"
          ],
          [
           "10/21/2015 9:50 AM",
           "LIMA",
           "UNDERGROUND"
          ],
          [
           "10/22/2015 6:05 AM",
           "TEXAS CITY",
           "UNDERGROUND"
          ],
          [
           "10/22/2015 10:26 AM",
           "MASTERSON",
           "ABOVEGROUND"
          ],
          [
           "10/22/2015 11:30 AM",
           "MIDLAND",
           "UNDERGROUND"
          ],
          [
           "10/23/2015 11:20 AM",
           "GALENA PARK",
           "UNDERGROUND"
          ],
          [
           "10/23/2015 7:50 PM",
           "CALLIHAM",
           "ABOVEGROUND"
          ],
          [
           "10/24/2015 6:02 AM",
           "WHITE OAK",
           "TANK"
          ],
          [
           "10/26/2015 9:30 AM",
           0,
           "TANK"
          ],
          [
           "10/26/2015 12:10 PM",
           "JONES CREEK",
           "TANK"
          ],
          [
           "10/27/2015 12:52 PM",
           "WINK",
           "UNDERGROUND"
          ],
          [
           "10/27/2015 2:30 PM",
           "NOME",
           "UNDERGROUND"
          ],
          [
           "10/27/2015 4:00 PM",
           "MIDLAND",
           "TANK"
          ],
          [
           "10/28/2015 1:24 PM",
           "NOME",
           "UNDERGROUND"
          ],
          [
           "10/28/2015 3:01 PM",
           "ARTESIA",
           "ABOVEGROUND"
          ],
          [
           "10/29/2015 5:56 AM",
           "CUSHING",
           "ABOVEGROUND"
          ],
          [
           "10/29/2015 10:45 AM",
           0,
           "TRANSITION AREA"
          ],
          [
           "10/29/2015 11:30 AM",
           "LIBERTY",
           "UNDERGROUND"
          ],
          [
           "10/30/2015 10:24 AM",
           0,
           "UNDERGROUND"
          ],
          [
           "10/30/2015 11:30 AM",
           0,
           "UNDERGROUND"
          ],
          [
           "11/1/2015 1:24 AM",
           0,
           "ABOVEGROUND"
          ],
          [
           "11/1/2015 8:58 AM",
           0,
           "UNDERGROUND"
          ],
          [
           "11/2/2015 7:30 AM",
           "AUSTELL",
           "UNDERGROUND"
          ],
          [
           "11/2/2015 9:30 AM",
           0,
           "UNDERGROUND"
          ],
          [
           "11/2/2015 10:10 AM",
           "DEVERS",
           "ABOVEGROUND"
          ],
          [
           "11/3/2015 10:28 AM",
           0,
           "ABOVEGROUND"
          ],
          [
           "11/3/2015 11:20 AM",
           0,
           "UNDERGROUND"
          ],
          [
           "11/3/2015 3:50 PM",
           "PERTH AMBOY",
           "ABOVEGROUND"
          ],
          [
           "11/3/2015 11:54 PM",
           "PORTLAND",
           "UNDERGROUND"
          ],
          [
           "11/4/2015 11:16 AM",
           0,
           "UNDERGROUND"
          ],
          [
           "11/4/2015 4:30 PM",
           0,
           "ABOVEGROUND"
          ],
          [
           "11/4/2015 11:15 PM",
           0,
           "ABOVEGROUND"
          ],
          [
           "11/5/2015 5:15 PM",
           "JONES CREEK",
           "ABOVEGROUND"
          ],
          [
           "11/5/2015 5:52 PM",
           "BILLINGS",
           "UNDERGROUND"
          ],
          [
           "11/5/2015 6:00 PM",
           "MT. BELVIEU",
           "ABOVEGROUND"
          ],
          [
           "11/6/2015 3:25 AM",
           "TEXAS CITY",
           "UNDERGROUND"
          ],
          [
           "11/6/2015 1:23 PM",
           0,
           "UNDERGROUND"
          ],
          [
           "11/7/2015 12:00 PM",
           0,
           "UNDERGROUND"
          ],
          [
           "11/9/2015 8:00 AM",
           "COHASSET",
           "UNDERGROUND"
          ],
          [
           "11/9/2015 3:30 PM",
           "APPLE VALLEY",
           "UNDERGROUND"
          ],
          [
           "11/10/2015 6:30 AM",
           0,
           0
          ],
          [
           "11/10/2015 2:30 PM",
           "WEBSTER",
           "ABOVEGROUND"
          ],
          [
           "11/10/2015 4:30 PM",
           "WORTHAM",
           "ABOVEGROUND"
          ],
          [
           "11/11/2015 9:00 AM",
           "TYE",
           "TANK"
          ],
          [
           "11/11/2015 12:15 PM",
           0,
           "UNDERGROUND"
          ],
          [
           "11/11/2015 9:30 PM",
           0,
           "ABOVEGROUND"
          ],
          [
           "11/12/2015 1:45 PM",
           "GRAND ISLE",
           "TANK"
          ],
          [
           "11/14/2015 7:45 AM",
           "BEAUMONT",
           "ABOVEGROUND"
          ],
          [
           "11/16/2015 9:00 PM",
           "COLUMBIA",
           "UNDERGROUND"
          ],
          [
           "11/17/2015 11:30 AM",
           "GULF OF MEXICO",
           0
          ],
          [
           "11/17/2015 5:10 PM",
           "GALENA PARK",
           "UNDERGROUND"
          ],
          [
           "11/18/2015 8:00 AM",
           "ALVORD",
           "UNDERGROUND"
          ],
          [
           "11/18/2015 1:00 PM",
           "RANGER",
           "ABOVEGROUND"
          ],
          [
           "11/20/2015 9:30 AM",
           0,
           "ABOVEGROUND"
          ],
          [
           "11/21/2015 7:50 AM",
           0,
           "TANK"
          ],
          [
           "11/23/2015 10:30 AM",
           "GREENSBORO",
           "UNDERGROUND"
          ],
          [
           "11/25/2015 11:00 PM",
           "GEORGE WEST",
           "ABOVEGROUND"
          ],
          [
           "11/27/2015 7:00 AM",
           "BEAUMONT",
           "ABOVEGROUND"
          ],
          [
           "11/30/2015 11:20 AM",
           0,
           "UNDERGROUND"
          ],
          [
           "12/1/2015 7:15 AM",
           0,
           "ABOVEGROUND"
          ],
          [
           "12/1/2015 9:50 AM",
           "QUINCY",
           "ABOVEGROUND"
          ],
          [
           "12/1/2015 10:10 PM",
           "CUSHING",
           "UNDERGROUND"
          ],
          [
           "12/2/2015 1:00 PM",
           "PORT ARTHUR",
           "ABOVEGROUND"
          ],
          [
           "12/3/2015 10:12 AM",
           0,
           "ABOVEGROUND"
          ],
          [
           "12/4/2015 7:00 AM",
           "TARZAN",
           "ABOVEGROUND"
          ],
          [
           "12/8/2015 1:38 AM",
           "SOMIS",
           "UNDERGROUND"
          ],
          [
           "12/10/2015 9:45 AM",
           "BAKERSFIELD",
           "ABOVEGROUND"
          ],
          [
           "12/11/2015 10:30 AM",
           "HOBBS",
           "UNDERGROUND"
          ],
          [
           "12/14/2015 1:45 PM",
           "HERMLEIGH",
           "ABOVEGROUND"
          ],
          [
           "12/14/2015 10:30 PM",
           "HOUSTON",
           "ABOVEGROUND"
          ],
          [
           "12/15/2015 5:30 PM",
           "MARTINEZ",
           "ABOVEGROUND"
          ],
          [
           "12/16/2015 11:20 AM",
           0,
           "UNDERGROUND"
          ],
          [
           "12/17/2015 1:12 PM",
           0,
           "UNDERGROUND"
          ],
          [
           "12/18/2015 7:30 AM",
           "CASHION",
           "TANK"
          ],
          [
           "12/21/2015 2:20 PM",
           "TEXAS CITY",
           "UNDERGROUND"
          ],
          [
           "12/23/2015 8:30 PM",
           "DES MOINES",
           "TANK"
          ],
          [
           "12/24/2015 3:20 PM",
           0,
           "ABOVEGROUND"
          ],
          [
           "12/25/2015 10:10 AM",
           "OLNEY ",
           "ABOVEGROUND"
          ],
          [
           "1/1/2016 11:00 AM",
           "NEDERLAND",
           "UNDERGROUND"
          ],
          [
           "1/3/2016 6:13 PM",
           "DENVER CITY",
           "ABOVEGROUND"
          ],
          [
           "1/4/2016 12:15 PM",
           0,
           "ABOVEGROUND"
          ],
          [
           "1/4/2016 1:10 PM",
           0,
           "ABOVEGROUND"
          ],
          [
           "1/5/2016 8:00 AM",
           "COLLINS",
           "TANK"
          ],
          [
           "1/8/2016 5:15 AM",
           "CUSHING",
           "TANK"
          ],
          [
           "1/8/2016 6:47 AM",
           "HERMLEIGH",
           "TANK"
          ],
          [
           "1/8/2016 8:29 AM",
           "GREENSBURG",
           "UNDERGROUND"
          ],
          [
           "1/8/2016 2:15 PM",
           "BURLINGTON",
           "ABOVEGROUND"
          ],
          [
           "1/11/2016 11:23 AM",
           "MCPHERSON",
           "ABOVEGROUND"
          ],
          [
           "1/12/2016 3:20 AM",
           "TULSA",
           "ABOVEGROUND"
          ],
          [
           "1/12/2016 10:45 AM",
           "STATEN ISLAND",
           "ABOVEGROUND"
          ],
          [
           "1/12/2016 11:40 AM",
           "TEXAS CITY",
           "ABOVEGROUND"
          ],
          [
           "1/13/2016 6:30 AM",
           "HOBBS",
           "ABOVEGROUND"
          ],
          [
           "1/13/2016 9:50 AM",
           "HOBBS",
           "ABOVEGROUND"
          ],
          [
           "1/13/2016 1:10 PM",
           0,
           "ABOVEGROUND"
          ],
          [
           "1/15/2016 4:30 AM",
           "COFFEYVILLE",
           "UNDERGROUND"
          ],
          [
           "1/15/2016 5:30 PM",
           0,
           "ABOVEGROUND"
          ],
          [
           "1/15/2016 7:00 PM",
           "MORIARTY",
           "ABOVEGROUND"
          ],
          [
           "1/17/2016 2:05 PM",
           "BAYONNE",
           "ABOVEGROUND"
          ],
          [
           "1/18/2016 10:15 AM",
           0,
           "ABOVEGROUND"
          ],
          [
           "1/19/2016 3:35 PM",
           0,
           "ABOVEGROUND"
          ],
          [
           "1/20/2016 7:25 AM",
           "WESTVILLE",
           "ABOVEGROUND"
          ],
          [
           "1/20/2016 8:05 AM",
           0,
           "ABOVEGROUND"
          ],
          [
           "1/21/2016 3:34 PM",
           "HALFWAY",
           "ABOVEGROUND"
          ],
          [
           "1/22/2016 9:00 AM",
           "ARLINGTON HEIGHTS",
           "ABOVEGROUND"
          ],
          [
           "1/22/2016 3:00 PM",
           "PASADENA",
           "UNDERGROUND"
          ],
          [
           "1/22/2016 4:30 PM",
           0,
           "UNDERGROUND"
          ],
          [
           "1/22/2016 5:30 PM",
           "PELHAM",
           "ABOVEGROUND"
          ],
          [
           "1/23/2016 7:10 AM",
           "BEAUMONT",
           "TANK"
          ],
          [
           "1/23/2016 10:00 AM",
           0,
           "UNDERGROUND"
          ],
          [
           "1/26/2016 8:00 AM",
           "BORGER",
           "ABOVEGROUND"
          ],
          [
           "1/26/2016 8:35 AM",
           "SEYMOUR",
           "TANK"
          ],
          [
           "1/26/2016 10:45 AM",
           "JAY",
           "TANK"
          ],
          [
           "1/27/2016 2:00 PM",
           "GREENSBORO",
           "ABOVEGROUND"
          ],
          [
           "1/27/2016 2:04 PM",
           0,
           "ABOVEGROUND"
          ],
          [
           "1/28/2016 8:00 AM",
           "BEAUMONT",
           "UNDERGROUND"
          ],
          [
           "1/28/2016 9:00 PM",
           "MUTUAL",
           "ABOVEGROUND"
          ],
          [
           "1/29/2016 10:00 AM",
           "FORT LARAMIE",
           "ABOVEGROUND"
          ],
          [
           "1/29/2016 10:20 AM",
           "BATON ROUGE",
           "TANK"
          ],
          [
           "1/29/2016 2:40 PM",
           "MOKENA",
           "ABOVEGROUND"
          ],
          [
           "1/30/2016 8:35 AM",
           "PELHAM",
           "UNDERGROUND"
          ],
          [
           "1/31/2016 1:05 PM",
           0,
           "ABOVEGROUND"
          ],
          [
           "2/1/2016 11:57 AM",
           "SUPERIOR",
           "UNDERGROUND"
          ],
          [
           "2/3/2016 8:15 AM",
           "CORSICANA",
           "UNDERGROUND"
          ],
          [
           "2/3/2016 6:00 PM",
           "LIMA",
           "ABOVEGROUND"
          ],
          [
           "2/7/2016 8:15 AM",
           "GOLDSMITH",
           "TANK"
          ],
          [
           "2/7/2016 8:45 AM",
           0,
           "ABOVEGROUND"
          ],
          [
           "2/8/2016 2:00 PM",
           "LONG BEACH",
           "ABOVEGROUND"
          ],
          [
           "2/8/2016 7:40 PM",
           "BEAUMONT",
           "ABOVEGROUND"
          ],
          [
           "2/10/2016 8:15 AM",
           "MIDLAND",
           "ABOVEGROUND"
          ],
          [
           "2/10/2016 1:25 PM",
           "LEBANON",
           "UNDERGROUND"
          ],
          [
           "2/11/2016 8:30 AM",
           "BEAUMONT",
           "TANK"
          ],
          [
           "2/11/2016 9:20 AM",
           "CHILDRESS",
           "UNDERGROUND"
          ],
          [
           "2/11/2016 7:55 PM",
           0,
           "ABOVEGROUND"
          ],
          [
           "2/12/2016 8:00 AM",
           0,
           "ABOVEGROUND"
          ],
          [
           "2/12/2016 1:29 PM",
           0,
           "UNDERGROUND"
          ],
          [
           "2/12/2016 7:45 PM",
           "NEAR SUNDOWN, TEXAS",
           "ABOVEGROUND"
          ],
          [
           "2/14/2016 8:05 AM",
           "CUSHING",
           "TANK"
          ],
          [
           "2/14/2016 9:00 AM",
           "CORSICANA",
           "ABOVEGROUND"
          ],
          [
           "2/16/2016 6:45 AM",
           "LONG ISLAND CITY",
           "UNDERGROUND"
          ],
          [
           "2/16/2016 12:05 PM",
           "MAGEE",
           "ABOVEGROUND"
          ],
          [
           "2/16/2016 2:30 PM",
           "SIOUX FALLS",
           "TANK"
          ],
          [
           "2/16/2016 5:35 PM",
           0,
           "UNDERGROUND"
          ],
          [
           "2/17/2016 10:30 AM",
           "ROSEDALE",
           "ABOVEGROUND"
          ],
          [
           "2/17/2016 11:35 PM",
           "CUSHING",
           "TANK"
          ],
          [
           "2/18/2016 7:45 PM",
           "BELLE CHASE",
           "UNDERGROUND"
          ],
          [
           "2/19/2016 9:00 AM",
           "CARTERET",
           "ABOVEGROUND"
          ],
          [
           "2/20/2016 1:00 PM",
           "LINDEN",
           "ABOVEGROUND"
          ],
          [
           "2/22/2016 7:30 AM",
           "CUSHING",
           "TANK"
          ],
          [
           "2/22/2016 11:00 AM",
           "HEALDTON",
           "UNDERGROUND"
          ],
          [
           "2/22/2016 12:25 PM",
           "BAYONNE",
           "UNDERGROUND"
          ],
          [
           "2/22/2016 4:00 PM",
           "CORTEZ",
           "ABOVEGROUND"
          ],
          [
           "2/23/2016 1:15 AM",
           "PAULSBORO",
           "ABOVEGROUND"
          ],
          [
           "2/23/2016 8:58 PM",
           0,
           "ABOVEGROUND"
          ],
          [
           "2/24/2016 3:58 AM",
           "SULPHUR",
           "UNDERGROUND"
          ],
          [
           "2/24/2016 10:00 AM",
           "BAYONNE",
           "TANK"
          ],
          [
           "2/24/2016 10:00 AM",
           "BAYONNE",
           "TANK"
          ],
          [
           "2/24/2016 2:10 PM",
           0,
           "UNDERGROUND"
          ],
          [
           "2/26/2016 6:50 PM",
           0,
           "UNDERGROUND"
          ],
          [
           "2/28/2016 4:33 PM",
           "LONG BEACH",
           "ABOVEGROUND"
          ],
          [
           "2/29/2016 2:00 PM",
           "UNINCORPORATED GWINNETT COUNTY",
           "UNDERGROUND"
          ],
          [
           "2/29/2016 8:15 PM",
           "BEAUMONT",
           "ABOVEGROUND"
          ],
          [
           "3/3/2016 9:15 AM",
           "CENTER",
           "ABOVEGROUND"
          ],
          [
           "3/5/2016 10:20 AM",
           "ALLENTOWN",
           "ABOVEGROUND"
          ],
          [
           "3/6/2016 4:45 AM",
           "CARTHAGE",
           "ABOVEGROUND"
          ],
          [
           "3/7/2016 1:15 PM",
           "MT. BELVIEU",
           "ABOVEGROUND"
          ],
          [
           "3/8/2016 10:26 PM",
           0,
           "TANK"
          ],
          [
           "3/9/2016 9:15 AM",
           "ORLA",
           "ABOVEGROUND"
          ],
          [
           "3/10/2016 5:25 PM",
           "BROOKLYN",
           "ABOVEGROUND"
          ],
          [
           "3/10/2016 8:22 PM",
           0,
           "UNDERGROUND"
          ],
          [
           "3/11/2016 8:30 AM",
           "CUSHING",
           "TANK"
          ],
          [
           "3/11/2016 2:30 PM",
           0,
           "UNDERGROUND"
          ],
          [
           "3/12/2016 2:00 PM",
           "CLEARBROOK",
           "ABOVEGROUND"
          ],
          [
           "3/14/2016 12:00 PM",
           "MANHATTAN",
           "ABOVEGROUND"
          ],
          [
           "3/16/2016 1:44 AM",
           "BAYTOWN",
           "ABOVEGROUND"
          ],
          [
           "3/17/2016 8:17 AM",
           "EPES",
           "UNDERGROUND"
          ],
          [
           "3/18/2016 10:50 AM",
           0,
           "ABOVEGROUND"
          ],
          [
           "3/20/2016 9:17 PM",
           0,
           "ABOVEGROUND"
          ],
          [
           "3/21/2016 10:00 AM",
           "FORT LARAMIE",
           "TANK"
          ],
          [
           "3/21/2016 7:20 PM",
           "HARWOOD",
           "UNDERGROUND"
          ],
          [
           "3/22/2016 6:40 AM",
           "LIBERTY",
           "TANK"
          ],
          [
           "3/23/2016 10:30 AM",
           "CONCORD",
           "UNDERGROUND"
          ],
          [
           "3/23/2016 11:30 AM",
           "BEAUMONT",
           "ABOVEGROUND"
          ],
          [
           "3/23/2016 7:39 PM",
           "HOUSTON",
           "ABOVEGROUND"
          ],
          [
           "3/27/2016 8:50 AM",
           0,
           "UNDERGROUND"
          ],
          [
           "3/28/2016 8:00 AM",
           "FORT LARAMIE",
           "TANK"
          ],
          [
           "3/28/2016 2:50 PM",
           "SIOUX CITY",
           "TANK"
          ],
          [
           "3/29/2016 8:30 AM",
           "CUSHING",
           "UNDERGROUND"
          ],
          [
           "3/31/2016 5:00 AM",
           0,
           "ABOVEGROUND"
          ],
          [
           "3/31/2016 3:08 PM",
           "COTULLA",
           "ABOVEGROUND"
          ],
          [
           "3/31/2016 6:55 PM",
           "CONROE",
           "ABOVEGROUND"
          ],
          [
           "4/2/2016 12:32 PM",
           0,
           "UNDERGROUND"
          ],
          [
           "4/4/2016 2:03 PM",
           0,
           "UNDERGROUND"
          ],
          [
           "4/4/2016 3:30 PM",
           "PERTH AMBOY",
           "ABOVEGROUND"
          ],
          [
           "4/6/2016 9:35 AM",
           "WINK",
           "ABOVEGROUND"
          ],
          [
           "4/10/2016 7:10 PM",
           0,
           "UNDERGROUND"
          ],
          [
           "4/11/2016 10:09 PM",
           "CROSBY",
           "UNDERGROUND"
          ],
          [
           "4/12/2016 8:45 AM",
           "WHARTON ",
           "ABOVEGROUND"
          ],
          [
           "4/12/2016 11:00 AM",
           "KARNES COUNTY",
           "UNDERGROUND"
          ],
          [
           "4/14/2016 1:02 PM",
           0,
           "UNDERGROUND"
          ],
          [
           "4/15/2016 11:15 AM",
           "JONES CREEK",
           "TANK"
          ],
          [
           "4/15/2016 6:10 PM",
           "HEFLIN ",
           "UNDERGROUND"
          ],
          [
           "4/16/2016 3:00 AM",
           "CRAWLEYVILLE ",
           "ABOVEGROUND"
          ],
          [
           "4/16/2016 11:30 PM",
           "LOMPOC",
           "UNDERGROUND"
          ],
          [
           "4/19/2016 4:00 AM",
           "SAINT JAMES",
           "UNDERGROUND"
          ],
          [
           "4/19/2016 8:35 AM",
           "JAL",
           "ABOVEGROUND"
          ],
          [
           "4/20/2016 11:15 AM",
           0,
           "ABOVEGROUND"
          ],
          [
           "4/20/2016 2:30 PM",
           0,
           "TANK"
          ],
          [
           "4/20/2016 4:37 PM",
           0,
           "TANK"
          ],
          [
           "4/21/2016 6:30 AM",
           0,
           "ABOVEGROUND"
          ],
          [
           "4/21/2016 1:10 PM",
           0,
           "ABOVEGROUND"
          ],
          [
           "4/23/2016 9:00 AM",
           "RANGER",
           "ABOVEGROUND"
          ],
          [
           "4/24/2016 5:00 AM",
           "PLAQUEMINE",
           "ABOVEGROUND"
          ],
          [
           "4/24/2016 11:35 PM",
           "CORPUS CHRISTI",
           "UNDERGROUND"
          ],
          [
           "4/26/2016 7:16 AM",
           0,
           "ABOVEGROUND"
          ],
          [
           "4/28/2016 10:40 AM",
           "BAYONNE",
           "ABOVEGROUND"
          ],
          [
           "4/28/2016 10:45 AM",
           0,
           "UNDERGROUND"
          ],
          [
           "4/28/2016 2:00 PM",
           "MIDLAND",
           "TANK"
          ],
          [
           "5/1/2016 7:00 AM",
           "LIBERTY",
           "TANK"
          ],
          [
           "5/4/2016 2:00 PM",
           "TULSA",
           "ABOVEGROUND"
          ],
          [
           "5/5/2016 12:17 PM",
           0,
           "ABOVEGROUND"
          ],
          [
           "5/5/2016 3:15 PM",
           "OZONA",
           "ABOVEGROUND"
          ],
          [
           "5/5/2016 4:16 PM",
           0,
           "ABOVEGROUND"
          ],
          [
           "5/5/2016 7:15 PM",
           "LONG BEACH",
           "UNDERGROUND"
          ],
          [
           "5/6/2016 2:30 PM",
           "BOWMAN TOWNSHIP",
           "TANK"
          ],
          [
           "5/6/2016 2:56 PM",
           0,
           "ABOVEGROUND"
          ],
          [
           "5/6/2016 2:56 PM",
           0,
           "ABOVEGROUND"
          ],
          [
           "5/7/2016 7:45 AM",
           0,
           "ABOVEGROUND"
          ],
          [
           "5/8/2016 9:10 AM",
           0,
           "TANK"
          ],
          [
           "5/9/2016 11:40 PM",
           "DES MOINES",
           "ABOVEGROUND"
          ],
          [
           "5/10/2016 11:00 AM",
           0,
           "UNDERGROUND"
          ],
          [
           "5/10/2016 2:00 PM",
           "HOUSTON",
           "TANK"
          ],
          [
           "5/11/2016 9:30 AM",
           "BOOTHWYN",
           "TANK"
          ],
          [
           "5/12/2016 6:51 AM",
           "ROSWELL",
           "ABOVEGROUND"
          ],
          [
           "5/13/2016 12:15 PM",
           "ST. JAMES",
           "TANK"
          ],
          [
           "5/14/2016 12:30 PM",
           "BAYONNE",
           "TANK"
          ],
          [
           "5/15/2016 12:35 PM",
           "PASADENA",
           "TANK"
          ],
          [
           "5/15/2016 3:00 PM",
           "TEXAS CITY",
           "ABOVEGROUND"
          ],
          [
           "5/16/2016 2:35 AM",
           "INGLESIDE",
           "TANK"
          ],
          [
           "5/16/2016 6:10 AM",
           "GALENA PARK",
           "ABOVEGROUND"
          ],
          [
           "5/17/2016 12:44 PM",
           "LINDEN",
           "ABOVEGROUND"
          ],
          [
           "5/19/2016 6:45 AM",
           "MIDLAND",
           "ABOVEGROUND"
          ],
          [
           "5/20/2016 12:35 AM",
           "TRACY",
           "UNDERGROUND"
          ],
          [
           "5/20/2016 2:21 PM",
           "LULING",
           "UNDERGROUND"
          ],
          [
           "5/21/2016 7:10 AM",
           "JONES CREEK",
           "UNDERGROUND"
          ],
          [
           "5/23/2016 12:35 PM",
           0,
           "UNDERGROUND"
          ],
          [
           "5/23/2016 7:48 PM",
           0,
           "ABOVEGROUND"
          ],
          [
           "5/24/2016 1:45 PM",
           0,
           "TANK"
          ],
          [
           "5/25/2016 7:00 AM",
           "IOWA",
           "UNDERGROUND"
          ],
          [
           "5/25/2016 3:49 PM",
           "SEYMOUR",
           "ABOVEGROUND"
          ],
          [
           "5/25/2016 5:30 PM",
           "CUSHING",
           "UNDERGROUND"
          ],
          [
           "5/25/2016 7:40 PM",
           "SHICKLEY",
           "ABOVEGROUND"
          ],
          [
           "5/27/2016 11:55 AM",
           0,
           "ABOVEGROUND"
          ],
          [
           "5/27/2016 1:04 PM",
           "ASTON",
           "ABOVEGROUND"
          ],
          [
           "5/30/2016 6:00 PM",
           "CARTERET",
           "TANK"
          ],
          [
           "5/31/2016 7:40 AM",
           "CARSON",
           "UNDERGROUND"
          ],
          [
           "6/1/2016 6:10 AM",
           "BAKERSFIELD",
           "ABOVEGROUND"
          ],
          [
           "6/1/2016 11:00 AM",
           "CYGNET",
           "TANK"
          ],
          [
           "6/1/2016 10:20 PM",
           "HOUSTON",
           "ABOVEGROUND"
          ],
          [
           "6/2/2016 9:45 AM",
           "PINE SPRINGS",
           "ABOVEGROUND"
          ],
          [
           "6/2/2016 2:20 PM",
           "FOREST VIEW",
           "TANK"
          ],
          [
           "6/2/2016 4:00 PM",
           "PASADENA",
           "UNDERGROUND"
          ],
          [
           "6/3/2016 1:05 AM",
           "GALENA PARK",
           "ABOVEGROUND"
          ],
          [
           "6/3/2016 12:00 PM",
           "BANGOR",
           "UNDERGROUND"
          ],
          [
           "6/6/2016 7:00 AM",
           "BLUM",
           "ABOVEGROUND"
          ],
          [
           "6/6/2016 11:20 AM",
           "HOUSTON",
           "TANK"
          ],
          [
           "6/6/2016 3:30 PM",
           "CORSICANA",
           "UNDERGROUND"
          ],
          [
           "6/7/2016 7:30 AM",
           "CANTON ",
           "ABOVEGROUND"
          ],
          [
           "6/7/2016 10:58 AM",
           0,
           "UNDERGROUND"
          ],
          [
           "6/7/2016 12:00 PM",
           "IOLA",
           "ABOVEGROUND"
          ],
          [
           "6/9/2016 1:40 PM",
           "TAFT",
           "ABOVEGROUND"
          ],
          [
           "6/10/2016 8:00 AM",
           0,
           "UNDERGROUND"
          ],
          [
           "6/11/2016 1:47 PM",
           "PASADENA",
           "ABOVEGROUND"
          ],
          [
           "6/12/2016 2:00 PM",
           "LONG BEACH",
           "TANK"
          ],
          [
           "6/13/2016 6:45 PM",
           "WINNIE",
           "UNDERGROUND"
          ],
          [
           "6/14/2016 6:30 AM",
           "KARNES CITY",
           "ABOVEGROUND"
          ],
          [
           "6/14/2016 2:30 PM",
           "COLTULLA",
           "UNDERGROUND"
          ],
          [
           "6/15/2016 5:30 PM",
           "COMPTON",
           "UNDERGROUND"
          ],
          [
           "6/17/2016 5:27 AM",
           "IOLA",
           "ABOVEGROUND"
          ],
          [
           "6/19/2016 8:45 PM",
           "GARDENDALE",
           "ABOVEGROUND"
          ],
          [
           "6/20/2016 6:00 AM",
           0,
           "ABOVEGROUND"
          ],
          [
           "6/20/2016 10:00 AM",
           0,
           "ABOVEGROUND"
          ],
          [
           "6/20/2016 3:00 PM",
           "PASADENA",
           "UNDERGROUND"
          ],
          [
           "6/20/2016 8:00 PM",
           "CUSHING",
           "ABOVEGROUND"
          ],
          [
           "6/22/2016 9:30 AM",
           "MT. BELVIEU",
           "UNDERGROUND"
          ],
          [
           "6/23/2016 5:55 AM",
           "VENTURA CITY",
           "ABOVEGROUND"
          ],
          [
           "6/23/2016 1:56 PM",
           "PORT ARTHUR",
           "TANK"
          ],
          [
           "6/25/2016 9:27 AM",
           "PALMYRA",
           "UNDERGROUND"
          ],
          [
           "6/27/2016 9:45 AM",
           "VIDOR",
           "TANK"
          ],
          [
           "6/27/2016 11:00 AM",
           "LEBANON",
           "TANK"
          ],
          [
           "7/1/2016 9:15 AM",
           "BATON ROUGE",
           "UNDERGROUND"
          ],
          [
           "7/2/2016 6:50 AM",
           "WINK",
           "UNDERGROUND"
          ],
          [
           "7/5/2016 3:00 PM",
           "NOME",
           "ABOVEGROUND"
          ],
          [
           "7/6/2016 9:55 AM",
           0,
           "ABOVEGROUND"
          ],
          [
           "7/6/2016 10:15 AM",
           "LAKESIDE CITY",
           "UNDERGROUND"
          ],
          [
           "7/6/2016 6:30 PM",
           0,
           "UNDERGROUND"
          ],
          [
           "7/12/2016 12:00 PM",
           0,
           "UNDERGROUND"
          ],
          [
           "7/12/2016 12:30 PM",
           "CADDO MILLS",
           "ABOVEGROUND"
          ],
          [
           "7/13/2016 6:35 PM",
           "MCDONALD",
           "ABOVEGROUND"
          ],
          [
           "7/13/2016 9:32 PM",
           0,
           "ABOVEGROUND"
          ],
          [
           "7/14/2016 8:10 AM",
           "HUDSON",
           "TANK"
          ],
          [
           "7/14/2016 11:42 AM",
           "BELLE ROSE",
           "ABOVEGROUND"
          ],
          [
           "7/14/2016 1:13 PM",
           "MIDLAND",
           "UNDERGROUND"
          ],
          [
           "7/17/2016 9:30 AM",
           "BAYTOWN",
           "ABOVEGROUND"
          ],
          [
           "7/19/2016 10:00 AM",
           "MONT BELVIEU",
           "ABOVEGROUND"
          ],
          [
           "7/20/2016 3:35 PM",
           0,
           "ABOVEGROUND"
          ],
          [
           "7/20/2016 3:50 PM",
           "NEW LONDON",
           "UNDERGROUND"
          ],
          [
           "7/22/2016 6:00 AM",
           "HELENA",
           "UNDERGROUND"
          ],
          [
           "7/22/2016 7:23 PM",
           "HAMMOND",
           "ABOVEGROUND"
          ],
          [
           "7/25/2016 7:45 AM",
           "CORSICANA",
           "TANK"
          ],
          [
           "7/25/2016 12:01 PM",
           "BAYTOWN",
           "ABOVEGROUND"
          ],
          [
           "7/26/2016 9:40 AM",
           0,
           "ABOVEGROUND"
          ],
          [
           "7/26/2016 1:45 PM",
           "TULSA",
           "ABOVEGROUND"
          ],
          [
           "7/27/2016 11:00 PM",
           "MIDLAND",
           "ABOVEGROUND"
          ],
          [
           "7/28/2016 10:57 AM",
           "KAPOLEI",
           "ABOVEGROUND"
          ],
          [
           "7/28/2016 1:40 PM",
           "VERNON ",
           "ABOVEGROUND"
          ],
          [
           "7/28/2016 2:25 PM",
           "LONG BEACH",
           "ABOVEGROUND"
          ],
          [
           "7/29/2016 8:32 AM",
           "LONG BEACH",
           "ABOVEGROUND"
          ],
          [
           "7/29/2016 11:17 PM",
           "COLLEGE STATION",
           "ABOVEGROUND"
          ],
          [
           "7/30/2016 1:01 PM",
           "SEMINOLE",
           "UNDERGROUND"
          ],
          [
           "7/31/2016 12:50 PM",
           "HIGHLANDS ",
           "UNDERGROUND"
          ],
          [
           "8/1/2016 5:20 PM",
           0,
           "UNDERGROUND"
          ],
          [
           "8/2/2016 3:30 AM",
           "HOUSTON",
           "ABOVEGROUND"
          ],
          [
           "8/2/2016 5:00 PM",
           "MARICOPA",
           "TANK"
          ],
          [
           "8/3/2016 3:24 PM",
           "LA PORTE",
           "UNDERGROUND"
          ],
          [
           "8/5/2016 8:15 AM",
           "BILLINGS",
           "ABOVEGROUND"
          ],
          [
           "8/5/2016 3:30 PM",
           0,
           "ABOVEGROUND"
          ],
          [
           "8/5/2016 4:30 PM",
           "PORT ALLEN",
           "TANK"
          ],
          [
           "8/5/2016 5:45 PM",
           "CORSICANA",
           "ABOVEGROUND"
          ],
          [
           "8/6/2016 1:00 PM",
           "CRANE",
           "UNDERGROUND"
          ],
          [
           "8/8/2016 6:12 AM",
           "HERMLEIGH",
           "TANK"
          ],
          [
           "8/8/2016 6:45 AM",
           "EUNICE",
           "UNDERGROUND"
          ],
          [
           "8/9/2016 9:19 AM",
           "LIMA",
           "UNDERGROUND"
          ],
          [
           "8/9/2016 1:30 PM",
           "ORLA",
           "UNDERGROUND"
          ],
          [
           "8/9/2016 2:42 PM",
           "OLNEY",
           "UNDERGROUND"
          ],
          [
           "8/9/2016 6:40 PM",
           "LAPORTE",
           "ABOVEGROUND"
          ],
          [
           "8/10/2016 8:35 AM",
           "FRANKLIN",
           "ABOVEGROUND"
          ],
          [
           "8/10/2016 9:15 AM",
           "LONG BEACH",
           "UNDERGROUND"
          ],
          [
           "8/10/2016 12:02 PM",
           "HALLETTSVILLE",
           "ABOVEGROUND"
          ],
          [
           "8/12/2016 11:00 AM",
           "JACKSON",
           "TANK"
          ],
          [
           "8/13/2016 2:45 AM",
           "ARTESIA",
           "ABOVEGROUND"
          ],
          [
           "8/13/2016 4:10 AM",
           "SORRENTO",
           "ABOVEGROUND"
          ],
          [
           "8/13/2016 7:49 AM",
           "CHURCH POINT",
           "TANK"
          ],
          [
           "8/13/2016 10:42 AM",
           "PORT ARTHUR",
           "UNDERGROUND"
          ],
          [
           "8/13/2016 5:00 PM",
           "MCKITTRICK",
           "ABOVEGROUND"
          ],
          [
           "8/14/2016 2:45 AM",
           "PORTLAND",
           "ABOVEGROUND"
          ],
          [
           "8/15/2016 9:45 AM",
           "WICHITA FALLS",
           "ABOVEGROUND"
          ],
          [
           "8/15/2016 4:33 PM",
           "PORT ARTHUR",
           "UNDERGROUND"
          ],
          [
           "8/15/2016 10:00 PM",
           "OPELIKA",
           "ABOVEGROUND"
          ],
          [
           "8/16/2016 4:19 AM",
           "MT BELVIEU",
           "ABOVEGROUND"
          ],
          [
           "8/16/2016 8:21 PM",
           "ALLEGHENY TOWNSHIP",
           "ABOVEGROUND"
          ],
          [
           "8/17/2016 7:05 AM",
           0,
           "ABOVEGROUND"
          ],
          [
           "8/17/2016 7:20 AM",
           "BLOOMINGTON",
           "ABOVEGROUND"
          ],
          [
           "8/18/2016 11:00 AM",
           "BATON ROUGE",
           "TANK"
          ],
          [
           "8/19/2016 11:00 AM",
           "BILLINGS",
           "ABOVEGROUND"
          ],
          [
           "8/22/2016 2:30 AM",
           "BAYONNE",
           "ABOVEGROUND"
          ],
          [
           "8/23/2016 6:00 PM",
           "SPARTANBURG",
           "UNDERGROUND"
          ],
          [
           "8/23/2016 7:45 PM",
           0,
           "UNDERGROUND"
          ],
          [
           "8/24/2016 9:30 PM",
           "MIDLAND",
           "ABOVEGROUND"
          ],
          [
           "8/25/2016 6:00 AM",
           "CUSHING",
           "TANK"
          ],
          [
           "8/25/2016 10:48 AM",
           "HOUSTON",
           "TANK"
          ],
          [
           "8/25/2016 3:55 PM",
           "COLLINS",
           "ABOVEGROUND"
          ],
          [
           "8/26/2016 7:50 AM",
           "LONGVIEW",
           "UNDERGROUND"
          ],
          [
           "8/29/2016 10:15 AM",
           "PASADENA",
           "TANK"
          ],
          [
           "8/30/2016 7:15 AM",
           "MANKATO",
           "ABOVEGROUND"
          ],
          [
           "8/30/2016 1:30 PM",
           "THREE RIVERS",
           "ABOVEGROUND"
          ],
          [
           "8/30/2016 4:05 PM",
           0,
           "ABOVEGROUND"
          ],
          [
           "8/31/2016 4:35 PM",
           "EDNA",
           "ABOVEGROUND"
          ],
          [
           "9/5/2016 8:50 AM",
           0,
           "UNDERGROUND"
          ],
          [
           "9/5/2016 1:07 PM",
           "MIDLAND",
           "TANK"
          ],
          [
           "9/5/2016 1:45 PM",
           "GALENA PARK",
           "ABOVEGROUND"
          ],
          [
           "9/6/2016 8:30 AM",
           "EL PASO",
           "TANK"
          ],
          [
           "9/6/2016 11:50 AM",
           "ARCHER CITY",
           "UNDERGROUND"
          ],
          [
           "9/6/2016 3:50 PM",
           "PERTH AMBOY",
           "TANK"
          ],
          [
           "9/7/2016 12:30 PM",
           "SOUR LAKE",
           "ABOVEGROUND"
          ],
          [
           "9/8/2016 2:00 AM",
           "MIDLAND",
           "ABOVEGROUND"
          ],
          [
           "9/9/2016 11:10 AM",
           "HELENA",
           "UNDERGROUND"
          ],
          [
           "9/10/2016 5:15 PM",
           "SWEETWATER",
           "UNDERGROUND"
          ],
          [
           "9/11/2016 7:30 PM",
           0,
           "ABOVEGROUND"
          ],
          [
           "9/15/2016 12:03 PM",
           0,
           "TANK"
          ],
          [
           "9/16/2016 2:56 PM",
           0,
           "ABOVEGROUND"
          ],
          [
           "9/17/2016 6:00 AM",
           "TORREON",
           "UNDERGROUND"
          ],
          [
           "9/18/2016 1:00 PM",
           "CORPUS CRISTI",
           "ABOVEGROUND"
          ],
          [
           "9/19/2016 7:30 AM",
           "DRUMRIGHT",
           "UNDERGROUND"
          ],
          [
           "9/20/2016 12:05 AM",
           "AUSTELL",
           "UNDERGROUND"
          ],
          [
           "9/20/2016 3:20 PM",
           "HUNTSVILLE",
           "UNDERGROUND"
          ],
          [
           "9/22/2016 8:37 AM",
           0,
           "ABOVEGROUND"
          ],
          [
           "9/22/2016 9:00 AM",
           "GOODRICH",
           "TANK"
          ],
          [
           "9/22/2016 10:23 AM",
           0,
           "ABOVEGROUND"
          ],
          [
           "9/22/2016 12:48 PM",
           0,
           "UNDERGROUND"
          ],
          [
           "9/23/2016 1:03 PM",
           "TOLEDO",
           "UNDERGROUND"
          ],
          [
           "9/24/2016 9:15 AM",
           "MCCAMEY",
           "UNDERGROUND"
          ],
          [
           "9/25/2016 8:11 PM",
           0,
           "ABOVEGROUND"
          ],
          [
           "9/26/2016 10:00 AM",
           0,
           "UNDERGROUND"
          ],
          [
           "9/27/2016 9:27 AM",
           "HUNTSVILLE",
           "UNDERGROUND"
          ],
          [
           "9/28/2016 2:30 PM",
           "CHEYENNE",
           "UNDERGROUND"
          ],
          [
           "9/29/2016 6:45 AM",
           "GLENPOOL",
           "ABOVEGROUND"
          ],
          [
           "9/29/2016 1:11 PM",
           0,
           "ABOVEGROUND"
          ],
          [
           "9/30/2016 5:00 PM",
           "HOUSTON",
           "TANK"
          ],
          [
           "10/1/2016 5:05 AM",
           "LINDEN",
           "ABOVEGROUND"
          ],
          [
           "10/2/2016 8:00 AM",
           "COLLINS",
           "ABOVEGROUND"
          ],
          [
           "10/2/2016 12:00 PM",
           "MILLER",
           "UNDERGROUND"
          ],
          [
           "10/2/2016 7:03 PM",
           "CORPUS CHRISTI",
           "ABOVEGROUND"
          ],
          [
           "10/3/2016 8:00 AM",
           "PECOS",
           "ABOVEGROUND"
          ],
          [
           "10/3/2016 6:00 PM",
           "HOUSTON",
           "TANK"
          ],
          [
           "10/5/2016 9:30 AM",
           "JACKSON",
           "UNDERGROUND"
          ],
          [
           "10/6/2016 7:45 PM",
           "ORLA",
           "UNDERGROUND"
          ],
          [
           "10/7/2016 5:35 PM",
           "MONT BELVIEU",
           "ABOVEGROUND"
          ],
          [
           "10/11/2016 12:53 AM",
           "JACKSON",
           "TANK"
          ],
          [
           "10/11/2016 1:30 PM",
           "BAYTOWN",
           "ABOVEGROUND"
          ],
          [
           "10/12/2016 8:00 AM",
           "BOOTHWYN",
           "ABOVEGROUND"
          ],
          [
           "10/12/2016 3:30 PM",
           "JEFFREY CITY",
           "ABOVEGROUND"
          ],
          [
           "10/13/2016 10:30 AM",
           "GROVER",
           "ABOVEGROUND"
          ],
          [
           "10/15/2016 11:00 AM",
           "VALLEY CENTER",
           "ABOVEGROUND"
          ],
          [
           "10/16/2016 3:10 PM",
           0,
           "ABOVEGROUND"
          ],
          [
           "10/17/2016 12:30 PM",
           "SONORA",
           "ABOVEGROUND"
          ],
          [
           "10/17/2016 2:55 PM",
           0,
           "UNDERGROUND"
          ],
          [
           "10/17/2016 5:36 PM",
           "BOWLING GREEN",
           "ABOVEGROUND"
          ],
          [
           "10/17/2016 9:26 PM",
           0,
           "UNDERGROUND"
          ],
          [
           "10/17/2016 9:50 PM",
           "LIMA",
           "UNDERGROUND"
          ],
          [
           "10/18/2016 7:05 AM",
           0,
           "ABOVEGROUND"
          ],
          [
           "10/20/2016 6:06 AM",
           "WHITNEY",
           "ABOVEGROUND"
          ],
          [
           "10/20/2016 9:48 AM",
           "DEER RIVER",
           "ABOVEGROUND"
          ],
          [
           "10/21/2016 3:02 AM",
           "GAMBLE TOWNSHIP",
           "UNDERGROUND"
          ],
          [
           "10/23/2016 9:51 PM",
           "CUSHING",
           "UNDERGROUND"
          ],
          [
           "10/26/2016 10:01 AM",
           "CLAFIN",
           "ABOVEGROUND"
          ],
          [
           "10/27/2016 2:10 PM",
           "GREAT BEND",
           "ABOVEGROUND"
          ],
          [
           "10/28/2016 5:50 PM",
           "INDUSTRY",
           "ABOVEGROUND"
          ],
          [
           "10/29/2016 5:30 AM",
           "CORSICANA",
           "UNDERGROUND"
          ],
          [
           "10/29/2016 9:21 PM",
           0,
           "ABOVEGROUND"
          ],
          [
           "10/31/2016 11:30 AM",
           "NEDERLAND",
           "ABOVEGROUND"
          ],
          [
           "10/31/2016 2:51 PM",
           "HELENA",
           "UNDERGROUND"
          ],
          [
           "11/1/2016 10:15 AM",
           0,
           "ABOVEGROUND"
          ],
          [
           "11/1/2016 1:35 PM",
           "CORNUDAS",
           "UNDERGROUND"
          ],
          [
           "11/2/2016 5:00 AM",
           "PORT ALLEN",
           "ABOVEGROUND"
          ],
          [
           "11/2/2016 3:50 PM",
           "GALENA PARK",
           "TANK"
          ],
          [
           "11/2/2016 4:50 PM",
           "SPANAWAY",
           "ABOVEGROUND"
          ],
          [
           "11/3/2016 7:21 PM",
           "POCATELLO",
           "ABOVEGROUND"
          ],
          [
           "11/4/2016 6:00 AM",
           "SEWAREN",
           "ABOVEGROUND"
          ],
          [
           "11/6/2016 5:00 PM",
           "MCCAMEY",
           "UNDERGROUND"
          ],
          [
           "11/6/2016 6:45 PM",
           "HOUSTON",
           "ABOVEGROUND"
          ],
          [
           "11/7/2016 6:55 AM",
           "HOUSTON",
           "TANK"
          ],
          [
           "11/8/2016 9:55 AM",
           0,
           "UNDERGROUND"
          ],
          [
           "11/8/2016 3:36 PM",
           "VINTONDALE",
           "UNDERGROUND"
          ],
          [
           "11/11/2016 7:00 PM",
           "PASADENA",
           "ABOVEGROUND"
          ],
          [
           "11/12/2016 10:31 AM",
           "GERALD",
           "UNDERGROUND"
          ],
          [
           "11/15/2016 1:45 PM",
           "BLOOMING GROVE ",
           "ABOVEGROUND"
          ],
          [
           "11/15/2016 4:46 PM",
           "BRUSHY TOWNSHIP",
           "UNDERGROUND"
          ],
          [
           "11/16/2016 11:10 AM",
           "BLOOMINGTON",
           "ABOVEGROUND"
          ],
          [
           "11/16/2016 11:38 AM",
           0,
           "ABOVEGROUND"
          ],
          [
           "11/16/2016 1:41 PM",
           0,
           "UNDERGROUND"
          ],
          [
           "11/19/2016 8:20 AM",
           "BAYONNE",
           "TANK"
          ],
          [
           "11/20/2016 4:01 PM",
           "WOLSEY",
           "TANK"
          ],
          [
           "11/21/2016 3:20 AM",
           "CORPUS CHRISTI",
           "ABOVEGROUND"
          ],
          [
           "11/21/2016 7:30 PM",
           "SEMINOLE",
           "ABOVEGROUND"
          ],
          [
           "11/24/2016 5:15 AM",
           "MIDLAND",
           "UNDERGROUND"
          ],
          [
           "11/28/2016 10:27 AM",
           0,
           "ABOVEGROUND"
          ],
          [
           "11/29/2016 7:30 AM",
           "THREE RIVERS",
           "ABOVEGROUND"
          ],
          [
           "11/29/2016 10:05 AM",
           "GORMAN",
           "UNDERGROUND"
          ],
          [
           "11/29/2016 6:27 PM",
           "PLATTE CITY",
           "UNDERGROUND"
          ],
          [
           "11/30/2016 5:30 AM",
           "JACKSON",
           "ABOVEGROUND"
          ],
          [
           "12/1/2016 3:23 AM",
           "PORT ARTHUR",
           "ABOVEGROUND"
          ],
          [
           "12/1/2016 3:57 AM",
           "THOMPSON",
           "ABOVEGROUND"
          ],
          [
           "12/1/2016 10:50 AM",
           "LONGVIEW",
           "ABOVEGROUND"
          ],
          [
           "12/2/2016 5:48 AM",
           "KINGSLAND",
           "ABOVEGROUND"
          ],
          [
           "12/2/2016 6:30 AM",
           0,
           "TRANSITION AREA"
          ],
          [
           "12/2/2016 3:18 PM",
           "HARTFORD",
           "ABOVEGROUND"
          ],
          [
           "12/5/2016 10:30 AM",
           0,
           "UNDERGROUND"
          ],
          [
           "12/6/2016 5:35 PM",
           "STOWELL",
           "ABOVEGROUND"
          ],
          [
           "12/7/2016 5:07 AM",
           "AUGUSTA",
           "ABOVEGROUND"
          ],
          [
           "12/9/2016 7:15 PM",
           "COVE",
           "UNDERGROUND"
          ],
          [
           "12/10/2016 7:30 PM",
           "OLD OCEAN",
           "ABOVEGROUND"
          ],
          [
           "12/10/2016 10:27 PM",
           0,
           "ABOVEGROUND"
          ],
          [
           "12/11/2016 1:15 AM",
           "HOUSTON",
           "ABOVEGROUND"
          ],
          [
           "12/12/2016 4:10 PM",
           "MOUNT BELVIEU",
           "ABOVEGROUND"
          ],
          [
           "12/13/2016 9:50 AM",
           "MOUNT BELVIEU",
           "ABOVEGROUND"
          ],
          [
           "12/14/2016 12:14 AM",
           "FREDERICKSBURG",
           "UNDERGROUND"
          ],
          [
           "12/14/2016 8:00 AM",
           0,
           "ABOVEGROUND"
          ],
          [
           "12/14/2016 3:05 PM",
           0,
           "UNDERGROUND"
          ],
          [
           "12/15/2016 1:12 PM",
           "LIMA",
           "TANK"
          ],
          [
           "12/17/2016 6:00 AM",
           "CARTERET",
           "TANK"
          ],
          [
           "12/19/2016 6:45 AM",
           0,
           "ABOVEGROUND"
          ],
          [
           "12/19/2016 1:50 PM",
           0,
           "ABOVEGROUND"
          ],
          [
           "12/19/2016 2:10 PM",
           "YALE",
           "UNDERGROUND"
          ],
          [
           "12/19/2016 2:45 PM",
           "SPEARSVILLE",
           "ABOVEGROUND"
          ],
          [
           "12/20/2016 4:15 PM",
           "YALE",
           "UNDERGROUND"
          ],
          [
           "12/21/2016 11:40 AM",
           "ELWOOD",
           "ABOVEGROUND"
          ],
          [
           "12/22/2016 9:25 PM",
           "SALISBURY",
           "ABOVEGROUND"
          ],
          [
           "12/23/2016 3:00 PM",
           "HOUSTON",
           "ABOVEGROUND"
          ],
          [
           "12/24/2016 9:35 AM",
           0,
           "ABOVEGROUND"
          ],
          [
           "12/26/2016 7:20 AM",
           0,
           "ABOVEGROUND"
          ],
          [
           "12/27/2016 8:40 AM",
           "TINA",
           "ABOVEGROUND"
          ],
          [
           "12/28/2016 4:20 PM",
           0,
           "UNDERGROUND"
          ],
          [
           "12/29/2016 6:40 AM",
           "CUSHING",
           "TANK"
          ],
          [
           "1/3/2017 10:00 AM",
           "INDUSTRY",
           "UNDERGROUND"
          ],
          [
           "1/9/2017 7:40 AM",
           "GONZALES",
           "ABOVEGROUND"
          ]
         ],
         "hovertemplate": "<b>%{hovertext}</b><br><br>Accident Latitude=%{lat}<br>Accident Longitude=%{lon}<br>Accident Date/Time=%{customdata[0]}<br>Accident City=%{customdata[1]}<br>Pipeline Type=%{customdata[2]}<extra></extra>",
         "hovertext": [
          "KINDER MORGAN JCT",
          "24-INCH MAIN LINE",
          0,
          "SUPERIOR TERMINAL",
          "RED RIVER EAST",
          0,
          0,
          "HULL STATION",
          0,
          "TANK 1501",
          "N-4 LINE (NORMAL BUTANE)",
          "46P HOUSTON 12\" REFINDED PRODUCTS PL",
          "CHASE KAW TERMINAL",
          "TANK 824",
          "CUSHING TERMINAL",
          "CCPS TRANSPORTATION, RUSH STATION",
          "MAGELLAN AMMONIA PIPELINE, LP",
          "SORRENTO DOME",
          0,
          "PARK RAPIDS PUMP STATION",
          "GOWANDA BOOSTER STATION",
          "LINE 63 SOUTH PACIFIC PIPELINES BP REFINERY TANK F",
          0,
          "PRINCETON TERMINAL",
          "AURORA PUMP STATION",
          "WOOD RIVER TANK FARM",
          "NORTH COLES LEVEE",
          "FLUKER STATION",
          "KOLA PUMPING STATION",
          "EL DORADO STATION",
          "PRINCETON TERMINAL",
          "LOOP LLC",
          "PORT ARTHUR TK FM",
          "DICKINSON GATHERING",
          "FLEMING STATION",
          "MITCHELL FIELD TERMINAL",
          "EL DORADO WEST STATION",
          "ERATH - EAST HOUSTON CRUDE",
          "BATON ROUGE TANK FARM",
          "CLERMONT TERMINAL",
          "WAYNE JUNCTION",
          "KANSAS CITY PUMP STATION",
          "LINDEN STATION",
          "THOMAS STATION",
          "D-BOOSTER 10-INCH",
          "W. TX. NGL",
          "NORTH SPOKANE",
          "HEARTLAND COUNCIL BLUFFS",
          "10\" PIPELINE FROM HWY 64 JCT. TO MEDFORD PLANT",
          0,
          "LONGVIEW STATION",
          "CLEARBROOK TERMINAL",
          0,
          0,
          "LAKE CHARLES LINE 1 DYNATROL",
          "SORRENTO DOME",
          "MID-CONTINENT PIPELINE SYSTEM",
          "KANSAS CITY STATION",
          "TEXOMA STATION",
          "CORSICANA STATION",
          "SUPERIOR TERMINAL",
          "MILFORD TERMINAL",
          "COMYN STATION",
          0,
          "SATTERWHITE JUNCTION",
          "LS 20",
          "CUSHING TERMINAL",
          "KELLEY PUMP STATION",
          "MOKENA STATION",
          "TEXAS CITY CRUDE",
          "BATON ROUGE STATION",
          "LOUISIANA GATHERING SYSTEM",
          "CUSHING TERMINAL SOUTH",
          0,
          "PHILADELPHIA REFINERY - WEST YARD",
          0,
          "LO-01, LINE O",
          "BARTOW ANCLOTE PIPELINE",
          "CLIFTON RIDGE",
          0,
          "EAST LEG BLUE LINE",
          "HANCOCK STATION",
          "PLATTE PIPE LINE CO.",
          "WEST TULSA TERMINAL",
          "BRIDGER LAKE",
          "BAD CREEK STATION",
          "CYPRESS 10\" CRUDE PIPELINE",
          0,
          0,
          "GD-03, GOLD LINE",
          "COLORADO CITY STATION",
          "NOBLE 8\"",
          "LOUDON PUMPING STATION",
          "P35 PUMP STATION",
          "PORT ARTHUR TANK FARM",
          "LONGVIEW  PIPELINE STATION- LINE CODE 2942127",
          "LUCAS STATION",
          0,
          "REFUGIO PUMP STATION",
          "LINE 2",
          "#3-6\" MASON CITY TO MANKATO LINE",
          "WEST LEG RED LINE",
          "GARYVILLE TO ZACHARY 20\" - ZACHARY STATION",
          "SAMARIA - DETROIT 16\" CRUDE",
          "OLATHE PUMP STATION",
          "SALT LAKE PRODUCTS",
          "AMMONIA LINE WEST LEG",
          "ATLANTA JUNCTION",
          "HOUSTON REFINING LP",
          "COLEX WEST TANK FARM",
          "WHITING TO EARLY SEGMENT",
          "EL DORADO 6 INCH",
          "LINDEN STATION",
          "NORTH PORT ARTHUR TERMINAL",
          "SOUTHWESTERN TERMINAL AREA 1",
          "LAS VEGAS TERMINAL",
          "TIOGA HIGH PLAINS PIPELINE",
          "HOBBS TO MIDLAND",
          "CENTRAL BASIN PIPELINE",
          "CRANE WEST",
          "SUGARLAND TANK FARM",
          "GRAHAM STATION",
          "TEXAS CITY TANK FARM",
          "TEXAS CITY TANK FARM",
          "MILLENNIUM 12\"-TEXOMA STATION",
          "LINDEN JUNCTION",
          "WEST TEXAS LPG",
          "LINDEN TO NY STATE LINE",
          "HANSTON DISCHARGE",
          "CANTON - EAST SPARTA #1-6\"",
          "CARPENTER PUMP STATION ",
          "COLORADO CITY BASIN STATION",
          "GALENA PARK",
          "PUMP STATION 09",
          "COMMERCE CITY PUMP STATION",
          "CHOCTAW TERMINAL",
          "KANSAS CITY TERMINAL",
          "CORSICANA STATION",
          "ARNOLD TO HOLTZINGER 4\"/6\"",
          0,
          "MP 97.9",
          "HOUSTON REFINING LP",
          "ELLIS PIPELINE",
          "SPARTANBURG DELIVERY FACILITY",
          "SAN JOAQUIN VALLEY CRUDE SYSTEM",
          "4\" PORT ARTHUR REFINERY GRADE BUTANE",
          "MX-20",
          "STERLING 2 PIPELINE/HAMMETT BOOSTER ",
          "MINNESOTA PL 4, ALBANY STATION",
          "CITGO - CASA PIPELINE SYSTEM",
          "GRENORA STATION",
          "WABASH 12\" PRODUCTS",
          "NORCO - SORRENTO PROPYLENE ",
          "LINE 6A",
          "LCPL 16 INCH PRODUCT LINE",
          "NORTH AUGUSTA DELIVERY FACILITY",
          "SHELDON ROAD STATION",
          "DOUGLAS STATION",
          0,
          "24\" SUN-BEAUMONT TERMINAL CRUDE",
          "RED BUTTE CREEK ",
          "BUXTON STATION",
          "CUSHING EAST FACILITY",
          "CHEYENNE CRUDE STATION ",
          0,
          "COLMESNEIL STATION",
          "ROSWELL PUMP STATION ",
          "BENGAL 24\" ",
          "LIMA TO CANTON 12\" - 16\" CRUDE",
          "COLORADO CITY STATION",
          "CHATSWORTH PUMP STATION",
          "#1-8\" IRVINGTON TO OMAHA LINE",
          "ANHYDROUS AMMONIA PIPELINE ",
          "LINE 4 - 36\"",
          0,
          "DRUMRIGHT STATION",
          "DIXIE PIPELINE",
          "CSFM #1105/SANSINENA",
          "CUSHING TERMINAL",
          "CLEAR LAKE DILUTE PROPYLENE PUMP STA",
          "MORGANS POINT TO TEXAS OLEFINS #3",
          "ETX 10\"-THOMAS STATION",
          "TEXOMA  TANK FARM",
          "BOWLING GREEN PUMPING STATION",
          "NEWCASTLE VALVE SITE",
          "FHR-PORT ARTHUR 8\"",
          "WOOD RIVER TO PATOKA 22\" CRUDE",
          "NORTH LINE 1 STATIONARY PROVER/MEDFORD STATION",
          "STERLING 2/HAMMET BOOSTER",
          "WOOD RIVER TO CLERMONT 10\" PRODUCTS",
          "CARTERET TERMINAL",
          "ROCKLIN STATION",
          "STERLING 2/SHEPHERD BOOSTER",
          "ANHYDROUS AMMONIA PIPELINE ",
          "LINE 6B",
          "SOUR LAKE TANK FARM",
          "WOOD RIVER TANK FARM",
          "LINE 1",
          "BILLINGS TANK FARM",
          "LINE 2 ",
          "CUNNINGHAM 12\"",
          "CORSICANA STATION",
          "FOUNTAIN TERMINAL",
          "RANGER-WTG STATION",
          "MARCUS HOOK REFINERY",
          "MAUMEE SYSTEM",
          "CRANE STATION",
          "WYNNEWOOD TO OKC",
          0,
          "MIDLAND TANK FARM",
          0,
          "MONT BELVIEW-BAYPORT 191 CHEMICAL GRADE PROPYLENE",
          "LONG ISLAND CITY TO MOTIVA GAS",
          "WHITE OAK TO CHICAGO O'HARE",
          "DUNCAN STATION",
          "STERLING 2/SALMON BSTR",
          "HARTINGTON PUMP STATION",
          "ST JAMES TERMINAL 40\" CAPLINE ",
          "GALENA PARK TERMINAL",
          "SHERWOOD STATION",
          "CORSICANA STATION",
          "GLENPOOL TANK FARM",
          "LINE 51 GASCONADE STATION -GA",
          "LDH ENERGY MONT BELVIEU SOUTH TERMINAL",
          "MONT BELVIEU PUMP STATION",
          "PINES METER STATION",
          "TANK 1078 AT THE CASPER PUMP STATION",
          "P-41",
          "BAYTOWN PRODUCTS 2 (SAPL)",
          "SOUTH FEEDSTOCK",
          "WICHITA FALLS STATION",
          0,
          "ENID LATERAL",
          0,
          "RECEIVER AT MP 191",
          "RGV-35A",
          "NUSTAR ARK CITY STATION",
          "MARINGOUIN STATION",
          "212 METER RUN AT CONWAY STORAGE ",
          "313 JUNCTION OR KM/ONEOK DELIVERY",
          0,
          "LINE 6A",
          "LINE 6B",
          "EL DORADO TERMINAL",
          "ST. JAMES TERMINAL",
          "FAUNA TANK FARM",
          "TEXAS PLAINS SYSTEM",
          "EAST LEG BLUE LINE",
          "WILLIS PUMP STATION",
          "CASEY TO INDIANA STATE LINE",
          "EAST FEEDSTOCK SYSTEM",
          "GAINES STATION",
          "SOUR LAKE CITGO JUNCTION ",
          "DEER RIVER STATION",
          "36G PUMP",
          "HEBERT STATION",
          "HEBERT STATION",
          "THOMAS STATION",
          "LOU-TEX PROPYLENE 10\"",
          "MARYSVILLE STATION",
          "BEAUMONT TERMINAL",
          "SLAUGHTER STATION",
          "PERTH AMBOY TERMINAL",
          "HARBOR PIPELINE",
          0,
          "WEST TEXAS LPG",
          "CAMP STATION",
          "HOPE STATION",
          "CREAL SPRINGS-MARTINSVILLE 26\"-10\" PRODUCTS",
          "STERLING 1 INDEX 10177",
          "EAST HOUSTON TERMINAL",
          "HEBERT STATION",
          "NORTH PORT ARTHUR STATION",
          "LS 108",
          "FOSTER GATHERING",
          "10026/CRINER STATION",
          "C-18",
          "ARGO TERMINAL",
          "COLONIAL",
          "CUNNINGHAM 12\"",
          "CARSON DISTRIBUTION FACILITY",
          "HEALDTON STATION",
          "FLOODWOOD STATION",
          "LINE E-31A",
          "#6-12\" ROSEMOUNT TO WILLMAR LINE",
          "ENID STATION",
          "HEALDTON STATION",
          "COLDWATER STATION",
          "WEST LEG ANHYDROUS AMMONIA SYSTEM",
          "DIBOLL STATION",
          "FREEPORT TERMINAL",
          "MAPCO HOBBS JCT TO MAPCO HOBS STATION",
          "ERATH TO EAST HOUSTON CRUDE",
          "MOUNDVILLE STATION",
          "AMDEL 10\"",
          "CARTERET TERMINAL IN PLANT COLONIAL CONNECTION",
          "SUBLETEE STATION",
          "WITHERS STATION TO WEST COLUMBIA STATION",
          "SIGNA STATION",
          "EXPRESS PIPELINE FISH CREEK STATION",
          "DIXIE PIPELINE",
          0,
          "31X FACILITY",
          "NUSTAR PIPELINE OPERATING PARTNERSHIP L.P.",
          "LINDEN JUNCTION",
          "EAST HYNES",
          "KATZ METER STATION",
          "CRANE STATION",
          "EL DORADO TERMINAL",
          "LINE 5",
          "10484/MB1 ARBUCKLE DELIVERY",
          "RED BUTTE BLOCK VALVE SITE",
          "SAUGET TO DUPO 162 LINE",
          0,
          "KILGORE 10\"",
          "CHINA GROVE TANK FACILITY",
          "NUSTAR PIPELINE OPERATING PARTNERSHIP L.P.",
          "KANSAS CITY STATION",
          "WEST TULSA TERMINAL",
          "DORSEY JUNCTION",
          "LINDEN STATION",
          "VAN GATHERING ",
          "GAINES PUMP STATION- ROCKY MOUNTAIN SYSTEM",
          "FARGO TANK FARM",
          "WOOD RIVER PUMP STATION",
          "PORT ARTHUR TANK FARM",
          "ONEOK - LINE CREEK TO CALUMET 4 INCH 10149",
          "ONEOK JAYHAWK PIPELINE  10251",
          "BARTLESVILLE TO BROOME PIPELINE",
          "WEST LEG BLUE LINE",
          "TAYLOR TERMINAL OPERATIONS (BTTDB)",
          "MCPHERSON STATION",
          "SUBLETTE STATION",
          "BETHANY PUMP STATION",
          "WEST SHORE",
          0,
          "GD-03, GOLD LINE",
          0,
          "MAYERSVILLE STATION",
          "ST LINDEN TERMINAL, LLC",
          "TEXAS CITY SCRAPER TRAP",
          "GREEN PIPELINE",
          "GENEVA TO ELM CREEK ",
          "ONEOK NGL PIPELINE-- STERLING 1 PIPELINE",
          "OILTANKING HOUSTON #1 P/L",
          "WEST HYNES FACILITY",
          "ANHYDROUS AMMONIA LINE",
          "CONWAY WEST ",
          "MIDLAND BASIN",
          "66/LM",
          "MORRIS TERMINAL",
          "MERTEN STATION",
          "PASADENA TERMINAL",
          "DC - GUERNSEY 12\"",
          "SOUTH TEXAS RGP SYSTEM",
          "BOWIE STATION",
          0,
          "PUMP STATION 1",
          "RICHMOND DELIVERY FACILITY",
          "EL PASO TERMINAL",
          "ARBUCKLE PIPELINE/DEVON CANA PLANT",
          "P-63",
          "SHELL METER RUN",
          0,
          "FERC/SHATTUCK BOOSTER",
          "DORSEY JUNCTION",
          "LINDEN STATION",
          "MOKENA STATION- 10961 NORTH 183RD ST",
          "NEJD",
          "WOODBURY JUNCTION",
          "EAST CHICAGO WEST EG",
          "EOLA TO MAYSVILLE 10\"",
          "SONORA PRODUCTS PIPELINE",
          "LAKE CHARLES STATION",
          "SABINA EQUISTAR",
          0,
          "C67",
          0,
          "TURNEY PUMP STATION ",
          "NORTH HOUSTON METER STATION",
          "PHILADELPHIA JUNCTION",
          "SEDGWICK LATERAL",
          "CUSHING DELIVERY STATION ",
          "CUSHING TERMINAL",
          "ELKHART TERMINAL",
          "DES MOINES TO MINNEAPOLIS #4-12 LINE (ID 6185)",
          "HARLAN TANK FARM",
          "CREAL SPRINGS TERMINALS",
          "CARTERET TERMINAL",
          "HOBBS TO MIDLAND",
          "DARBY CREEK TANK FARM",
          "LAPORTE FEED SYSTEM",
          "ENTERPRISE WEST STORAGE FACILITY",
          0,
          "ETX 10\"-TEXOMA STATION",
          "BRAVO DOME METER FACILITY",
          "4\" GATHERING WHITE OAK",
          "DIBOLL-MILLENNIUM",
          "OPPL/OPAL STATION",
          "WYNNEWOOD STATION",
          "DENBURY GREEN PIPELINE-TEXAS, LLC",
          "PALCO- CVR INJECTION",
          "CARTERET TERMINAL",
          "ST LINDEN TERMINAL, LLC",
          "ROCK PUMP STATION ",
          "NORTH LINE 2",
          "MILFORD TERMINAL",
          "GREAT FALLS PUMP STATION",
          "MONT BELVIEU UNDERGROUND STORAGE",
          "COLORADO CITY STATION",
          0,
          "CUSHING EAST FACILITY",
          "ARGO TERMINAL",
          "FOUR MILE STATION",
          "TEN MILE STATION",
          "WOODBURY PUMP STATION",
          "TEXAS CITY TO PASADENA 18\" PRODUCT LINE",
          "LAKE CHARLES PUMP STATION",
          "MINOT STATION",
          "OSAGE CRUDE",
          "#6-10\" EL DORADO TO KANSAS CITY LINE",
          "HEALDTON STATION",
          "SEMINOLE RED MAINLINE",
          "MITCHELL JUNCTION",
          "SEMINOE PIPE LINE ORIGINATION",
          "BYRON - SILVERTIP 12\"-10\" CRUDE",
          "CUSHING CRUDE TERMINAL",
          "RIVER ROUGE TERMINAL",
          "HAMDEN NEW HAVEN 8\"",
          "CARTERET TERMINAL",
          "BATON ROUGE TANK FARM",
          0,
          "SENECA PUMP STATION ",
          "NORTH PORT ARTHUR TERMINAL",
          "HWY 148 STATION",
          0,
          "BAYTOWN TERMINAL",
          "MARTIN",
          "C1",
          "GIBSON CITY PUMP STATION,  FORD COUNTY, ILL",
          "CHARLOTTE DELIVERY FACILITY",
          "LOU/LEX PIPELINE",
          "CUSHING TERMINAL",
          "GENEVA TO NORFOLK - 8 INCH",
          "PATOKA TANK FARM",
          "SALT LAKE PRODUCTS",
          "SOUTH TEXAS RGP SYSTEM",
          "WASKOM STATION",
          "SUPERIOR TERMINAL",
          "MCCAMEY TANK FARM",
          "EVANGELINE ETHYLENE PIPELINE SYSTEM",
          "DORSEY JUNCTION",
          "LINE 82D",
          "WORTHAM STATION",
          "FOX RIVER TO US OIL",
          "HUNTINGTON TO JOLIETVILLE",
          "MAINLINE VALVE SITE 889",
          "WOLVERINE PIPELINE",
          "VERDIGRIS LATERAL",
          "THOMAS STATION",
          "SEAWAY PIPELINE/FREEPORT MARINE TERMINAL",
          "ANHYDROUS AMMONIA WEST LEG",
          "ANHYDROUS AMMONIA WEST LEG",
          "LINE 145",
          "LS 64",
          "RINGGOLD STATION",
          "REFUGIO STATION",
          "MESA TANK FARM",
          "STERLING 2/GRAPELAND STATION",
          "DRY CREEK STATION",
          "BARTLESVILLE TO BROOME PIPELINE",
          "LINE 88 ",
          "VANDERBILT STATION",
          "ELDORADO MAINLINE",
          "LUDDEN PUMP STATION ",
          "LEBANON TERMINAL",
          "12\" EL PASO PIPELINE",
          "IOWA CITY FACILITY",
          "MARYSVILLE HYDROCARBON PLANT",
          "ONEOK NORTH SYSTEM 106W PIPELINE",
          "FINDLAY JUNCTION",
          "ROCKFORD STATION",
          "MARTINSVILLE-LIMA 22\" CRUDE",
          "HUDSON INJECTION ",
          "SEAWAY PIPELINE",
          0,
          "TERMINAL 2",
          "JOLIET TO KENNEDY AVE 18 INCH PRODUCTS SYSTEM",
          "SEVERANCE PUMP STATION ",
          "SAMARIA - DETROIT 16\" CRUDE",
          "HOUSTON REFINING LP",
          0,
          0,
          0,
          "LAFAYETTE PUMP STATION",
          "MIDLAND STATION",
          "CHICO STATION",
          "VERDIGRIS TO PARTRIDGE LATERAL",
          "YANKTON TO MILFORD",
          "PASADENA",
          "CARSON ",
          "31P RINGGOLD - WASSON PIPELINE",
          "GAINS STATION - SEMINOLE PIPELINE",
          0,
          "ROCKY MOUNTAIN OSBL PUMP STATION",
          "COLONIAL",
          "DUNCANSVILLE STATION",
          "WEST TEXAS LPG SYSTEM",
          "TISHOMINGO STATION (241)",
          "LIMA STATION",
          "HWY. 90 VALVE SITE",
          "NEWTON STATION",
          "L27A-10",
          "COLORADO CITY STATION",
          "CUSHING WEST TERMINAL",
          "HENDRICK TANK FARM",
          "CARTERET TERMINAL",
          "LINE 69",
          "WARDA STATION",
          "#5-12\" KANSAS CITY TO IRVINGTON PIPELINE ",
          "HUNTINGTON BEACH GATHERING ",
          "MC-62",
          "HAYNESVILLE STATION",
          "SILVERTIP TO BILLINGS 12 INCH CRUDE OIL PIPELINE",
          "CARSON RELIEF LINE",
          "WOLSEY TERMINAL",
          "OKLAHOMA GATHERING/WATONGA BOOSTER",
          "#4-12 BARNSDALL TO KANSAS CITY LINE",
          "CUSHING TERMINAL ",
          "FANNETT TERMINAL",
          "PATOKA TANK FARM",
          "WORTHAM STATION",
          "DAISETTA STATION",
          "AMMONIA SYSTEM WEST LEG",
          "STERLING 2/FARMERSVILLE BOOSTER ",
          "OKLAHOMA GATHERING/EDMOND BOOSTER",
          "VENICE MULTIPLES",
          "SAEDRIFT PIPELINE CORPORATION",
          "CUSHING TRAPS TO BLAIR STATION",
          "CENTRAL CUSHING",
          0,
          "DIBOLL STATION",
          "CFF",
          "EL DORADO TO CUSHING 8\" CRUDE LINE",
          "MCCAMEY TANK FARM",
          "HEBRON STATION",
          "COLEX EAST TERMINAL",
          "INGLESIDE TO VIOLA 16\"",
          0,
          "BATON ROUGE TANK FARM",
          "COFFEYVILLE STATION",
          "LINE 63 SOUTH",
          "805",
          "JOUGHLIN GATHERING LINE ( G131)-  TO THUMBS",
          "ORION NORTH",
          "ONEOK NORTH SYSTEM  PIPELINE",
          "GENEVA TO COLUMBUS",
          "COLFAX STATION",
          "COLONIAL PAULDING PUMP STATION",
          "PURISMA LINE",
          "WILMINGTON PUMP STATION, WILMINGTON, ILL",
          "VANDERBILT PUMP STATION",
          "SUN NEIDERLAND TERMINAL",
          "TEXAS CITY TANK FARM",
          "ORION SYSTEM",
          "WEST LEG LOOP RED LINE",
          "BARNETT TO AUBURN",
          "SUPERIOR TERMINAL",
          "IDLE HOLE LEASE LINE",
          "STERLING 1/COVINGTON BOOSTER",
          "LIMA STATION",
          "RACELAND ANCHORAGE SYSTEM",
          0,
          "ALDINE STATION",
          "FT. MADISON LATERAL",
          "MOCANE STATION",
          "ORWOOD BLOCKVALVE",
          0,
          "BNRF DOCK LINE #6",
          "RINGGOLD STATION",
          "LINE 200",
          "WABASH 12\" PRODUCTS/CHAMPAIGN STATION",
          "CORSICANA STATION",
          "GRISSOM STATION",
          "COFFEYVILLE STATION, BLUE LINE",
          0,
          "MESA TANK FARM",
          "Z1-2 OIL SHIPPING LINE/Z1-2 LEASE",
          "BORGER CRUDE TERMINAL",
          "HOBBS TO MIDLANDD",
          "WEST TEXAS LPG",
          "CARTERET TERMINAL",
          "BAKERSFIELD GATEWAY, STATION 36",
          "CONWAY STATION",
          0,
          "P109",
          "OK-01, WICHITA FALLS TO PONCA CITY, 12\" CRUDE LINE",
          0,
          "SEMINOLE BLUE",
          "CUSHING TERMINAL",
          "OLYMPIC PIPELINE SYSTEM",
          "CHATHAM-BASIN 8\" CRUDE",
          "AUBURN STATION",
          "AUBURN TO WATERLOO",
          "EM01",
          "SEMINOLE BLUE",
          "C18",
          "SEMINOE PIPE LINE/SHERIDAN PUMP STATION",
          "BERTHOLD STATION",
          "LINE 14 SUPERIOR TERMINAL",
          "MARCUS HOOK #2 TANK FARM",
          "IA/SD STATE LINE - SIOUX FALLS",
          "MOKENA STATION",
          "MX-30 LOOP LINE",
          0,
          "CARTERET TERMINAL",
          "SOUR LAKE STATION",
          "HOLLY WEST STATION",
          "#6-10\" TOPEKA TO KANSAS CITY LINE",
          "MOTIVA ENTERPRISES LLC",
          "MILTONVALE BOOSTER",
          "HOOKER STATION",
          "CENTURION PIPELINE / #2 - 16\"",
          "HOPE STATION",
          "LINE ID 6167 * LINE ID 6168",
          "WTG-LONGVIEW STATION",
          "TANK 1607",
          "TEMPLE STATION",
          "WEST TULSA",
          "CUSHING WEST",
          "COLONIAL/BELTON JUNCTION",
          "GOLDSMITH STATION",
          "LINE ID 6167 & LINE ID 6168",
          "WYNNEWOOD STATION",
          "SOUTH LEG RED LINE",
          "AUSTELL TANK FARM AND PUMPING STATION",
          "#3-30\"",
          "OLIG PUMP STATION",
          "CARMEL STATION",
          0,
          0,
          "CARTERET TERMINAL",
          "BIG SPRING STATION",
          "ODESSA STATION",
          "KINDER MORGAN COCHIN, LLC",
          "LINE 200",
          "EVANGELINE ETHYLENE PIPELINE SYSTEM ",
          "LINE 67",
          "CR-02",
          "CENTRAL CUSHING CRUDE",
          0,
          "DICKINSON GATHERING",
          "BASIN PIPELINE",
          0,
          "DIAMONDBACK PIPELINE",
          "TEXAS CITY TANK FARM",
          "C78",
          0,
          "CLEARBROOK TERMINAL",
          "CARTERET TERMINAL",
          "WABASH 12\" PRODUCTS",
          "SULPHUR STATION",
          "S1",
          "EAST HOUSTON",
          "RULE STATION",
          "10\" FINTEX",
          "COALINGA PUMP STATION",
          0,
          0,
          "COLONIAL/OXFORD STATION",
          "BICENTENNIAL - ALEX 8\"",
          "DES MOINES STORAGE",
          "BEAUMONT TERMINAL",
          0,
          "JAL STATION",
          "MOORELAND PLANT TO MOORELAND BOOSTER 4\" ",
          "BICENTENNIAL TO ALEX 8\"",
          "AMMONIA MAINLINE",
          "#3-8\" KANSAS CITY TO DONIPHAN LINE",
          "#5-12\" KANSAS CITY TO SIOUX CITY LINE",
          "CORSICANA STATION",
          "HILLSBORO PUMP STATION",
          "ST. JAMES OIL CORPORATION",
          "COLONIAL/ GREENSBORO JUNCTION",
          "ENID TO PONCA CITY #1-6",
          "TRENTON STATION",
          0,
          "SARATOGA STATION",
          "PARIS PUMP STATION",
          "TOTAL PETROCHEMICALS",
          "RIO GRANDE PIPELINE",
          "RIO GRANDE PIPELINE",
          0,
          "HAWLEY STATION",
          "HILL CITY TO BEMIS 6\"/8\"",
          "MEDFORD STERLING 2 BOOSTER",
          "BYRON - SILVERTIP 12\"-10\" CRUDE",
          "ROBERT LEE 6\"",
          0,
          "CLIFTON RIDGE MARINE TERMINAL",
          "LIBERTY TO HULL 8\"",
          "M-55 LINE MIDWAY STATION NEAR FELLOW, CALIFORNIA",
          "ONEOK PONTOTOC PUMP STATION (SITE 562)",
          "FOST-HUDS-8",
          "COLONIAL/ATLANTA JUNCTION",
          "PUMP STATION 7",
          "LR-16 PIER T",
          "CARTERET TERMINAL",
          0,
          "COLONIAL/BELTON JUNCTION",
          "CONOCO-PHILLIPS BUTANE DELIVERY",
          "COLONIAL/PAULDING STATION",
          "PATOKA STORAGE FACILITY",
          "ONEOK DES MOINES STORAGE FACILITY",
          "SUGARLAND PUMP / METER STATION",
          "GREENSBURG STATION",
          "AMOCO 6\"",
          "WISCONSIN PROPANE LINE ",
          "EL PASO 8/12 - ARTESIA PUMP STATION",
          "PATHFINDER STATION",
          "KANSAS CITY TERMINAL",
          "BLUM STATION",
          "MITCHELL FIELD 10\"",
          "MT BELVIEU UNDERGROUND STORAGE",
          "MONAHANS TRUCK RACK",
          "COLONIAL/HEBERT STATION",
          "HAMMOND TERMINAL",
          "CUSHING WEST",
          "LONG BEACH PUMP STATION",
          "LIMA STATION",
          "STATION 8A",
          "WICHITA NORTH TERMINAL",
          "LOCAP TO ANCHORAGE TANK FARM",
          0,
          "ROSEMOUNT PUMP STATION",
          "VIOLA TO FHR EAST",
          "WESTLAKE REFINERY",
          "LAUREL STATION",
          "CONROE PUMP STATION",
          "EELP LINE 5",
          "COLONIAL/LINDEN JUNCTION",
          "LINE 14",
          0,
          "PETROLEUM FUEL & TERMINAL CO.",
          "LINE 6A MP 461",
          "BLUM STATION",
          "NEWPORT STATION",
          "PINE BEND STATION GATE 11",
          "ABERDEEN TO JAMESTOWN LINE 5",
          "HARTSDALE TERMINAL",
          "GLENDIVE TERMINAL",
          "BV 111",
          "MAYSVILLE STATION",
          "MARTIN TERMINAL",
          "COLORADO CITY STATION",
          "MOTIVA ENTERPRISES LLC",
          "21028",
          "WEST FULLERTON STATION",
          "LINE 64",
          "EMPIRE TERMINAL",
          "RINGGOLD STATION",
          "SEABREEZE STATION",
          "PLAINS MARKETING TERMINAL (PMT)",
          0,
          0,
          "WEST TULSA 12\"/16\" GASOLINE LINE",
          "HUNTINGTON CFI DELIVERY",
          "GALENA PARK / KINDER MORGAN FACILITY",
          "CARTERET TERMINAL",
          "PERTH AMBOY TERMINAL",
          "ERWINVILLE STATION",
          "SILVERTIP STATION,  NEAR BELFRY, MONTANA",
          0,
          "BOA PIPELINE",
          "PORT ARTHUR TERMINAL",
          "WEEMS PUMP STATION ",
          "LINE 3",
          "WOOD RIVER TANK FARM",
          "ALEXANDRIA PUMP STATION & TERMINAL",
          "#6-12\" IOWA CITY TO CHICAGO LINE",
          "CLEARBROOK TERMINAL",
          "EL DORADO STATION",
          "WORTHAM STATION",
          "HARTFORD TWO RIVERS STATION",
          "PATOKA TANK FARM",
          "SIDNEY PRODUCTS SYSTEM",
          "LP3 PANOLA",
          "HOLLIDAY STATION",
          "ALLEN STATION",
          "ALLEN STATION",
          "HEARNE STATION",
          "CORTEZ PIPELINE",
          "CITGO LEMONT REFINERY",
          "COLONIAL/HEBERT",
          "MESA TANK FARM",
          "LIMA SOUTH TERMINAL",
          "SHEEP MOUNTAIN PUMP STATION",
          "LINE 55 ",
          0,
          "CLEARBROOK TERMINAL",
          "SOUR LAKE STATION",
          "C75",
          "WILMINGTON STATION",
          "ONEOK BINGER JCT. 2",
          "COLONIAL/PAULDING STATION",
          "ST JAMES STATION NORTH",
          "BATON ROUGE PRODUCTS STATION",
          "#2-8\" MINNEAPOLIS -- DULUTH LINE",
          "CHATSWORTH PUMP STATION",
          "RUSSELL STATION / TANK 5103",
          "CUSHING TERMINAL",
          "BOYER PUMP STATION",
          "VIOLA ACT METER STATION",
          "SEMINOLE",
          0,
          "G-13 GATHERING LINE- CSFM ID-1235  ",
          "MOTIVA ENTERPRISES LLC",
          "LINE 300",
          "BADAMI FACILITY",
          "EAST CHICAGO TERMINAL",
          "HEBRON STATION",
          0,
          "LINDEN STATION",
          "ADDINGTON STATION",
          "EMPCO NORTH LINE SYSTEM",
          "CASHION STATION",
          "ALVIN STATION",
          "ONEOK ARBUCKLE CLEBURNE PUMP STATION",
          "TEN MILE STATION",
          "VALLEY BOOSETER #1",
          "GERALD PUMP STATION",
          "NORCO STATION",
          "TEXAS PLAINS 10\"",
          "CARTERET TERMINAL",
          "BIG SPRING STATION",
          "SOUTH CUSHING CRUDE",
          "LITTLE MISSOURI",
          "JACKSONVILLE STATION",
          "JONES CREEK STATION",
          "MID-CONTINENT DISTRICT",
          "GLENPOOL TANK FARM",
          "BYRON STATION",
          "NORCO",
          "CORSICANA STATION",
          "COLONIAL/HOUSTON STATION",
          0,
          "WINK STATION",
          "GARNER LATERAL",
          "MIDWAY TO BELRIDGE/BELRIDGE STATION",
          "COLONIAL/ATHENS DELIVERY FACILITY",
          "C15",
          "GUTHRIE PUMP STATION",
          "SUPERIOR TERMINAL",
          "INSTATION PIPING",
          "HOLLIDAY STATION",
          "BENEBUM INJECTION",
          "OILTANKING HOUSTON      ",
          "ELDORADO STATION",
          "MANTUA STATION",
          "BAKER PUMP STATION",
          "EAST LA ",
          "HENDRINK TANK FARM",
          "SUGARLAND TANK FARM",
          "#3-8\" BARNSDALL TO KANSAS CITY LINE",
          "HANKAMER PUMP STATION",
          "JONES CREEK TERMINAL ",
          "MAYERSVILLE STATION",
          "LAMESA SUNDOWN",
          "WEST COLUMBIA STATION",
          "JONES CREEK TERMINAL ",
          "HEWITT STATION",
          "BURKETT DISCHARGE",
          "MACUNGIE STATION",
          "VALERO LUCAS TANK FARM",
          "LA GRANGE STATION",
          "TEXOMA STATION",
          "WICHITA TO AUGUSTA 8 INCH",
          "BURLINGTON PUMP STATION",
          "BRADLEY ROAD STATION",
          "LEBANON PUMP STATION",
          "DICKINSON STATION",
          "TRUST 6/8",
          "HOUSTON PUMP STATION",
          "WCS SOUR CRUDE PIPELINE",
          "MARTINEZ PUMP STATION",
          0,
          "SAUNDERS STATION",
          "CORSICANA STATION",
          "AMDEL 10\"",
          "AMDEL 10\"",
          "MACUNGIE STATION",
          "HUDSON STATION",
          "IOWA PUMP STATION",
          "GRANVILLE STATION TO ELKHART LAKE",
          "COLONIAL/FELIXVILLE STATION",
          "ST. JAMES TANK FARM",
          "HOBBS STATION",
          "WAMSUTTER STATION",
          "PT. ARTHUR TO MT. BELVIEU ETHYLENE",
          "PASADENA",
          "COLONIAL/STATEN ISLAND JUNCTION",
          "THE DOW CHEMICAL COMPANY",
          "CUSHING TERMINAL NORTH",
          "MINNESOTA PIPELINE, PARK RAPIDS STATION",
          "EL DORADO TO SCOTT CITY 10\" LINE",
          "2-12 RIGHT OF WAY",
          "COLONIAL/HEBERT STATION",
          "LINE 14 MP 232",
          "COLONIAL/CHANTILLY STATION",
          "EAST COYANOSA METER SKID",
          "P2 - ORAN STATION",
          "STATION 3B",
          "CUSHING TERMINAL",
          "SUPERIOR FACILITY",
          "COLONIAL/BOLIGEE DF",
          "CHOCOLATE BAYOU LATERAL ",
          "INGLESIDE PUMP STATION",
          "ONTARIO WEST BV",
          "SARATOGA TO SOUR LAKE 8\"",
          "NEW HOBBS TO LLANO GRANDE 6 INCH",
          "COLONIAL/ ATLANTA JUNCTION",
          "KANSAS CITY TERMINAL",
          "DARBY CREEK TANK FARM",
          "ONEOK ORLANDO PUMP STATION",
          "TEXOMA TANK FARM",
          "MT BELVIEU TO BAYTOWN 10\" CHEM GRADE PROPYLENE",
          "WOOD RIVER STATION",
          "TAMPA PIPELINE TRANSPORT SYSTEM",
          "RENO STATION ",
          "PATOKA - MARTINSVILLE SYSTEM",
          "NORTH PORT ARTHUR TERMINAL",
          "RENO STATION",
          "EAST CHICAGO TO CANAL JUNCTION",
          "UTICA PUMP STATION",
          "EL DORADO - COFFEYVILLE LATERAL",
          "COLONIAL/HEBERT STATION",
          "EMIDIO PUMP STATION",
          "LAFOURCHE BOOSTER PUMP STATION",
          "CHEEK PUMP STATION",
          "DETROIT TERMINAL",
          "MESA TANK FARM",
          "EARLY TO GARNER LINE SEGMENT",
          "COLONIAL/LINDEN JUNCTION",
          "LAKE PUMP STATION",
          0,
          "EARLY TO GARNER LINE SSEGMENT",
          0,
          "PASADENA",
          "ST LINDEN TERMINAL, LLC",
          "JONES CREEK TANK FARM",
          "BENGAL 16 - CONVENT PUMP STATION",
          "HAVILAND STATION",
          "ACADIAN NGL PIPELINE SYSTEM",
          "SEMINOLE PIPELINE",
          "TEXAS CITY TANK FARM",
          "MCCAMEY TANK FARM",
          "SOUR LAKE TANK FARM",
          "C18",
          "COLORADO CITY MESA",
          "EL SEGUNDO",
          "COLORADO CITY STATION",
          "FAUNA-EXPLORER LINE",
          "NC-73",
          "WINK STATION",
          "CARSON TERMINAL",
          "HAMMOND TERMINAL",
          "MARTINSVILLE TANK FARM",
          "TEXAS CITY TANK FARM",
          "WORTHAM STATION",
          "COWDEN STATION",
          "DOMINGUEZ HILLS ",
          0,
          "WARREN STATION",
          "COLONIAL/LINE 19",
          "RACELAND STATION",
          "COLONIAL PIPELINE/ CHANTILLY STATION",
          "CUSHING EAST",
          "POWDER RIVER ",
          "GI BLOCK 22 TO GRAND ISLE TERMINAL",
          "CUSHING CENTRAL CRUDE",
          "GIBSON CITY PUMP STATION- MUSTANG CRUDE SYSTEM",
          "WATSON STATION",
          "ST. JAMES STATION",
          0,
          "HANNA STATION",
          "BAY AREA PRODUCTS LINE",
          "CARSON",
          "SOUR LAKE TANK FARM FACILITY PIPING",
          "CUSHING TERMINAL CENTRAL",
          "JACKSBORO STATION",
          0,
          "BLUE LINE",
          "ALEXANDRIA PUMP STATION & TERMINAL",
          "106E PIPELINE",
          "PETTUS OIL",
          "KEY PIPELINE",
          "MISSISSIPPI ALABAMA",
          "EAGLE",
          "BAKER PUMP STATION",
          0,
          "ST LINDEN TERMINAL, LLC",
          "CLINTON LATERAL LOOP",
          "VINITA, OK PUMP STATIN",
          "ESR-MONTEBELLO",
          "IOWA CITY FACILITY",
          "FAIRCHILD STATION",
          "SAN ANTONIO PUMP STATION",
          "JAL STATION",
          "SARATOGA STATION",
          "ENBRIDGE PIPELINES (NORTH DAKOTA) LLC/MINOT STN",
          "GLENDIVE TERMINAL FILTER",
          "LOUISIANA",
          "FROST STATION ",
          "WHITESBORO STATION",
          "P87-ETHYLENE",
          "LOST CABIN STATION",
          "ENBRIDGE LINE 6A AND 14 PRESSURE RELIEVE LINE",
          "RED RIVER PIPELINE",
          "PMT MIDLAND STATION",
          "GENEVA TO NORFOLK 8 INCH",
          "IOWA CITY STATION & TERMINAL",
          "GUERNSEY PUMP STATION ",
          "HUNTSVILLE PUMP STATION",
          "KELLEY PUMP STATION",
          "SAUGET TERMINAL",
          "FAIRFAX WEST KCI  6\" LINE #6495",
          "CUSHING NORTH TANKFARM",
          "14 INCH DOCK LINE",
          "COLONIAL/HOUSTON STATION",
          "MLV 41",
          "COLONIAL PIPELINE/FELIXVILLE STATION",
          "FORSAN STATION",
          "LINDEN METER FACILITY",
          "IOWA PUMP STATION ML BV",
          "LN620FZ",
          "MCPHERSON TERMINAL",
          "FULSHEAR JUNCTION",
          "COLONIAL TANK FARM",
          "CCPS TRANSPORTATION",
          "COLONIAL/MITCHELL JUNCTION",
          "MARCUS HOOK TANK FARM #2",
          "WEST LEG ANHYDROUS AMMONIA PIPELINE",
          "HOOSER 8\"",
          "BEAUMONT TERMINAL",
          "STERLING 1 PIPELINE",
          "RINGGOLD STATION",
          "#6 SYSTEM",
          "OWENSBORO - CATLETTSBURG",
          "BEAVER LODGE STATION",
          "WAYNE PUMP STATION",
          "BERTON TANK FARM",
          "CCPS TRANSPORTATION LLC",
          "TINSLEY TO MAYERSVILLE 8\"",
          "MAYERSVILLE STATION",
          "BYRON - SILVERTIP 12\"-10\"",
          "MC-40 ",
          "10\" EMPIRE PUMP STATION",
          "RICHMOND JUNCTION",
          "WOODHAVEN FACILITY",
          "TALOGA STATION",
          "BATON ROUGE TANK FARM",
          "COLONIAL/GREENSBORO JUNCTION",
          "HUGO PUMP STATION",
          "BREMEN TANK FARM",
          "TRUSCOTT TO CHILDRESS 10\"",
          "MNTL-BALD 14\"",
          "COFFEYVILLE STATION",
          "TANK 2211 LINE",
          "COLMESNEIL STATION",
          "SACRAMENTO PUMP STATION",
          "COLONIAL/ST. IVES STATION",
          "SOUTH CUSHING CRUDE",
          "WATHENA JCT. TO DES MOINES #7-16\" LINE SEGMENT",
          "CHATHAM STATION - HAMPTON STATION",
          "CEDAR STATION",
          "MC-40",
          "MARTINSVILLE - LIMA 22\" CRUDE",
          "CUSHING EAST TERMINAL",
          "SUNSET PUMP STATION",
          "MAYERSVILLE STATION",
          "EAST HOUSTON FACILITY",
          "SLAUGHTER STATION",
          "HOLTZINGER STATION",
          "PERRY TANK FARM",
          "POWDER RIVER/PR-01",
          "ROBINSON - LOUISVILLE 16\" PRODUCTS",
          "FRISCO CITY STATION",
          "HUDSON STATION",
          "TEXOMA STATION",
          "EXPRESS PIPELINE EDGAR STATION",
          "ALEXANDRIA PUMP STATION",
          "ADDINGTON STATION",
          "DENVER STATION",
          "EL DORADO-WATHENA JCT. #7-16\" LINE",
          "RANGER TO BRECKENRIDGE 8\"",
          "RYAN JUNCTION",
          0,
          0,
          "BOISE STATION",
          "MR-16A",
          "KINDER MORGAN - CARTERET TERMINAL",
          "HAVILAND STATION",
          "BARNSDALL PUMP STATION",
          "BRITTON STATION",
          "SACROC PUMP STATION #11",
          "WASHINGTON STATION",
          "LUVERNE PUMP STATION",
          "PATOKA - ROBINSON 20\"",
          "RANGER TO BRECKENRIDGE 8\"",
          "PASADENA",
          "PASADENA STATION AND TANK FARM",
          "HARPER JUNCTION TO ODESSA STATION",
          "HEBERT STATION",
          "HEIDELBERG PIPELINE",
          "NEW STAR TIE-IN TO MONT BELVIEU",
          "RANGER TO BRECKENRIDGE 8\"",
          "COLMESNEIL TO CHESTER 8\"",
          "WAMSUTTER STATION",
          "COLMESNEIL TO CHESTER 8\"",
          0,
          "RANGER TO BRECKENRIDGE 8\"",
          "COLBERT STATION",
          "MCPHERSON TO GENEVA ",
          "MOORHEAD TO SAUK CENTRE ",
          "WR-01",
          "GALVESTON BAY REFINERY - BAYTOWN 8\" BUTANE",
          "GALVESTON BAY REFINERY - BAYTOWN 8\" BUTANE",
          "SARATOGA TO SOUR LAKE 8\"",
          "RIVERSIDE TANK FARM",
          "EL DORADO 6\"",
          "LOGAN STATION",
          0,
          "16 INCH FUEL OIL LINE",
          "GRAND ISLE TO RECELAND",
          "COLONIAL/ATLANTA JUNCTION",
          "KINDER MORGAN",
          "NORTH PORT ARTHUR TERMINAL",
          "LINE 80",
          "WORTHAM STATION",
          "COLLINS PIPELINE",
          "LID 3520",
          "ROBINSON - LIMA 10\" PRODUCTS",
          "CUSHING CENTRAL TERMINAL",
          "GRIFFITH EAST",
          "TRILLA STATION - TERRA HAUTE JUNCTION",
          "COLMESNEIL TO CHESTER 8\"",
          "SPINDLETOP PUMP STATION",
          "CUSHING EAST",
          "EAST HYNES TERMINAL",
          "NOBLE TO DOUGLAS JCT. 8\"",
          "CHASE STATION",
          "GALVESTON BAY REFINERY - BAYTOWN 8\" BUTANE",
          "WEST TULSA TERMINAL",
          "COWDEN PUMP STATION",
          "PLATTE PIPELINE GURLEY STATION",
          "PASADENA STATION AND TANK FARM",
          "ERATH TO PT. NECHES 22\"",
          "MCCAIN PIPELINE COMPANY",
          "BURNS PUMP STATION ",
          "EAGLE FORD - WEBSTER STATION",
          "MAGNOLIA STATION",
          "CORSICANA TO RINGGOLD 16\"",
          "WILLIS STATION",
          "VENICE TO PARADIS NGL PIPELINE SYSTEM (VP-01)",
          "MASON CITY TERMINAL",
          "MIDLAND TANK FARM ",
          "SALT LAKE PRODUCTS SYSTEM",
          "CORSICANA TANK FARM",
          "MOTIVA ENTERPRISES LLC",
          "EAST CHICAGO TANK FARM ",
          "CLARKSON STATION",
          "KENEDY TAP SITE",
          "EAST HOUSTON TO WEST COLUMBIA 16\"",
          "PEGASUS 20 INCH",
          "LIBERTY PUMP STATION ",
          "ROSS BAYOU STATION PUMP",
          "CLEARBROOK TERMINAL",
          "SUNSET PUMP STATION",
          "MARTINSVILLE CRUDE",
          "TOLEDO TO WOODHAVEN",
          "EL DORADO - COFFEYVILLE LOOP",
          "COLONIAL/BATON ROUGE JUNCTION",
          "HOUSTON PUMP STATION",
          "MCCAMEY TANK FARM",
          "TERRELL PUMP STATION",
          "CORSICANA STATION",
          "TOLEDO TO WOODHAVEN",
          "EL CAMINO PUMP STATION",
          "SOUTHWEST TERMINAL",
          "6\" GEISMAR TO BASF",
          0,
          "PASADENA",
          "PASADENA DELIVERY TO LHR",
          "GUNN STATION DRAIN PIPING",
          "MCCAIN PIPELINE COMPANY",
          "BLOCK VALVE",
          "AA",
          "COLONIAL/PELHAM JUNCTION",
          "CONWAY STATION",
          "68P GARDENDALE PIPELINE SYSTEM ",
          "OILTANKING HOUSTON TANK FARM",
          "C3 MIX HVL PIPELINE",
          "LIMA SOUTH",
          "WEST PONCA TRUCK STATION",
          "CUSHING CENTRAL CRUDE (PHILLIPS 66 LOCATION)",
          0,
          "WABASH 12\" PRODUCTS LINE",
          "PECOS STATION",
          "GLENPOOL TANK FARM",
          "CORSICANA TANK FARM",
          "MACUNGIE",
          "LINE 2",
          "MARTINSVILLE - LIMA 22\"",
          "MIDLAND BASIN",
          "KARNACK PUMP STATION",
          "PEGASUS PIPELINE SYSTEM",
          "COCHIN PIPELINE",
          0,
          "CARTERET TERMINAL",
          "PASADENA STATION AND TANK FARM",
          "LINE 1",
          "COLONIAL/ BELTON JUNCTION",
          "COLONIAL/EXXON REMOTE",
          "COALINGA PUMP STATION",
          "CARSON STATION",
          "J-1 STATION TO GILLESPIE STATION",
          "HEALDTON STATION",
          0,
          "MONTELLO PUMP STATION",
          "TERREBONNE-TEBONE",
          "WORTHAM STATION",
          "SPEEDWAY RIO 8\"",
          "JONES CREEK TANK FARM",
          "WAKEMAN TO BRECKSVILLE",
          "LOOP LLC ",
          "KELLER STATION",
          "EL DORA STATION TO SPENCER STATION",
          "SOUTH LEG LOOP (BLUE LINE)",
          "COLONIAL/LINE 01 MLBV AT HWY 124 NEAR FANNETT, TX",
          "MVPL-BP TERMINAL",
          "GRAND BAY PIPELINE SYSTEM",
          "GALVESTON BAY REFINERY TO BAYTOWN 8\" BUTANE",
          "WR-01, GLENPOOL TO MT. VERNON",
          "WOOD RIVER TO LIMA SOUTH",
          "VALLEY TO WHITING LINE SEGMENT",
          "CUSHING TERMINAL",
          "TEXAS CITY PUMP STATION",
          "FARGO PUMP STATION",
          "SAINT JAMES TERMINAL",
          "TWIN OAKS PUMP STATION",
          "CUSHING TERMINAL",
          "ELECTRA STATION ",
          0,
          "ALEXANDRIA TO FARGO #2-8\" LINE",
          0,
          0,
          "CARROLLTON STATION",
          "INDIANAPOLIS LIGHT PRODUCTS TERMINAL",
          0,
          "WATTENBERG TRUNK LINE",
          "MAINLINE VALVE SITE FM 799",
          "RANGELY TO SALT LAKE CRUDE",
          "SOUTH LEG BROWN LINE",
          "OSAGE 8\"",
          "DES MOINES TERMINAL & STATION",
          "CASA PIPELINE",
          "CHASE STATION",
          "LINE 5",
          "LYSSY STATION",
          "FLANAGAN TERMINAL",
          "TRINITY STATION",
          "WTG-RANGER STATION",
          "TRANSPETCO BRAVO PIPELINE",
          "10\" FINTEX",
          "RGV-35A",
          "EMIDIO PUMP STATION",
          0,
          "COLONIAL/ATLANTA JUNCTION",
          "CANTON - EAST SPARTA 6\" PRODUCTS",
          "ABILENE STATION",
          "MIDLAND TANK FARM",
          "COLONIAL PIPELINE/HEBERT STATION",
          "COLONIAL/CONOWINGO STATION",
          "COLONIAL PIPELINE/DANIELSVILLE STATION",
          "WICHITA FALLS",
          "RINGGOLD STATION",
          "VTDC PAR TO TEPPCO 12-10 PRODUCTS - 10&12\"",
          "12\" FOUR CORNERS PIPELINE",
          "CUSHING TERMINAL",
          0,
          0,
          "CATARINA STATION",
          "POCHANTOS TO LUVERNE 6-INCH LINE",
          "POCAHONTAS TO LUVERNE 6-INCH LINE",
          "SEMINOE PIPE LINE",
          "PETTUS TO MIDWAY",
          "SOUTHERN CRUDE SYSTEM",
          "GLENDIVE TO MINOT 8\"",
          "PORT ARTHUR TANK FARM",
          "MCPHERSON STATION",
          "MCKITTRICK PUMP STATION",
          "OSAGE STATION #102",
          "BRJT-CDJT-8",
          0,
          "CAPE GIRARDEAU TERMINAL",
          "LINE 81-102",
          "COLONIAL/GREENSBORO JUNCTION",
          "HWY 97 TERMINAL ",
          "EVANGELINE ETHYLENE PIPELINE SYSTEM",
          "WICHITA FALLS",
          "LINE 55/NI",
          "LINE 4/DR",
          "JACKSBORO STATION",
          "LINE 81-102",
          "THE DOW CHEMICAL COMPANY",
          "CASPER (BIGHORN)",
          "WHEATON PUMP STATION",
          "BLAKE PUMP STATION",
          "WHITE LAKES TO KUTZ",
          "CANYON REEF CARRIERS PIPELINE, PUMP STATION 18",
          "TESORO HIGH PLAINS PIPELINE",
          "COLONIAL/GREENSBORO JUNCTION",
          "SHINN PENCE",
          "VACUUM TRAP TIE-IN",
          "WEST TEXAS GATEWAY / PUMP STATION #9",
          "BAYTOWN TERMINAL",
          0,
          "WEST LEG BLUE LINE",
          0,
          "BELRIDGE PUMP STATION-",
          "GRIFFITH TERMINAL",
          "P62 PIPELINE / SEYMOUR TERMINAL",
          "LINE 7",
          "MINNESOTA PIPELINE 1",
          "BP TERMINAL",
          "BINGAMPTON TERMINAL",
          "CONCORD STATION",
          "6\" BARBERS HILL TO LIBERTY",
          "TEXOMA  TANKS    1010 COX DAIRY ROAD",
          "COLONIAL/LINDEN JUNCTION",
          "MAPL EAST LEG - MORRIS LATERAL",
          "LONGHORN - SOUTHERN CRUDE SYSTEM",
          "MOBLEY TO FT. BEELER",
          "LINDEN STATION",
          "ALEXANDER",
          "24 INCH WOOD RIVER TO HAMMOND",
          "NEEDVILLE STATION",
          "LA GRANGE STATION",
          "EARLY TO GARNER 6\" LINE",
          "MEDICINE BOW STATION",
          "WR-01",
          "MARCUS HOOK TANK FARM",
          "MARYSVILLE",
          "20\" CRUDE OIL SYSTEM",
          "KINDER MORGAN",
          "WARDA STATION",
          "EL DORADO - COFFEYVILLE LOOP",
          "EL DORADO PROPANE 6\" LINE",
          "MARTINSVILLE STATION",
          "ABILENE JCT. STA. NO. 745",
          "CHINA GROVE",
          "MILAN STATION (IM)",
          "53P-THREE RIVERS TO SAN ANTONIO (SOUTH) PL",
          "HOUSTON FUEL OIL",
          "THOMASON PUMP UNIT",
          "COLONIAL PIPELINE COMPANY / SELMA DELIVERY",
          "LINE 600 TORREY TO TORRANCE",
          "WITHERS PUMP STATION",
          "CUSHING TERMINAL",
          "EPTC STATION",
          "6\" EL PASO WEST",
          "INLAND TERMINAL ",
          "SOUTH LEG LOOP",
          "MEDFORD PIPELINE YARD",
          "BLAIN STATION",
          "GARNER TO MANKATO LINE ",
          "POCAHONTAS TO LUVERNE LINE",
          "WEST LEG MAINLINE, CONWAY TO MANKATO",
          "AMDEL 10\"",
          "ZG",
          "GALENA PARK TERMINAL",
          "MARKWEST MICHIGAN PIPELINE CRUDE MAINLINE",
          "MARKWEST MICHIGAN PIPELINE CRUDE MAINLINE",
          "55/HU",
          "AMARILLO TERMINAL",
          "JONES CREEK STATION",
          "EL CAMINO STATION",
          "HUNTSVILLE PUMP STATION",
          "MIDLAND STATION",
          "CORSICANA TO TYLER/DELEK 12\"",
          "TAYLOR LEASE",
          "ONEOK MONT BELVIEU STORAGE",
          "RALEIGH STATION TO 4\" JUNCTION",
          "ATWOOD TERMINAL",
          "THUMS  CRUDE M142 CSFM ID-200 PORT OF LA  AREA",
          "FREESTATE 20\" CO2",
          "GREENVILLE TANK FARM",
          "CD803RC",
          "PASADENA TERMINAL",
          "BEESON STATION",
          "WINK STATION",
          "GARBER TO SEE ",
          "GARDENDALE SOUTH",
          "WEST TX NGL",
          "PT. ARTHUR CRUDE ",
          "GAMBLE LINE",
          "THREE-WAY TO ROSANKY",
          "DECATUR, IL PUMP STATION",
          "CARTERET TERMINAL",
          "STANLEY STATION",
          "DES MOINES TO MISSISSIPPI RIVER #5-8\" LINE",
          "CENTRAL CUSHING CRUDE",
          "BERTHOLD STATION",
          "ONEOK MEDFORD YARD. NORTH LINE #1 CONTROL VALVE",
          "PASADENA PUMP STATION TO HOUSTON PUMP STATION",
          "MR-114 PROPANE",
          0,
          "6/PE",
          "BASIN PL SYSTEM",
          "KINDER MORGAN",
          "DIBOLL STATION",
          "TINSLEY 8\"",
          "WEST TEXAS LPG LOOP",
          "NOBLE 8\"",
          "ENTERPRISE EL DORADO TERMINAL",
          "BD-01/COMMERCE CITY TERMINAL",
          "GRAND BAY PIPELINE SYSTEM",
          "WEST PONCA TRUCK STATION",
          "JAL METER STATION",
          "HOBBS STATION",
          "CHAPARRAL CO!2",
          "LEBANON STATION",
          "CARSON STATION",
          "C150 GATHERING LINE",
          "VIOLA PUMP STATION",
          "LEBAR JUNCTION",
          "SEABREEZE STATION",
          "TP-1 CORPUS CHRISTI PUMP STATION",
          "SHARON SPRINGS PUMP STATION (STATION #784)",
          "ANHYDROUS AMMONIA SOUTH LEG",
          "LITTLE TANK FARM STATION",
          "CAPLINE STATION (PATOKA)",
          "CHEROKEE PIPELINE",
          "GALENA PARK TERMINAL",
          0,
          "CK RED RIVER",
          "GRANGER",
          "OK-01, WICHITA FALLS TO PONCA CITY",
          "MACUNGIE STATION",
          "RUNNING HORSE PIPELINE",
          "MOREL STATION",
          "MNTL-BALD-14",
          "STAR LAKE STATION",
          "HEBRON STATION",
          "CUSHING TANK 3363",
          "HOBBS STATION",
          "SEABREEZE STATION",
          "24009-8\"-NOBLE TO DOUGLAS JCT.",
          "24009-8\" NOBLE TO DOUGLAS JCT.",
          "EAST HOUSTON TERMINAL",
          "HARTFORD STATION ",
          "MORGAN'S POINT",
          "14/MK",
          "ARCO JCT. VALVES",
          "NORTH 20 INCH CARNERAS PUMP STATION",
          "POOLVILLE STATION",
          "HAMMOND TERMINAL",
          "COLLINS DELIVERY",
          "SOUTH PASS WEST DELTA RECEIVING STATION",
          "TENTH AVENUE TERMINAL",
          "LINDEN STATION",
          "GREENSBORO JUNCTION",
          "BENGAL 12\" ",
          "COLONIAL/SIMPSONVILLE STATION",
          "PLATTE PIPELINE GURLEY STATION",
          "WELLS RANCH ",
          "GLENPOOL WEST, STATION #585",
          "LIMA STATION",
          "NCRA REFINERY",
          "BATON ROUGE TANK FARM",
          "VALLEY 6\" TO 8\" PIG TRAP",
          "PINE BEND STATION (#514)",
          "GS-20/ ODESSA CRUDE TERMINAL",
          "EL REAL STATION",
          "21010-NEDERLAND TO LONGVIEW 12\"",
          "DAYTON TERMINAL ",
          "PILOT BUTTE PUMP STATION THAT WAS OUT OF SERVICE.",
          "FLEMING STATION",
          "#1 P/L ( OTH TO APPELT )",
          0,
          "NCRA REFINERY",
          "KMLT PERTH AMBOY",
          "WEST TRUNK PIPELINE",
          "BOWIE PUMP STATION",
          "4/DR",
          "ONEOK MILTONVALE PUMP STATION",
          "ODESSA STATION",
          "CM-01, CHISHOLM NGL LINE",
          "HEBERT TO WASKOM 8\"",
          "ODESSA TERMINAL #257",
          "JONES CREEK STATION",
          "NCRA REFINERY",
          "FROST TERMINAL #337",
          "DEVOL STATION",
          "BISTI STATION",
          0,
          "COLONIAL/AMOCO JUNCTION",
          "EMPIRE FACILITY",
          "SNYDER/POST",
          "MACUNGIE STATION",
          "ONEOK SAGE CREEK PLANT",
          "WASSON STATION",
          "EAST HAMMOND (BETEH) TERMINAL",
          "COLONIAL/FELIXVILLE STATION",
          "LINDEN STATION",
          "6/GT",
          "ENTERPRISE TE PRODUCTS MAINLINE",
          "BATON ROUGE JUNCTION",
          "FLINT TO BAY CITY 208 LINE",
          "EAST HOUSTON TO PT. NECHES 20\"",
          "CABALLO EAGLE CHIEF PLANT INJECTION SITE",
          "QUITMAN STATION",
          "HAMMOND TANK FARM",
          "DS316BD",
          "TARGA BADLANDS",
          "6/WW",
          "PATOKA TANK FARM- METER SITE",
          "COLORADO CITY",
          "CREAL SPRINGS TERMINAL",
          "OLATHE TERMINAL #222",
          "AMARILLO TERMINAL",
          "LIMA STATION",
          "IOWA CITY UNDERGROUND STORAGE",
          "KAHE PIPELINE",
          "AKIN A STATION",
          "GIESMAN JUNCTION",
          "MASON STATION",
          "TESORO HIGH PLAINS PIPELINE",
          "SAWTELLE",
          "CENTRAL TERMINAL",
          "SAMARIA STATION",
          "BATON ROUGE JUNCTION",
          "COLORADO CITY BASIN",
          "MR-8 HULL TO DAISETTA",
          "TEXOMA STATION",
          0,
          "GLASS MOUNTAIN CUSHING METER STATION",
          "CLARKSON STATION",
          "KILGORE 10\"",
          "6/GT",
          0,
          "CUSHING MANIFOLD B",
          "BL-02, BLUE LINE",
          "NORTH 20 / CARNERAS PUMP STATION",
          "CORSICANA STATION",
          "TRISTATES NGL PIPELINE/DUKE STATION",
          "SKELLY-BELVIEU MAINLINE",
          "MASON CITY TERMINAL ",
          "HARTSDALE STATION",
          0,
          "LIMA STATION",
          "CALUMET MONTANA REFINING, LLC",
          "JAL STATION",
          "EAST HOUSTON TO PT. NECHES 20\"",
          "KOUTS STATION (KZ)",
          "TRENTON STATION",
          "TANK 2-73",
          "CENTRAL CUSHING",
          "BUXTON CRUDE TERMINAL",
          "EAST CHICAGO TERMINAL",
          "COLONIAL/DACULA STATION",
          "THREE RIVERS TERMINAL",
          "TESORO HIGH PLAINS PIPELINE",
          "163",
          "162",
          "CORSICANA STATION",
          "ENID LATERAL NH3 ",
          "SOSO STATION",
          "NCRA REFINERY",
          "W. WALKER ROAD VALVE SITE",
          "HARPER LINE",
          "THUMS LINE",
          "MAYERSVILLE TO LIMA 20\"",
          "OXFORD TERMINAL",
          "WICHITA FALLS STATION",
          "ROADRUNNER PIPELINE LOVINGTON RECEIVING ",
          "COTTONWOOD STATION #180",
          "JP ENERGY /RED RIVER PIPELINE",
          "CAMP CREEK PUMP STATION",
          "MAXBASS STATION",
          "WEST TEXAS NGL",
          "14 CNF",
          "TP-2 CORPUS CHRISTI TO GONZALEZ 18\"",
          "DENVER STATION",
          "LONGVIEW STATION",
          "COLLINS TANK FARM",
          "6/AM",
          "LA JUNTA STATION",
          "CORSICANA STATION",
          "553016 -ALEX-THOMASON 3\"",
          "KINDER MORGAN CRUDE CONDENSATE - EDNA STATION",
          "DES PLAINES STATION",
          "TEXAS CITY TANK FARM",
          "NORTH PORT ARTHUR TERMINAL",
          "BAYTOWN TO BEAUMONT # 1",
          "WICHITA FALLS TERMINAL",
          "SOUTH LEG NH3 LINE MP 178 TO CONWAY",
          "ORLANDO TERMINAL",
          "KS-OK 4\"",
          "ZEPHYR STATION",
          "BL-02",
          "GENEVA TERMINAL",
          "DENVER STATION",
          0,
          "BLACK BAY OIL ",
          "BENGAL/BATON ROUGE",
          "HUGO PUMP STATION",
          "MID CONTINENT PIPELINE",
          "WATHENA JCT. TO DES MOINES #7-16\" LINE",
          "MITCHELL JUNCTION",
          "NORTH SPRABERRY JUNCTION",
          "WILDFIRE 1 GASSO PUMP",
          "GLASS MOUNTAIN CUSHING METER STATION",
          "KIANTONE PIPELINE CORPORATION",
          "JAL BASIN STATION",
          "WINK TO EL PASO 20\"",
          "CATARINA NORTH TERMINAL",
          "TOLEDO SUN JUNCTION TO SUN TERMINAL",
          "LINE 3/DR",
          "BEAUMONT TERMINAL",
          "LONGVIEW STATION",
          "LAKE CHARLES PIPELINE FACILITY",
          "PT. ARTHUR PRODUCTS STATION",
          "WILDFIRE 1 GASSO PUMP STATION",
          "TRINITY STATION",
          "SLICK JCT. TO BEGGS 6\"",
          "BENGAL/BATON ROUGE",
          "HAMMOND TERMINAL",
          "RANGER STATION",
          "COLQUITT GATHERING",
          "WYOMING PIPELINE COMPANY",
          "PASADENA TERMINAL",
          "TEXAS CITY TANK FARM",
          "ORION TO CALUMET",
          "LACLEDE PIPELINE",
          "CHEYENNE PUMP STATION",
          "CHEYENNE PUMP STATION",
          "NECHES TERMINAL",
          0,
          "ST. JAMES CAPLINE",
          "4 INCH PG PROPYLENE",
          "OKLAHOMA CITY RENO TERM.",
          "MIDLAND TANK FARM",
          "ONEOK HELENA BOOSTER",
          "MIDLAND TANK FARM",
          "MCCAMEY STATION",
          0,
          "MIDLAND TANK FARM ",
          "GOLDSMITH STATION",
          "WINK TO SNYDER 10\"",
          "MID-CONTINENT PIPELINE",
          "HILL CITY STATION",
          "WOOD STATION",
          "SEKISUI VAM PIPELINE",
          "GREENVILLE TANK FARM",
          0,
          "CNG PIPELINE/ANDERSON PUMPING STATION",
          "EUCUTTA STATION",
          "LAS FLORES STATION",
          "VINITA, OK PUMP STATION",
          "LA PUMP STATION",
          "KANSAS CITY TERMINAL",
          "TIGER PIPELINE",
          "WYOMING PIPELINE COMPANY",
          "EVANT STATION",
          "WAMSUTTER STATION",
          "REMOTE OPERATED BLOCK VALVE AT MILE POST 8.98",
          "BAYTOWN TERMINAL",
          "CHEMOIL CARSON TERMINAL",
          "10\" FINTEX",
          "BELRIDGE TO KETTLEMAN STATION",
          "MIDLAND MESA",
          "ARKANSAS RIVER SURVIELLANCE SITE",
          0,
          "ST. JAMES PUMP STATION ",
          "COLONIAL/GREENSBORO JUNCTION",
          "FREEMAN STATION ",
          "ST. JAMES CAPLINE",
          "ST. PAUL PARK",
          "NORCO ",
          "OWENSBORO STATION",
          "OWENSBORO STATION",
          "BAKERSFIELD TANK FARM",
          "MEADE STATION",
          "SUNFIELD STATION",
          "THOMPSON FALLS PUMP STATION",
          "PAOLA PUMP STATION",
          "BORGER TO CONWAY 8\" SOUTH LEG",
          "WYOMING PIPELINE COMPANY",
          "COLONIAL PIPELINE COMPANY / COLLINS TANK FARM",
          "COLONIAL PIPELINE COMPANY / BELLE CHASSE STATION",
          "SUGAR CREEK",
          "CONCORD STATION",
          "SHORE TERMINALS LLC",
          "RAMSEY METER STATION",
          0,
          "SAN VICENTE TO PACKARD 8\" OIL LINE",
          "GOLD LINE / BORGER PRODUCTS TERMINAL",
          "BNRF CRUDE FILL 36\" CSFM 0695",
          "14/BL",
          "PATOKA STATION",
          "BENGAL/BATON ROUGE",
          "HECTOR PUMP STATION",
          "20\" CRUDE OIL SYSTEM",
          "CHAPARRAL CO2",
          "VERDIGRIS LATERAL",
          "SWEETIE PECK LAUNCHER",
          "CARSON CRUDE TERMINAL",
          "18G",
          0,
          0,
          "MORRIS LATERAL",
          "COLORADO CITY MESA",
          "SEE STATION",
          "HAMMOND TANK FARM",
          "HOBBS STATION",
          "TANK 2-73",
          "COLORADO CITY STATION NO 850",
          "AWC TO SEMINOLE",
          "RENTON STATION",
          "DJ LATERAL",
          "COLONIAL PIPELINE COMPANY / HEBERT STATION",
          "EL DORADO EAST STATION",
          0,
          "NORTH SALT LAKE JUNCTION",
          "WEST HYNES",
          "NEDERLAND DELIVERY TERMINAL",
          "COLUMBUS TERMINAL",
          "PP04",
          "BOOTH STATION",
          "ONEOK OAKHURST PUMP STATION",
          "GALENA PARK TERMINAL # 474",
          "SHARON SPRINGS STATION",
          "HOBBS STATION",
          "HOBBS TANK STATION",
          "THUMS CRUDE M142 CSFM ID-200 PORT OF LA AREA",
          "BAYTOWN, TERMINAL",
          "POWDER RIVER/KERRICK STATION",
          "CHICAGO TERMINAL #206",
          "ST. JAMES CAPLINE",
          "MIDLAND FACILITY",
          "ALEXANDER STATION",
          "GLENPOOL TANK FARM",
          "PASADENA TERMINAL",
          "ORLANDO TERMINAL",
          "PLATTE PIPE LINE ",
          "EL PASO TERMINAL",
          "LYONS STATION",
          "CR",
          "PATOKA STATION",
          "SANFORD STATION",
          "ENID LATERAL NH3",
          0,
          "PR",
          "CORPUS CHRISTI, TERM NO 475",
          "NEDERLAND TO LONGVIEW 12\"",
          "LINDEN STATION",
          "EAST HOUSTON TERMINAL #711",
          "LIMA STATION",
          "30 INCH CNG PIPELINE",
          "CUSHING TERMINAL AUX. PIPING",
          "COLONIAL PIPELINE COMPANY / WELSH STATION",
          "ONEOK MEDFORD NORTH LINE #2 PUMP HEADER",
          "C11",
          "WYOMING PIPELINE COMPANY",
          "JONES CREEK STATION",
          "CENTRAL CUSHING CRUDE TERMINAL #800",
          "CUNNINGHAM STATION",
          "TEXAS CITY TANK FARM",
          "OT28 SKID 50",
          "PORT READING",
          "STERLING PUMP STATION",
          "PASADENA",
          "JAL STATION",
          "NOCONA STATION",
          0,
          "GRAND ISLE TANK BATTERY",
          0,
          "PASADENA TERMINAL",
          "KS/OK 4\" WELLINGTON TO BRAMAN",
          "ONEOK BINGER PUMP STATION",
          "JONES CREEK",
          0,
          "GREEN MOUNTAIN STATION",
          "WINK TO EL PASO 20\" CRUDE LINE",
          "CLEARBROOK TERMINAL",
          "SEALY ",
          "HELENA PUMP STATION",
          "ENID LATERAL NH3 ",
          "CONCORD STATION",
          "M-55/BELRIDGE STATION",
          "GI37 ROMEO OIL P/L SN 14470/ FOURCHON TERMINAL",
          "RICHMOND PRODUCTS LINE",
          "P74",
          "SEMINOLE MAINLINE",
          "AMARILLO TERMINAL",
          "BAYTOWN TO SAN ANTONIO REFINED PRODUCTS PIPELINE",
          "13000 / TOL5 (TOLEDO ETHANE)",
          "MINNESOTA PIPELINE 2",
          "MCRAE TO WEST MEMPHIS",
          "LAMESA SCURRY GATHERING",
          "C-47",
          "DAKOTA GASIFICATION",
          "WHITE CLIFFS",
          "PP-03",
          "LINDEN STATION",
          "COLONIAL PIPELINE COMPANY / KROTZ SPRINGS STATION",
          "RED RIVER PIPELINE",
          "14/MK",
          "C-18",
          "SEELIGSON TO MAYO 10\"",
          "CG",
          "WYOMING PIPELINE COMPANY",
          "SEELIGSON TO MAYO 10\"",
          "KINDER MORGAN",
          "WILBREEZE PUMP STATION",
          "ODESSA CRUDE TERMINAL",
          "#1-6\" ALEXANDRAI TO GRAND FORKS PIPELINE",
          "SNYDER TO MONT BELVIEU",
          "BRISBANE TERMINAL",
          "WYOMING PIPELINE COMPANY",
          "SEMINOE PIPELINE",
          "THOMASON SCRAPER TRAP",
          "EVANGELINE ETHYLENE PIPELINE SYSTEM",
          "MIDLAND TANK FARM",
          "DEWITT PUMP STATION ",
          "MID VALLEY PIPELINE",
          "WYOMING PIPELINE COMPANY",
          "PASADENA TERMINAL",
          "BLACKCAT SCRAPER TRAP",
          "OLATHE TERMINAL",
          "EL CAMINO FACILITY ",
          "COLONIAL PIPELINE COMPANY / ROW",
          "WYOMING PIPELINE COMPANY",
          "COLONIAL PIPELINE COMPANY/ELS",
          "IGNACIO PUMP STATION",
          "COLONIAL PIPELINE COMPANY  / LAKE CHARLES STATION",
          "POWDER RIVER/KERRICK STATION",
          "EASTERN SHELF PIPELINE",
          "8\" BERNE TO NATRIUM",
          "CUSHING WEST 20\"",
          "DOVER TO HENNESSEY 4\"",
          "GT",
          "C18",
          "LEBANON JUNCTION STATION",
          "GRISSOM STATION",
          "LM",
          "SOUTH TEXAS GATHERING",
          "CLINTON LATERAL",
          "BOOTLEGGER",
          "ALLEN STATION",
          "CSFM # 47 SEAL BEACH-NY",
          "BAKER PUMP STATION",
          "MIDLAND TANK FARM ",
          "HEARNE JUNCTION",
          "TUSSY STATION",
          "GATEWAY SYSTEM",
          "ORLANDO TERMINAL",
          "WESTERN BISTI STATION",
          "STERLING PIG ADAPTER",
          "DEWITT PUMP STATION ",
          "CUSHING TERMINAL",
          "LONGVIEW GATHERING",
          "ENID TERMINAL",
          "PERTH AMBOY",
          "BAKER STATION",
          "LIMA STATION",
          "BISTI STATION",
          "GLENPOOL TANK FARM",
          "SEALY TANK FARM",
          "WASSON STATION",
          "CASPER",
          "ONEOK VELMA PUMP STATION",
          "ELK BASIN STATION",
          "PE/SUPERIOR TERMINAL",
          "KAKAKEE STORAGE FACILITY",
          "PASADENA TERMINAL",
          "MCCAMEY STATION",
          "P98",
          "LINE 5",
          "WOLFBERRY PIPELINE SYSTEM - 16IN",
          "26-INCH CNG PIPELINE",
          "DIAMONDBACK PUMP STATION",
          "LISBON PUMP STATION",
          "CONCORD STATION",
          "JUNCTION PUMP STATION",
          "LIMA STATION",
          "CPC/ATLANTA JUNCTION",
          "26-INCH CNG PIPELINE",
          "GARDENDALE JV TERMINAL",
          "EAST CHICAGO WEST TERMINAL",
          "WYOMING PIPELINE COMPANY",
          "PUMP STATION",
          "SAPL - (SAN ANTONIO PIPELINE)",
          "EAST CHICAGO EAST TERMINAL",
          "BIGHORN PL CASPER STATION",
          "ITASCA PUMP STATION",
          "BEESON PUMP STATION",
          "DUPONT TERMINAL",
          "CUSHING SOUTH CRUDE",
          "ST. JAMES CAPLINE",
          "OAK GROVE TO HOUSTON ETHANE LINE",
          "CATLIN STATION",
          "PASADENA TERMINAL",
          "BAYTOWN TO SAN ANTONIO PIPELINE (SAPL)",
          "SHOUP PLANT",
          "MIDLAND BASIN",
          "HELENA TANK FARM",
          "GARDENDALE JV TERMINAL",
          "PASADENA TERMINAL",
          "CUSHING EAST TERMINAL",
          "SR-41",
          "JONES CREEK TANK FARM",
          "LIMA STATION",
          "CUSHING NORTH TERMINAL",
          "SHOUP TO MONT BELVIEU",
          "RICHMOND PUMP STATION",
          "SUPERIOR TERMINAL",
          "BENKELMAN PUMP STATION",
          "WPOR",
          "ONEOK MAYSVILLE PUMP STATION",
          "FOLEY PUMP STATION",
          "C20",
          "LAWSON STATION",
          "GRAND BAY RECIEVING STATION",
          "BRIDGER PIPELINE",
          "LINE 81",
          "ST. JAMES CAPLINE",
          "CALNEV 14-INCH MAINLINE",
          "BAYTOWN TO SAN ANTONIO (SAPL)",
          "WINN STATION",
          "BRANDYWINE STATION",
          "ONEOK SHAWNEE PUMP STATION",
          "CUSHING TERMINAL",
          "SUPERIOR TERMINAL",
          "SAND ISLAND TERMINAL FACILITY",
          "LA GRANGE STATION",
          "MCCAMEY",
          "BAKER STATION",
          "SEMINOLE",
          "BLACK BAY OIL",
          "ATEX-1",
          "SCENIC STATION",
          "GALENA PARK TERMINAL",
          "LYBROOK STATION",
          "PERTH AMBOY",
          "GRIFFITH EAST STATION",
          "BATON ROUGE JUNCTION",
          "WTG-COLORADO CITY STATION",
          "RED RIVER PIPELINE",
          "GRIFFITH TERMINAL",
          "LAWSON STATION",
          "KANSAS CITY TERMINAL",
          "DEER RIVER STATION",
          "WYOMING PIPELINE COMPANY",
          "HOSPAH STATION",
          "ENID LATERAL ANHYDROUS AMMONIA SYSTEM",
          "LIMA PUMP STATION",
          "COLEX WEST TANK FARM",
          "BEESON STATION",
          "PR-01 / DENVER JUNCTION",
          "LINE 62",
          "MIDLAND STATION",
          "OAK GROVE TO HOUSTON ETHANE LINE",
          "HANSTON TO HUDSON TRUNK",
          "HEARNE TO FT. WORTH 8\"/10\" LINE",
          "KELLEY STATION",
          "PERTH AMBOY",
          "LOUISVILLE JET FUEL TO LOUISVILLE 8\"-6\" ",
          "16\" DOCK LINE",
          "CUSHING SOUTH TERMINAL",
          "BASIN PIPELINE SYSTEM",
          "CUSHING TANK FARM",
          "BEAUMONT TERMINAL",
          "WYOMING PIPELINE MUSH CRK STATION",
          "WATSON STATION",
          "MIDLAND TERMINAL",
          "WTG-COLORADO CITY TO WORTHAM 26\"",
          "LISBON PUMP STATION",
          "BATON ROUGE JUNCTION",
          "CUSHING SOUTH TERMINAL",
          "CRANE STATION",
          "EASTERN SHELF PIPELINE PUMP STATION",
          "TWIN OAKS PUMP STATION",
          "LINDEN STATION",
          "SUPERIOR TERMINAL",
          "MEX-TEX NGL",
          "GEISMAR JUNCTION TO PROMIX 6\"",
          "DARBY CREEK TANK FARM",
          "PR-14",
          "SOUTHWEST TERMINAL",
          "ENTERPRISE ATEX",
          "MIDLAND STATION ",
          "SAPL/ COLUMBUS STATION",
          "SAN JOAQUIN VALLEY GATHERING",
          "LINE 5 GOGEBIC STATION",
          "BELLE FOURCHE PIPELINE",
          "L301: N. SNYDER-WINK 10\"",
          "PEOTONE STATION",
          "CUNNINGHAM STATION",
          "SIOUX CITY TERMINAL",
          "BL-02",
          "NORTH PORT ARTHUR TERMINAL",
          "HEARNE TO FROST 10\" LINE",
          "HEARNE TO FROST 10\" LINE",
          "YODER PUMP STATION",
          "ONEOK PRAIRIE VIEW JCT. SITE # 617",
          "WAKEMAN STATION",
          "KANNAPOLIS BOOSTER STATION",
          "GUERNSEY TERMINAL",
          "CLEARBROOK TERMINAL",
          "ROSE ROCK MIDSTREAM CUSHING TERMINAL",
          "SEMINOLE MAINLINE",
          "DS301CG",
          "GRIFFITH EAST STATION",
          "SEALY STATION",
          "ST JAMES NORTH STATION",
          "PEETSVILLE STATION",
          "PEETSVILLE STATION",
          "FLANAGAN TERMINAL",
          "CUSHING LITTLE TANK FARM",
          "LUFKIN STATION",
          "LINDEN STATION",
          "WYOMING PIPELINE COMPANY",
          "BROWNSVILLE STATION",
          "BEAUMONT TERMINAL",
          "TWIN OAKS PUMP STATION",
          "WHEELER STATION",
          "HOUSTON STATION",
          0,
          "EL DORADO TO WATHENA JCT. #7-16\" LINE ",
          "ONEOK MEDFORD LINE #4 PUMP ",
          "MIDDLEWATER PUMP STATION",
          "WICHITA FALLS PL",
          "EAST HOUSTON TERMINAL ",
          "ARNOLD STATION",
          "ENTERPRISE HOUSTON SHIP CHANNEL",
          "PEARSALL OIL SYSTEM",
          "HOUMA STATION",
          "ECHO STATION",
          "HOUSTON SEGMENT 520 8\"",
          "BLOCK VALVE",
          "POINT BREEZE TO MONTELLO 12\"",
          "MONT BELVIEU METER SITE TO ENTERPRISE EOL",
          "LOCATION 0702",
          "SOUTH BALTIMORE DELIVERY",
          "TEXNEW MEX X (TNMX) TO T STATION (MASON SYSTEM)",
          "VINITA PUMP STATION",
          "PUMP STATION 1",
          " MORGANS POINT TO TEXAS PETRO OLEFINS #3",
          "KELLEY STATION",
          "LOU TEX NGL 12\"",
          "NOBLES 29 CONNECTION",
          "MONTELLO PUMP STATION",
          "HOUSTON SHIP CHANNEL",
          "SPRINGFIELD PUMP STATION",
          "CASPER TERMINAL",
          "JACKSBORO STATION",
          "CLEARBROOK TERMINAL",
          "MASON STATION",
          "WICHITA NORTH TERMINAL",
          "EAST HOUSTON TERMINAL",
          "CUSHING CENTRAL TERMINAL",
          "YORKTOWN JUNCTION",
          "GREENSBORO TANK FARM",
          "WASSON STATION",
          "PATOKA STATION",
          "GLENPOOL EAST STATION ",
          "ERDMAN AVENUE TERMINAL",
          "MT. VERNON STATION",
          "NORTH PLATTE RIVER BLOCK VALVE",
          "HOUSTON SHIP CHANNEL",
          "SMILEY OIL TERMINAL",
          "SHERIDAN PUMP STATION",
          "EL DORADO-KANSAS CITY NO. 6-10\" LINE  ",
          "MORGAN LAKE STATION",
          "COFFEYVILLE CO2 PIPELINE",
          "PT ARTHUR PRODUCTS STATION",
          "HOPE STATION",
          "HEBERT TO ALDINE 8\"",
          "EHSC",
          "WICHITA FALLS",
          "EHSC",
          "NOCONA STATION",
          "CORSICANA STATION",
          "CLARKWOOD LATERAL",
          "WORTHAM STATION",
          "WICHITA FALLS PL",
          "MIDDLESEX",
          "PATOKA STATION",
          "TEXAS CITY",
          "GRANVILLE STATION",
          "DIXIE STATION",
          "LAS FLORES TO GAVIOTA 24\"",
          "CRANE STATION",
          "THREE RIVERS METER STATION",
          "MIDLAND STATION",
          "PATOKA CAPLINE STATION",
          "BERRY GARDENDALE",
          "ROCKLIN STATION",
          "TRACY PUMP STATION",
          "LAWSON",
          "EAST HOUSTON TERMINAL",
          "CHURCH POINT STATION",
          "CORSICANA STATION",
          "TXBW1P2C",
          "PUMP STATION 10",
          "NEW MEXICO PIPELINE",
          "DIBOLL STATION",
          "RAMAH PUMP STATION",
          "WTG-COLORADO CITY STATION",
          "CHEVRON-BELRIDGE CGC31X",
          "OXFORD STATION",
          "ORCUTT 8\"",
          "YORKTOWN JUNCTION",
          "GUADALUPE PUMP STATION",
          "EAST HOUSTON TERMINAL",
          "ROADRUNNER PIPELINE LLC/LOVINGTON PUMP STATION",
          "WTG-COLORADO CITY TO WORTHAM",
          "JULIEN PUMP STATION",
          "VINITA PUMP STATION",
          "BUCK CREEK STATION",
          "COWDEN STATION",
          "CHATHAM STATION",
          "KINDER MORGAN",
          "TOLEDO PUMP STATION (TOL5)",
          "AUBURN STATION",
          "LIBERTY PUMP STATION",
          "FLANAGAN TERMINAL",
          "NORTH SNYDER TO SNYDER STATION SCURRY 6\"",
          "40P HOUSTON LPG PIPELINE",
          "40P HOUSTON LPG PIPELINE",
          "WYOMING PIPELINE CO.",
          "WTG-WORTHAM STATION",
          "MANCHESTER PROYPYLENE",
          "VALERO-SHELL TIE-IN",
          "THUNDER CREEK STATION",
          "LINDEN JUNCTION",
          "BORGER-DENVER",
          "CORSICANA STATION",
          "ONEOK CAPITOL PUMP STATION (SITE #555)",
          "KANSAS CITY TERMINAL",
          "CLOVELLY DOME STORAGE TERMINAL",
          "MILEPOST 33",
          "SEMINOE PIPELINE",
          "CUNNINGHAM TO ARLINGTON JCT. 12\"",
          "ALBIN STATION",
          "MITCHELL JUNCTION",
          "BENGAL",
          "GALENA PARK",
          "RANGER STATION",
          "CORSICANA TO TYLER/DELEK 12\"",
          "WYOMING PIPELINE COMPANY",
          "POCAHONTAS STATION",
          "CUSHING MEASUREMENT STATION",
          "PASADENA",
          "CENTRAL FLORIDA PIPELINE/AUBURNDALE STATION",
          "THUNDER CREEK STATION 4465 HIGHWAY 450 NEWCASTLEWY",
          "ALBION M/L CRUDE GATHERING",
          "MERAUX",
          "ARTESIA STATION WEST (RECEIVING)",
          "KEY STATION",
          "C92",
          "CASPER TERMINAL",
          "MAYSVILLE STATION",
          "VALERO NORTH FORTY",
          " DOUBLE HH, GURENSEY TERMINAL",
          "CENTURION PIPELINE",
          "OREGON METERING FACILITY",
          "EAST COYANOSA MEASUREMENT STATION",
          "C-959 CSFM #495",
          "LINE 6",
          "EASTLAND TO WEATHERFORD 14\"",
          "HOUSTON STATION",
          "HEBERT STATION",
          "BOOTH STATION",
          "LINE 2",
          "HARDTNER STATION",
          "VALVE 34",
          "BLANCO STATION",
          "SALT LAKE CITY ",
          "GRIFFITH TERMINAL ",
          "CPC / HEBERT STATION ",
          "LINDEN STATION",
          "C13",
          "MANY PUMP STATION",
          "GCPL_LAVACA 2000 EXTENSION_10IN",
          "TANK #6830",
          "CPC / KROTZ SPRINGS STATION",
          "GARDENDALE ",
          "PASADENA",
          "BTX PROCESSING",
          "WYOMING PIPELINE COMPANY",
          "OVERLAND PASS PIPELINE",
          "OVERLAND PASS PIPELINE",
          "MCCAMEY STATION",
          "20\" CRUDE SYSTEM",
          "HILLTOP GATHERING SYSTEM",
          " P89 - BUTANE MAINLINE",
          "MCLOUTH STATION",
          "KANNAPOLIS BOOSTER STATION",
          "SUPERIOR TERMINAL TANK 15",
          "SAINT JAMES TERMINAL",
          "55P PETTUS SOUTH PIPELINE",
          "WYOMING PIPELINE CO.",
          "52P THREE RIVERS TO SAN ANTONIO (EAST) PIPELINE",
          "AVINGER",
          "MANHATTAN TERMINAL",
          "GREENSBORO JUNCTION TANK FARM",
          "ONEOK TXL0415C COAHOMA #1 10\"",
          "NOME TO DANIEL'S JCT. 4\"",
          "MARTINSVILLE STATION (NORTH PRODUCTS STATION)",
          "WYOMING PIPELINE COMPANY",
          "WYOMING PIPELINE COMPANY",
          "WEST SENECA TERMINAL",
          "COFFEYVILLE CO2 PIPELINE",
          "WILLBRIDGE TERMINAL",
          "ONEOK WEST WINFREE STATION",
          "HSC",
          "NEW MCKEE JUNCTION",
          "GMPL CUSHING",
          "GALENA PARK LIQUID TERMINAL",
          "RINGLING TO MP 24",
          "CORSICANA STATION TANK",
          "JONES CREEK STATION",
          "PEARSALL OIL PL / CHILIPTIN STATION",
          "ABERDEEN JUNCTION",
          "WEST POINT STATION ",
          "LEBAR JCT.",
          "AGNEW STREET JUNCTION TO ATI TERMINAL",
          "MARINER SOUTH",
          "HSC",
          "LEBANON STATION ",
          "MID-CONTINENT PIPELINE",
          "GALVESTON BAY REFINERY - CHOCOLATE BAYOU 8 INCH",
          "PASADENA",
          "FLINT HILLS PIPELINE SYSTEM",
          "ALBANY JCT.",
          "MIDLAND (IRAAN) TERMINAL",
          "SAMARIA STATION ",
          "GARDENDALE OIL PL / CHILIPTIN",
          "LONG BEACH TERMINAL",
          "NORTH 20 - COALINGA TO AVON",
          "PASADENA TERMINAL",
          "GAFFNEY STATION",
          "GALENA PARK TERMINAL ",
          "VENTURA 10\" CRUDE PIPELINE",
          "HUNT STATION",
          "LINE 04/LOC 0904",
          "KOSCIUSKO BLOCK VALVE SITE MP 9.38",
          "EASTLAND STATION",
          "AGNEW STREET JUNCTION TO ATI TERMINAL",
          "TANK 2690",
          "CRANE EAST",
          "TXL0365C #1-10\" CR 349 TO EASTLAND PIPELINE",
          "HOUSTON STATION",
          "MCCAMEY",
          0,
          "FRONT RANGE",
          "GRAVITY LINE",
          "WYOMING PIPELINE COMAPNY",
          "CC-32",
          "DAYTON BP TERMINAL",
          "WT-80",
          "COLORADO CITY MESA",
          "BEAUMONT TERMINAL",
          "NORTH PORT ARTHUR TERMINAL",
          "BAKER PUMP STATION",
          "PORT NECHES TANK FARM",
          "AREPI",
          "WYOMING PIPELINE CO. MUSH CREEK STATION",
          "ATEX",
          "EUCUTTA STATION",
          "GULF STATES PIPELINE",
          "WYOMING PIPELINE COMPANY",
          "GLENDIVE TERMINAL",
          "WHEATLAND PIPELINE",
          "WYOMING PIPELINE CO.",
          "20\" WINK TO EL PASO",
          "DIBOLL STATION",
          "ICEDALE TANK FARM",
          "GOODRICH STATION",
          "KINDERMORGAN PERTH AMBOY TERMINALS",
          "KINDERMORGAN PERTH AMBOY TERMINAL",
          "05P SOUTHLAKE PIPELINE",
          "GALENA PARK TERMINAL",
          "162",
          "REAGAN FACILITY",
          "AEGIS PIPELINE",
          "BAYTOWN PRODUCTS 3 PUMP STATION",
          "BATON ROUGE JUNCTION TANK FARM #2",
          "LIMA STATION",
          "TX CITY TK FARM",
          "MESA FAIN LATERAL",
          "MIDLAND STATION",
          "GALENA PARK TERMINAL",
          "MCMULLEN PUMP STATION ",
          "BUMPUS STATION",
          "SOUR LAKE BREAKOUT STATION ",
          "JONES CREEK STATION",
          "WINK STATION",
          "NOME STATION (SCRAPER TRAP)",
          "MIDLAND STATION",
          "NOME TO DANIEL'S JCT. 4\"",
          "FOUR CORNERS PUMP STATION",
          "CUSHING TERMINAL",
          "WYOMING PIPELINE COMPANY",
          "LIBERTY STATION",
          "WPC - CLARETON STATION",
          "WPC - FIDDLER CREEK STATION",
          "ET O'DANIEL 37-3H PUMP STATION",
          "WASSON STATION",
          "ATLANTA JUNCTION",
          "WPC - THUNDER CREEK STATION",
          "HENDERSON PUMP STATION",
          "FANNETT TERMINAL",
          "TEXOK CO2 PIPELINE",
          "PERTH AMBOY",
          "PORTLAND STATION",
          "ROCKY MOUNTAIN NORTHWEST LATERAL",
          "NORTH 20\"",
          "PERRYTON",
          "JONES CREEK STATION",
          "ENID-PONCA CITY #1-6\" CRUDE LINE",
          "ARBUCKLE PIPELINE - ENTERPRISE-TARGA DELIVERY",
          "TX CITY TK FARM",
          "ROCKY MOUNTAIN NORTHWEST LATERAL",
          "ROCKY MOUNTAIN NORTHWEST LATERAL",
          "LINE 2",
          "ROSEMOUNT STATION ",
          0,
          "ANAHUAC JUNCTION",
          "WORTHAM STATION",
          "TYE STATION",
          "ROCKY MOUNTAIN NORTHWEST LATERAL",
          "PINE BEND PUMP STATION",
          "ENERGY XXI USA, INC.",
          "BEAUMONT MARINE WEST EXPORT METER SKID",
          "MITCHELL JUNCTION",
          0,
          "GALENA PARK TERMINAL",
          "ALVORD STATION",
          "EASTLAND STATION",
          "COFFEYVILLE CO2 PIPELINE",
          "HANSTON STATION",
          "GREENSBORO JUNCTION TANK FARM",
          "RIO BRAVO CRUDE PIPELINE",
          "LUCAS TANK 1956",
          "BROOKS TANK LINE",
          "SALE RANCH 37-17H",
          "QUINCY STATION LINE 59",
          "CUSHING WEST TERMINAL",
          "PORT ARTHUR TERMINAL TO BEAUMONT TERMINAL",
          "SALT CREEK LATERAL",
          "JOE MABEE",
          " VENTURA 10\" CRUDE PIPELINE",
          "EMIDIO TANK FARM",
          "HOBBS STATION",
          "COLORADO CITY BASIN",
          "HSC",
          "MARTINEZ PUMP STATION",
          "HOXBAR CO2 PIPELINE",
          "ONEOK #1 10\" LAKE COLORADO CITY TO CR 349",
          "CASHION STATION",
          "LAMAR-TEXAS CITY 4\" LINE",
          "DES MOINES TERMINAL",
          "GCPL_ELLA-SEADRIFT_8IN",
          "OLNEY STATION",
          "BEAUMONT TERMINAL",
          "BRAHANEY JUNCTION STATION",
          "PR-01",
          "MIDDLEBURY JCT.",
          "COLLINS TANK FARM",
          "CUSHING TERMINAL",
          "CHINA GROVE",
          "LINE 1 BATON ROUGE TO COLLINS",
          "HEBRON STATION",
          "CONWAY WEST",
          "WEST TULSA EXPLORER",
          "PORT SOCONY DELIVERY",
          "GALVESTON BAY REFINERY - BAYTOWN 8 INCH",
          "LYNCH STATION",
          "HOBBS STATION",
          "CENTRAL CUSHING TERMINAL",
          "BURDEN JUNCTION TO COFFEYVILLE",
          "OVERLAND PASS PIPELINE",
          "MORIARTY TERMINAL",
          "IMTT-BAYONNE",
          "MIDWAY STATION",
          "TESORO HIGH PLAINS PIPELINE",
          "EAGLE POINT TANK FARM",
          "FREES STATION",
          "OLTON STATION",
          "DES PLAINES",
          "PASADENA",
          "ONEOK #1- 10\" LAKE COLORADO CITY TO CR 349 ",
          "PELHAM JUNCTION",
          "BEAUMONT CRUDE TERMINAL",
          "PALINE PIPELINE COMPANY 10\" MAIN",
          "AM-10 / BORGER PRODUCTS TERMINAL",
          "SEYMOUR TERMINAL",
          "JAY STATION",
          "GREENSBORO JUNCTION",
          "TESORO HIGH PLAINS PIPELINE",
          "BEAUMONT TERMINAL",
          "TROJAN INJECTION STATION",
          "FT LARAMIE",
          "BATON ROUGE TANK FARM",
          "MOKENA STATION",
          "LINE 02, LOC 0402",
          "NUTAAQ - BADAMI SALES PIPELINE",
          "SUPERIOR TERMINAL",
          "CORSICANA STATION",
          "LIMA TERMINAL",
          "GOLDSMITH STATION",
          "WYOMING PIPELINE COMPANY",
          "XY TO ZWP OIL SHIPPING LINE",
          "BEAUMONT CRUDE TERMINAL",
          "REMINGTON STATION",
          "LEBANON TERMINAL",
          "BEAUMONT TERMINAL",
          "TRUSCOTT TO CHILDRESS 10\"",
          "HOLLY STATION",
          "SILVER DOLLAR PIPELINE ",
          "AMMONIA WEST LEG ",
          "ROADRUNNER RECEIVING STATION",
          "CUSHING CENTRAL TERMINAL",
          "CORSICANA STATION",
          "FUEL OIL PIPELINE #2",
          "MARTINVILLE TO GWINVILLE JCT.",
          "SIOUX FALLS TERMINAL ",
          "ARLINGTON JUNCTION TO CUNNINGHAM 12\"",
          "MARTINSVILLE - LIMA 22 INCH CRUDE ",
          "CUSHING TERMINAL",
          "YSCLOSKEY PIPELINE",
          "CANJ 1201",
          "LINDEN STATION",
          "CUSHING EAST TERMINAL",
          "C158",
          "IMTT-BAYONNE",
          "YELLOW JACKET VALVE",
          "PY",
          "OHIO RIVER VALLEY SYSTEM",
          "MONT BELVIEU TO APEX (MAINLINE)",
          "IMTT",
          "IMTT",
          "ARLINGTON JUNCTION TO CUNNINGHAM 12\"",
          "AMMONIA WEST LEG",
          "T2",
          "LINE 01",
          "BEAUMONT TERMINAL",
          "CENTER TERMINAL",
          "GUTHSVILLE JUNCTION",
          "MONT BELVIEU TO CARTHAGE",
          "ONEOK WEST WINFREE STATION",
          "CARNERAS TANK FARM",
          "MASON STATION",
          "NL602LY",
          "AMMONIA WEST LEG",
          "CUSHING NORTH TERMINAL",
          "LAKEMONT PIPELINE",
          "CLEARBROOK TERMINAL",
          "MANHATTAN TANK FARM",
          "MONT BELVIEU TO MORGANS POINT LINE #1",
          "EPES STATION",
          "STAMPEDE LATERAL",
          "WT-10 / PEP STATION",
          "FT LARAMIE",
          "ALEXANDRIA-GRAND FORKS #1-6\" PIPELINE",
          "LIBERTY STATION ",
          "CONCORD STATION",
          "BEAUMONT CRUDE TERMINAL",
          "MAJORSVILLE TO HOUSTON",
          "TEXOK CO2 PIPELINE",
          "FT LARAMIE",
          "SIOUX CITY TERMINAL",
          "CUSHING NORTH TERMINAL ",
          "BUTTE PIPELINE",
          "GARDENDALE PUMP STATION",
          "CONROE PUMP STATION",
          "KEYSTONE PIPELINE",
          "VICTORIA SPUR",
          "KINDER MORGAN PERTH AMBOY TERMINAL",
          "WINK STATION",
          "TEXOK CO2 PIPELINE",
          "E. HOUSTON TO PT. NECHES 20\"",
          "WHARTON PUMP STATION ",
          "KARNES STATION",
          "CUNNINGHAM STATION",
          "JONES CREEK STATION",
          "LINE 01",
          "ROBINSON TO MT. VERNON 10\"",
          "HS&P",
          "ST JAMES TERMINAL",
          "COTTON DRAW STATION",
          "144 TO DEWITT",
          "PUMP STATION 5, TANK 150",
          "WOOD STATION",
          "HOWARD FACILITY",
          "WT-10 / SLAUGHTER STATION",
          "WTG-RANGER STATION",
          "GCPL_CA (MT BELVIEU TO HWY 1148)_8IN",
          "RIO BRAVO CRUDE PIPELINE",
          "CROSSROADS STATION",
          "IMTT-BAYONNE TERMINAL",
          "HANSTON STATION",
          "MIDLAND STATION",
          "LIBERTY TERMINAL",
          "WEST TULSA TERMINAL",
          "BORGER DENVER PIPELINE / MP205.8 VALVE ",
          "WEST TEXAS GATEWAY 16IN",
          "BADEN UNDERGROUND STORAGE",
          "PARCEL A LEASE",
          "MILAN STATION",
          "COUNTRYMARK RURAL REGULATED GATHERING SYSTEM",
          "COUNTRYMARK RURAL REGULATED GATHERING SYSTEM",
          "ROGERS PUMP STATION",
          "GLOBAL TANK YARD",
          "DES MOINES TERMINAL",
          "MP 178 - CONWAY NH3",
          "HOUSTON SHIP CHANNEL",
          "BOOTH STATION",
          "POQUITA STATION",
          "ACADIAN TANK FARM",
          "IMTT-BAYONNE",
          "PASADENA TERMINAL",
          "CMS3-STATION AT TEXAS CITY MARATHON REFINERY",
          "FHR INGLESIDE TANK",
          "GALENA PARK TERMINAL",
          "CANJ 801",
          "MIDLAND STATION",
          "NORTH 20",
          "TOCA LATERAL TO VALERO",
          "JONES CREEK STATION",
          "COFFEYVILLE CO2 PIPELINE",
          "ONEOK STERLING 1 PIPELINE ",
          "TESORO HIGH PLAINS PIPELINE",
          "IOWA STATION",
          "COLORADO CITY TO WICHITA FALLS 22\"",
          "CUSHING WEST TERMINAL",
          "SHICKLEY BLOCK VALVE SITE",
          "ONEOK MIDDLETON PUMP STATION",
          "TW14-TWIN OAKS METER STATION",
          "KINDER MORGAN CARTERET",
          "CARSON CRUDE TERMINAL",
          "STATION 36 PUMP STATION",
          "CYGNET STATION",
          "EAST HOUSTON TERMINAL",
          "GUADALUPE PUMP STATION",
          "HARLEM STATION",
          "TX-206",
          "GALENA PARK",
          "NILES TO FERRYSBURGH",
          "BLUM STATION",
          "ECHO STATION",
          "CORSICANA TO TYLER/DELEK 12\"",
          "CANTON TO EAST SPARTA 6\" PRODUCTS ",
          "BEMIS TO SUSANK",
          "GRIMES CITY STATION",
          "SAN JOAQUIN VALLEY GATHERING",
          "SANTA RITA STATION",
          "OTI JUNCTION",
          "SOUTHWEST TERMINAL",
          "6\" NORTH WINNIE MGL",
          "THREE RIVERS PIPELINE SYSTEM",
          "STOREY TERMINAL LACT INLET",
          "EPTC",
          "SINGLETON PUMP STATION",
          "GARDENDALE NORTH",
          "MIDKIFF STATION",
          "TESORO HIGH PLAINS PIPELINE",
          "KURARAY POVAL TO LBC",
          "CUSHING TERMINAL",
          "ONEOK MOUNT BELVIEU STORAGE FACILITY",
          "CSFM #334 V-10",
          "PORT ARTHUR PRODUCTS JUNCTION",
          "AMMONIA WEST LEG",
          "BEAUMONT MARINE EAST TERMINAL",
          "LEBANON TERMINAL",
          "BATON ROUGE REFINERY - ZACHERY (EQUILON) PRODUCTS ",
          "WINK STATION",
          "NOME STATION",
          "VITOL MIDLAND TANK FARM",
          "C47",
          "14W-12",
          "10\" HAWKVILLE LIQUID NORTH",
          "GREENVILLE STATION",
          "MCDONALD PUMP STATION",
          "HIDALGO NGL METER STATION",
          "PLATTEVILLE TERMINAL ",
          "NAPOLEONVILLE PUMP STATION",
          "MIDLAND BASIN",
          "TX-135A MT BELVIEU TO CLEARLAKE",
          "MONT BELVIEU TO GALVESTON BAY REFINERY 8\" BUTANE ",
          "GCPL_E-2-WEST_6IN",
          "NEW LONDON STATION",
          "HELENA TANK FARM",
          "HAMMOND JCT",
          "CORSICANA STATION",
          "BAYTOWN TERMINAL",
          "04P MCKEE - DENVER PIPELINE",
          "HOLLY-WEST TULSA",
          "ENTERPRISE DELIVERY POINT",
          "HONOLULU PIPELINE",
          "PATOKA STATION ",
          "ALAMITOS",
          "WEST HYNES",
          "BRYAN STATION",
          "WASSON TO ODESSA 16\"",
          "TAR-TXL0092 ",
          "WEST LEG MAINLINE NH3",
          "APPELT",
          "PENTLAND STATION",
          "MONT BELVIEU TO GALVESTON BAY REFINERY 8\" BUTANE ",
          "BILLINGS METER SITE",
          "ETP JUDITH STATION",
          "ANCHORAGE CHEMICALS TERMINAL",
          "CORSICANA TANK FARM",
          "C87",
          "COLORADO CITY STATION-TANK 15",
          "LYNCH STATION",
          "LIMA STATION",
          "RED BLUFF LATERAL",
          "C18",
          "CHOCOLATE BAYOU SYSTEM",
          "SOUTH BEND STATION",
          "T2 TERMINAL",
          "WILBREEZE LATERAL",
          "BATON ROUGE JUNCTION",
          "FOUR CORNERS PUMP STATION",
          "WILPRISE PIPELINE",
          "CHURCH POINT STATION",
          "NORTH PORT ARTHUR STATION",
          "BELRIDGE STATION",
          "WILLBRIDGE TERMINAL",
          "SKELLY BELVIEU/WICHITA FALLS STATION",
          "NORTH PORT ARTHUR STATION",
          "OPELIKA STATION",
          "MPL-118A MT BELVIEU TO ARCO JCT",
          "HOLL-HOLLIDAYSBURG PUMP STATION",
          "CROSS DELIVERY METER OUTLET",
          "COLTON SOUTH TERMINAL",
          "BATON ROUGE TANK FARM",
          "YELLOWSTONE ORIGINATION STATION PUMPS",
          "5TH STREET TERMINAL",
          "LINE 76016",
          "WHITE LAKES STATION",
          "MIDLAND STATION",
          "NGL ENERGY PARTNERS",
          "EAST HOUSTON TERMINAL",
          "COLLINS STORAGE (#2)",
          "TEXOMA NORTH MANIFOLD",
          "PASADENA TERMINAL",
          "MANKATO TERMINAL",
          "GARDENDALE PIPELINE",
          "MEDFORD FRACTIONATOR 20\" PROVER",
          "WILBREEZE PUMP STATION",
          "BOA MAINLINE",
          "MIDLAND BASIN",
          "GALENA PARK TERMINAL",
          "EL PASO ",
          "C18",
          "PERTH AMBOY TERMINAL",
          "SOUR LAKE STATION",
          "MIDLAND STATION",
          "LINE 01",
          "PERMIAN EXPRESS II",
          "CALUMET ELMENDORF STORAGE FACILITY",
          "PECAN STATION",
          "DORE STATION",
          "TORREON PUMP STATION",
          "BUCKEYE TEXAS PROCESSING",
          "#1 CRUDE SYSTEM / DRUMRIGHT STATION",
          "ATLANTA JUNCTION",
          "HUNTSVILLE, TX PUMP STATION",
          "STATE LINE BLOCK VALVE",
          "GOODRICH STATION-TANK 300 MIXER",
          "TEXOK TO FARNSWORTH CO2 PIPELINE",
          "VERDIGRIS LATERAL NH3",
          "WAYNE, MI TO TOLEDO, OH",
          "MCCAMEY TERMINAL",
          "DANEVANG PUMP STATION",
          "C47",
          "HUNTSVILLE, TX PUMP STATION",
          "CHEYENNE TERMINAL",
          "GLENPOOL WEST STATION",
          "MIDKIFF STATION ",
          "EAST HOUSTON TERMINAL",
          "LINDEN STATION",
          "COLLINS TANK FARM",
          "MT. VERON, MO PUMP STATION",
          " BUCKEYE TEXAS HUB",
          "PERRY RANCH STATION",
          "HSC",
          "BATON ROUGE JUNCTION",
          "RED BLUFF LATERAL ",
          "MONT BELVIEU STATION",
          "BATON ROUGE TANK FARM #3",
          "S15.6",
          "BH",
          "GREEN MOUNTAIN STATION",
          "BAKKEN METER STATION",
          "VALLEY CENTER STATION",
          "WYOMING PIPELINE COMPANY",
          "SANDHILLS WEST",
          "C47",
          "14W",
          "VALLEY TO WHITING ANHYDROUS AMMONIA LINE",
          "SL-10: LIMA - COLUMBUS NORTH",
          "48P CORPUS CHRISTI CHEMICAL PIPELINE",
          "WHITNEY STATION",
          "DEER RIVER STATION",
          "8\" BALD EAGLE TO BUFFALO",
          "CUSHING EAST TERMINAL",
          "FREES STATION",
          "GREAT BEND TERMINAL",
          "MIDLAND STATION ",
          "CORSICANA TANK FARM",
          "WHITE CLIFFS II",
          "BEAUMONT TERMINAL",
          "LINE 01",
          "BOA SYSTEM",
          "20\" WINK PIPELINE",
          "BLUE WATER ETHANE - BATON ROUGE CHEMICAL PLANT",
          "GALENA PARK TERMINAL",
          "OLYMPIC PIPELINE",
          "NORTHWEST PRODUCT SYSTEM",
          "SA",
          "MCCAMEY TERMINAL",
          "HSC",
          "EAST HOUSTON TERMINAL",
          "C19",
          "GREENSBURG TO CHELSEA",
          "PASADENA TERMINAL",
          "GERALD, MO PUMP STATION",
          "BLOOMING GROVE STATION ",
          "SEYMOUR TO BEAUMONT (ATEX)",
          "COLTON SOUTH PUMP STATION",
          "CHASE STATION",
          "ONEOK SCURRY LATERAL ",
          "5TH STREET",
          "WOLSEY TERMINAL",
          "BTH",
          "WEST SEMINOLE STATION",
          "SUNDOWN MIDLAND JUNCTION",
          "WT-50 / WEEMS STATION ",
          "THREE RIVERS PUMP STATION",
          "LINE 2000",
          "EAST RED ",
          "BATON ROUGE JUNCTION",
          "NORTH PORT ARTHUR FACILITY",
          "TCV CO2 PIPELINE",
          "LONGVIEW STATION",
          "FORDYCE STATION",
          "WYOMING PIPELINE COMPANY",
          "ROXANA STATION",
          "BICENTENNIAL",
          "SEABREEZE STATION",
          "MONT BELVIEU TO APEX MAINLINE",
          "BAYTOWN TO BEAUMONT #1",
          "SR-13",
          "EP 6-GISSLER PUMP STATION",
          "EAST HOUSTON TERMINAL",
          "ONEOK MT. BELVIEU STORAGE",
          "ENTERPRISE EAST FACILITY",
          "14W-12",
          "NEW STERLING CITY STATION",
          "C26",
          "LIMA STATION",
          "CARTERET",
          "WT-10 / ODESSA CRUDE TERMINAL",
          "SANTA RITA FACILITY",
          "YALE 4\" ",
          "SPEARSVILLE PUMP STATION",
          "YALE 4\"",
          "ELWOOD STATION",
          "LINE 59 KEY STATION",
          "ECHO MANIFOLD",
          "NT-90, PREDO TO CARSON",
          "RUSSELL STATION",
          "KEYSTONE",
          "BRRF - CHOCTAW ETHANE/PROPANE MIX SYSTEM",
          "CUSHING CENTRAL TERMINAL",
          "MIDLAND STATION",
          "MARSHALL STATION"
         ],
         "lat": [
          38.6707,
          43.94028,
          30.1824,
          46.6893,
          33.58266,
          48.99555,
          29.4305,
          30.08533,
          29.4305,
          29.714779999999998,
          30.259890000000002,
          28.055290000000003,
          38.34519,
          35.94466,
          35.937490000000004,
          40.16833,
          36.39836,
          30.1724,
          29.4305,
          46.8197,
          42.382290000000005,
          33.809329999999996,
          38.81386,
          38.32113,
          39.0081,
          38.82204,
          35.27901,
          30.78251,
          31.632509999999996,
          37.803255,
          38.32113,
          29.47,
          29.8916,
          46.851256,
          37.355914,
          42.9289,
          37.80218,
          30.0795,
          30.54741,
          39.8106,
          41.94352,
          39.13776,
          40.6086,
          32.4785,
          31.13284,
          32.224709999999995,
          47.71696,
          41.21235,
          36.6659,
          35.483540000000005,
          32.48325,
          47.68857,
          37.108470000000004,
          28.104059999999997,
          30.16801,
          30.17319,
          39.36359,
          39.13844,
          32.482479999999995,
          32.06839,
          46.68889,
          43.29183,
          32.07267,
          32.652,
          32.52582,
          38.5997,
          35.95885,
          35.01937,
          41.5569,
          29.399720000000002,
          30.711209999999998,
          30.241,
          35.93985,
          30.54741,
          39.919340000000005,
          28.68555,
          35.68463,
          27.86028,
          30.159570000000002,
          41.1784,
          39.46308,
          37.157779999999995,
          39.64343,
          36.13252,
          41.184974,
          35.421479999999995,
          29.2564,
          38.1337,
          32.06374,
          38.63064,
          32.5375,
          35.86572,
          35.76698,
          39.02601,
          29.90083,
          32.47413,
          29.997629999999997,
          36.5746,
          28.279502,
          47.31006,
          44.000221,
          38.98742,
          30.70863,
          41.80708,
          38.881879999999995,
          42.51862,
          38.47623,
          33.85651,
          29.7169,
          29.7268,
          42.455890000000004,
          37.81654,
          40.6054,
          29.91232,
          33.735001000000004,
          36.253344,
          48.39475,
          32.611,
          32.470420000000004,
          31.42962,
          30.0119001,
          33.07358,
          29.34921,
          29.3475,
          32.48191,
          40.57083,
          32.561840000000004,
          40.61428,
          38.1019,
          40.70942,
          44.623509999999996,
          32.53091,
          29.71831,
          63.93074,
          39.800348,
          30.19071,
          39.12851,
          32.06839,
          38.72582,
          29.718767,
          41.844019,
          29.706473,
          35.93019,
          34.918009999999995,
          35.467203000000005,
          29.88878,
          31.98743,
          35.55441,
          45.672992,
          28.85030001,
          48.720364000000004,
          39.506925,
          30.0124001,
          44.67167,
          30.239546999999998,
          33.59667,
          29.74697,
          31.65608,
          42.20753,
          30.05006,
          40.76505,
          35.94595,
          35.946697,
          41.123379,
          29.956870000000002,
          30.94037,
          43.965346000000004,
          30.124278000000004,
          40.706418,
          32.53275,
          40.647936,
          41.31825,
          37.840740000000004,
          47.32444,
          28.711239000000003,
          36.00943,
          33.53866,
          33.955999999999996,
          36.01526,
          29.630833000000003,
          29.624779999999998,
          32.47831,
          32.285940000000004,
          38.090720000000005,
          35.23317,
          29.630232,
          38.828047,
          36.77451,
          35.55435,
          39.68524,
          40.591463,
          38.780525,
          30.45372,
          40.36468,
          42.24329,
          30.145766,
          38.82204,
          47.372103,
          45.792899,
          47.38361,
          37.8875,
          32.06839,
          38.66916,
          32.49783,
          39.8188,
          41.6234,
          31.434268,
          34.82512,
          32.115809999999996,
          32.008359999999996,
          29.726944,
          29.669040000000003,
          40.73625,
          41.577697,
          34.43528,
          31.589290000000002,
          42.63521,
          30.026090000000003,
          29.718312,
          48.965720000000005,
          32.06839,
          35.97916323,
          37.91083,
          29.847028,
          29.846709999999998,
          29.825328999999996,
          42.855444,
          42.46833,
          29.73525,
          29.546190000000003,
          33.912690000000005,
          37.084140000000005,
          36.810495,
          28.617778,
          46.71782754,
          67.7987,
          37.04441,
          30.496160999999997,
          38.37239,
          38.3693,
          29.97496932,
          41.655265,
          42.56794,
          37.80556,
          30.0016,
          29.816369,
          32.71141,
          42.02244,
          30.437790000000003,
          39.38235,
          29.920835999999998,
          32.46539,
          30.1479,
          47.32444,
          32.7478,
          29.982190000000003,
          29.982190000000003,
          32.47831,
          30.113559999999996,
          42.9015,
          30.0113,
          33.41305,
          40.52243,
          40.091758,
          31.065759999999997,
          32.6075,
          34.373059999999995,
          29.19462,
          37.644112,
          33.54657,
          29.4745,
          29.975,
          29.908009999999997,
          34.058206,
          31.8768505,
          34.944179999999996,
          33.31354,
          41.7678,
          29.858359999999998,
          37.89533,
          33.7963,
          34.242779999999996,
          46.939440000000005,
          33.811699,
          44.77328,
          36.41936,
          34.242779999999996,
          37.414383,
          42.5325,
          31.1591,
          28.9351,
          32.75732,
          30.06066,
          32.97722,
          30.5572,
          40.58925,
          37.4175,
          29.1452,
          35.119174,
          46.2199,
          29.84931,
          34.552609999999994,
          35.383359000000006,
          41.60865,
          40.57083,
          33.863186,
          33.38649,
          31.427165999999996,
          33.25417,
          43.267070000000004,
          29.85635,
          40.766643,
          38.94905,
          33.936233,
          30.81167,
          32.532127,
          41.517179999999996,
          39.13805,
          36.1326083,
          39.36139,
          40.61145,
          32.540603999999995,
          32.775943,
          46.877218,
          38.848525,
          29.90087416,
          35.203837,
          37.742028999999995,
          36.93117,
          43.72835,
          42.1514,
          38.341359999999995,
          37.4175,
          40.5566,
          41.63156,
          33.407,
          38.501816999999996,
          34.92544,
          32.874759999999995,
          40.606837,
          29.349,
          30.4342,
          40.55081,
          33.45494,
          29.767129999999998,
          33.863333000000004,
          43.05284,
          38.38166,
          32.008359999999996,
          41.6136,
          41.410931,
          35.4855,
          29.717169000000002,
          43.426559999999995,
          27.552918199999997,
          33.573889,
          29.43573,
          70.25666,
          37.511109999999995,
          31.820486,
          35.534236,
          30.016666999999998,
          29.720340000000004,
          35.56572,
          36.20138,
          39.36139,
          40.60545,
          41.55455,
          31.555559999999996,
          39.81694,
          41.6424,
          34.76231,
          30.229812199999998,
          30.16954,
          29.85325,
          29.3753,
          30.779290000000003,
          18.44801,
          39.60887,
          29.885833,
          39.896,
          35.96788,
          35.9303,
          35.9375,
          41.6671,
          44.26055,
          27.68402,
          37.64416,
          40.59348,
          32.4813,
          39.897834,
          29.848528,
          29.849040000000002,
          29.43573,
          32.483000000000004,
          35.85326,
          32.5409,
          31.1611,
          41.7731,
          34.37332,
          29.98722,
          39.191028,
          40.594409999999996,
          40.606466,
          37.3612,
          36.892542999999996,
          43.291940000000004,
          47.55403,
          29.847222,
          32.53048,
          39.75888,
          35.939640000000004,
          41.7643,
          47.92555,
          30.7932,
          39.822925,
          29.4009,
          30.32637,
          48.240629999999996,
          35.56033,
          38.36098,
          34.36098,
          29.854148,
          37.66168,
          45.79417,
          44.815639000000004,
          35.94595,
          42.278472,
          41.306999999999995,
          40.593267,
          30.54741,
          36.221931,
          39.86822,
          29.9115,
          33.97,
          40.62252,
          29.7675,
          30.389233299999997,
          29.4388,
          40.516170100000004,
          35.2858,
          38.1337,
          35.95885,
          40.550971999999994,
          38.792059,
          42.73839,
          28.00917,
          32.559909999999995,
          46.68889,
          31.132440000000003,
          30.354516999999998,
          39.36101,
          33.78114,
          31.7765,
          44.5311,
          40.78155,
          46.413790000000006,
          42.514136,
          36.382979999999996,
          32.344640000000005,
          28.560826000000002,
          39.080486,
          38.939028,
          33.5352,
          39.193056,
          33.86329,
          28.3445,
          32.017047,
          31.506529999999998,
          42.5783333,
          37.027049,
          33.5124,
          28.480925,
          38.04121,
          45.953070000000004,
          39.482631,
          31.497970000000002,
          41.68148,
          42.88895,
          41.639016,
          41.04755,
          42.26259,
          40.706216,
          38.09973,
          35.22377,
          40.52243,
          33.4614,
          41.4145,
          39.71864,
          42.272024,
          29.706390000000003,
          32.06456,
          41.684292,
          42.074709999999996,
          34.751139,
          32.004805,
          33.307077,
          38.081309999999995,
          43.286542,
          29.726944,
          33.7966,
          34.160779999999995,
          32.77698,
          27.943,
          32.77597,
          32.02879,
          40.4101,
          32.777568,
          34.27734,
          40.70825,
          29.781515999999996,
          30.452391,
          27.959521000000002,
          32.5327,
          35.953482,
          31.79133,
          40.59213,
          33.4604,
          30.042343,
          40.74573,
          33.6938,
          30.085659999999997,
          32.9491,
          45.655485999999996,
          33.936514,
          44.37956,
          35.87218,
          38.28588,
          35.95885,
          29.878953000000003,
          38.78564,
          31.7767,
          30.114720000000002,
          41.86305,
          33.179721,
          35.6376,
          29.238862,
          27.72222,
          42.053138,
          35.94607,
          29.43573,
          31.1611,
          27.97348,
          37.78947,
          31.13193,
          39.03543,
          29.7182,
          27.910359999999997,
          36.029589,
          30.5471,
          37.05253,
          33.846624,
          35.296046999999994,
          33.81583,
          33.837990000000005,
          41.645101000000004,
          40.550801,
          39.120239,
          32.028209999999994,
          34.83433167,
          41.274609999999996,
          28.804167,
          28.804167,
          29.206868,
          33.83299,
          42.00461,
          39.61412,
          46.68889,
          33.91765556,
          36.33746,
          40.6945,
          30.055571,
          29.084431,
          29.887221999999998,
          40.596305,
          36.9006,
          37.944408,
          41.558040000000005,
          38.066978000000006,
          33.86357,
          37.795178,
          40.111093,
          32.067040000000006,
          32.1147,
          37.0525,
          43.54571,
          32.01798,
          33.756403000000006,
          35.684911,
          32.303575,
          32.251168,
          40.590422,
          35.43959,
          38.380520000000004,
          29.265359999999998,
          29.878864,
          34.133131,
          29.43573,
          30.034033,
          35.931979999999996,
          48.81835,
          43.860695,
          42.957763,
          42.959503000000005,
          29.70989,
          29.72703,
          33.4166975,
          44.665449,
          48.325724,
          46.68889,
          39.862221999999996,
          43.475465,
          41.5569,
          31.362221999999996,
          33.84735,
          40.590142,
          30.14105,
          36.13715,
          38.987590000000004,
          29.868090000000002,
          39.363277000000004,
          36.8053,
          35.7042,
          29.193445,
          41.93805,
          32.4819,
          41.50506,
          31.12252,
          36.13158,
          35.952194,
          34.552609999999994,
          31.960602,
          41.93805,
          34.63366,
          35.025290000000005,
          33.455420000000004,
          29.970953,
          35.3275,
          39.9923,
          29.345464,
          33.970039,
          40.591656,
          32.26812,
          31.896309999999996,
          41.60720541,
          37.963297,
          30.355333,
          47.68889,
          30.239269,
          35.96143,
          33.86345,
          46.861678000000005,
          32.599125,
          44.021949,
          25.964238,
          29.345779999999998,
          35.94085,
          41.659288000000004,
          47.68889,
          40.588225,
          39.711344,
          30.16485,
          29.724843,
          29.79428,
          33.22053,
          31.85557,
          36.18992091,
          29.43573,
          29.43573,
          33.59872,
          47.907607,
          41.565497,
          29.9948,
          33.68092,
          32.080874,
          36.413056,
          47.673856,
          30.796962,
          40.31277,
          40.31277,
          32.067040000000006,
          32.29488,
          34.0522342,
          36.06889,
          36.632156,
          33.6809,
          28.935640000000003,
          30.2867,
          39.45627,
          29.893363,
          31.783409999999996,
          31.783409999999996,
          29.750785999999998,
          32.63239,
          39.108779999999996,
          36.773902,
          44.817233,
          31.9587,
          38.866606,
          30.158686,
          30.0889,
          35.2256,
          34.521102,
          41.17974,
          33.857292,
          65.31111,
          33.802717,
          40.588879999999996,
          40.52243,
          34.553461999999996,
          39.12851,
          32.02879,
          38.78778,
          41.56563,
          30.011111,
          40.29213,
          33.202420000000004,
          44.642128,
          32.84745,
          42.854803000000004,
          39.136219,
          31.152790000000003,
          42.9517,
          29.84722,
          31.47285,
          29.975009999999997,
          41.6076,
          35.951559,
          33.764,
          40.696042999999996,
          32.51846,
          37.761233000000004,
          30.01612,
          34.94212,
          44.73486,
          27.831459999999996,
          30.239319000000002,
          45.65804642,
          30.26630836,
          44.05727,
          40.577290000000005,
          42.53889,
          40.52243,
          39.27126,
          41.498059999999995,
          32.1532,
          44.87601,
          44.759651,
          45.526047999999996,
          41.50667,
          47.098889,
          46.24913,
          34.89185,
          27.8215,
          32.53242,
          29.95115,
          30.0889,
          32.3288,
          41.49188,
          29.3736,
          33.864289,
          29.787,
          32.01435,
          29.759006,
          41.36417,
          36.12128,
          40.894805,
          29.729409999999998,
          40.590763,
          40.523327,
          30.5187,
          45.010556,
          40.52243,
          29.274666999999997,
          29.911676,
          33.007092,
          47.378551,
          38.82204498,
          45.894166999999996,
          41.95138,
          47.6895,
          37.800717,
          31.77654,
          38.82855,
          38.791059999999995,
          41.148878,
          31.821441999999998,
          33.795549,
          48.455641,
          48.455641,
          30.8568,
          33.03138,
          41.658008,
          29.974992999999998,
          32.01426,
          40.711686,
          33.03138,
          39.72708,
          40.52243,
          47.68889,
          30.1408,
          35.953247,
          33.801970000000004,
          35.348659999999995,
          32.028209999999994,
          30.010536,
          30.492551000000002,
          45.05919,
          40.647936,
          32.862784999999995,
          35.9382,
          37.789770000000004,
          27.83125,
          29.06023333,
          40.352903000000005,
          35.044740000000004,
          29.52107,
          34.972892,
          70.15120454,
          41.62672,
          39.03543,
          29.145153000000004,
          40.608511,
          34.244372,
          30.554483,
          35.76888889999999,
          29.419652000000003,
          32.40169,
          30.793919,
          37.579665000000006,
          38.35257318,
          30.0064,
          34.320440000000005,
          40.588225,
          32.26812,
          35.92536,
          46.902916,
          39.5894,
          28.949612,
          40.409659999999995,
          35.97916323,
          44.81602,
          41.395652,
          32.0729,
          29.718709999999998,
          40.352903000000005,
          31.790487,
          43.931459999999994,
          35.4672,
          33.992709999999995,
          31.43275,
          35.737564,
          46.68889,
          35.943731,
          33.795549,
          31.681540000000002,
          29.747769,
          37.8048,
          41.286642,
          35.276957,
          34.00551,
          31.7918,
          30.008992,
          37.93455,
          29.859221999999995,
          28.949671999999996,
          32.877179999999996,
          33.17535,
          29.145494,
          28.950953000000002,
          34.1897222,
          37.7958,
          40.514382,
          29.997663,
          29.952221999999995,
          32.4813,
          37.721901,
          39.08605,
          41.435852000000004,
          37.75877757,
          37.80389,
          33.247889,
          29.81987246,
          34.84251,
          38.025394,
          28.809202000000003,
          33.05365,
          32.0729,
          30.797959999999996,
          30.801470000000002,
          40.513554,
          38.09496,
          30.1571,
          43.297089,
          30.909440000000004,
          30.15683,
          32.779328,
          41.6872222,
          29.8964,
          40.52243,
          40.6246,
          28.9598,
          35.95885,
          46.81973992,
          37.81841,
          29.514190000000003,
          29.975040000000003,
          43.895610999999995,
          38.834922999999996,
          31.19309,
          37.070361,
          30.1457,
          35.936111100000005,
          46.41428,
          32.78111,
          29.3786,
          27.826919,
          44.068999999999996,
          30.164140000000003,
          32.655,
          33.855959999999996,
          39.128890000000006,
          39.8955,
          36.17115,
          32.28877,
          29.764311,
          38.851603999999995,
          27.8608333,
          43.8516667,
          39.060075,
          29.911490999999998,
          43.8516667,
          41.68140797,
          46.49535,
          37.495186,
          29.97583,
          35.059321000000004,
          29.1049,
          29.955034,
          42.282925,
          32.01493,
          42.94222,
          40.577040000000004,
          35.154444399999996,
          29.485,
          42.72143,
          40.52243,
          29.72536,
          40.608277,
          28.949889000000002,
          30.1150416,
          37.6159,
          30.055999999999997,
          32.1057904,
          29.34525,
          31.13575,
          30.145153999999998,
          33.33278,
          32.532,
          33.90593,
          32.5327,
          29.794490000000003,
          35.359936600000005,
          31.76885,
          33.80000220000001,
          41.609953000000004,
          39.323679,
          29.348546999999996,
          31.77393,
          32.089083,
          33.86206,
          42.222753000000004,
          30.6688,
          35.05097,
          29.726669,
          38.835046000000006,
          35.939625,
          40.136819,
          29.968870000000003,
          35.94109,
          40.51608,
          33.84494,
          30.006666999999997,
          29.422221999999998,
          40.400999999999996,
          37.817,
          33.841119,
          30.145153999999998,
          35.944728000000005,
          33.138683,
          40.52243,
          38.12745,
          45.89504,
          41.644119,
          28.60758,
          42.11445,
          32.23587,
          35.94805,
          35.276957,
          28.618056,
          40.608272,
          41.73889472,
          36.64234919,
          33.902032,
          41.684108,
          47.634873999999996,
          29.11242,
          32.08014,
          30.28649,
          48.24275,
          47.0988,
          30.160196999999997,
          32.06432,
          33.767016,
          29.951987,
          43.2930556,
          41.55556,
          34.20969,
          31.01183,
          40.621988,
          41.68411,
          42.225925,
          30.84377614,
          35.019374,
          38.585632000000004,
          39.153859999999995,
          36.0191,
          29.87283,
          29.718159999999997,
          28.894955,
          30.909265,
          32.113857,
          40.6084,
          30.15735228,
          40.505602,
          38.338614,
          29.712258000000002,
          29.9771376,
          35.59243,
          37.66279,
          39.8458,
          40.976040000000005,
          37.05446,
          30.049460999999997,
          33.59202,
          33.86379,
          30.479042,
          38.377992,
          48.284494,
          42.2748,
          29.718946999999996,
          40.3375,
          32.833,
          32.874759999999995,
          44.815919,
          30.066112,
          32.874247,
          37.449670000000005,
          42.131311,
          37.045196000000004,
          30.54741,
          36.07076,
          45.143056,
          33.698451,
          33.873670000000004,
          40.3196,
          37.061114,
          35.95885,
          30.940620000000003,
          38.569474,
          33.42163,
          35.94607,
          41.41355,
          32.70298,
          31.531786,
          30.066112,
          40.513477,
          35.940158000000004,
          35.097214,
          32.874759999999995,
          29.792012,
          33.24455,
          38.7919,
          33.251978,
          35.726944,
          38.205021,
          31.41808,
          38.09347,
          32.48128,
          45.479889,
          45.893409999999996,
          34.245072,
          36.03403,
          38.91689,
          32.549479999999996,
          34.07083,
          48.27904,
          40.52243,
          43.6067,
          30.031879999999997,
          40.585479,
          37.6159,
          32.813,
          42.06139,
          32.86057,
          38.73302,
          42.87907,
          38.923553999999996,
          32.701409999999996,
          40.52243,
          29.708616999999997,
          31.931914000000003,
          29.9807,
          31.96551,
          29.8279,
          32.56273,
          30.92773,
          41.6877778,
          30.926959999999998,
          40.585479,
          32.61094,
          33.83017,
          40.002303999999995,
          45.722409000000006,
          37.188347,
          29.69373658,
          29.62333683,
          30.1458,
          39.17837,
          37.84552,
          29.378890000000002,
          44.460839,
          29.8538,
          29.253809000000004,
          33.855711,
          40.585479,
          29.9121,
          35.285,
          31.776632,
          30.087494,
          29.461595000000003,
          40.395534000000005,
          35.95778,
          41.510158000000004,
          39.544000000000004,
          30.931820000000002,
          29.9877906,
          35.94072,
          33.863481,
          35.84613,
          38.34024,
          29.763813,
          36.131370000000004,
          32.088227,
          41.322508,
          29.708616999999997,
          30.105559999999997,
          32.532145,
          37.9702,
          29.52032,
          33.240429999999996,
          32.5343,
          30.02767,
          29.633616999999997,
          43.1407,
          32.02363,
          41.419421,
          32.0711,
          29.877270000000003,
          41.640712,
          37.46699,
          28.8239,
          29.716110999999998,
          34.964059999999996,
          29.926686,
          31.525701,
          47.685115,
          35.097314000000004,
          39.328029,
          41.752978999999996,
          37.052548,
          30.712629999999997,
          29.81987246,
          31.13665,
          32.772073,
          32.0711,
          41.752978999999996,
          31.784903000000003,
          33.736385,
          30.2304266,
          41.255807,
          40.52243,
          29.706587,
          38.58556,
          32.5007778,
          39.816596999999994,
          41.2885,
          33.28411,
          38.38154,
          28.54022,
          29.74772,
          30.18348,
          40.711465999999994,
          36.54755,
          35.94336,
          40.59063,
          39.22226,
          31.528109999999998,
          38.82204498,
          32.0711,
          40.519728,
          48.21111,
          40.291729,
          32.008359999999996,
          32.61009,
          36.57243,
          42.183809000000004,
          48.323421999999994,
          40.59063,
          29.708616999999997,
          47.905559999999994,
          34.553059999999995,
          36.18085,
          36.18977222,
          33.826786,
          38.869483,
          34.23884,
          47.882222,
          40.31491,
          29.82961,
          31.7768,
          39.853611,
          28.950809999999997,
          41.274678,
          29.447779999999998,
          32.9392,
          43.080915000000005,
          33.5890316,
          29.90949,
          41.67288,
          29.315890000000003,
          29.763824,
          36.135178,
          38.95973,
          41.908770000000004,
          35.95885,
          29.345509999999997,
          34.31371,
          30.003888899999996,
          39.8411,
          36.01167,
          34.092292,
          29.730690000000003,
          46.6178,
          40.52243,
          29.473497,
          39.368629999999996,
          39.915960999999996,
          40.52243,
          39.746359999999996,
          28.419220000000003,
          40.16005,
          36.947219,
          43.992624,
          41.55849,
          28.61171,
          38.34021,
          45.78611,
          28.920721999999998,
          40.94267,
          30.83705,
          32.49781,
          35.965759999999996,
          31.93856,
          67.7987,
          35.063508,
          40.52243,
          33.85602,
          40.676504,
          32.387190000000004,
          32.02064,
          29.97523,
          39.673538,
          34.093675,
          33.914572,
          33.863,
          30.0095,
          32.848,
          36.01663,
          40.52243,
          29.107879999999998,
          28.356388899999995,
          42.806670000000004,
          42.79375,
          45.250322,
          28.605919,
          29.36555,
          47.7826,
          29.90087416,
          38.3362,
          35.32395,
          37.80249,
          41.61955,
          40.52243,
          37.226483,
          48.331143,
          36.07123064,
          28.631120000000003,
          30.060571999999997,
          33.914949,
          38.19639,
          47.32444,
          33.139747,
          48.365352,
          29.047179999999997,
          42.9916667,
          45.883706,
          36.927591,
          34.421537,
          32.10503,
          48.524251,
          36.07123064,
          35.947540000000004,
          32.726111100000004,
          29.04464,
          29.765054,
          30.155076,
          43.785070000000005,
          40.52243,
          35.431862,
          41.51616,
          39.025586,
          33.806255,
          45.698036,
          41.67284,
          42.1043,
          38.003663,
          30.02448,
          32.483216999999996,
          40.57741,
          41.697666999999996,
          30.20382,
          39.708079999999995,
          40.605222,
          47.934931,
          39.789126,
          29.358902,
          29.950028000000003,
          42.854755,
          41.845833299999995,
          36.346272,
          39.851620000000004,
          42.8842,
          29.705971999999996,
          40.52243,
          30.04236,
          37.052386,
          37.79193,
          39.327115899999995,
          32.39482,
          32.531983000000004,
          40.203610999999995,
          28.488488,
          29.716471000000002,
          34.874565000000004,
          35.55167,
          33.949628999999995,
          29.146389000000003,
          35.936195,
          33.8630556,
          32.359487,
          40.6082833,
          36.086068,
          36.77414,
          40.351944,
          43.58698,
          42.811440000000005,
          39.02942,
          31.215,
          40.519942,
          29.72979,
          44.788806,
          44.7937698,
          37.79167,
          35.265278,
          28.949447999999997,
          31.655975,
          30.84377614,
          32.02343,
          32.289809999999996,
          34.314349,
          29.854021999999997,
          31.97435,
          33.86657,
          33.769721999999994,
          31.93103,
          33.03568558,
          43.0456,
          29.717115000000003,
          32.782061999999996,
          31.769759999999998,
          36.4302,
          28.508888899999995,
          32.368759999999995,
          29.899359999999998,
          35.3496,
          29.92317489,
          39.70736769,
          40.588583,
          48.304045,
          41.61566,
          35.94066,
          48.325686,
          36.775556,
          29.81987246,
          30.13945,
          33.229729999999996,
          46.69,
          35.317952000000005,
          40.52243,
          31.159029999999998,
          32.842833,
          32.108042,
          35.69559,
          33.26013184,
          39.395483,
          29.365859999999998,
          36.67346274,
          32.079423999999996,
          32.650565,
          36.7889,
          40.039849,
          33.828281,
          34.2391,
          27.831131,
          42.917984000000004,
          29.787397,
          27.839803000000003,
          38.83618,
          37.12022,
          35.9863,
          38.7893921,
          35.597478,
          29.75023,
          38.814910999999995,
          33.31601,
          41.5652,
          36.649239,
          40.519999,
          36.905274,
          39.277928,
          40.80216,
          36.4309,
          39.03517,
          35.95778,
          32.650552000000005,
          29.787397,
          35.691790000000005,
          35.6905,
          29.75023,
          38.829252000000004,
          29.68112,
          41.556940000000004,
          29.85731,
          35.5291888,
          34.394601,
          41.609732,
          31.62733,
          29.22007944,
          32.70276,
          40.609013,
          36.07076,
          30.54601111,
          34.70203,
          41.322508,
          40.47829444,
          35.969840000000005,
          40.697527,
          38.339543,
          30.54774,
          37.321081,
          44.77084,
          31.948696,
          33.800211,
          32.50059,
          39.7859444,
          41.529826,
          37.35595,
          29.750895,
          38.344339,
          38.341141,
          40.52243,
          35.8377778,
          33.563990000000004,
          47.325559999999996,
          39.36293,
          32.896209999999996,
          37.357890999999995,
          32.04704,
          31.81845,
          28.949447999999997,
          38.344339,
          32.064170000000004,
          34.206615,
          36.48798,
          41.626855,
          37.205338,
          29.374592,
          32.761179999999996,
          40.519254,
          43.114444,
          32.9942,
          41.612919,
          30.909309999999998,
          40.609319,
          41.51487,
          30.757740000000002,
          30.711259000000002,
          43.51946392,
          29.819151,
          36.6093,
          32.83256,
          41.60766736,
          41.421858,
          47.96935,
          42.53934,
          38.776587,
          32.5374,
          37.643839,
          38.881440000000005,
          35.265278,
          40.70825,
          41.616693,
          21.316679999999998,
          32.519797,
          38.863322,
          31.8063,
          47.78822,
          34.044058,
          36.00758,
          41.806608000000004,
          30.71051,
          32.53024,
          30.1291,
          32.48252,
          34.55747,
          35.93784934,
          37.462216999999995,
          32.44166,
          41.52278,
          34.55773,
          35.950352,
          38.501433,
          35.5291888,
          32.0711,
          30.390280999999998,
          30.383529,
          43.14017,
          41.507104999999996,
          47.30177,
          40.697102,
          47.524128000000005,
          32.081666999999996,
          29.971009999999996,
          41.311708,
          48.112149,
          41.126883,
          35.94603,
          35.945288,
          41.626461,
          33.97676,
          28.4622222,
          48.39696,
          41.143640000000005,
          41.143640000000005,
          32.072932,
          37.8681,
          31.788397999999997,
          38.339275,
          43.016283,
          31.785420000000002,
          33.787864,
          39.252793,
          33.616375,
          33.91486,
          32.874235999999996,
          31.50897,
          34.216537,
          47.921839,
          48.720364000000004,
          32.612629999999996,
          33.7161833,
          27.836679999999998,
          36.03385,
          32.47599,
          31.636831,
          43.94972,
          37.972547999999996,
          32.07175,
          34.87656,
          28.91382,
          42.024045,
          29.34525,
          29.911559999999998,
          29.935,
          33.936574,
          38.34044,
          28.422634999999996,
          36.77616,
          31.6256,
          38.581933,
          42.870358,
          36.03385,
          45.152093,
          29.466935999999997,
          30.71133,
          45.143056,
          40.364740000000005,
          41.41579,
          37.663990000000005,
          32.072540000000004,
          31.718902000000003,
          35.93784934,
          41.831164,
          32.080668,
          31.85330114,
          28.37,
          41.621204999999996,
          47.325559999999996,
          30.010811,
          32.4836,
          30.170532,
          29.900672200000002,
          31.718902000000003,
          30.837090000000003,
          35.7391,
          30.71133,
          41.6076,
          32.4982,
          32.97035,
          43.3831,
          29.717371000000004,
          29.34525,
          35.86561,
          38.680985,
          41.1274,
          41.1274,
          30.075180600000003,
          40.52243,
          30.025081800000002,
          29.4313,
          35.46577,
          32.02363,
          36.582609999999995,
          32.019351,
          31.1158,
          40.52243,
          32.02363,
          32.960694000000004,
          32.794160999999995,
          40.298320000000004,
          39.369394,
          32.756190000000004,
          29.71927,
          33.03568558,
          28.260371999999997,
          34.481971,
          31.819741999999998,
          34.478859,
          36.64234919,
          34.146190999999995,
          39.13839,
          30.47832,
          43.37233,
          31.4396,
          41.686997,
          29.906433000000003,
          29.76673,
          33.806917,
          31.968284000000004,
          35.280359999999995,
          32.017924,
          34.94194,
          29.52225,
          30.005808299999998,
          36.07076,
          38.617703999999996,
          30.011770000000002,
          44.85338,
          30.006588800000003,
          37.7766173,
          37.7766173,
          35.444988,
          37.139844000000004,
          26.650465000000004,
          47.582395,
          38.502520000000004,
          38.26485,
          43.787975,
          31.64875,
          29.695809999999998,
          39.120709999999995,
          38.003663,
          38.045747,
          31.553051,
          35.947714000000005,
          34.0577675,
          35.719297999999995,
          38.061436,
          42.05679,
          38.792939000000004,
          30.71133,
          44.803407,
          29.705971999999996,
          35.983000000000004,
          36.38322,
          31.661590000000004,
          33.803335,
          35.231666,
          40.52243,
          40.58547,
          41.410371999999995,
          32.531929999999996,
          36.55711482,
          41.60766736,
          32.650335999999996,
          41.126883,
          32.53151,
          32.864670000000004,
          47.458331,
          40.34117,
          29.975070000000002,
          37.80225,
          27.87527711,
          40.831354,
          33.86343,
          29.991106,
          39.96675,
          29.976335,
          39.846349,
          30.737681,
          29.752401000000003,
          39.047579999999996,
          32.652052000000005,
          32.650231,
          33.769741499999995,
          29.765783000000003,
          36.472798,
          41.93695,
          30.011770000000002,
          32.02424,
          47.97958,
          35.97916323,
          40.52243,
          28.422697999999997,
          41.890476,
          31.81685,
          38.332983,
          47.68889,
          38.77706,
          42.557406,
          37.1647,
          29.119939000000002,
          46.683889,
          27.808590000000002,
          29.99447,
          40.609186,
          29.791140000000002,
          40.697155,
          33.286639,
          35.943703,
          30.30467,
          36.773610999999995,
          28.696659999999998,
          43.38106666,
          28.949447999999997,
          35.94745,
          37.67502,
          29.34525,
          70.26126500000001,
          40.563565000000004,
          40.654111,
          40.52243,
          32.081519,
          33.923171,
          45.15209388,
          29.256940000000004,
          40.58061,
          40.52243,
          37.08543,
          35.347873,
          28.949209999999997,
          42.225543,
          42.308627,
          31.8015,
          47.68412,
          29.760156,
          28.928655,
          37.08136,
          38.003663,
          35.435057,
          29.105684000000004,
          37.976653999999996,
          35.13221,
          32.775858,
          35.265278,
          29.56687,
          41.62263,
          45.206089,
          35.134147,
          32.56757,
          33.29701,
          48.2351,
          40.214209999999994,
          37.12897,
          40.612444,
          30.528877,
          34.553070299999995,
          41.55556,
          33.29701,
          27.783128,
          35.94373,
          43.78306944,
          27.770421999999996,
          29.72979,
          29.08966,
          31.950527,
          47.12312,
          30.19156,
          37.69212,
          43.787925,
          41.782605,
          34.87656,
          30.0503,
          32.02424,
          29.066378999999998,
          32.652787,
          43.78774166,
          40.52243,
          30.18148,
          38.88162,
          31.656494,
          30.05012,
          43.319959999999995,
          30.718259000000003,
          37.14269,
          30.16968,
          36.472798,
          32.75828,
          39.784839,
          35.982628000000005,
          36.04031,
          41.51556,
          33.057483000000005,
          37.863640000000004,
          32.11457,
          41.636109999999995,
          28.330340000000003,
          41.642669,
          47.52353,
          48.455641,
          33.806106,
          35.276957,
          32.02424,
          30.878502,
          34.48407,
          35.26177777,
          28.422697999999997,
          36.48794,
          40.701149,
          29.066613,
          35.936665999999995,
          32.53403,
          36.418009999999995,
          40.536111,
          46.38995,
          40.697537,
          36.487768,
          35.97916323,
          29.760156,
          32.99344,
          42.233259999999994,
          34.462837,
          44.94151,
          46.693540000000006,
          41.018159999999995,
          29.717845,
          31.1158,
          29.766209999999997,
          45.97528,
          32.15603,
          34.544428,
          32.000452,
          46.370782,
          38.003663,
          35.646475,
          40.697537,
          33.85623,
          34.545017,
          28.526987,
          41.644934,
          43.66693333,
          40.162535999999996,
          29.579031,
          41.643229,
          42.851147,
          47.303798,
          32.782428,
          39.84541,
          35.926120000000004,
          30.016724,
          40.262706,
          39.6854,
          40.52243,
          29.615889000000003,
          27.79952,
          32.011423,
          33.287449,
          28.525786,
          40.52243,
          35.940253000000006,
          29.069927000000003,
          28.949113,
          40.70825,
          35.958859999999994,
          28.885881,
          37.940135,
          46.6885,
          40.162535999999996,
          29.98266,
          34.816479,
          45.698007000000004,
          34.001474,
          31.899645,
          29.310878000000002,
          47.03163,
          48.014962,
          30.011770000000002,
          34.183191,
          29.617889,
          29.470028000000003,
          39.849005,
          35.31111,
          35.936677,
          46.689040000000006,
          21.31774,
          29.952065,
          31.136282,
          46.39053,
          30.566736,
          29.419868,
          40.366817,
          30.548063,
          29.72979,
          36.232606,
          40.6017,
          41.511142,
          30.71105,
          32.52944,
          33.947489000000004,
          41.51458,
          31.899645,
          39.1393,
          47.325278000000004,
          43.791796999999995,
          35.73235,
          36.81045,
          40.70945,
          29.7177027,
          32.465709000000004,
          39.763568,
          41.090482,
          32.023108,
          40.262706,
          38.1021533,
          32.16315,
          35.01937,
          40.535033,
          38.17264002,
          29.858881,
          35.936355,
          32.08076,
          35.948453,
          29.991413,
          43.791796999999995,
          38.845634999999994,
          32.01202,
          31.88918,
          46.370782,
          30.711159999999996,
          35.93444,
          31.432840000000002,
          32.757835,
          39.84512,
          40.608328,
          46.688674,
          32.407275,
          30.181559999999998,
          39.894859999999994,
          40.136819,
          33.734846000000005,
          34.846759999999996,
          32.018203,
          29.646875,
          35.473209999999995,
          46.359919,
          47.582544,
          32.475,
          41.299079,
          37.6754,
          42.53632,
          38.622839,
          29.911448999999998,
          31.54706,
          31.54706,
          41.828677,
          34.12899,
          41.255796999999994,
          35.483740000000004,
          42.226368,
          47.689461,
          36.0146585,
          30.315859000000003,
          41.532684,
          41.508897,
          29.7632,
          30.006233,
          31.648653000000003,
          31.648653000000003,
          40.944856,
          35.986205,
          31.436508,
          40.609164,
          43.791796999999995,
          35.551978999999996,
          29.9912,
          39.84515,
          35.449591999999996,
          29.718970000000002,
          28.104059999999997,
          39.37571,
          36.774347,
          35.500176,
          34.333794,
          29.790640000000003,
          38.6092,
          29.747985999999997,
          28.4601,
          29.621872200000002,
          29.610094,
          29.705369,
          38.264829,
          39.94024,
          29.862471999999997,
          34.753426,
          39.230426,
          32.062707,
          36.64234919,
          70.257147,
          29.57863,
          35.019746000000005,
          30.16,
          32.0079,
          40.318604,
          29.748201,
          37.50301661,
          42.864441,
          33.139575,
          47.6899,
          31.8029,
          37.761305,
          29.79733,
          35.945098,
          37.202166999999996,
          36.0724,
          32.993759999999995,
          38.793803000000004,
          35.97974,
          39.305031,
          38.264303999999996,
          39.862159999999996,
          29.748058,
          29.214284000000003,
          44.66547,
          37.8041,
          36.715463,
          36.827669,
          29.88604163,
          29.193322,
          30.05777,
          29.748169,
          33.91446,
          29.74799,
          33.923263,
          32.0711,
          27.80113016,
          31.773390000000003,
          33.91446,
          40.535833000000004,
          38.792939000000004,
          29.348769,
          43.189245,
          33.719235999999995,
          34.462434,
          31.432815,
          28.40632,
          32.023877,
          38.789242,
          32.010188,
          38.780153000000006,
          37.721661,
          31.899767999999998,
          29.791809999999998,
          30.444709999999997,
          32.0711,
          31.7316,
          63.42546,
          32.08164,
          31.15918,
          30.386816999999997,
          32.52944,
          35.466951,
          33.598881,
          34.882052,
          37.202166999999996,
          31.8526,
          29.79477,
          32.524731,
          31.84825,
          29.84692774,
          36.64234919,
          43.2180944,
          32.088721,
          43.861789,
          40.589,
          41.62247,
          42.957732,
          29.926983,
          40.943290999999995,
          32.81384,
          28.57446,
          29.1425929,
          43.50343,
          31.776909999999997,
          29.70687777,
          29.706862,
          43.666603,
          40.57667,
          38.215783,
          32.07175,
          45.238011,
          39.1402,
          29.46867,
          35.5314135,
          41.800416,
          37.68779,
          47.805537,
          37.66330708,
          30.47386943,
          29.72979,
          32.49804,
          32.083420000000004,
          43.4625,
          38.832198999999996,
          36.011953999999996,
          40.52243,
          28.068441600000003,
          43.6666,
          38.28366,
          29.94075,
          32.71949,
          39.411914,
          31.76285,
          42.864441,
          34.819790000000005,
          29.9944083,
          42.133334000000005,
          34.89285,
          41.67284,
          31.1931,
          33.804707,
          46.689721999999996,
          32.603333,
          29.718970000000002,
          29.9774,
          39.846349,
          47.1375,
          37.057846999999995,
          40.279346000000004,
          36.497009999999996,
          40.804771,
          41.51769,
          29.974782,
          36.560829999999996,
          32.3006,
          31.504092,
          29.844149600000005,
          32.989666,
          30.528647999999997,
          28.510104,
          40.52243,
          27.814430600000005,
          43.95679439999999,
          40.45772,
          38.938778000000006,
          31.136905,
          29.422303000000003,
          35.298901,
          29.952028000000002,
          39.173564,
          35.483852,
          46.6869,
          30.004579999999997,
          28.58189,
          43.788561,
          29.441693,
          32.907579,
          41.40817,
          36.07101,
          32.285819000000004,
          30.08493,
          39.32604,
          43.635,
          43.788581,
          42.849051,
          36.800990999999996,
          45.56545,
          29.845934000000003,
          29.747453000000004,
          32.54213,
          35.93784934,
          29.72979,
          34.540130600000005,
          32.0711,
          28.950662,
          28.059821000000003,
          39.587875,
          40.708665,
          42.917984000000004,
          42.116313,
          30.015334000000003,
          29.74789,
          40.041721,
          40.010475,
          23.336783999999998,
          29.72536,
          37.80348,
          41.69229,
          32.0126,
          41.805792,
          28.059862,
          33.771038,
          37.72575,
          29.72536,
          35.01673757,
          29.74863,
          34.238914,
          32.47696,
          38.826840000000004,
          41.619586,
          32.49804,
          42.115821999999994,
          34.0599,
          31.42565,
          32.430479999999996,
          29.718970000000002,
          31.13735,
          27.946944399999996,
          36.735434999999995,
          35.10335,
          43.842033,
          34.996590000000005,
          39.786953000000004,
          35.535471,
          32.53198,
          29.99103,
          29.91125,
          35.276957,
          29.978557000000002,
          41.056079,
          43.78913,
          40.262939,
          31.8198,
          30.294432,
          43.788025,
          47.09855,
          47.732308,
          50.839319,
          31.801479999999998,
          31.15885,
          40.069353,
          30.61843,
          40.523327,
          40.523327,
          34.105033,
          29.7525,
          39.596059999999994,
          31.54937,
          30.164856,
          29.73667,
          30.713928999999997,
          40.6972222,
          29.345095,
          35.539578000000006,
          32.021937,
          29.74734,
          28.439159999999998,
          32.511567,
          30.145766,
          28.951203999999997,
          31.76762,
          30.01172,
          32.021211,
          30.07415,
          32.847106,
          35.95902,
          43.87591331,
          30.07313,
          43.72077,
          43.94200833,
          31.9525,
          32.9689722,
          33.856638000000004,
          43.67297971,
          29.93538,
          29.878746999999997,
          36.605084999999995,
          40.574721999999994,
          45.569231,
          41.437931,
          37.75134722,
          36.274497,
          28.948749,
          36.549279999999996,
          29.86,
          29.345358,
          41.39281106,
          41.38284113,
          47.261205,
          44.73368,
          29.605714000000003,
          29.526883,
          31.776909999999997,
          32.412292,
          41.34767937,
          44.77085,
          29.1514,
          30.030029,
          37.6633,
          29.245664,
          29.750790000000002,
          33.341570000000004,
          32.49804,
          36.796929999999996,
          38.130590000000005,
          36.071290000000005,
          28.3448,
          29.99604,
          35.139732,
          32.210556,
          39.995669,
          35.952009999999994,
          29.912017,
          31.925091,
          32.368825,
          34.263642,
          35.0614452,
          32.651509999999995,
          32.53021,
          29.747625,
          38.0251564,
          34.472502,
          32.429722,
          35.768817,
          29.383570000000002,
          41.56348,
          28.16015,
          33.424147999999995,
          29.991265999999996,
          33.098846,
          35.849253999999995,
          41.78788,
          31.635562,
          35.94155,
          32.533257,
          30.92979,
          39.0355,
          38.37783053,
          36.13064,
          40.548003,
          29.366003000000003,
          32.53707,
          32.650659000000005,
          35.94498,
          37.058121,
          41.651411100000004,
          34.998458,
          40.661111,
          35.225037,
          47.86055,
          39.8653,
          38.623253000000005,
          34.217554,
          42.024238000000004,
          29.72536,
          32.431944,
          33.282070000000004,
          30.008867,
          30.6337,
          35.719297999999995,
          39.025364,
          30.958681,
          36.06684,
          47.80327,
          30.010784,
          36.162774,
          42.12294,
          30.54775,
          41.5543361,
          33.28139,
          70.10762,
          46.68329,
          32.07056,
          40.70498,
          31.136868,
          43.832639,
          33.764961,
          30.008867,
          38.55560816,
          39.484724,
          30.013720000000003,
          34.32184,
          32.063649,
          30.942414000000003,
          41.11988,
          33.40752,
          35.94596,
          32.07073,
          40.759869,
          31.870006,
          43.54566,
          37.680384000000004,
          39.632574,
          35.938355,
          29.796113899999998,
          40.59064,
          40.611540000000005,
          35.940183000000005,
          34.2021,
          40.66506,
          37.471,
          39.846715,
          40.4840972,
          30.26667,
          40.6581344,
          40.65728842,
          37.680384000000004,
          41.258086999999996,
          33.77596,
          33.975062,
          30.013719000000002,
          31.79747,
          40.620667,
          32.187259999999995,
          29.845934000000003,
          35.529177000000004,
          31.8029,
          40.657443,
          41.187143,
          35.9585,
          29.977871,
          47.68973,
          41.414332,
          29.701113,
          32.704640000000005,
          48.85108984,
          33.787393,
          42.20813,
          46.9803,
          31.166,
          38.004227,
          30.004721999999997,
          40.265184999999995,
          36.474058899999996,
          42.20813,
          42.53743,
          35.95837,
          42.22588,
          28.510104,
          30.26632292,
          43.240356,
          38.852094,
          40.523327,
          31.771673,
          36.765308000000005,
          29.8567,
          29.317764,
          28.846420000000002,
          37.679044,
          28.951037,
          33.6594,
          38.27373,
          34.723949,
          30.0039,
          32.0757,
          29.368056,
          66.812823,
          32.756261,
          32.21265,
          33.404778,
          32.498290000000004,
          30.318509000000002,
          27.8125,
          30.056628000000003,
          40.657792,
          38.093693,
          32.020434,
          31.169096999999997,
          36.13218,
          38.008562,
          30.684,
          32.090307,
          33.758661,
          40.203877,
          37.94181,
          37.942609999999995,
          47.0966335,
          48.888796,
          41.56244,
          37.642920000000004,
          29.747375,
          39.846971999999994,
          33.96455,
          30.016650899999995,
          40.650953,
          29.715674,
          29.36557,
          27.829677,
          29.7474,
          40.60614,
          32.019332,
          37.72926,
          29.916355,
          28.949425,
          36.8480438,
          30.314425,
          47.760633299999995,
          30.308670000000003,
          33.4188,
          35.951482,
          40.480804,
          31.155589000000003,
          39.844772999999996,
          40.58513,
          33.803129999999996,
          35.439682,
          41.2289,
          29.797340000000002,
          31.852417,
          41.801632,
          29.72056,
          29.72979,
          42.352666,
          32.152840000000005,
          29.614403999999997,
          32.08145,
          40.770458000000005,
          39.06405,
          30.721940000000004,
          35.2482,
          48.7134237,
          29.720014000000003,
          33.734846000000005,
          29.80955,
          28.847540000000002,
          28.46343,
          33.863326,
          30.671322999999997,
          28.524255,
          31.651352000000003,
          47.4593167,
          29.623346999999995,
          35.938719,
          29.856513,
          34.283001,
          29.887940000000004,
          39.772846,
          30.042394,
          39.484724,
          30.542863,
          31.769437,
          30.01173,
          31.944421999999996,
          33.80808,
          37.586723,
          28.290879999999998,
          33.034328,
          39.67439,
          31.832440000000002,
          40.20069,
          30.0142962,
          32.008424,
          29.747870000000002,
          29.857787,
          28.769234700000002,
          32.209977,
          33.289744,
          41.606561,
          32.06899,
          29.766845,
          35.964394,
          36.13824,
          32.01921,
          21.30438,
          38.78777,
          33.76233,
          33.863,
          30.592658,
          32.544259999999994,
          29.84136111,
          39.67171,
          29.758902000000003,
          35.054,
          29.69438,
          45.77906,
          31.6777,
          30.483056,
          32.068540000000006,
          31.434858000000002,
          32.529914,
          32.533014,
          40.7076,
          31.79952,
          33.347755,
          29.70158,
          29.631459000000003,
          33.77754,
          29.337540999999998,
          30.713928999999997,
          32.847106,
          30.17253,
          30.4446,
          29.908479999999997,
          35.435228,
          45.565381,
          33.93594,
          29.908479999999997,
          32.577172,
          29.857514000000002,
          40.456096,
          33.34219,
          34.059928,
          30.549182000000002,
          45.794368,
          40.650639,
          34.9175,
          33.538716,
          32.016023,
          35.940151,
          29.79637,
          31.647774,
          32.481377,
          29.72536,
          44.15348,
          28.408293,
          36.774165999999994,
          29.089664000000003,
          29.3191,
          32.01425,
          29.72979,
          31.821045,
          33.569382,
          40.52275,
          30.14044,
          32.021534,
          33.236374,
          32.45279,
          29.211940000000002,
          33.05193,
          47.91906322,
          35.74395,
          27.8189044,
          35.989585,
          33.85545,
          30.84377614,
          40.803478999999996,
          30.618290000000002,
          36.202923,
          36.29392,
          41.675883,
          31.13488,
          29.013562,
          33.806371999999996,
          30.84377614,
          41.10621,
          35.96953,
          31.651389,
          29.79556,
          40.608154,
          31.635109999999997,
          37.21353203,
          27.832444,
          31.219898999999998,
          29.748040000000003,
          30.713928999999997,
          31.80071,
          29.84893,
          30.713928999999997,
          29.8261,
          39.846971999999994,
          42.308506,
          40.858546000000004,
          37.817161999999996,
          43.78813056,
          30.50214,
          33.805501,
          38.090565000000005,
          41.901990000000005,
          40.694359999999996,
          27.815402000000002,
          31.981044399999995,
          47.324386,
          41.35429,
          35.940287,
          38.623129999999996,
          38.368179999999995,
          40.630937,
          32.067840000000004,
          39.04705,
          29.994064,
          33.204378999999996,
          29.286841,
          31.70798,
          30.484345,
          29.74462,
          47.089551,
          42.887382,
          40.547339,
          31.137224,
          29.745503000000003,
          29.79545,
          34.091,
          40.4329,
          29.72536,
          38.352573,
          40.689287,
          37.745816,
          34.059928,
          38.340005,
          32.665279,
          40.64995921,
          44.378889,
          27.829994,
          32.78448,
          32.020309999999995,
          33.007445000000004,
          28.558649,
          34.6428,
          39.40797563,
          30.713928999999997,
          29.91122222,
          29.47097,
          32.473589000000004,
          33.885958,
          43.78846666,
          38.827249,
          47.104525,
          29.78732,
          33.619833,
          29.821878,
          29.074975,
          32.8076,
          29.794890000000002,
          28.8559,
          29.841234000000004,
          38.274267,
          31.914009999999998,
          33.155227000000004,
          40.695592,
          40.59064,
          31.950229999999998,
          31.36115,
          36.06382,
          32.933,
          36.06382,
          40.291647999999995,
          39.414038,
          29.614125,
          33.655691999999995,
          32.8618,
          39.517036,
          30.332596999999996,
          35.565292,
          40.631074,
          29.30541
         ],
         "legendgroup": "",
         "lon": [
          -97.78123000000001,
          -70.49336,
          -93.3524,
          -92.0612,
          -96.64881,
          -97.52554,
          -95.1201,
          -94.3805,
          -95.1201,
          -95.17611,
          -93.20991,
          -97.32797,
          -98.31356,
          -96.75426999999999,
          -96.74417,
          -90.56593000000001,
          -96.74622,
          -90.78200000000001,
          -95.1201,
          -95.1489,
          -78.91763,
          -118.25413,
          -99.42139,
          -87.34782,
          -104.01317,
          -90.07892,
          -119.31192,
          -90.75851,
          -89.52266,
          -96.873398,
          -87.34782,
          -90.25444,
          -93.9897,
          -102.770368,
          -98.20694499999999,
          -87.8884,
          -96.90935,
          -92.7465,
          -90.16677,
          -86.3342,
          -88.23353,
          -94.5968,
          -74.2399,
          -94.8679,
          -101.18974,
          -101.4044,
          -117.35583000000001,
          -95.8301,
          -97.8846,
          -80.7357,
          -94.83034,
          -95.41731999999999,
          -100.80037,
          -90.79238000000001,
          -93.34000999999999,
          -90.78774,
          -93.45965,
          -94.60013000000001,
          -94.8391,
          -96.47081,
          -92.05972,
          -95.15156999999999,
          -98.46948,
          -103.1393,
          -94.86381,
          -121.4483,
          -96.75655,
          -119.06305,
          -87.8861,
          -94.96417,
          -91.28349,
          -93.27546,
          -96.75629,
          -90.16677,
          -75.20447,
          -91.04555,
          -101.35898,
          -82.59958,
          -93.33989,
          -87.8504,
          -92.87136,
          -78.835,
          -94.61827,
          -96.02906,
          -110.41061200000001,
          -96.14583,
          -89.1883,
          -85.5012,
          -97.81895,
          -93.39656,
          -100.8377,
          -97.62111,
          -84.36458,
          -85.85146,
          -94.00556,
          -94.7185,
          -94.07668000000001,
          -90.1886,
          -97.29544,
          -93.73207,
          -93.782668,
          -97.4042,
          -91.27566,
          -83.60070999999999,
          -94.74432,
          -114.27033999999999,
          -97.72254000000001,
          -84.62941,
          -95.2364,
          -95.141,
          -95.32798000000001,
          -97.02048,
          -74.2383,
          -94.01006,
          -118.27167,
          -115.04531100000001,
          -102.9138,
          -103.0763,
          -102.46394000000001,
          -102.38066500000001,
          -90.85080009999999,
          -98.58654,
          -94.93901,
          -94.94167,
          -94.83511,
          -74.25333,
          -98.350678,
          -74.21755,
          -98.85641899999999,
          -81.36428000000001,
          -97.92161,
          -100.83715,
          -95.18038,
          -145.76661000000001,
          -104.94916200000002,
          -91.18293,
          -94.60705,
          -96.4708,
          -99.73018,
          -95.17955400000001,
          -85.74113100000001,
          -95.2338293,
          -96.74132,
          -81.87401,
          -119.70399099999999,
          -94.84975,
          -102.63968,
          -97.10413,
          -94.593917,
          -97.00220001,
          -101.20851,
          -88.06549100000001,
          -90.40190009999999,
          -90.24833000000001,
          -93.27771700000001,
          -81.95333000000001,
          -95.12399,
          -94.84362,
          -104.51014,
          -94.07014000000001,
          -111.82493000000001,
          -96.75007,
          -96.748707,
          -104.783855,
          -90.71667,
          -94.40321999999999,
          -97.694305,
          -90.768367,
          -84.113285,
          -100.82947,
          -88.34073199999999,
          -95.93717,
          -98.41963,
          -93.76306,
          -89.43768100000001,
          -96.55946,
          -82.53516,
          -117.88416699999999,
          -96.75729,
          -95.119722,
          -95.09823,
          -94.86801,
          -94.500617,
          -77.44581,
          -97.60874,
          -95.058734,
          -90.085713,
          -97.75519,
          -97.10423,
          -87.236533,
          -74.219176,
          -121.246797,
          -94.97393000000001,
          -96.65431,
          -84.97251,
          -94.404044,
          -90.07892,
          -94.57539,
          -108.47417800000001,
          -94.63389000000001,
          -97.90876999999999,
          -96.47081,
          -104.70138,
          -98.63633,
          -75.42217,
          -83.4878,
          -102.440189,
          -97.18992,
          -102.29321,
          -102.0054,
          -95.203333,
          -95.05733000000001,
          -73.94435,
          -87.49049000000001,
          -97.98185,
          -95.47697,
          -97.3371,
          -90.85108000000001,
          -95.180385,
          -101.65116,
          -96.47081,
          -96.00824525,
          -92.37944,
          -94.897099,
          -94.9057,
          -94.922859,
          -106.24686100000001,
          -74.3515,
          -95.02365,
          -95.21378299999999,
          -98.43935,
          -101.32146,
          -97.831946,
          -92.068889,
          -105.44129948,
          -149.8164,
          -97.01768,
          -91.56066700000001,
          -97.80143000000001,
          -97.83197,
          -94.05729170000001,
          -88.076523,
          -84.10547,
          -96.915,
          -90.8521,
          -95.18092,
          -99.81866,
          -91.00488,
          -95.62383,
          -87.86195,
          -94.020288,
          -103.57639,
          -94.4001,
          -93.76306,
          -98.9129,
          -94.06028,
          -94.06028,
          -94.868,
          -92.25399999999999,
          -82.5101,
          -94.057133,
          -102.44337,
          -74.25384,
          -74.73854200000001,
          -103.17361,
          -98.1,
          -97.51083,
          -96.98528,
          -88.877277,
          -96.36906,
          -95.1642,
          -94.056,
          -94.01201,
          -117.763553,
          -102.4564661,
          -97.47736,
          -97.86774,
          -87.82972,
          -94.97929,
          -97.88435,
          -118.2347,
          -97.49972,
          -92.93861,
          -118.180656,
          -93.35844,
          -97.84852,
          -97.49972,
          -99.320819,
          -95.1332,
          -94.6759,
          -95.3198,
          -102.90678,
          -93.55077,
          -87.65444000000001,
          -95.5842,
          -74.21709,
          -100.7953,
          -95.68005,
          -119.378251,
          -109.43700000000001,
          -94.89759000000001,
          -82.48781,
          -119.742552,
          -92.13573000000001,
          -74.25333,
          -118.16339599999999,
          -100.01332,
          -102.37033000000001,
          -92.61944,
          -83.25139,
          -94.90781,
          -111.827358,
          -89.75185,
          -98.49690600000001,
          -94.76787,
          -100.842157,
          -92.00372,
          -94.6025,
          -96.029061,
          -77.03778,
          -74.23725,
          -95.701173,
          -102.959437,
          -96.879506,
          -90.08461700000001,
          -94.00565624,
          -98.06593000000001,
          -99.217775,
          -95.90781,
          -94.73,
          -83.163,
          -97.66619,
          -100.7953,
          -93.93892,
          -88.04958,
          -102.448,
          -90.589072,
          -81.87765,
          -91.05339000000001,
          -74.21991700000001,
          -94.93933299999999,
          -92.9503,
          -97.59588000000001,
          -96.35925,
          -95.156254,
          -118.16388899999998,
          -93.6389,
          -97.81944399999999,
          -102.0054,
          -88.0536,
          -88.345016,
          -100.9402,
          -95.179264,
          -104.91426000000001,
          -97.9228261,
          -97.873056,
          -95.121835,
          -148.6203,
          -77.42333,
          -106.210326,
          -98.09739499999999,
          -94.052778,
          -95.10635,
          -96.44923,
          -99.89379,
          -77.03778,
          -74.25835,
          -87.88425,
          -90.3954,
          -75.20028,
          -87.4744,
          -97.44046999999999,
          -100.646116,
          -93.33639000000001,
          -94.89837,
          -89.3561,
          -96.06166999999999,
          -66.07476,
          -94.3214,
          -95.410833,
          -75.3586,
          -90.85025,
          -96.7514,
          -96.74833000000001,
          -86.0209,
          -93.30194,
          -97.83324,
          -88.87876,
          -74.210174,
          -102.8589,
          -75.262507,
          -94.905557,
          -94.90535,
          -95.121835,
          -94.8388,
          -103.30167,
          -94.8693,
          -94.6751,
          -110.3453,
          -97.10367,
          -94.07171,
          -99.564306,
          -74.21620899999999,
          -74.209062,
          -97.0539,
          -97.759315,
          -95.15111,
          -111.28258000000001,
          -94.902222,
          -100.83604,
          -104.81305,
          -96.748064,
          -87.8361,
          -104.13833000000001,
          -88.2085,
          -75.175452,
          -94.95689,
          -93.35268,
          -101.257672,
          -96.44974,
          -96.27164,
          -97.55678,
          -94.916009,
          -78.23911,
          -108.47888999999999,
          -108.498916,
          -96.74871999999999,
          -83.123064,
          -72.90925,
          -74.209978,
          -90.16677,
          -97.747128,
          -96.0534,
          -94.093194,
          -98.2215,
          -80.4181,
          -95.012183,
          -93.985233,
          -96.80448299999999,
          -88.3192648,
          -80.93179,
          -85.5012,
          -96.75655,
          -97.59471500000001,
          -89.079739,
          -114.948008,
          -97.572805,
          -94.08086,
          -92.05972,
          -102.19100999999999,
          -92.709983,
          -77.03759000000001,
          -118.22176999999999,
          -96.3957,
          -88.0121,
          -85.50785,
          -97.52251,
          -84.242059,
          -97.49642,
          -94.8804,
          -95.191378,
          -97.35301,
          -97.428013,
          -118.0842,
          -121.63143600000001,
          -97.95336,
          -97.1422,
          -102.026175,
          -95.44006,
          -107.14708999999999,
          -95.89245,
          -118.2036,
          -96.37387,
          -97.40789000000001,
          -97.9057,
          -84.223042,
          -104.14246,
          -91.57018000000001,
          -82.49131,
          -88.124155,
          -83.73375,
          -89.17831,
          -84.1146149,
          -98.57896,
          -96.44739,
          -74.25384,
          -118.12135,
          -87.7665,
          -95.135,
          -83.164865,
          -95.23416,
          -96.86533,
          -90.4901,
          -96.17223,
          -84.780139,
          -102.005505,
          -97.84727099999999,
          -97.85245,
          -95.260549,
          -95.203333,
          -118.2347,
          -97.53915,
          -102.95071,
          -90.99799999999999,
          -102.95923,
          -89.10231,
          -78.4385,
          -102.950783,
          -96.52176,
          -84.12206,
          -90.52383499999999,
          -93.464003,
          -97.360576,
          -100.8309,
          -96.759374,
          -103.1334,
          -74.21207,
          -118.12035,
          -96.914558,
          -95.91459,
          -118.0064056,
          -94.02668299999999,
          -93.1679,
          -108.75724,
          -98.496967,
          -98.462467,
          -98.38255,
          -95.00712,
          -96.75655,
          -94.27173499999999,
          -89.08396,
          -98.39635,
          -94.64583,
          -96.137915,
          -96.302081,
          -97.70893000000001,
          -89.384553,
          -97.76397,
          -96.043891,
          -96.74874,
          -95.121835,
          -94.6751,
          -82.32001,
          -96.90093,
          -102.1906,
          -84.69089,
          -95.1278,
          -97.40839,
          -97.747511,
          -91.1703,
          -95.61166,
          -118.25270400000001,
          -119.160719,
          -118.29701000000001,
          -98.27639,
          -88.027889,
          -97.595518,
          -120.943522,
          -89.10162,
          -120.45062247,
          -88.12713000000001,
          -96.793611,
          -96.793611,
          -94.56102299999999,
          -98.27806,
          -96.23684,
          -89.34578,
          -92.05972,
          -117.9154528,
          -97.51306,
          -84.1265,
          -91.062652,
          -95.403144,
          -95.374444,
          -91.411283,
          -100.39243,
          -121.55846100000001,
          -93.52571,
          -122.133742,
          -97.95564,
          -121.672381,
          -88.319562,
          -96.4719,
          -94.9633,
          -95.61183,
          -96.79188,
          -102.026495,
          -118.205749,
          -101.359211,
          -102.548583,
          -101.305851,
          -74.219078,
          -118.99174,
          -97.83095,
          -88.77223000000001,
          -93.98634100000001,
          -98.262922,
          -95.121835,
          -96.43553299999999,
          -96.75406,
          -122.55443000000001,
          -108.16348300000001,
          -76.52712700000001,
          -76.665351,
          -90.25945,
          -95.1737,
          -98.74844135,
          -106.902904,
          -101.752889,
          -92.05972,
          -75.419055,
          -96.726088,
          -87.8886,
          -101.7825,
          -118.31848000000001,
          -74.21547199999999,
          -94.39891999999999,
          -96.02014,
          -95.32996999999999,
          -93.95744,
          -97.479365,
          -101.2876,
          -97.4636,
          -96.98482299999999,
          -87.89138,
          -94.8351,
          -87.4543,
          -97.19946,
          -96.0317,
          -96.759486,
          -82.48781,
          -102.617793,
          -87.89138,
          -97.1581,
          -101.51128,
          -84.40389,
          -93.938061,
          -119.6575,
          -86.1359,
          -94.935654,
          -97.33426899999999,
          -74.22071,
          -101.40486,
          -102.56548000000001,
          -89.7349367,
          -121.94826100000002,
          -92.708299,
          -95.41221999999999,
          -93.290375,
          -96.71889,
          -97.953363,
          -102.77761600000001,
          -100.76886,
          -105.53801899999999,
          -97.381096,
          -94.936904,
          -96.7502,
          -87.569198,
          -95.41221999999999,
          -74.222514,
          -88.85166,
          -93.35127,
          -95.884289,
          -95.28161999999999,
          -99.87124,
          -102.67191,
          -120.35680577,
          -95.121835,
          -95.121835,
          -85.82542,
          -103.650532,
          -93.526862,
          -93.9853,
          -97.075241,
          -103.176847,
          -99.193611,
          -103.65985,
          -91.919893,
          -95.72125,
          -95.72125,
          -96.4719,
          -97.13418,
          -118.24368490000002,
          -78.06611,
          -97.125787,
          -81.8849,
          -95.32050699999999,
          -94.5058,
          -92.08238,
          -93.9928,
          -103.46441999999999,
          -103.46441999999999,
          -95.209372,
          -99.80476999999999,
          -99.17953,
          -97.757636,
          -108.50141200000002,
          -100.54374,
          -98.837622,
          -93.339919,
          -94.6507,
          -119.562467,
          -96.623514,
          -82.21559,
          -84.629335,
          -148.279,
          -118.249779,
          -74.22233,
          -74.25384,
          -82.48791,
          -94.60418,
          -89.10231,
          -89.08389,
          -93.526816,
          -90.838889,
          -79.5866,
          -92.65195,
          -90.957761,
          -104.38975,
          -106.41171000000001,
          -94.601051,
          -97.37467,
          -87.8962,
          -94.90222,
          -102.89311,
          -94.05586,
          -87.4667,
          -96.75914,
          -118.228,
          -84.126666,
          -94.84416999999999,
          -97.307172,
          -90.865628,
          -98.16141999999999,
          -93.19663,
          -97.51850999999999,
          -93.268658,
          -108.75964879,
          -95.35229159,
          -84.108636,
          -74.25050999999999,
          -88.63417,
          -74.25384,
          -76.56328,
          -87.51722,
          -97.3751,
          -92.99642,
          -93.035311,
          -98.515008,
          -87.45333000000001,
          -104.759167,
          -106.81986,
          -97.4453,
          -97.395,
          -100.82925,
          -93.5722,
          -94.6502,
          -102.8112,
          -87.91790999999999,
          -89.5514,
          -97.95406700000001,
          -94.4015,
          -102.01776,
          -96.147803,
          -96.05833,
          -95.99396999999999,
          -85.440504,
          -95.22026,
          -74.219353,
          -74.256013,
          -91.4012,
          -108.91388899999998,
          -74.25384,
          -89.952333,
          -94.00709499999999,
          -102.97538,
          -94.666629,
          -90.07891101,
          -95.389444,
          -88.27772,
          -95.4097,
          -96.88095,
          -96.3958,
          -90.08931,
          -89.08415,
          -103.68229699999999,
          -94.46905600000001,
          -98.651289,
          -122.39071200000001,
          -122.39071200000001,
          -96.45806,
          -102.82027,
          -88.041942,
          -94.05586,
          -102.02736999999999,
          -84.132645,
          -102.82777,
          -92.04994,
          -74.25384,
          -95.41221999999999,
          -94.3989,
          -96.75885799999999,
          -118.23844,
          -98.09101,
          -89.10162,
          -90.861846,
          -91.187577,
          -93.19544,
          -88.34073199999999,
          -102.920159,
          -96.74755,
          -96.90047,
          -97.51745,
          -95.35065556,
          -74.125619,
          -119.19115,
          -93.5745,
          -120.44441699999999,
          -147.09653571,
          -87.433952,
          -84.69089,
          -95.67591,
          -74.239999,
          -97.948581,
          -91.457458,
          -97.6930556,
          -95.308771,
          -97.593745,
          -88.204914,
          -97.085468,
          -91.32391233,
          -90.4013,
          -100.24465,
          -74.222514,
          -101.40486,
          -96.74162,
          -103.295787,
          -92.38284,
          -95.430288,
          -91.83585,
          -96.00824525,
          -108.49913000000001,
          -87.97975,
          -96.4767,
          -95.17964,
          -74.125619,
          -103.132559,
          -94.11098,
          -119.704,
          -83.41999,
          -102.43865600000001,
          -97.379338,
          -92.05972,
          -96.754603,
          -98.651289,
          -102.07528,
          -95.129993,
          -96.91755,
          -81.211906,
          -116.021774,
          -118.14477,
          -103.13161,
          -90.854975,
          -95.243912,
          -94.561908,
          -95.43163100000001,
          -91.05218,
          -102.23929,
          -95.674314,
          -95.432542,
          -97.37611109999999,
          -96.72309,
          -75.532567,
          -94.076706,
          -96.861139,
          -94.8373,
          -97.147138,
          -102.46611,
          -81.668922,
          -92.67267003,
          -96.51428,
          -98.792389,
          -95.15331796,
          -99.13710999999999,
          -122.129423,
          -96.978674,
          -103.59626999999999,
          -96.4767,
          -96.27369,
          -96.28435999999999,
          -75.53238,
          -98.58163,
          -93.0463,
          -88.130513,
          -90.87165999999999,
          -90.853719,
          -102.950633,
          -107.9802778,
          -94.0054,
          -74.25384,
          -74.19254000000001,
          -95.31151,
          -96.75655,
          -95.14887905,
          -97.37093,
          -93.5739,
          -94.05633,
          -89.63823599999999,
          -77.399801,
          -102.98994,
          -89.63841,
          -94.4076,
          -96.7380556,
          -92.03609,
          -88.04630999999999,
          -95.1101,
          -97.198572,
          -116.98,
          -94.43055,
          -103.1375,
          -84.62949,
          -94.60709,
          -75.25948000000001,
          -97.43225600000001,
          -94.50289000000001,
          -94.982056,
          -90.087322,
          -82.1983333,
          -106.40833329999998,
          -88.49555600000001,
          -94.008985,
          -106.40833329999998,
          -87.82598113,
          -110.06164199999999,
          -96.813234,
          -94.05681,
          -119.064098,
          -90.1919,
          -94.24221999999999,
          -83.14104499999999,
          -102.02951,
          -93.90276,
          -74.2498,
          -119.3388889,
          -89.4441666,
          -94.60401999999999,
          -74.25384,
          -95.20334,
          -74.221761,
          -95.432381,
          -90.9009944,
          -99.1263,
          -91.1357,
          -101.22162879999999,
          -94.935183,
          -102.18757,
          -94.40509899999999,
          -98.72256999999999,
          -100.83054,
          -118.42132,
          -100.8309,
          -95.28034,
          -119.6614872,
          -103.17565,
          -118.23391299999999,
          -87.466475,
          -87.900338,
          -94.939136,
          -96.40047,
          -102.138981,
          -118.22368999999999,
          -104.694064,
          -94.527,
          -85.33488,
          -90.59264300000001,
          -77.40039200000001,
          -96.747821,
          -104.509592,
          -89.25291999999999,
          -96.74696999999999,
          -88.31929000000001,
          -118.232432,
          -90.856111,
          -89.99,
          -110.759,
          -121.587,
          -118.24655800000001,
          -94.40509899999999,
          -96.764824,
          -98.12217700000001,
          -74.25384,
          -96.19108100000001,
          -95.39047,
          -87.892427,
          -97.81663,
          -104.564875,
          -91.62581999999999,
          -96.74979,
          -116.021774,
          -92.06916700000001,
          -74.20851800000001,
          -90.81978672,
          -94.9731575,
          -118.31348600000001,
          -91.570103,
          -117.669642,
          -98.11986999999999,
          -103.17604,
          -94.50634000000001,
          -101.25444,
          -104.759017,
          -93.030086,
          -96.86338,
          -96.89285,
          -93.887925,
          -107.625,
          -87.88528000000001,
          -97.54401,
          -102.01581999999999,
          -97.549726,
          -91.5701,
          -104.686441,
          -95.49514204,
          -119.063134,
          -90.178975,
          -94.62234000000001,
          -96.7569,
          -93.95767,
          -95.17971,
          -97.759029,
          -90.871663,
          -101.255144,
          -74.2222,
          -93.04560277,
          -74.642893,
          -97.676694,
          -95.88085799999999,
          -94.0563685,
          -96.30796,
          -78.2375,
          -75.4222,
          -96.4566,
          -96.18822,
          -94.069686,
          -96.38146,
          -97.95413,
          -91.20263299999999,
          -82.605496,
          -102.926272,
          -83.4048,
          -95.059155,
          -89.82916999999999,
          -90.845,
          -91.05339000000001,
          -108.4989,
          -93.820278,
          -103.300039,
          -77.63277,
          -83.22664,
          -101.854915,
          -90.16677,
          -79.93915,
          -92.999245,
          -85.13932,
          -100.08678,
          -76.0431,
          -95.576738,
          -96.75655,
          -94.40307,
          -121.522658,
          -86.28629000000001,
          -96.74874,
          -93.62581,
          -92.54888000000001,
          -96.185508,
          -93.820278,
          -84.953281,
          -96.74780799999999,
          -119.3917,
          -91.05339000000001,
          -95.282365,
          -102.26934,
          -99.6332,
          -92.640564,
          -101.354167,
          -85.84991,
          -87.40189000000001,
          -98.58166999999999,
          -94.83778000000001,
          -108.852723,
          -95.3928,
          -97.947953,
          -87.94348000000001,
          -95.68921999999999,
          -98.71181,
          -97.944108,
          -99.30399,
          -74.25384,
          -116.249,
          -94.06855999999999,
          -74.21357900000001,
          -99.1262,
          -104.06118199999999,
          -83.83166999999999,
          -100.93178,
          -77.19229,
          -94.08965,
          -88.385636,
          -98.84219,
          -74.25384,
          -95.1625,
          -102.580805,
          -94.06,
          -89.24499,
          -94.9438,
          -98.7191,
          -94.54854,
          -107.98,
          -94.55099,
          -74.21357900000001,
          -98.7683,
          -96.445621,
          -97.632707,
          -94.973972,
          -93.783194,
          -95.03284979,
          -95.05727158,
          -94.4014,
          -94.65934,
          -97.08663,
          -94.93121,
          -105.576613,
          -93.95631999999999,
          -89.967529,
          -84.629237,
          -74.21357900000001,
          -94.0067,
          -101.541111,
          -96.39607,
          -89.928927,
          -95.245072,
          -85.110422,
          -96.74944,
          -87.445686,
          -87.5885,
          -94.53129,
          -94.0637716,
          -96.74691,
          -118.16312222,
          -97.62086,
          -98.31175999999999,
          -95.01275799999999,
          -96.02489,
          -102.137422,
          -102.87640999999999,
          -95.1625,
          -92.88889,
          -88.574787,
          -97.0122,
          -95.107733,
          -93.1468,
          -97.0456,
          -94.5044,
          -90.1741,
          -93.35381,
          -102.012028,
          -112.05259099999999,
          -96.47409,
          -93.95604,
          -87.472865,
          -86.22466,
          -97.9906,
          -95.2219583,
          -92.42859,
          -94.698972,
          -91.768142,
          -95.412879,
          -119.391572,
          -87.897211,
          -83.551501,
          -95.612086,
          -91.28181,
          -95.15331796,
          -102.19185999999999,
          -96.32366800000001,
          -96.47409,
          -83.551501,
          -102.17472,
          -118.27194899999999,
          -91.03874,
          -82.39773199999999,
          -74.25384,
          -95.228165,
          -94.22335,
          -88.56550277,
          -89.086496,
          -72.8999,
          -86.80266,
          -97.83126999999999,
          -99.18709,
          -95.13058000000001,
          -93.3292,
          -84.13177900000001,
          -97.20423000000001,
          -96.75159000000001,
          -74.21935,
          -89.493926,
          -103.56208000000001,
          -90.07891101,
          -96.47409,
          -75.535209,
          -96.43556,
          -85.862736,
          -102.0054,
          -94.22140999999999,
          -90.87867,
          -91.189346,
          -99.61415799999999,
          -74.21935,
          -95.1625,
          -96.02083,
          -82.47944,
          -86.82914,
          -120.35642779999999,
          -98.63855600000001,
          -90.477517,
          -97.492924,
          -97.21214672,
          -76.03375,
          -91.001564,
          -96.3957,
          -86.226389,
          -95.43176,
          -82.167048,
          -90.26971999999999,
          -97.2963,
          -95.179006,
          -102.4290155,
          -94.26191,
          -83.45348,
          -89.28764,
          -95.012757,
          -95.63705,
          -89.44549,
          -96.24902,
          -96.75655,
          -94.93573,
          -99.28394,
          -90.85472220000001,
          -75.4177,
          -96.45009,
          -98.90449,
          -95.23189,
          -96.4543,
          -74.25384,
          -96.62162099999999,
          -93.45957299999999,
          -86.246533,
          -74.25384,
          -104.67988000000001,
          -97.9921,
          -110.077696,
          -100.293152,
          -104.388373,
          -93.52615,
          -97.09409000000001,
          -98.31168000000001,
          -84.77444,
          -98.141111,
          -88.64449,
          -95.17334,
          -98.63609,
          -103.18311,
          -102.22691,
          -149.8164,
          -119.06437199999999,
          -74.25384,
          -84.62397,
          -81.347693,
          -99.71718,
          -102.01648,
          -94.05578,
          -76.125691,
          -83.233783,
          -98.44036899999999,
          -97.9533,
          -94.0594,
          -104.39,
          -96.7549,
          -74.25384,
          -90.16212,
          -99.571389,
          -94.36010999999999,
          -94.40176,
          -107.701801,
          -97.80037800000001,
          -94.93970999999999,
          -103.56694,
          -94.00565624,
          -97.67782,
          -119.65023899999998,
          -96.91695,
          -83.44724000000001,
          -74.25384,
          -89.481844,
          -99.63150300000001,
          -79.93686505,
          -98.789953,
          -93.5581,
          -98.43702900000001,
          -94.81860999999999,
          -93.76306,
          -98.1214,
          -100.119192,
          -95.35215,
          -106.71194440000001,
          -96.492211,
          -96.052414,
          -105.224281,
          -101.46051999999999,
          -102.856912,
          -79.93686505,
          -96.74449,
          -103.2997222,
          -97.49499,
          -95.0124,
          -91.563535,
          -94.62481700000001,
          -74.25384,
          -119.68993,
          -87.44906,
          -85.851089,
          -118.229308,
          -93.997047,
          -83.45352,
          -75.9956,
          -122.056224,
          -94.79471,
          -94.83103299999999,
          -74.24819000000001,
          -90.09862700000001,
          -97.87389,
          -80.56138,
          -74.23907,
          -103.64771400000001,
          -89.104467,
          -95.85094000000001,
          -96.850184,
          -94.159355,
          -106.2038889,
          -96.38565,
          -75.41714,
          -82.4943,
          -95.23783399999999,
          -74.25384,
          -96.91462,
          -95.611575,
          -96.88025999999999,
          -87.8981323,
          -99.75808,
          -100.841964,
          -93.326669,
          -98.16055899999999,
          -95.217226,
          -97.79908,
          -78.3075,
          -118.370221,
          -96.0775,
          -96.748525,
          -118.21666670000002,
          -105.33741699999999,
          -74.2117528,
          -101.046424,
          -97.75689,
          -77.51333000000001,
          -93.9091,
          -94.33013000000001,
          -97.38027,
          -97.4765,
          -75.532336,
          -95.22211999999999,
          -85.15468800000001,
          -85.15219499999999,
          -95.42361,
          -101.890833,
          -95.430748,
          -102.24834,
          -95.49514204,
          -102.01767,
          -95.38024,
          -119.298397,
          -94.89290799999999,
          -89.58269,
          -117.83861499999999,
          -118.20888899999999,
          -89.51142,
          -96.20079871,
          -77.74824,
          -95.17841999999999,
          -103.960134,
          -103.1764,
          -97.45631,
          -99.22277779999999,
          -99.65356,
          -93.955483,
          -119.65400700000001,
          -97.12317890000001,
          -89.17722989,
          -74.21558,
          -102.373875,
          -93.12756999999999,
          -96.74784,
          -101.752403,
          -97.755756,
          -95.18024582,
          -94.60471700000001,
          -96.06000999999999,
          -92.06,
          -97.243049,
          -74.25384,
          -94.67588,
          -90.905417,
          -96.94382,
          -97.59628000000001,
          -92.63136292,
          -104.93944099999999,
          -89.34615,
          -97.19300732,
          -103.178079,
          -103.14003000000001,
          -100.6198,
          -86.409788,
          -98.638347,
          -97.5136,
          -97.518106,
          -105.240693,
          -94.40137,
          -97.531604,
          -101.75231,
          -99.98155,
          -96.7465,
          -89.06510432,
          -97.247747,
          -95.20624000000001,
          -99.566148,
          -96.19278,
          -109.9803,
          -97.16152199999999,
          -75.531339,
          -108.80023700000001,
          -99.65225699999999,
          -76.60618000000001,
          -107.06200000000001,
          -84.69,
          -96.74944,
          -103.1392,
          -94.40137,
          -97.59352,
          -97.5925,
          -95.28087,
          -90.089749,
          -95.01403,
          -87.88556,
          -94.895471,
          -119.807777,
          -97.418438,
          -87.466047,
          -89.54218,
          -89.39593909999999,
          -117.15621999999999,
          -74.239568,
          -79.93915,
          -91.16789167,
          -82.23533,
          -102.87640999999999,
          -104.4352667,
          -96.01389,
          -84.126687,
          -97.67678199999999,
          -91.16216999999999,
          -96.843305,
          -93.04914000000001,
          -102.602889,
          -118.255721,
          -94.84779,
          -84.1620056,
          -109.39314099999999,
          -98.20689,
          -95.13175799999999,
          -97.67404599999999,
          -97.669735,
          -74.25384,
          -96.51222220000001,
          -97.87105,
          -93.76389,
          -97.47972,
          -102.56563622,
          -97.75705400000001,
          -94.10641,
          -102.33304,
          -95.430748,
          -97.67404599999999,
          96.86614,
          -98.58121,
          -108.1301,
          -87.443384,
          -76.46127800000001,
          -89.552288,
          -100.94666,
          -75.530339,
          -105.8525,
          -102.79009,
          -87.468926,
          -90.87143,
          -74.239141,
          -87.4512,
          -93.7767,
          -91.282986,
          -83.81743089,
          -95.15463199999999,
          -98.51248000000001,
          -95.48886999999999,
          -87.43874523,
          -81.761444,
          -103.62392,
          -88.6345,
          -89.084633,
          -100.8358,
          -88.878198,
          -94.7452,
          -101.890833,
          -84.12206,
          -91.408465,
          -158.09993,
          -94.870959,
          -89.958939,
          -103.81461,
          -103.97761,
          -118.44136200000001,
          -96.75135,
          -83.601248,
          -91.28333,
          -100.83563000000001,
          -94.63105999999999,
          -94.84004,
          -97.28468000000001,
          -96.71795726,
          -86.225891,
          -94.81076999999999,
          -87.45194000000001,
          -97.37179,
          -96.7594,
          -90.298736,
          -119.80776999999999,
          -96.47409,
          88.173136,
          -95.724109,
          -93.35353,
          -87.452478,
          -110.7567,
          -84.127323,
          -111.29391100000001,
          -103.1811111,
          -93.942296,
          -87.00683599999999,
          -103.778247,
          -104.791108,
          -96.74797,
          -96.750877,
          -87.440797,
          -83.9178,
          -98.2225,
          -102.91027,
          -87.902235,
          -87.902235,
          -96.467214,
          -98.02141,
          -89.332383,
          -97.67678599999999,
          -84.6554,
          -102.55676,
          -118.269456,
          -84.685909,
          -85.778931,
          -98.43757,
          -103.30113409999998,
          -104.35466,
          -97.28714000000001,
          -103.563575,
          -101.20851,
          -101.0593,
          -84.9190558,
          -97.52718,
          -87.94386999999999,
          -94.71869000000001,
          -89.523521,
          -89.68472,
          -103.48432199999999,
          -96.47357,
          -97.79842,
          -96.628799,
          -87.95120899999999,
          -94.935183,
          -94.00983000000001,
          -94.2833333,
          -98.496891,
          -97.83677,
          -81.36996500000001,
          -97.24686,
          -98.8071,
          -90.188644,
          -76.93538000000001,
          -87.94386999999999,
          -104.714812,
          -89.514842,
          -91.27589,
          -92.999245,
          -92.01656,
          -93.62086,
          -78.239171,
          -101.85685500000001,
          -102.21213,
          -96.71795726,
          -79.117514,
          -103.178983,
          -104.53896522,
          -99.641,
          -83.48593699999999,
          -93.76389,
          -94.056361,
          -94.8305,
          -93.33935799999999,
          -94.00555279999999,
          -102.21213,
          -95.17331,
          -96.15759,
          -91.28204000000001,
          -87.4667,
          -98.6362,
          -92.93675,
          -104.2457,
          -95.179389,
          -94.935183,
          -98.41103000000001,
          -90.183432,
          -104.7907,
          -104.7907,
          -94.064083,
          -74.25384,
          -90.84092259999998,
          -95.65,
          -97.44754,
          -102.01169,
          -98.30136999999999,
          -102.01641,
          -102.2931,
          -74.25384,
          -102.012028,
          -102.617915,
          -101.019901,
          -92.11386999999999,
          -99.80891,
          -102.71984,
          -95.1986,
          -96.20079871,
          -92.250136,
          -82.60639,
          -88.903921,
          -120.014772,
          -94.9731575,
          -118.272341,
          -94.60294,
          -91.21973,
          -104.26353,
          -98.14535,
          -107.98125,
          -94.149808,
          -95.01269,
          -118.227056,
          -102.07291,
          -119.42238,
          -102.026822,
          -92.45555,
          -95.108347,
          -90.8609222,
          -79.93915,
          -94.498427,
          -90.857704,
          -92.99561,
          -90.4014277,
          -87.073657,
          -87.073657,
          -119.0425888,
          -100.569479,
          -98.460842,
          -115.300693,
          -94.86919,
          -97.8667,
          -104.41668333,
          -89.51924,
          -89.97761,
          -94.44495,
          -122.056224,
          -122.24484299999999,
          -104.11549000000001,
          -96.754536,
          -118.360143,
          -101.353026,
          -122.13439199999999,
          -88.49732,
          -89.085639,
          -91.28204000000001,
          -94.835427,
          -95.23783399999999,
          -101.40899999999999,
          -97.60424,
          -102.20698,
          -118.254678,
          -119.43462199999999,
          -74.25384,
          -74.21356999999999,
          -88.373137,
          -100.83051,
          -97.29606047,
          -87.43874523,
          -103.13947900000001,
          -104.791108,
          -100.85003,
          -102.914893,
          -122.22436,
          -104.424018,
          -94.05649,
          -96.87536999999999,
          -91.98638879999999,
          -111.91978,
          -118.16467,
          -93.993675,
          -83.110839,
          -90.469736,
          -75.459406,
          -95.340804,
          -95.207068,
          -101.73915,
          -103.13993,
          -103.138898,
          -118.20935349999999,
          -95.011627,
          -102.268817,
          -87.89361,
          -90.857704,
          -102.013347,
          -103.6615,
          -96.00824525,
          -74.25384,
          -81.370474,
          104.26339899999999,
          -106.20993999999999,
          -98.184795,
          -95.41221999999999,
          -89.08485,
          -107.00791100000001,
          -97.87432,
          -90.132573,
          -92.054722,
          -97.43599,
          -93.99172,
          -74.239401,
          -95.27918000000001,
          -84.126641,
          -86.74691,
          -96.754623,
          -92.82545,
          -97.756389,
          -96.55023,
          -104.31804722,
          -95.430748,
          -96.74214,
          -98.44337,
          -94.935183,
          -148.611844,
          -74.245512,
          -103.03132,
          -74.25384,
          -103.180924,
          -97.720683,
          -104.71481248,
          -89.96583000000001,
          -74.2147,
          -74.25384,
          -97.3445,
          -98.09193499999999,
          -95.42987600000001,
          -104.694563,
          -107.8725,
          -103.79673000000001,
          -95.41216,
          -96.148478,
          -97.786325,
          -97.85246,
          -122.056224,
          -119.68223,
          -90.192503,
          -122.32212700000001,
          -91.59935,
          -102.96005500000001,
          -101.890833,
          -98.12971999999999,
          -83.48666999999999,
          -93.099272,
          -91.242388,
          -100.96222,
          -97.95649300000001,
          -102.5404,
          -104.60538000000001,
          -97.051558,
          -74.241097,
          -91.74680699999999,
          -97.403032,
          -87.88528000000001,
          -97.95649300000001,
          -97.825896,
          -96.76142,
          -104.4072833,
          -97.54975,
          -95.22211999999999,
          -96.62664000000001,
          -102.603994,
          -96.94799,
          -95.35386,
          -122.3997,
          -104.41711388,
          -107.11650300000001,
          -97.79842,
          -93.721048,
          -102.013347,
          -97.369206,
          -93.981854,
          -104.41684166,
          -74.25384,
          -94.42918,
          -94.74517,
          -102.24815,
          -93.7743,
          -104.32384,
          -91.27811700000001,
          -107.78608,
          -93.33548,
          -102.268817,
          -100.96146,
          -80.96325,
          -96.76417099999999,
          -97.91048,
          -87.44861,
          -98.67571,
          -85.71544,
          -94.96274,
          -88.04639,
          -99.70331999999999,
          -91.28445500000001,
          -111.29503999999999,
          -122.39071200000001,
          -118.158872,
          -116.021774,
          -102.013347,
          -96.542335,
          -97.547686,
          -119.07449170000001,
          -81.370474,
          -108.16955,
          -103.181597,
          -97.36873100000001,
          -96.74521800000001,
          -94.84331999999999,
          -97.81118000000001,
          -74.25694399999999,
          -104.45200000000001,
          -84.127225,
          -108.129948,
          -96.00824525,
          -96.148478,
          -102.78992,
          -104.68633,
          -97.688497,
          -108.8267,
          -92.04899999999999,
          -88.015049,
          -95.178373,
          -102.2931,
          -95.012446,
          -86.24556,
          -102.16955,
          -82.507594,
          -102.26999,
          -97.467557,
          -122.056224,
          -119.95565500000001,
          -84.127225,
          -84.63053000000001,
          -82.50690999999999,
          -99.223782,
          -87.47608000000001,
          -105.06706666,
          -101.52980500000001,
          -96.076544,
          -87.46712099999999,
          -106.357092,
          -95.187438,
          -103.960045,
          -104.91318999999999,
          -96.7459,
          -90.853104,
          -80.26410600000001,
          -87.23644,
          -74.25384,
          -96.344667,
          -97.5645,
          -102.012891,
          -86.83171,
          -99.22280400000001,
          -74.25384,
          -96.74793299999999,
          -95.716402,
          -95.43050699999999,
          -84.12206,
          -96.75335,
          -96.433027,
          -122.376323,
          -92.05685,
          -101.52980500000001,
          -94.06191,
          -97.442674,
          -93.996983,
          -98.812338,
          -102.638756,
          -89.29615799999999,
          -104.77022,
          -98.01030899999999,
          -90.857704,
          -117.365394,
          -96.350778,
          -96.626722,
          -75.502586,
          -97.00601999999999,
          -96.74521800000001,
          -92.06135,
          -157.89055,
          -96.861438,
          -102.18906199999999,
          -104.45044,
          -97.621066,
          -89.51592099999999,
          -80.584594,
          -91.19389100000001,
          -95.22211999999999,
          -107.54596000000001,
          -74.26096700000001,
          -87.445436,
          -91.28416999999999,
          -100.83055,
          -97.02193100000001,
          -87.45134,
          -102.638756,
          -94.60325,
          -93.764167,
          -104.414824,
          -107.747355,
          -97.8319,
          -84.1314,
          -95.1871166,
          -103.57379,
          -104.82685699999999,
          -88.298295,
          -102.012261,
          -80.26410600000001,
          -99.00453106,
          -97.00595,
          -119.06305,
          -74.26096700000001,
          -85.84931981,
          -93.95665600000001,
          -96.750348,
          -103.17806999999999,
          -96.762003,
          -93.987564,
          -104.414824,
          -122.23234099999999,
          -102.01668000000001,
          -96.63953000000001,
          -97.467557,
          -91.28204000000001,
          -96.752126,
          -102.43828,
          -100.96095600000001,
          -75.420378,
          -74.240044,
          -92.055463,
          -102.88461099999999,
          -90.9603,
          -75.26061,
          -104.509592,
          -118.272297,
          -92.09123000000001,
          -102.025425,
          -96.518653,
          -119.74096000000002,
          -89.50679699999999,
          -103.60286500000001,
          -101.663676,
          -87.744857,
          -98.44498,
          -96.35816,
          -93.225229,
          -94.009073,
          -97.03784,
          -97.03784,
          -104.352722,
          -96.46764,
          -82.39773199999999,
          -80.73541999999999,
          -104.717467,
          -95.40941600000001,
          -96.755643,
          -97.012587,
          -83.493076,
          -87.44600799999999,
          -96.14941999999999,
          -90.857162,
          -90.594702,
          -90.594702,
          -88.644669,
          -96.74594300000001,
          -94.75926199999999,
          -74.239114,
          -104.414824,
          -89.43181,
          -93.990804,
          -75.4202,
          -100.105372,
          -95.1793,
          -90.79236999999999,
          -95.26018,
          -97.756557,
          -119.81175800000001,
          -98.06368,
          -95.2821,
          -100.048101,
          -95.12961700000001,
          -98.44885,
          -90.68983889,
          -95.181228,
          -95.249282,
          -91.503997,
          -75.4799,
          -94.905644,
          -82.15052800000001,
          -76.573994,
          -103.881937,
          -94.9731575,
          -148.621973,
          -95.017273,
          -119.06454,
          -92.55346,
          -102.2379,
          -76.031436,
          -95.128672,
          -93.27968075,
          -106.40873799999999,
          -98.121511,
          -95.41192,
          -103.81378000000001,
          -97.307781,
          -95.2787,
          -96.760237,
          -76.605211,
          -79.94037,
          -102.790301,
          -89.082089,
          -96.00985,
          -76.55720600000001,
          -89.02108,
          -94.695103,
          -95.128737,
          -97.518923,
          -106.90261000000001,
          -96.8716,
          -108.496528,
          -96.475662,
          -93.99349166,
          -96.985528,
          -94.97769,
          -95.13019399999999,
          -98.48781,
          -95.12934,
          -97.72086800000001,
          -96.47409,
          -97.45456557,
          -96.40109,
          -98.48781,
          -74.25694399999999,
          -89.085639,
          -94.93915,
          -88.049748,
          -96.889483,
          -120.08671399999999,
          -102.43871,
          -98.13716,
          -102.017721,
          -89.065026,
          -102.3365,
          -121.24694099999999,
          -121.54831000000001,
          -102.638984,
          -95.28233,
          -92.29098,
          -96.47409,
          -102.988,
          -145.7665,
          -103.18105,
          -94.6758,
          -91.507267,
          -100.83055,
          -119.70442800000001,
          -85.82549499999999,
          -120.44570700000001,
          -76.605211,
          -104.5573,
          -95.2821,
          -103.18819,
          -96.53671999999999,
          -91.65165833,
          -94.9731575,
          -104.432967,
          -102.137958,
          -108.166073,
          -74.217,
          -83.48496,
          -76.527389,
          -94.699149,
          -88.647391,
          -100.93661999999999,
          -96.93008,
          -95.9728079,
          -104.15236,
          -96.39599,
          -95.24941107,
          -95.24941899999999,
          -105.06790500000001,
          -74.25471999999999,
          -103.562679,
          -96.47357,
          -104.199821,
          -94.60133,
          -90.25267,
          -108.210311,
          -107.10986499999999,
          -98.40713000000001,
          -104.485472,
          -78.23750439,
          -91.04321944,
          -95.22211999999999,
          -98.63654,
          -96.4072,
          -104.22694399999999,
          -89.597838,
          -96.74166,
          -74.25384,
          -81.785888,
          -105.06791000000001,
          -87.94086,
          -89.9367,
          -104.181559,
          -92.842889,
          -102.34579000000001,
          -106.40873799999999,
          -97.44566,
          -90.386475,
          -104.425221,
          -99.03775999999999,
          -83.45352,
          -102.9898,
          -118.222597,
          -92.060556,
          -98.114722,
          -95.1793,
          -94.05766,
          -75.459406,
          -93.30972,
          -98.96588299999999,
          -85.363609,
          -107.74873999999998,
          -111.92776200000002,
          -87.44697,
          -94.056025,
          -14.35583,
          -102.54292,
          -93.41685799999999,
          -94.9113855,
          -102.7692504,
          -91.746802,
          -99.223506,
          -74.25384,
          -97.50371940000001,
          -104.6031611,
          -104.44393000000001,
          -99.761363,
          -102.19236,
          -95.14030600000001,
          -118.91406299999998,
          -93.887943,
          -95.209343,
          -80.73527299999999,
          -92.0645,
          -90.85356999999999,
          -97.78703,
          -104.41659440000001,
          -98.369949,
          -94.715498,
          -87.99195,
          -79.93669,
          -101.168947,
          -94.44736,
          -87.89748,
          -104.31806,
          -104.41678329999999,
          -78.77696,
          -96.642259,
          -122.743195,
          -94.908022,
          -95.127678,
          -103.17194,
          -96.71795726,
          -95.22211999999999,
          -97.5401306,
          -96.47409,
          -95.43135699999999,
          -97.687843,
          -76.412452,
          -80.693831,
          -105.240693,
          -72.58063299999999,
          -94.22179200000001,
          -95.129407,
          -86.409248,
          -92.567084,
          -94.95822,
          -95.20334,
          -96.5137,
          -90.31106,
          -102.02798,
          -83.600044,
          -97.687872,
          -118.225012,
          -121.55485,
          -95.20334,
          -81.68385896,
          -95.20251,
          -118.96542,
          -102.633799,
          -77.435574,
          -87.490022,
          -98.63654,
          -72.580744,
          -98.568937,
          -102.32753000000001,
          -100.05672,
          -95.1793,
          -102.19176999999999,
          -90.9969444,
          -102.460064,
          -119.45596,
          -104.25655,
          -120.45123000000001,
          -84.161907,
          -101.44210600000001,
          -100.83048000000001,
          -93.989175,
          -94.010521,
          -116.021774,
          -93.936008,
          -111.043003,
          -104.41707,
          -80.263559,
          -88.9038,
          -94.111877,
          -104.4166,
          -104.76009,
          -103.743398,
          -104.469536,
          -103.79509,
          -94.67583,
          -75.829062,
          -94.96992,
          -74.256013,
          -74.256013,
          -98.84851,
          -95.20551,
          -89.2332,
          -101.363,
          -93.35175,
          -95.02521999999999,
          -91.275048,
          -84.1272222,
          -94.935211,
          -101.896958,
          -102.016177,
          -95.20455,
          -98.334664,
          -94.85029300000001,
          -94.404044,
          -95.433627,
          -103.17699,
          -94.4075,
          -102.012516,
          -94.41013000000001,
          -104.39071700000001,
          -96.75327,
          -104.51977397,
          -94.78327,
          -104.659061,
          -104.6112278,
          -101.826667,
          -102.76916700000001,
          -84.629407,
          -104.9547281,
          -94.49051,
          -94.271826,
          -100.446363,
          -74.238333,
          -122.7542888,
          -110.814522,
          -121.58745829999998,
          -100.812197,
          -95.432151,
          -97.33609,
          -94.9017,
          -94.93561,
          -110.8225257,
          -110.82225101,
          -93.591633,
          -93.19464,
          -92.901848,
          -95.104507,
          -96.39599,
          -99.875123,
          -110.82014826,
          -93.04889,
          -89.5806,
          -94.041199,
          -78.2375,
          -88.982508,
          -95.20356,
          -97.6054,
          -98.63654,
          -96.663049,
          -99.7153,
          -79.93687,
          -98.1212,
          -94.074072,
          -96.632111,
          -101.978889,
          -91.378703,
          -96.759592,
          -94.00853199999999,
          -104.01825,
          -102.143282,
          -119.042773,
          -119.06351770000002,
          -103.138489,
          -100.83544,
          -95.12879699999999,
          -122.1292343,
          -97.66435,
          -100.445277,
          -97.692603,
          -94.92492,
          -93.52167,
          -97.25506,
          -98.750598,
          -93.987165,
          -102.76849399999999,
          -101.441487,
          -89.16688,
          -89.517286,
          -96.73679,
          -100.844335,
          -90.82982,
          -84.6902,
          -97.83460727,
          -96.02448000000001,
          -74.238058,
          -94.92994300000001,
          -103.52274,
          -103.139764,
          -96.74821999999999,
          -95.634147,
          -107.8231666,
          -106.023817,
          -74.11059499999999,
          -119.55978999999999,
          -103.9325,
          -75.1379,
          -98.533735,
          -102.03148900000001,
          -87.950772,
          -95.20334,
          -101.44,
          -86.803177,
          -94.054261,
          -94.21708000000001,
          -101.353026,
          -85.850245,
          -87.179142,
          -79.93512,
          -102.8791,
          -94.058079,
          -97.113141,
          -104.30346,
          -91.169104,
          -87.88660279999999,
          -86.75917,
          -147.38633000000002,
          -92.05718,
          -96.4742,
          -84.12751,
          -102.192539,
          -104.31971,
          -118.209047,
          -94.054261,
          -77.70980577,
          -84.22265300000001,
          -94.055864,
          -100.24492,
          -104.1339,
          -101.35789399999999,
          -91.647847,
          -102.44847,
          -96.76295999999999,
          -96.47442,
          -73.944998,
          -89.678549,
          -96.79346,
          -98.42846800000001,
          -87.28405699999999,
          -96.740879,
          -90.0150778,
          -74.21945,
          -74.24035,
          -96.74566300000001,
          -97.49,
          -74.10953,
          -108.7912,
          -75.256348,
          -81.99524170000001,
          -93.38114,
          -74.10840926,
          -74.11015157,
          -98.42846800000001,
          -91.792114,
          -118.21399699999999,
          -83.898977,
          -94.05379599999999,
          -94.14222,
          -75.57010799999999,
          -94.25998,
          -94.908022,
          -119.808998,
          -103.81378000000001,
          -73.89993100000001,
          -91.70938000000001,
          -96.75978,
          -94.811151,
          -95.41198,
          -87.988991,
          -94.967825,
          -88.18611999999999,
          -103.02299412,
          -102.520163,
          -104.51255,
          -96.88275,
          -90.7764,
          -122.05546499999998,
          -94.057583,
          -80.25989100000001,
          -100.59471140000001,
          -104.51255,
          -96.3568,
          -96.754056,
          -104.69196,
          -99.223506,
          -95.35229277,
          -97.45925799999999,
          -99.132413,
          -74.256013,
          -103.17817099999999,
          -100.59178100000001,
          -94.9945,
          -96.02161,
          -98.08712,
          -98.439387,
          -95.433298,
          -85.4649,
          -87.85166,
          -120.433842,
          -90.8566,
          -103.67049,
          -97.204444,
          -150.662681,
          -102.719861,
          -101.54602,
          -102.751036,
          -98.63620999999999,
          -91.2576912,
          -97.5036,
          -91.13616,
          -74.091888,
          -98.68256099999999,
          -102.01499799999999,
          -90.775614,
          -96.0299,
          -103.499971,
          -101.27111,
          -101.8809,
          -118.203322,
          -93.32611,
          -87.90508,
          -87.91559000000001,
          -98.26765879999999,
          -102.738899,
          -93.52198,
          -98.84963,
          -95.130697,
          -75.495014,
          -104.58069,
          -90.844778,
          -74.119835,
          -95.178747,
          -94.93975999999999,
          -97.197331,
          -95.20456999999999,
          -74.23521,
          -102.016355,
          -121.55971000000001,
          -90.322616,
          -95.430279,
          -96.35539,
          -95.016202,
          -104.35651109999999,
          -93.01369,
          -99.3837,
          -96.759629,
          -97.765209,
          -95.80720600000001,
          -75.418525,
          -74.21226,
          -118.252843,
          -118.99226999999999,
          -83.63941,
          -95.27929,
          -104.557182,
          -87.795604,
          -95.13221999999999,
          -95.22211999999999,
          -86.138879,
          -97.37462,
          -95.182757,
          -96.41445,
          -81.410174,
          -99.12959000000001,
          -96.05064,
          -119.2748,
          -112.354933,
          -95.14234,
          -118.272297,
          -94.40048,
          -98.08785,
          -99.14065,
          -118.216752,
          -95.988297,
          -99.221245,
          -101.75739499999999,
          -102.5044111,
          -95.04155,
          -96.737218,
          -94.892601,
          -119.25846999999999,
          -93.99386,
          -91.565859,
          -94.02590500000001,
          -84.22265300000001,
          -91.191888,
          -103.17733299999999,
          -94.40758000000001,
          -101.922341,
          -98.54305,
          -77.61972897,
          -98.90041,
          -96.202772,
          -101.33655999999999,
          -104.24799,
          -104.60941,
          -91.11627370000001,
          -102.013542,
          -95.0312,
          -94.89814399999999,
          -96.5543421,
          -94.955487,
          -86.833862,
          -87.462351,
          -96.47586,
          -95.01274599999999,
          -101.88169599999999,
          -96.02963000000001,
          -102.013363,
          -158.0937,
          -89.08331899999999,
          -118.10183,
          -118.164425,
          -96.100507,
          -102.67448,
          -95.07033333,
          -97.02436,
          -95.143291,
          -119.3169,
          -95.02538,
          -108.485419,
          -103.7683,
          -91.20275,
          -96.47929,
          -102.675917,
          -100.830396,
          -103.545923,
          -84.11739,
          -103.80908000000001,
          -98.726775,
          -95.0414,
          -91.532241,
          -118.21009099999999,
          -96.678846,
          -91.275048,
          -104.39071700000001,
          -90.78806999999999,
          -92.29089,
          -94.01228,
          -119.682456,
          -122.74288,
          -98.49067,
          -94.01228,
          -85.370262,
          -94.89520300000001,
          -78.402961,
          -92.70125,
          -117.366844,
          -91.164132,
          -108.47914499999999,
          -74.11810799999999,
          -81.87416999999999,
          -103.98748499999999,
          -102.01570500000001,
          -96.714602,
          -95.27905,
          -89.528868,
          -94.83639000000001,
          -95.20334,
          -94.06836,
          -98.212383,
          -97.756715,
          -96.626644,
          -89.8076,
          -102.00725,
          -95.22211999999999,
          -106.209621,
          -98.716749,
          -74.25343000000001,
          -94.39876,
          -102.046952,
          -86.916634,
          -100.35862,
          -98.40472,
          -103.9874,
          -104.0294472,
          -107.13165,
          -97.5079139,
          -96.5786369,
          -84.62935999999999,
          -95.49514204,
          -84.80250699999999,
          -94.97073,
          -100.920509,
          -96.20295,
          -83.471285,
          -102.188698,
          -96.257299,
          -98.562914,
          -95.49514204,
          -104.83589,
          -96.01371999999999,
          -101.757222,
          -95.27892,
          -74.240296,
          -89.519143,
          -93.94540266,
          -97.501889,
          -103.333574,
          -95.12756800000001,
          -91.275048,
          -103.79157,
          -94.895224,
          -91.275048,
          -94.86,
          -75.495014,
          -107.872722,
          -104.42873900000001,
          -97.367437,
          -104.414856,
          -100.58349,
          -98.57121500000001,
          -77.446096,
          -96.24944,
          -84.10883000000001,
          -97.403012,
          -97.28072220000001,
          -93.762975,
          -76.91226800000001,
          -96.74920300000001,
          -98.53392099999999,
          -98.69124000000001,
          -80.44055300000001,
          -96.47049,
          -101.73841,
          -93.986846,
          -87.006137,
          -89.929906,
          -105.40839,
          -91.203808,
          -95.20147,
          -122.370318,
          -112.47657099999999,
          -74.260283,
          -102.19236,
          -95.128159,
          -95.28304,
          -98.85799999999999,
          -78.9279,
          -95.20334,
          -91.32391199999999,
          -82.717585,
          -88.689864,
          -117.366844,
          -98.311832,
          -101.057856,
          -74.11977753,
          -98.462778,
          -97.50026,
          -102.77773,
          -102.01803000000001,
          -102.975571,
          -98.163536,
          -118.7169,
          -94.69171307,
          -91.275048,
          -94.00944444,
          -95.632929,
          -94.718594,
          -92.352025,
          -104.41595,
          -90.08621099999999,
          -103.368344,
          -94.40156,
          -82.12700000000001,
          -94.811713,
          -95.732612,
          -104.4469,
          -95.28466,
          -94.8926,
          -94.892437,
          -77.458875,
          -100.86995999999999,
          -98.103002,
          -84.125869,
          -74.21945,
          -102.604223,
          -101.51411999999999,
          -96.60748000000001,
          -92.55922,
          -96.60748000000001,
          -85.862792,
          -92.840164,
          -95.184793,
          -98.62476600000001,
          -102.91920999999999,
          -93.48605500000001,
          -91.274491,
          -96.45495600000001,
          -80.440463,
          -97.400301
         ],
         "marker": {
          "color": "fuchsia"
         },
         "mode": "markers",
         "name": "",
         "showlegend": false,
         "subplot": "mapbox",
         "type": "scattermapbox"
        }
       ],
       "layout": {
        "height": 500,
        "legend": {
         "tracegroupgap": 0
        },
        "mapbox": {
         "center": {
          "lat": 35.78160797182459,
          "lon": -95.68269070063654
         },
         "domain": {
          "x": [
           0,
           1
          ],
          "y": [
           0,
           1
          ]
         },
         "style": "open-street-map",
         "zoom": 3
        },
        "margin": {
         "b": 0,
         "l": 0,
         "r": 0,
         "t": 0
        },
        "template": {
         "data": {
          "bar": [
           {
            "error_x": {
             "color": "#2a3f5f"
            },
            "error_y": {
             "color": "#2a3f5f"
            },
            "marker": {
             "line": {
              "color": "#E5ECF6",
              "width": 0.5
             }
            },
            "type": "bar"
           }
          ],
          "barpolar": [
           {
            "marker": {
             "line": {
              "color": "#E5ECF6",
              "width": 0.5
             }
            },
            "type": "barpolar"
           }
          ],
          "carpet": [
           {
            "aaxis": {
             "endlinecolor": "#2a3f5f",
             "gridcolor": "white",
             "linecolor": "white",
             "minorgridcolor": "white",
             "startlinecolor": "#2a3f5f"
            },
            "baxis": {
             "endlinecolor": "#2a3f5f",
             "gridcolor": "white",
             "linecolor": "white",
             "minorgridcolor": "white",
             "startlinecolor": "#2a3f5f"
            },
            "type": "carpet"
           }
          ],
          "choropleth": [
           {
            "colorbar": {
             "outlinewidth": 0,
             "ticks": ""
            },
            "type": "choropleth"
           }
          ],
          "contour": [
           {
            "colorbar": {
             "outlinewidth": 0,
             "ticks": ""
            },
            "colorscale": [
             [
              0,
              "#0d0887"
             ],
             [
              0.1111111111111111,
              "#46039f"
             ],
             [
              0.2222222222222222,
              "#7201a8"
             ],
             [
              0.3333333333333333,
              "#9c179e"
             ],
             [
              0.4444444444444444,
              "#bd3786"
             ],
             [
              0.5555555555555556,
              "#d8576b"
             ],
             [
              0.6666666666666666,
              "#ed7953"
             ],
             [
              0.7777777777777778,
              "#fb9f3a"
             ],
             [
              0.8888888888888888,
              "#fdca26"
             ],
             [
              1,
              "#f0f921"
             ]
            ],
            "type": "contour"
           }
          ],
          "contourcarpet": [
           {
            "colorbar": {
             "outlinewidth": 0,
             "ticks": ""
            },
            "type": "contourcarpet"
           }
          ],
          "heatmap": [
           {
            "colorbar": {
             "outlinewidth": 0,
             "ticks": ""
            },
            "colorscale": [
             [
              0,
              "#0d0887"
             ],
             [
              0.1111111111111111,
              "#46039f"
             ],
             [
              0.2222222222222222,
              "#7201a8"
             ],
             [
              0.3333333333333333,
              "#9c179e"
             ],
             [
              0.4444444444444444,
              "#bd3786"
             ],
             [
              0.5555555555555556,
              "#d8576b"
             ],
             [
              0.6666666666666666,
              "#ed7953"
             ],
             [
              0.7777777777777778,
              "#fb9f3a"
             ],
             [
              0.8888888888888888,
              "#fdca26"
             ],
             [
              1,
              "#f0f921"
             ]
            ],
            "type": "heatmap"
           }
          ],
          "heatmapgl": [
           {
            "colorbar": {
             "outlinewidth": 0,
             "ticks": ""
            },
            "colorscale": [
             [
              0,
              "#0d0887"
             ],
             [
              0.1111111111111111,
              "#46039f"
             ],
             [
              0.2222222222222222,
              "#7201a8"
             ],
             [
              0.3333333333333333,
              "#9c179e"
             ],
             [
              0.4444444444444444,
              "#bd3786"
             ],
             [
              0.5555555555555556,
              "#d8576b"
             ],
             [
              0.6666666666666666,
              "#ed7953"
             ],
             [
              0.7777777777777778,
              "#fb9f3a"
             ],
             [
              0.8888888888888888,
              "#fdca26"
             ],
             [
              1,
              "#f0f921"
             ]
            ],
            "type": "heatmapgl"
           }
          ],
          "histogram": [
           {
            "marker": {
             "colorbar": {
              "outlinewidth": 0,
              "ticks": ""
             }
            },
            "type": "histogram"
           }
          ],
          "histogram2d": [
           {
            "colorbar": {
             "outlinewidth": 0,
             "ticks": ""
            },
            "colorscale": [
             [
              0,
              "#0d0887"
             ],
             [
              0.1111111111111111,
              "#46039f"
             ],
             [
              0.2222222222222222,
              "#7201a8"
             ],
             [
              0.3333333333333333,
              "#9c179e"
             ],
             [
              0.4444444444444444,
              "#bd3786"
             ],
             [
              0.5555555555555556,
              "#d8576b"
             ],
             [
              0.6666666666666666,
              "#ed7953"
             ],
             [
              0.7777777777777778,
              "#fb9f3a"
             ],
             [
              0.8888888888888888,
              "#fdca26"
             ],
             [
              1,
              "#f0f921"
             ]
            ],
            "type": "histogram2d"
           }
          ],
          "histogram2dcontour": [
           {
            "colorbar": {
             "outlinewidth": 0,
             "ticks": ""
            },
            "colorscale": [
             [
              0,
              "#0d0887"
             ],
             [
              0.1111111111111111,
              "#46039f"
             ],
             [
              0.2222222222222222,
              "#7201a8"
             ],
             [
              0.3333333333333333,
              "#9c179e"
             ],
             [
              0.4444444444444444,
              "#bd3786"
             ],
             [
              0.5555555555555556,
              "#d8576b"
             ],
             [
              0.6666666666666666,
              "#ed7953"
             ],
             [
              0.7777777777777778,
              "#fb9f3a"
             ],
             [
              0.8888888888888888,
              "#fdca26"
             ],
             [
              1,
              "#f0f921"
             ]
            ],
            "type": "histogram2dcontour"
           }
          ],
          "mesh3d": [
           {
            "colorbar": {
             "outlinewidth": 0,
             "ticks": ""
            },
            "type": "mesh3d"
           }
          ],
          "parcoords": [
           {
            "line": {
             "colorbar": {
              "outlinewidth": 0,
              "ticks": ""
             }
            },
            "type": "parcoords"
           }
          ],
          "pie": [
           {
            "automargin": true,
            "type": "pie"
           }
          ],
          "scatter": [
           {
            "marker": {
             "colorbar": {
              "outlinewidth": 0,
              "ticks": ""
             }
            },
            "type": "scatter"
           }
          ],
          "scatter3d": [
           {
            "line": {
             "colorbar": {
              "outlinewidth": 0,
              "ticks": ""
             }
            },
            "marker": {
             "colorbar": {
              "outlinewidth": 0,
              "ticks": ""
             }
            },
            "type": "scatter3d"
           }
          ],
          "scattercarpet": [
           {
            "marker": {
             "colorbar": {
              "outlinewidth": 0,
              "ticks": ""
             }
            },
            "type": "scattercarpet"
           }
          ],
          "scattergeo": [
           {
            "marker": {
             "colorbar": {
              "outlinewidth": 0,
              "ticks": ""
             }
            },
            "type": "scattergeo"
           }
          ],
          "scattergl": [
           {
            "marker": {
             "colorbar": {
              "outlinewidth": 0,
              "ticks": ""
             }
            },
            "type": "scattergl"
           }
          ],
          "scattermapbox": [
           {
            "marker": {
             "colorbar": {
              "outlinewidth": 0,
              "ticks": ""
             }
            },
            "type": "scattermapbox"
           }
          ],
          "scatterpolar": [
           {
            "marker": {
             "colorbar": {
              "outlinewidth": 0,
              "ticks": ""
             }
            },
            "type": "scatterpolar"
           }
          ],
          "scatterpolargl": [
           {
            "marker": {
             "colorbar": {
              "outlinewidth": 0,
              "ticks": ""
             }
            },
            "type": "scatterpolargl"
           }
          ],
          "scatterternary": [
           {
            "marker": {
             "colorbar": {
              "outlinewidth": 0,
              "ticks": ""
             }
            },
            "type": "scatterternary"
           }
          ],
          "surface": [
           {
            "colorbar": {
             "outlinewidth": 0,
             "ticks": ""
            },
            "colorscale": [
             [
              0,
              "#0d0887"
             ],
             [
              0.1111111111111111,
              "#46039f"
             ],
             [
              0.2222222222222222,
              "#7201a8"
             ],
             [
              0.3333333333333333,
              "#9c179e"
             ],
             [
              0.4444444444444444,
              "#bd3786"
             ],
             [
              0.5555555555555556,
              "#d8576b"
             ],
             [
              0.6666666666666666,
              "#ed7953"
             ],
             [
              0.7777777777777778,
              "#fb9f3a"
             ],
             [
              0.8888888888888888,
              "#fdca26"
             ],
             [
              1,
              "#f0f921"
             ]
            ],
            "type": "surface"
           }
          ],
          "table": [
           {
            "cells": {
             "fill": {
              "color": "#EBF0F8"
             },
             "line": {
              "color": "white"
             }
            },
            "header": {
             "fill": {
              "color": "#C8D4E3"
             },
             "line": {
              "color": "white"
             }
            },
            "type": "table"
           }
          ]
         },
         "layout": {
          "annotationdefaults": {
           "arrowcolor": "#2a3f5f",
           "arrowhead": 0,
           "arrowwidth": 1
          },
          "coloraxis": {
           "colorbar": {
            "outlinewidth": 0,
            "ticks": ""
           }
          },
          "colorscale": {
           "diverging": [
            [
             0,
             "#8e0152"
            ],
            [
             0.1,
             "#c51b7d"
            ],
            [
             0.2,
             "#de77ae"
            ],
            [
             0.3,
             "#f1b6da"
            ],
            [
             0.4,
             "#fde0ef"
            ],
            [
             0.5,
             "#f7f7f7"
            ],
            [
             0.6,
             "#e6f5d0"
            ],
            [
             0.7,
             "#b8e186"
            ],
            [
             0.8,
             "#7fbc41"
            ],
            [
             0.9,
             "#4d9221"
            ],
            [
             1,
             "#276419"
            ]
           ],
           "sequential": [
            [
             0,
             "#0d0887"
            ],
            [
             0.1111111111111111,
             "#46039f"
            ],
            [
             0.2222222222222222,
             "#7201a8"
            ],
            [
             0.3333333333333333,
             "#9c179e"
            ],
            [
             0.4444444444444444,
             "#bd3786"
            ],
            [
             0.5555555555555556,
             "#d8576b"
            ],
            [
             0.6666666666666666,
             "#ed7953"
            ],
            [
             0.7777777777777778,
             "#fb9f3a"
            ],
            [
             0.8888888888888888,
             "#fdca26"
            ],
            [
             1,
             "#f0f921"
            ]
           ],
           "sequentialminus": [
            [
             0,
             "#0d0887"
            ],
            [
             0.1111111111111111,
             "#46039f"
            ],
            [
             0.2222222222222222,
             "#7201a8"
            ],
            [
             0.3333333333333333,
             "#9c179e"
            ],
            [
             0.4444444444444444,
             "#bd3786"
            ],
            [
             0.5555555555555556,
             "#d8576b"
            ],
            [
             0.6666666666666666,
             "#ed7953"
            ],
            [
             0.7777777777777778,
             "#fb9f3a"
            ],
            [
             0.8888888888888888,
             "#fdca26"
            ],
            [
             1,
             "#f0f921"
            ]
           ]
          },
          "colorway": [
           "#636efa",
           "#EF553B",
           "#00cc96",
           "#ab63fa",
           "#FFA15A",
           "#19d3f3",
           "#FF6692",
           "#B6E880",
           "#FF97FF",
           "#FECB52"
          ],
          "font": {
           "color": "#2a3f5f"
          },
          "geo": {
           "bgcolor": "white",
           "lakecolor": "white",
           "landcolor": "#E5ECF6",
           "showlakes": true,
           "showland": true,
           "subunitcolor": "white"
          },
          "hoverlabel": {
           "align": "left"
          },
          "hovermode": "closest",
          "mapbox": {
           "style": "light"
          },
          "paper_bgcolor": "white",
          "plot_bgcolor": "#E5ECF6",
          "polar": {
           "angularaxis": {
            "gridcolor": "white",
            "linecolor": "white",
            "ticks": ""
           },
           "bgcolor": "#E5ECF6",
           "radialaxis": {
            "gridcolor": "white",
            "linecolor": "white",
            "ticks": ""
           }
          },
          "scene": {
           "xaxis": {
            "backgroundcolor": "#E5ECF6",
            "gridcolor": "white",
            "gridwidth": 2,
            "linecolor": "white",
            "showbackground": true,
            "ticks": "",
            "zerolinecolor": "white"
           },
           "yaxis": {
            "backgroundcolor": "#E5ECF6",
            "gridcolor": "white",
            "gridwidth": 2,
            "linecolor": "white",
            "showbackground": true,
            "ticks": "",
            "zerolinecolor": "white"
           },
           "zaxis": {
            "backgroundcolor": "#E5ECF6",
            "gridcolor": "white",
            "gridwidth": 2,
            "linecolor": "white",
            "showbackground": true,
            "ticks": "",
            "zerolinecolor": "white"
           }
          },
          "shapedefaults": {
           "line": {
            "color": "#2a3f5f"
           }
          },
          "ternary": {
           "aaxis": {
            "gridcolor": "white",
            "linecolor": "white",
            "ticks": ""
           },
           "baxis": {
            "gridcolor": "white",
            "linecolor": "white",
            "ticks": ""
           },
           "bgcolor": "#E5ECF6",
           "caxis": {
            "gridcolor": "white",
            "linecolor": "white",
            "ticks": ""
           }
          },
          "title": {
           "x": 0.05
          },
          "xaxis": {
           "automargin": true,
           "gridcolor": "white",
           "linecolor": "white",
           "ticks": "",
           "title": {
            "standoff": 15
           },
           "zerolinecolor": "white",
           "zerolinewidth": 2
          },
          "yaxis": {
           "automargin": true,
           "gridcolor": "white",
           "linecolor": "white",
           "ticks": "",
           "title": {
            "standoff": 15
           },
           "zerolinecolor": "white",
           "zerolinewidth": 2
          }
         }
        }
       }
      }
     },
     "metadata": {},
     "output_type": "display_data"
    }
   ],
   "source": [
    "fig = px.scatter_mapbox(df_scatter, lat=\"Accident Latitude\", \n",
    "                        lon=\"Accident Longitude\", \n",
    "                        hover_name=\"Pipeline/Facility Name\",\n",
    "                        hover_data=[\"Accident Date/Time\",\n",
    "                                    \"Accident City\",\n",
    "                                    'Pipeline Type'],\n",
    "                        color_discrete_sequence=[\"fuchsia\"],\n",
    "                        zoom=3, height=500)\n",
    "\n",
    "fig.update_layout(mapbox_style=\"open-street-map\")\n",
    "fig.update_layout(margin={\"r\":0,\"t\":0,\"l\":0,\"b\":0})\n",
    "fig.show()"
   ]
  },
  {
   "cell_type": "markdown",
   "metadata": {},
   "source": [
    "## (3) What is the net loss of each state?"
   ]
  },
  {
   "cell_type": "code",
   "execution_count": 17,
   "metadata": {
    "collapsed": true
   },
   "outputs": [],
   "source": [
    "df_bystate = df\n",
    "df_bystate = df_scatter.groupby('Accident State').agg('count')['Pipeline Type']\n",
    "df_bystate = df_bystate.reset_index()\n",
    "df_bystate = df_bystate.rename(columns={\"Pipeline Type\": \"Number of Accidents\"})"
   ]
  },
  {
   "cell_type": "code",
   "execution_count": 18,
   "metadata": {
    "collapsed": false
   },
   "outputs": [],
   "source": [
    "columns = ['Net Loss (Barrels)','All Costs']\n",
    "df_bystate = df.groupby('Accident State').agg(['sum','count'])\n",
    "df_bystate = df_bystate[columns]\n",
    "df_bystate['Number of Accident'] = df_bystate['Net Loss (Barrels)']['count']\n",
    "df_bystate['Num Barrels Lost'] = df_bystate['Net Loss (Barrels)']['sum'].apply(lambda x: round(x,2))\n",
    "df_bystate['Loss (million USD)'] = (df_bystate['All Costs']['sum']/(1000000)).apply(lambda x: round(x,2))\n",
    "df_bystate = df_bystate.drop(columns=columns,axis=1)\n",
    "df_bystate = df_bystate.reset_index()"
   ]
  },
  {
   "cell_type": "code",
   "execution_count": 19,
   "metadata": {
    "collapsed": false
   },
   "outputs": [
    {
     "data": {
      "text/html": [
       "<div>\n",
       "<style scoped>\n",
       "    .dataframe tbody tr th:only-of-type {\n",
       "        vertical-align: middle;\n",
       "    }\n",
       "\n",
       "    .dataframe tbody tr th {\n",
       "        vertical-align: top;\n",
       "    }\n",
       "\n",
       "    .dataframe thead tr th {\n",
       "        text-align: left;\n",
       "    }\n",
       "</style>\n",
       "<table border=\"1\" class=\"dataframe\">\n",
       "  <thead>\n",
       "    <tr>\n",
       "      <th></th>\n",
       "      <th>Accident State</th>\n",
       "      <th>Number of Accident</th>\n",
       "      <th>Num Barrels Lost</th>\n",
       "      <th>Loss (million USD)</th>\n",
       "    </tr>\n",
       "    <tr>\n",
       "      <th></th>\n",
       "      <th></th>\n",
       "      <th></th>\n",
       "      <th></th>\n",
       "      <th></th>\n",
       "    </tr>\n",
       "  </thead>\n",
       "  <tbody>\n",
       "    <tr>\n",
       "      <th>0</th>\n",
       "      <td>0</td>\n",
       "      <td>12</td>\n",
       "      <td>8.92</td>\n",
       "      <td>9.60</td>\n",
       "    </tr>\n",
       "    <tr>\n",
       "      <th>1</th>\n",
       "      <td>AK</td>\n",
       "      <td>11</td>\n",
       "      <td>1119.00</td>\n",
       "      <td>48.85</td>\n",
       "    </tr>\n",
       "    <tr>\n",
       "      <th>2</th>\n",
       "      <td>AL</td>\n",
       "      <td>21</td>\n",
       "      <td>10313.63</td>\n",
       "      <td>72.24</td>\n",
       "    </tr>\n",
       "    <tr>\n",
       "      <th>3</th>\n",
       "      <td>AR</td>\n",
       "      <td>13</td>\n",
       "      <td>1395.33</td>\n",
       "      <td>96.66</td>\n",
       "    </tr>\n",
       "    <tr>\n",
       "      <th>4</th>\n",
       "      <td>CA</td>\n",
       "      <td>153</td>\n",
       "      <td>3389.57</td>\n",
       "      <td>192.08</td>\n",
       "    </tr>\n",
       "  </tbody>\n",
       "</table>\n",
       "</div>"
      ],
      "text/plain": [
       "  Accident State Number of Accident Num Barrels Lost Loss (million USD)\n",
       "                                                                       \n",
       "0              0                 12             8.92               9.60\n",
       "1             AK                 11          1119.00              48.85\n",
       "2             AL                 21         10313.63              72.24\n",
       "3             AR                 13          1395.33              96.66\n",
       "4             CA                153          3389.57             192.08"
      ]
     },
     "execution_count": 19,
     "metadata": {},
     "output_type": "execute_result"
    }
   ],
   "source": [
    "df_bystate.head()"
   ]
  },
  {
   "cell_type": "code",
   "execution_count": 20,
   "metadata": {
    "collapsed": false
   },
   "outputs": [
    {
     "data": {
      "text/html": [
       "<div>\n",
       "<style scoped>\n",
       "    .dataframe tbody tr th:only-of-type {\n",
       "        vertical-align: middle;\n",
       "    }\n",
       "\n",
       "    .dataframe tbody tr th {\n",
       "        vertical-align: top;\n",
       "    }\n",
       "\n",
       "    .dataframe thead tr th {\n",
       "        text-align: left;\n",
       "    }\n",
       "</style>\n",
       "<table border=\"1\" class=\"dataframe\">\n",
       "  <thead>\n",
       "    <tr>\n",
       "      <th></th>\n",
       "      <th>Accident State</th>\n",
       "      <th>Number of Accident</th>\n",
       "      <th>Num Barrels Lost</th>\n",
       "      <th>Loss (million USD)</th>\n",
       "    </tr>\n",
       "    <tr>\n",
       "      <th></th>\n",
       "      <th></th>\n",
       "      <th></th>\n",
       "      <th></th>\n",
       "      <th></th>\n",
       "    </tr>\n",
       "  </thead>\n",
       "  <tbody>\n",
       "    <tr>\n",
       "      <th>20</th>\n",
       "      <td>MI</td>\n",
       "      <td>29</td>\n",
       "      <td>5355.17</td>\n",
       "      <td>883.60</td>\n",
       "    </tr>\n",
       "    <tr>\n",
       "      <th>4</th>\n",
       "      <td>CA</td>\n",
       "      <td>153</td>\n",
       "      <td>3389.57</td>\n",
       "      <td>192.08</td>\n",
       "    </tr>\n",
       "    <tr>\n",
       "      <th>40</th>\n",
       "      <td>TX</td>\n",
       "      <td>1004</td>\n",
       "      <td>135579.99</td>\n",
       "      <td>184.75</td>\n",
       "    </tr>\n",
       "    <tr>\n",
       "      <th>24</th>\n",
       "      <td>MT</td>\n",
       "      <td>30</td>\n",
       "      <td>2633.33</td>\n",
       "      <td>145.67</td>\n",
       "    </tr>\n",
       "    <tr>\n",
       "      <th>12</th>\n",
       "      <td>IL</td>\n",
       "      <td>108</td>\n",
       "      <td>26316.92</td>\n",
       "      <td>120.73</td>\n",
       "    </tr>\n",
       "  </tbody>\n",
       "</table>\n",
       "</div>"
      ],
      "text/plain": [
       "   Accident State Number of Accident Num Barrels Lost Loss (million USD)\n",
       "                                                                        \n",
       "20             MI                 29          5355.17             883.60\n",
       "4              CA                153          3389.57             192.08\n",
       "40             TX               1004        135579.99             184.75\n",
       "24             MT                 30          2633.33             145.67\n",
       "12             IL                108         26316.92             120.73"
      ]
     },
     "execution_count": 20,
     "metadata": {},
     "output_type": "execute_result"
    }
   ],
   "source": [
    "k = df_bystate.sort_values(by='Loss (million USD)',ascending=False)\n",
    "k.head()"
   ]
  },
  {
   "cell_type": "code",
   "execution_count": 23,
   "metadata": {
    "collapsed": false
   },
   "outputs": [],
   "source": [
    "for col in df_bystate.columns:\n",
    "    df_bystate[col] = df_bystate[col].astype(str)\n",
    "df_bystate['text'] = df_bystate['Accident State'] + '<br>' + 'Number of Accident: ' + df_bystate['Number of Accident']+ '<br>' + 'Num Barrels Lost: ' + df_bystate['Num Barrels Lost']"
   ]
  },
  {
   "cell_type": "code",
   "execution_count": 24,
   "metadata": {
    "collapsed": false
   },
   "outputs": [
    {
     "data": {
      "application/vnd.plotly.v1+json": {
       "config": {
        "plotlyServerURL": "https://plot.ly"
       },
       "data": [
        {
         "colorbar": {
          "title": {
           "text": "Net Loss (million of USD)"
          }
         },
         "colorscale": [
          [
           0,
           "rgb(255,245,240)"
          ],
          [
           0.125,
           "rgb(254,224,210)"
          ],
          [
           0.25,
           "rgb(252,187,161)"
          ],
          [
           0.375,
           "rgb(252,146,114)"
          ],
          [
           0.5,
           "rgb(251,106,74)"
          ],
          [
           0.625,
           "rgb(239,59,44)"
          ],
          [
           0.75,
           "rgb(203,24,29)"
          ],
          [
           0.875,
           "rgb(165,15,21)"
          ],
          [
           1,
           "rgb(103,0,13)"
          ]
         ],
         "locationmode": "USA-states",
         "locations": [
          "0",
          "AK",
          "AL",
          "AR",
          "CA",
          "CO",
          "CT",
          "FL",
          "GA",
          "HI",
          "IA",
          "ID",
          "IL",
          "IN",
          "KS",
          "KY",
          "LA",
          "MA",
          "MD",
          "ME",
          "MI",
          "MN",
          "MO",
          "MS",
          "MT",
          "NC",
          "ND",
          "NE",
          "NJ",
          "NM",
          "NV",
          "NY",
          "OH",
          "OK",
          "OR",
          "PA",
          "PR",
          "SC",
          "SD",
          "TN",
          "TX",
          "UT",
          "VA",
          "WA",
          "WI",
          "WV",
          "WY"
         ],
         "text": [
          "0<br>Number of Accident: 12<br>Num Barrels Lost: 8.92",
          "AK<br>Number of Accident: 11<br>Num Barrels Lost: 1119.0",
          "AL<br>Number of Accident: 21<br>Num Barrels Lost: 10313.63",
          "AR<br>Number of Accident: 13<br>Num Barrels Lost: 1395.33",
          "CA<br>Number of Accident: 153<br>Num Barrels Lost: 3389.57",
          "CO<br>Number of Accident: 24<br>Num Barrels Lost: 1814.05",
          "CT<br>Number of Accident: 2<br>Num Barrels Lost: 304.0",
          "FL<br>Number of Accident: 7<br>Num Barrels Lost: 722.1",
          "GA<br>Number of Accident: 17<br>Num Barrels Lost: 3150.61",
          "HI<br>Number of Accident: 3<br>Num Barrels Lost: 482.0",
          "IA<br>Number of Accident: 46<br>Num Barrels Lost: 4416.55",
          "ID<br>Number of Accident: 4<br>Num Barrels Lost: 208.71",
          "IL<br>Number of Accident: 108<br>Num Barrels Lost: 26316.92",
          "IN<br>Number of Accident: 57<br>Num Barrels Lost: 1098.28",
          "KS<br>Number of Accident: 150<br>Num Barrels Lost: 7770.54",
          "KY<br>Number of Accident: 14<br>Num Barrels Lost: 59.0",
          "LA<br>Number of Accident: 169<br>Num Barrels Lost: 40439.0",
          "MA<br>Number of Accident: 2<br>Num Barrels Lost: 0.0",
          "MD<br>Number of Accident: 8<br>Num Barrels Lost: 0.57",
          "ME<br>Number of Accident: 1<br>Num Barrels Lost: 0.0",
          "MI<br>Number of Accident: 29<br>Num Barrels Lost: 5355.17",
          "MN<br>Number of Accident: 59<br>Num Barrels Lost: 4855.45",
          "MO<br>Number of Accident: 42<br>Num Barrels Lost: 5867.69",
          "MS<br>Number of Accident: 32<br>Num Barrels Lost: 135.89",
          "MT<br>Number of Accident: 30<br>Num Barrels Lost: 2633.33",
          "NC<br>Number of Accident: 15<br>Num Barrels Lost: 53.3",
          "ND<br>Number of Accident: 49<br>Num Barrels Lost: 19344.35",
          "NE<br>Number of Accident: 22<br>Num Barrels Lost: 4269.85",
          "NJ<br>Number of Accident: 85<br>Num Barrels Lost: 487.41",
          "NM<br>Number of Accident: 57<br>Num Barrels Lost: 5311.67",
          "NV<br>Number of Accident: 1<br>Num Barrels Lost: 0.0",
          "NY<br>Number of Accident: 14<br>Num Barrels Lost: 3610.17",
          "OH<br>Number of Accident: 53<br>Num Barrels Lost: 1333.2",
          "OK<br>Number of Accident: 236<br>Num Barrels Lost: 21156.99",
          "OR<br>Number of Accident: 4<br>Num Barrels Lost: 0.0",
          "PA<br>Number of Accident: 45<br>Num Barrels Lost: 5203.08",
          "PR<br>Number of Accident: 1<br>Num Barrels Lost: 26.0",
          "SC<br>Number of Accident: 16<br>Num Barrels Lost: 4545.41",
          "SD<br>Number of Accident: 9<br>Num Barrels Lost: 50.21",
          "TN<br>Number of Accident: 7<br>Num Barrels Lost: 24.35",
          "TX<br>Number of Accident: 1004<br>Num Barrels Lost: 135579.99",
          "UT<br>Number of Accident: 8<br>Num Barrels Lost: 272.24",
          "VA<br>Number of Accident: 20<br>Num Barrels Lost: 44.14",
          "WA<br>Number of Accident: 8<br>Num Barrels Lost: 1.19",
          "WI<br>Number of Accident: 27<br>Num Barrels Lost: 1548.31",
          "WV<br>Number of Accident: 2<br>Num Barrels Lost: 41970.0",
          "WY<br>Number of Accident: 98<br>Num Barrels Lost: 2794.2"
         ],
         "type": "choropleth",
         "z": [
          9.6,
          48.85,
          72.24,
          96.66,
          192.08,
          3.07,
          2.23,
          5.58,
          2.4,
          2.86,
          11.61,
          0.61,
          120.73,
          35.62,
          18.72,
          3.09,
          116.41,
          0.54,
          0.17,
          0,
          883.6,
          13.84,
          6.15,
          11.84,
          145.67,
          3.45,
          34.57,
          10.9,
          10.11,
          3.94,
          0.04,
          7.56,
          35.72,
          43.45,
          0.11,
          8.74,
          0.49,
          10.8,
          9.82,
          1.47,
          184.75,
          75.03,
          16.06,
          1.62,
          47.1,
          11.83,
          9.37
         ]
        }
       ],
       "layout": {
        "geo": {
         "scope": "usa"
        },
        "template": {
         "data": {
          "bar": [
           {
            "error_x": {
             "color": "#2a3f5f"
            },
            "error_y": {
             "color": "#2a3f5f"
            },
            "marker": {
             "line": {
              "color": "#E5ECF6",
              "width": 0.5
             }
            },
            "type": "bar"
           }
          ],
          "barpolar": [
           {
            "marker": {
             "line": {
              "color": "#E5ECF6",
              "width": 0.5
             }
            },
            "type": "barpolar"
           }
          ],
          "carpet": [
           {
            "aaxis": {
             "endlinecolor": "#2a3f5f",
             "gridcolor": "white",
             "linecolor": "white",
             "minorgridcolor": "white",
             "startlinecolor": "#2a3f5f"
            },
            "baxis": {
             "endlinecolor": "#2a3f5f",
             "gridcolor": "white",
             "linecolor": "white",
             "minorgridcolor": "white",
             "startlinecolor": "#2a3f5f"
            },
            "type": "carpet"
           }
          ],
          "choropleth": [
           {
            "colorbar": {
             "outlinewidth": 0,
             "ticks": ""
            },
            "type": "choropleth"
           }
          ],
          "contour": [
           {
            "colorbar": {
             "outlinewidth": 0,
             "ticks": ""
            },
            "colorscale": [
             [
              0,
              "#0d0887"
             ],
             [
              0.1111111111111111,
              "#46039f"
             ],
             [
              0.2222222222222222,
              "#7201a8"
             ],
             [
              0.3333333333333333,
              "#9c179e"
             ],
             [
              0.4444444444444444,
              "#bd3786"
             ],
             [
              0.5555555555555556,
              "#d8576b"
             ],
             [
              0.6666666666666666,
              "#ed7953"
             ],
             [
              0.7777777777777778,
              "#fb9f3a"
             ],
             [
              0.8888888888888888,
              "#fdca26"
             ],
             [
              1,
              "#f0f921"
             ]
            ],
            "type": "contour"
           }
          ],
          "contourcarpet": [
           {
            "colorbar": {
             "outlinewidth": 0,
             "ticks": ""
            },
            "type": "contourcarpet"
           }
          ],
          "heatmap": [
           {
            "colorbar": {
             "outlinewidth": 0,
             "ticks": ""
            },
            "colorscale": [
             [
              0,
              "#0d0887"
             ],
             [
              0.1111111111111111,
              "#46039f"
             ],
             [
              0.2222222222222222,
              "#7201a8"
             ],
             [
              0.3333333333333333,
              "#9c179e"
             ],
             [
              0.4444444444444444,
              "#bd3786"
             ],
             [
              0.5555555555555556,
              "#d8576b"
             ],
             [
              0.6666666666666666,
              "#ed7953"
             ],
             [
              0.7777777777777778,
              "#fb9f3a"
             ],
             [
              0.8888888888888888,
              "#fdca26"
             ],
             [
              1,
              "#f0f921"
             ]
            ],
            "type": "heatmap"
           }
          ],
          "heatmapgl": [
           {
            "colorbar": {
             "outlinewidth": 0,
             "ticks": ""
            },
            "colorscale": [
             [
              0,
              "#0d0887"
             ],
             [
              0.1111111111111111,
              "#46039f"
             ],
             [
              0.2222222222222222,
              "#7201a8"
             ],
             [
              0.3333333333333333,
              "#9c179e"
             ],
             [
              0.4444444444444444,
              "#bd3786"
             ],
             [
              0.5555555555555556,
              "#d8576b"
             ],
             [
              0.6666666666666666,
              "#ed7953"
             ],
             [
              0.7777777777777778,
              "#fb9f3a"
             ],
             [
              0.8888888888888888,
              "#fdca26"
             ],
             [
              1,
              "#f0f921"
             ]
            ],
            "type": "heatmapgl"
           }
          ],
          "histogram": [
           {
            "marker": {
             "colorbar": {
              "outlinewidth": 0,
              "ticks": ""
             }
            },
            "type": "histogram"
           }
          ],
          "histogram2d": [
           {
            "colorbar": {
             "outlinewidth": 0,
             "ticks": ""
            },
            "colorscale": [
             [
              0,
              "#0d0887"
             ],
             [
              0.1111111111111111,
              "#46039f"
             ],
             [
              0.2222222222222222,
              "#7201a8"
             ],
             [
              0.3333333333333333,
              "#9c179e"
             ],
             [
              0.4444444444444444,
              "#bd3786"
             ],
             [
              0.5555555555555556,
              "#d8576b"
             ],
             [
              0.6666666666666666,
              "#ed7953"
             ],
             [
              0.7777777777777778,
              "#fb9f3a"
             ],
             [
              0.8888888888888888,
              "#fdca26"
             ],
             [
              1,
              "#f0f921"
             ]
            ],
            "type": "histogram2d"
           }
          ],
          "histogram2dcontour": [
           {
            "colorbar": {
             "outlinewidth": 0,
             "ticks": ""
            },
            "colorscale": [
             [
              0,
              "#0d0887"
             ],
             [
              0.1111111111111111,
              "#46039f"
             ],
             [
              0.2222222222222222,
              "#7201a8"
             ],
             [
              0.3333333333333333,
              "#9c179e"
             ],
             [
              0.4444444444444444,
              "#bd3786"
             ],
             [
              0.5555555555555556,
              "#d8576b"
             ],
             [
              0.6666666666666666,
              "#ed7953"
             ],
             [
              0.7777777777777778,
              "#fb9f3a"
             ],
             [
              0.8888888888888888,
              "#fdca26"
             ],
             [
              1,
              "#f0f921"
             ]
            ],
            "type": "histogram2dcontour"
           }
          ],
          "mesh3d": [
           {
            "colorbar": {
             "outlinewidth": 0,
             "ticks": ""
            },
            "type": "mesh3d"
           }
          ],
          "parcoords": [
           {
            "line": {
             "colorbar": {
              "outlinewidth": 0,
              "ticks": ""
             }
            },
            "type": "parcoords"
           }
          ],
          "pie": [
           {
            "automargin": true,
            "type": "pie"
           }
          ],
          "scatter": [
           {
            "marker": {
             "colorbar": {
              "outlinewidth": 0,
              "ticks": ""
             }
            },
            "type": "scatter"
           }
          ],
          "scatter3d": [
           {
            "line": {
             "colorbar": {
              "outlinewidth": 0,
              "ticks": ""
             }
            },
            "marker": {
             "colorbar": {
              "outlinewidth": 0,
              "ticks": ""
             }
            },
            "type": "scatter3d"
           }
          ],
          "scattercarpet": [
           {
            "marker": {
             "colorbar": {
              "outlinewidth": 0,
              "ticks": ""
             }
            },
            "type": "scattercarpet"
           }
          ],
          "scattergeo": [
           {
            "marker": {
             "colorbar": {
              "outlinewidth": 0,
              "ticks": ""
             }
            },
            "type": "scattergeo"
           }
          ],
          "scattergl": [
           {
            "marker": {
             "colorbar": {
              "outlinewidth": 0,
              "ticks": ""
             }
            },
            "type": "scattergl"
           }
          ],
          "scattermapbox": [
           {
            "marker": {
             "colorbar": {
              "outlinewidth": 0,
              "ticks": ""
             }
            },
            "type": "scattermapbox"
           }
          ],
          "scatterpolar": [
           {
            "marker": {
             "colorbar": {
              "outlinewidth": 0,
              "ticks": ""
             }
            },
            "type": "scatterpolar"
           }
          ],
          "scatterpolargl": [
           {
            "marker": {
             "colorbar": {
              "outlinewidth": 0,
              "ticks": ""
             }
            },
            "type": "scatterpolargl"
           }
          ],
          "scatterternary": [
           {
            "marker": {
             "colorbar": {
              "outlinewidth": 0,
              "ticks": ""
             }
            },
            "type": "scatterternary"
           }
          ],
          "surface": [
           {
            "colorbar": {
             "outlinewidth": 0,
             "ticks": ""
            },
            "colorscale": [
             [
              0,
              "#0d0887"
             ],
             [
              0.1111111111111111,
              "#46039f"
             ],
             [
              0.2222222222222222,
              "#7201a8"
             ],
             [
              0.3333333333333333,
              "#9c179e"
             ],
             [
              0.4444444444444444,
              "#bd3786"
             ],
             [
              0.5555555555555556,
              "#d8576b"
             ],
             [
              0.6666666666666666,
              "#ed7953"
             ],
             [
              0.7777777777777778,
              "#fb9f3a"
             ],
             [
              0.8888888888888888,
              "#fdca26"
             ],
             [
              1,
              "#f0f921"
             ]
            ],
            "type": "surface"
           }
          ],
          "table": [
           {
            "cells": {
             "fill": {
              "color": "#EBF0F8"
             },
             "line": {
              "color": "white"
             }
            },
            "header": {
             "fill": {
              "color": "#C8D4E3"
             },
             "line": {
              "color": "white"
             }
            },
            "type": "table"
           }
          ]
         },
         "layout": {
          "annotationdefaults": {
           "arrowcolor": "#2a3f5f",
           "arrowhead": 0,
           "arrowwidth": 1
          },
          "coloraxis": {
           "colorbar": {
            "outlinewidth": 0,
            "ticks": ""
           }
          },
          "colorscale": {
           "diverging": [
            [
             0,
             "#8e0152"
            ],
            [
             0.1,
             "#c51b7d"
            ],
            [
             0.2,
             "#de77ae"
            ],
            [
             0.3,
             "#f1b6da"
            ],
            [
             0.4,
             "#fde0ef"
            ],
            [
             0.5,
             "#f7f7f7"
            ],
            [
             0.6,
             "#e6f5d0"
            ],
            [
             0.7,
             "#b8e186"
            ],
            [
             0.8,
             "#7fbc41"
            ],
            [
             0.9,
             "#4d9221"
            ],
            [
             1,
             "#276419"
            ]
           ],
           "sequential": [
            [
             0,
             "#0d0887"
            ],
            [
             0.1111111111111111,
             "#46039f"
            ],
            [
             0.2222222222222222,
             "#7201a8"
            ],
            [
             0.3333333333333333,
             "#9c179e"
            ],
            [
             0.4444444444444444,
             "#bd3786"
            ],
            [
             0.5555555555555556,
             "#d8576b"
            ],
            [
             0.6666666666666666,
             "#ed7953"
            ],
            [
             0.7777777777777778,
             "#fb9f3a"
            ],
            [
             0.8888888888888888,
             "#fdca26"
            ],
            [
             1,
             "#f0f921"
            ]
           ],
           "sequentialminus": [
            [
             0,
             "#0d0887"
            ],
            [
             0.1111111111111111,
             "#46039f"
            ],
            [
             0.2222222222222222,
             "#7201a8"
            ],
            [
             0.3333333333333333,
             "#9c179e"
            ],
            [
             0.4444444444444444,
             "#bd3786"
            ],
            [
             0.5555555555555556,
             "#d8576b"
            ],
            [
             0.6666666666666666,
             "#ed7953"
            ],
            [
             0.7777777777777778,
             "#fb9f3a"
            ],
            [
             0.8888888888888888,
             "#fdca26"
            ],
            [
             1,
             "#f0f921"
            ]
           ]
          },
          "colorway": [
           "#636efa",
           "#EF553B",
           "#00cc96",
           "#ab63fa",
           "#FFA15A",
           "#19d3f3",
           "#FF6692",
           "#B6E880",
           "#FF97FF",
           "#FECB52"
          ],
          "font": {
           "color": "#2a3f5f"
          },
          "geo": {
           "bgcolor": "white",
           "lakecolor": "white",
           "landcolor": "#E5ECF6",
           "showlakes": true,
           "showland": true,
           "subunitcolor": "white"
          },
          "hoverlabel": {
           "align": "left"
          },
          "hovermode": "closest",
          "mapbox": {
           "style": "light"
          },
          "paper_bgcolor": "white",
          "plot_bgcolor": "#E5ECF6",
          "polar": {
           "angularaxis": {
            "gridcolor": "white",
            "linecolor": "white",
            "ticks": ""
           },
           "bgcolor": "#E5ECF6",
           "radialaxis": {
            "gridcolor": "white",
            "linecolor": "white",
            "ticks": ""
           }
          },
          "scene": {
           "xaxis": {
            "backgroundcolor": "#E5ECF6",
            "gridcolor": "white",
            "gridwidth": 2,
            "linecolor": "white",
            "showbackground": true,
            "ticks": "",
            "zerolinecolor": "white"
           },
           "yaxis": {
            "backgroundcolor": "#E5ECF6",
            "gridcolor": "white",
            "gridwidth": 2,
            "linecolor": "white",
            "showbackground": true,
            "ticks": "",
            "zerolinecolor": "white"
           },
           "zaxis": {
            "backgroundcolor": "#E5ECF6",
            "gridcolor": "white",
            "gridwidth": 2,
            "linecolor": "white",
            "showbackground": true,
            "ticks": "",
            "zerolinecolor": "white"
           }
          },
          "shapedefaults": {
           "line": {
            "color": "#2a3f5f"
           }
          },
          "ternary": {
           "aaxis": {
            "gridcolor": "white",
            "linecolor": "white",
            "ticks": ""
           },
           "baxis": {
            "gridcolor": "white",
            "linecolor": "white",
            "ticks": ""
           },
           "bgcolor": "#E5ECF6",
           "caxis": {
            "gridcolor": "white",
            "linecolor": "white",
            "ticks": ""
           }
          },
          "title": {
           "x": 0.05
          },
          "xaxis": {
           "automargin": true,
           "gridcolor": "white",
           "linecolor": "white",
           "ticks": "",
           "title": {
            "standoff": 15
           },
           "zerolinecolor": "white",
           "zerolinewidth": 2
          },
          "yaxis": {
           "automargin": true,
           "gridcolor": "white",
           "linecolor": "white",
           "ticks": "",
           "title": {
            "standoff": 15
           },
           "zerolinecolor": "white",
           "zerolinewidth": 2
          }
         }
        },
        "title": {
         "text": "Overall Loss (million of USD) by State from 2010-2017"
        }
       }
      }
     },
     "metadata": {},
     "output_type": "display_data"
    }
   ],
   "source": [
    "import plotly.graph_objects as go\n",
    "\n",
    "\n",
    "fig = go.Figure(data=go.Choropleth(\n",
    "    locations=df_bystate['Accident State'], # Spatial coordinates\n",
    "    z = df_bystate['Loss (million USD)'].astype(float), # Data to be color-coded\n",
    "    locationmode = 'USA-states', # set of locations match entries in `locations`\n",
    "    colorscale = 'Reds',\n",
    "    text=df_bystate['text'],\n",
    "    colorbar_title = \"Net Loss (million of USD)\"\n",
    "    \n",
    "))\n",
    "\n",
    "fig.update_layout(\n",
    "    title_text = 'Overall Loss (million of USD) by State from 2010-2017',\n",
    "    geo_scope='usa' # limite map scope to USA\n",
    ")\n",
    "\n",
    "fig.show()"
   ]
  },
  {
   "cell_type": "markdown",
   "metadata": {},
   "source": [
    "## (4) What happened in Michigan?"
   ]
  },
  {
   "cell_type": "code",
   "execution_count": 44,
   "metadata": {
    "collapsed": false
   },
   "outputs": [
    {
     "data": {
      "image/png": "[encoded data removed]",
      "text/plain": [
       "<Figure size 1008x360 with 1 Axes>"
      ]
     },
     "metadata": {},
     "output_type": "display_data"
    }
   ],
   "source": [
    "df_temp = df[df['Accident State']=='MI']\n",
    "df_temp = df_temp.sort_values('datetime')\n",
    "plt.figure(figsize=(14,5))\n",
    "plt.plot(df_temp['datetime'], df_temp['All Costs']/1000000)\n",
    "plt.ylabel('Net loss (million of USD)')\n",
    "plt.show()"
   ]
  },
  {
   "cell_type": "code",
   "execution_count": 26,
   "metadata": {
    "collapsed": false
   },
   "outputs": [
    {
     "data": {
      "text/plain": [
       "(29, 51)"
      ]
     },
     "execution_count": 26,
     "metadata": {},
     "output_type": "execute_result"
    }
   ],
   "source": [
    "df_temp.shape"
   ]
  },
  {
   "cell_type": "code",
   "execution_count": 27,
   "metadata": {
    "collapsed": false
   },
   "outputs": [
    {
     "data": {
      "text/plain": [
       "883604433"
      ]
     },
     "execution_count": 27,
     "metadata": {},
     "output_type": "execute_result"
    }
   ],
   "source": [
    "df_temp['All Costs'].sum()"
   ]
  },
  {
   "cell_type": "code",
   "execution_count": 46,
   "metadata": {
    "collapsed": false
   },
   "outputs": [
    {
     "data": {
      "text/html": [
       "<div>\n",
       "<style scoped>\n",
       "    .dataframe tbody tr th:only-of-type {\n",
       "        vertical-align: middle;\n",
       "    }\n",
       "\n",
       "    .dataframe tbody tr th {\n",
       "        vertical-align: top;\n",
       "    }\n",
       "\n",
       "    .dataframe thead th {\n",
       "        text-align: right;\n",
       "    }\n",
       "</style>\n",
       "<table border=\"1\" class=\"dataframe\">\n",
       "  <thead>\n",
       "    <tr style=\"text-align: right;\">\n",
       "      <th></th>\n",
       "      <th>index</th>\n",
       "      <th>Accident City</th>\n",
       "      <th>datetime</th>\n",
       "      <th>Cause Category</th>\n",
       "      <th>Unintentional Release (Barrels)</th>\n",
       "      <th>Intentional Release (Barrels)</th>\n",
       "      <th>Liquid Recovery (Barrels)</th>\n",
       "      <th>Net Loss (Barrels)</th>\n",
       "      <th>All Costs</th>\n",
       "    </tr>\n",
       "  </thead>\n",
       "  <tbody>\n",
       "    <tr>\n",
       "      <th>0</th>\n",
       "      <td>194</td>\n",
       "      <td>MARSHALL</td>\n",
       "      <td>2010-07-25 17:58:00</td>\n",
       "      <td>MATERIAL/WELD/EQUIP FAILURE</td>\n",
       "      <td>20082.00</td>\n",
       "      <td>0.0</td>\n",
       "      <td>18245.0</td>\n",
       "      <td>1837.00</td>\n",
       "      <td>840526118</td>\n",
       "    </tr>\n",
       "    <tr>\n",
       "      <th>1</th>\n",
       "      <td>457</td>\n",
       "      <td>DANSVILLE</td>\n",
       "      <td>2011-04-13 18:58:00</td>\n",
       "      <td>MATERIAL/WELD/EQUIP FAILURE</td>\n",
       "      <td>9000.00</td>\n",
       "      <td>0.0</td>\n",
       "      <td>6643.0</td>\n",
       "      <td>2357.00</td>\n",
       "      <td>35728903</td>\n",
       "    </tr>\n",
       "    <tr>\n",
       "      <th>2</th>\n",
       "      <td>140</td>\n",
       "      <td>CONSTANTINE</td>\n",
       "      <td>2010-05-29 12:34:00</td>\n",
       "      <td>MATERIAL/WELD/EQUIP FAILURE</td>\n",
       "      <td>2121.00</td>\n",
       "      <td>0.0</td>\n",
       "      <td>1001.0</td>\n",
       "      <td>1120.00</td>\n",
       "      <td>1965246</td>\n",
       "    </tr>\n",
       "    <tr>\n",
       "      <th>3</th>\n",
       "      <td>2562</td>\n",
       "      <td>BANGOR</td>\n",
       "      <td>2016-06-03 12:00:00</td>\n",
       "      <td>OTHER OUTSIDE FORCE DAMAGE</td>\n",
       "      <td>280.00</td>\n",
       "      <td>0.0</td>\n",
       "      <td>280.0</td>\n",
       "      <td>0.00</td>\n",
       "      <td>1418000</td>\n",
       "    </tr>\n",
       "    <tr>\n",
       "      <th>4</th>\n",
       "      <td>1049</td>\n",
       "      <td>WAYNE</td>\n",
       "      <td>2012-12-21 11:00:00</td>\n",
       "      <td>INCORRECT OPERATION</td>\n",
       "      <td>3.00</td>\n",
       "      <td>0.0</td>\n",
       "      <td>3.0</td>\n",
       "      <td>0.00</td>\n",
       "      <td>1216083</td>\n",
       "    </tr>\n",
       "    <tr>\n",
       "      <th>5</th>\n",
       "      <td>103</td>\n",
       "      <td>SAMARIA</td>\n",
       "      <td>2010-04-25 09:00:00</td>\n",
       "      <td>MATERIAL/WELD/EQUIP FAILURE</td>\n",
       "      <td>91.00</td>\n",
       "      <td>0.0</td>\n",
       "      <td>79.0</td>\n",
       "      <td>12.00</td>\n",
       "      <td>1103967</td>\n",
       "    </tr>\n",
       "    <tr>\n",
       "      <th>6</th>\n",
       "      <td>1179</td>\n",
       "      <td>TEMPERANCE</td>\n",
       "      <td>2013-04-01 17:25:00</td>\n",
       "      <td>MATERIAL/WELD/EQUIP FAILURE</td>\n",
       "      <td>2.39</td>\n",
       "      <td>0.0</td>\n",
       "      <td>1.0</td>\n",
       "      <td>1.39</td>\n",
       "      <td>325409</td>\n",
       "    </tr>\n",
       "    <tr>\n",
       "      <th>7</th>\n",
       "      <td>739</td>\n",
       "      <td>STERLING</td>\n",
       "      <td>2012-02-15 14:15:00</td>\n",
       "      <td>MATERIAL/WELD/EQUIP FAILURE</td>\n",
       "      <td>20.00</td>\n",
       "      <td>0.0</td>\n",
       "      <td>20.0</td>\n",
       "      <td>0.00</td>\n",
       "      <td>300000</td>\n",
       "    </tr>\n",
       "    <tr>\n",
       "      <th>8</th>\n",
       "      <td>2249</td>\n",
       "      <td>TEMPERANCE</td>\n",
       "      <td>2015-09-13 18:23:00</td>\n",
       "      <td>MATERIAL/WELD/EQUIP FAILURE</td>\n",
       "      <td>22.00</td>\n",
       "      <td>0.0</td>\n",
       "      <td>22.0</td>\n",
       "      <td>0.00</td>\n",
       "      <td>274700</td>\n",
       "    </tr>\n",
       "    <tr>\n",
       "      <th>9</th>\n",
       "      <td>1889</td>\n",
       "      <td>MANISTIQUE</td>\n",
       "      <td>2014-12-08 09:30:00</td>\n",
       "      <td>MATERIAL/WELD/EQUIP FAILURE</td>\n",
       "      <td>0.00</td>\n",
       "      <td>0.0</td>\n",
       "      <td>0.0</td>\n",
       "      <td>0.00</td>\n",
       "      <td>214500</td>\n",
       "    </tr>\n",
       "  </tbody>\n",
       "</table>\n",
       "</div>"
      ],
      "text/plain": [
       "   index Accident City            datetime               Cause Category  \\\n",
       "0    194      MARSHALL 2010-07-25 17:58:00  MATERIAL/WELD/EQUIP FAILURE   \n",
       "1    457     DANSVILLE 2011-04-13 18:58:00  MATERIAL/WELD/EQUIP FAILURE   \n",
       "2    140  CONSTANTINE  2010-05-29 12:34:00  MATERIAL/WELD/EQUIP FAILURE   \n",
       "3   2562        BANGOR 2016-06-03 12:00:00   OTHER OUTSIDE FORCE DAMAGE   \n",
       "4   1049         WAYNE 2012-12-21 11:00:00          INCORRECT OPERATION   \n",
       "5    103       SAMARIA 2010-04-25 09:00:00  MATERIAL/WELD/EQUIP FAILURE   \n",
       "6   1179    TEMPERANCE 2013-04-01 17:25:00  MATERIAL/WELD/EQUIP FAILURE   \n",
       "7    739      STERLING 2012-02-15 14:15:00  MATERIAL/WELD/EQUIP FAILURE   \n",
       "8   2249    TEMPERANCE 2015-09-13 18:23:00  MATERIAL/WELD/EQUIP FAILURE   \n",
       "9   1889    MANISTIQUE 2014-12-08 09:30:00  MATERIAL/WELD/EQUIP FAILURE   \n",
       "\n",
       "   Unintentional Release (Barrels)  Intentional Release (Barrels)  \\\n",
       "0                         20082.00                            0.0   \n",
       "1                          9000.00                            0.0   \n",
       "2                          2121.00                            0.0   \n",
       "3                           280.00                            0.0   \n",
       "4                             3.00                            0.0   \n",
       "5                            91.00                            0.0   \n",
       "6                             2.39                            0.0   \n",
       "7                            20.00                            0.0   \n",
       "8                            22.00                            0.0   \n",
       "9                             0.00                            0.0   \n",
       "\n",
       "   Liquid Recovery (Barrels)  Net Loss (Barrels)  All Costs  \n",
       "0                    18245.0             1837.00  840526118  \n",
       "1                     6643.0             2357.00   35728903  \n",
       "2                     1001.0             1120.00    1965246  \n",
       "3                      280.0                0.00    1418000  \n",
       "4                        3.0                0.00    1216083  \n",
       "5                       79.0               12.00    1103967  \n",
       "6                        1.0                1.39     325409  \n",
       "7                       20.0                0.00     300000  \n",
       "8                       22.0                0.00     274700  \n",
       "9                        0.0                0.00     214500  "
      ]
     },
     "execution_count": 46,
     "metadata": {},
     "output_type": "execute_result"
    }
   ],
   "source": [
    "df_temp = df_temp.sort_values('All Costs', ascending=False)\n",
    "df_temp[['Accident City','datetime','Cause Category',\n",
    "         'Unintentional Release (Barrels)','Intentional Release (Barrels)',\n",
    "         'Liquid Recovery (Barrels)','Net Loss (Barrels)',\n",
    "         'All Costs' ]].reset_index().head(10)"
   ]
  },
  {
   "cell_type": "code",
   "execution_count": 29,
   "metadata": {
    "collapsed": false
   },
   "outputs": [
    {
     "name": "stdout",
     "output_type": "stream",
     "text": [
      "0.9512470587616438 0.3605670510580793\n"
     ]
    }
   ],
   "source": [
    "# analyze the major leakage\n",
    "a = df_temp.iloc[0]['All Costs']/df_temp['All Costs'].sum()\n",
    "b = df_temp.iloc[0]['All Costs']/df['All Costs'].sum()\n",
    "print(a,b)"
   ]
  },
  {
   "cell_type": "markdown",
   "metadata": {},
   "source": [
    "## (5) What is the main culprit of oil leakages?"
   ]
  },
  {
   "cell_type": "code",
   "execution_count": 52,
   "metadata": {
    "collapsed": false
   },
   "outputs": [
    {
     "data": {
      "text/html": [
       "<div>\n",
       "<style scoped>\n",
       "    .dataframe tbody tr th:only-of-type {\n",
       "        vertical-align: middle;\n",
       "    }\n",
       "\n",
       "    .dataframe tbody tr th {\n",
       "        vertical-align: top;\n",
       "    }\n",
       "\n",
       "    .dataframe thead tr th {\n",
       "        text-align: left;\n",
       "    }\n",
       "</style>\n",
       "<table border=\"1\" class=\"dataframe\">\n",
       "  <thead>\n",
       "    <tr>\n",
       "      <th></th>\n",
       "      <th>Cause Category</th>\n",
       "      <th>Number of Cases</th>\n",
       "      <th>Loss (million USD)</th>\n",
       "      <th>Fatalities</th>\n",
       "    </tr>\n",
       "    <tr>\n",
       "      <th></th>\n",
       "      <th></th>\n",
       "      <th></th>\n",
       "      <th></th>\n",
       "      <th></th>\n",
       "    </tr>\n",
       "  </thead>\n",
       "  <tbody>\n",
       "    <tr>\n",
       "      <th>0</th>\n",
       "      <td>ALL OTHER CAUSES</td>\n",
       "      <td>118</td>\n",
       "      <td>110.82</td>\n",
       "      <td>4.0</td>\n",
       "    </tr>\n",
       "    <tr>\n",
       "      <th>1</th>\n",
       "      <td>CORROSION</td>\n",
       "      <td>592</td>\n",
       "      <td>395.33</td>\n",
       "      <td>0.0</td>\n",
       "    </tr>\n",
       "    <tr>\n",
       "      <th>2</th>\n",
       "      <td>EXCAVATION DAMAGE</td>\n",
       "      <td>97</td>\n",
       "      <td>93.10</td>\n",
       "      <td>1.0</td>\n",
       "    </tr>\n",
       "    <tr>\n",
       "      <th>3</th>\n",
       "      <td>INCORRECT OPERATION</td>\n",
       "      <td>378</td>\n",
       "      <td>106.14</td>\n",
       "      <td>0.0</td>\n",
       "    </tr>\n",
       "    <tr>\n",
       "      <th>4</th>\n",
       "      <td>MATERIAL/WELD/EQUIP FAILURE</td>\n",
       "      <td>1435</td>\n",
       "      <td>1243.77</td>\n",
       "      <td>1.0</td>\n",
       "    </tr>\n",
       "    <tr>\n",
       "      <th>5</th>\n",
       "      <td>NATURAL FORCE DAMAGE</td>\n",
       "      <td>118</td>\n",
       "      <td>220.35</td>\n",
       "      <td>0.0</td>\n",
       "    </tr>\n",
       "    <tr>\n",
       "      <th>6</th>\n",
       "      <td>OTHER OUTSIDE FORCE DAMAGE</td>\n",
       "      <td>57</td>\n",
       "      <td>161.60</td>\n",
       "      <td>4.0</td>\n",
       "    </tr>\n",
       "  </tbody>\n",
       "</table>\n",
       "</div>"
      ],
      "text/plain": [
       "                Cause Category Number of Cases Loss (million USD) Fatalities\n",
       "                                                                            \n",
       "0             ALL OTHER CAUSES             118             110.82        4.0\n",
       "1                    CORROSION             592             395.33        0.0\n",
       "2            EXCAVATION DAMAGE              97              93.10        1.0\n",
       "3          INCORRECT OPERATION             378             106.14        0.0\n",
       "4  MATERIAL/WELD/EQUIP FAILURE            1435            1243.77        1.0\n",
       "5         NATURAL FORCE DAMAGE             118             220.35        0.0\n",
       "6   OTHER OUTSIDE FORCE DAMAGE              57             161.60        4.0"
      ]
     },
     "execution_count": 52,
     "metadata": {},
     "output_type": "execute_result"
    }
   ],
   "source": [
    "df_temp = df.groupby('Cause Category').agg(['count','sum'])[['All Costs','All Fatalities']]\n",
    "df_temp['Number of Cases'] = df_temp['All Costs']['count']\n",
    "df_temp['Loss (million USD)'] = (df_temp['All Costs']['sum']/(1000000)).apply(lambda x: round(x,2))\n",
    "df_temp['Fatalities'] = df_temp['All Fatalities']['sum']\n",
    "df_temp = df_temp.drop(['All Costs','All Fatalities'],axis=1).reset_index()\n",
    "df_temp"
   ]
  },
  {
   "cell_type": "code",
   "execution_count": 50,
   "metadata": {
    "collapsed": false
   },
   "outputs": [
    {
     "data": {
      "text/html": [
       "<div>\n",
       "<style scoped>\n",
       "    .dataframe tbody tr th:only-of-type {\n",
       "        vertical-align: middle;\n",
       "    }\n",
       "\n",
       "    .dataframe tbody tr th {\n",
       "        vertical-align: top;\n",
       "    }\n",
       "\n",
       "    .dataframe thead tr th {\n",
       "        text-align: left;\n",
       "    }\n",
       "</style>\n",
       "<table border=\"1\" class=\"dataframe\">\n",
       "  <thead>\n",
       "    <tr>\n",
       "      <th></th>\n",
       "      <th>Cause Category</th>\n",
       "      <th>Number of Cases</th>\n",
       "      <th>Loss (million USD)</th>\n",
       "      <th>Fatalities</th>\n",
       "    </tr>\n",
       "    <tr>\n",
       "      <th></th>\n",
       "      <th></th>\n",
       "      <th></th>\n",
       "      <th></th>\n",
       "      <th></th>\n",
       "    </tr>\n",
       "  </thead>\n",
       "  <tbody>\n",
       "    <tr>\n",
       "      <th>0</th>\n",
       "      <td>ALL OTHER CAUSES</td>\n",
       "      <td>0.042218</td>\n",
       "      <td>0.047540</td>\n",
       "      <td>0.4</td>\n",
       "    </tr>\n",
       "    <tr>\n",
       "      <th>1</th>\n",
       "      <td>CORROSION</td>\n",
       "      <td>0.211807</td>\n",
       "      <td>0.169589</td>\n",
       "      <td>0.0</td>\n",
       "    </tr>\n",
       "    <tr>\n",
       "      <th>2</th>\n",
       "      <td>EXCAVATION DAMAGE</td>\n",
       "      <td>0.034705</td>\n",
       "      <td>0.039938</td>\n",
       "      <td>0.1</td>\n",
       "    </tr>\n",
       "    <tr>\n",
       "      <th>3</th>\n",
       "      <td>INCORRECT OPERATION</td>\n",
       "      <td>0.135242</td>\n",
       "      <td>0.045532</td>\n",
       "      <td>0.0</td>\n",
       "    </tr>\n",
       "    <tr>\n",
       "      <th>4</th>\n",
       "      <td>MATERIAL/WELD/EQUIP FAILURE</td>\n",
       "      <td>0.513417</td>\n",
       "      <td>0.533553</td>\n",
       "      <td>0.1</td>\n",
       "    </tr>\n",
       "    <tr>\n",
       "      <th>5</th>\n",
       "      <td>NATURAL FORCE DAMAGE</td>\n",
       "      <td>0.042218</td>\n",
       "      <td>0.094526</td>\n",
       "      <td>0.0</td>\n",
       "    </tr>\n",
       "    <tr>\n",
       "      <th>6</th>\n",
       "      <td>OTHER OUTSIDE FORCE DAMAGE</td>\n",
       "      <td>0.020394</td>\n",
       "      <td>0.069323</td>\n",
       "      <td>0.4</td>\n",
       "    </tr>\n",
       "  </tbody>\n",
       "</table>\n",
       "</div>"
      ],
      "text/plain": [
       "                Cause Category Number of Cases Loss (million USD) Fatalities\n",
       "                                                                            \n",
       "0             ALL OTHER CAUSES        0.042218           0.047540        0.4\n",
       "1                    CORROSION        0.211807           0.169589        0.0\n",
       "2            EXCAVATION DAMAGE        0.034705           0.039938        0.1\n",
       "3          INCORRECT OPERATION        0.135242           0.045532        0.0\n",
       "4  MATERIAL/WELD/EQUIP FAILURE        0.513417           0.533553        0.1\n",
       "5         NATURAL FORCE DAMAGE        0.042218           0.094526        0.0\n",
       "6   OTHER OUTSIDE FORCE DAMAGE        0.020394           0.069323        0.4"
      ]
     },
     "execution_count": 50,
     "metadata": {},
     "output_type": "execute_result"
    }
   ],
   "source": [
    "# analyze their percentages\n",
    "df_temp_2 = df_temp.copy()\n",
    "df_temp_2['Number of Cases'] = df_temp['Number of Cases']/df_temp['Number of Cases'].sum()\n",
    "df_temp_2['Loss (million USD)'] = df_temp['Loss (million USD)']/df_temp['Loss (million USD)'].sum()\n",
    "df_temp_2['Fatalities'] = df_temp['Fatalities']/df_temp['Fatalities'].sum()\n",
    "df_temp_2"
   ]
  }
 ],
 "metadata": {
  "anaconda-cloud": {},
  "kernelspec": {
   "display_name": "Python 3.5.2 64-bit ('root': conda)",
   "language": "python",
   "name": "python35264bitrootcondaaa5bd2aa09984ffdab041c73cccfa47b"
  },
  "language_info": {
   "codemirror_mode": {
    "name": "ipython",
    "version": 3
   },
   "file_extension": ".py",
   "mimetype": "text/x-python",
   "name": "python",
   "nbconvert_exporter": "python",
   "pygments_lexer": "ipython3",
   "version": "3.5.6"
  }
 },
 "nbformat": 4,
 "nbformat_minor": 1
}
